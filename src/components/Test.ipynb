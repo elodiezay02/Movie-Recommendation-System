{
 "cells": [
  {
   "cell_type": "code",
   "execution_count": 1,
   "id": "94b2a68e",
   "metadata": {},
   "outputs": [],
   "source": [
    "import pandas as pd\n",
    "import numpy as np"
   ]
  },
  {
   "cell_type": "code",
   "execution_count": 2,
   "id": "cbbd0754",
   "metadata": {},
   "outputs": [],
   "source": [
    "from surprise import SVD, BaselineOnly, SVDpp, NMF, SlopeOne, CoClustering, Reader\n",
    "from surprise import Dataset\n",
    "from surprise.model_selection import cross_validate\n",
    "from surprise.prediction_algorithms import KNNBaseline, KNNBasic, KNNWithMeans, KNNWithZScore\n",
    "from surprise import accuracy\n",
    "from sklearn.model_selection import train_test_split\n",
    "from ast import literal_eval\n",
    "from surprise import dump"
   ]
  },
  {
   "cell_type": "code",
   "execution_count": 3,
   "id": "49cb14d3",
   "metadata": {},
   "outputs": [],
   "source": [
    "from sklearn.feature_extraction.text import TfidfVectorizer, CountVectorizer\n",
    "from sklearn.metrics.pairwise import linear_kernel, cosine_similarity"
   ]
  },
  {
   "cell_type": "code",
   "execution_count": 4,
   "metadata": {},
   "outputs": [],
   "source": [
    "import collaborative_filtering as CF \n",
    "from evaluate_model import precision_recall_at_k, evaluate\n"
   ]
  },
  {
   "cell_type": "code",
   "execution_count": 5,
   "id": "ebce4e7b",
   "metadata": {},
   "outputs": [],
   "source": [
    "from get_movie_features import movie_feature\n",
    "import warnings; warnings.simplefilter('ignore')\n",
    "\n",
    "movies_metadata = r'E:\\School\\DE_AN\\Movie-Recommendation-System\\src\\data\\movies_metadata.csv'\n",
    "links_small = r'E:\\School\\DE_AN\\Movie-Recommendation-System\\src\\data\\links_small.csv'\n",
    "credits_ = r'E:\\School\\DE_AN\\Movie-Recommendation-System\\src\\data\\credits.csv'\n",
    "keywords = r'E:\\School\\DE_AN\\Movie-Recommendation-System\\src\\data\\keywords.csv'\n",
    "rating = r'E:\\School\\DE_AN\\Movie-Recommendation-System\\src\\data\\ratings_small.csv'\n",
    "full_data = movie_feature(movies_metadata, links_small, credits_, keywords)\n",
    "rating_df = pd.read_csv(rating)"
   ]
  },
  {
   "cell_type": "code",
   "execution_count": 6,
   "id": "2fbb0869",
   "metadata": {},
   "outputs": [],
   "source": [
    "def cosine_similarity(full_data): #cái dataframe từ file data cuối cùng của mình - get_movie_feature\n",
    "    '''tính cosine similarity dựa trên overview + tagline + 2*genres'''\n",
    "    full_data['description'] = full_data['description'].astype('str')\n",
    "    full_data['genres'] = full_data['genres'].astype('str')\n",
    "    \n",
    "    full_data['description_genre'] = full_data['description']+ full_data['genres']*2\n",
    "    full_data['description_genre'] = full_data['description_genre'].fillna('')\n",
    "\n",
    "    '''vẫn dùng TF-IDF matrix nhưng cộng với 2*genres để trở thành Count Vector'''\n",
    "\n",
    "    tfidf = TfidfVectorizer(analyzer='word', ngram_range=(1, 2), stop_words='english')\n",
    "    tfidf_matrix = tfidf.fit_transform(full_data['description_genre'])\n",
    "    cosine_sim= linear_kernel(tfidf_matrix, tfidf_matrix)\n",
    "    return cosine_sim"
   ]
  },
  {
   "cell_type": "code",
   "execution_count": 7,
   "id": "fc115f45",
   "metadata": {},
   "outputs": [],
   "source": [
    "def mapping_title_toIndex(full_data): #dataframe từ file data cuối cùng của mình - get_movie_feature\n",
    "    '''map title với index của table movie, index của title = index của bảng, value = title'''\n",
    "    titles = full_data['title']\n",
    "    indices = pd.Series(full_data.index, index=full_data['title'])\n",
    "    return indices"
   ]
  },
  {
   "cell_type": "code",
   "execution_count": 45,
   "id": "33e26f4c",
   "metadata": {},
   "outputs": [],
   "source": [
    "def get_recommendation_new(title, full_data):#dataframe từ file data cuối cùng của mình - get_movie_feature, type(title) = String\n",
    "    '''Model recommendation dựa trên Movie Similarity'''\n",
    "    #idx = mapping_title_toIndex(full_data)[title] #lấy ra index của title\n",
    "    indices = mapping_title_toIndex(full_data)\n",
    "    cosine_sim = cosine_similarity(full_data)\n",
    "    idx = indices[title]\n",
    "\n",
    "    if type(idx) != np.int64:\n",
    "        if len(idx)>1:\n",
    "            '''print(\"ALERT: Multiple values\")'''\n",
    "            idx = idx[0]\n",
    "    sim_scores = list(enumerate(cosine_sim[idx]))\n",
    "    sim_scores = sorted(sim_scores, key=lambda x: x[1], reverse=True)[1:6]\n",
    "\n",
    "    movie_indices = [i[0] for i in sim_scores]\n",
    "    movie_id = full_data['movieId'].iloc[movie_indices]\n",
    "    score = [i[1] for i in sim_scores]\n",
    "\n",
    "    return pd.DataFrame({'movieId': movie_id, 'sim_score': score})"
   ]
  },
  {
   "cell_type": "code",
   "execution_count": 59,
   "id": "ede6cd6c",
   "metadata": {},
   "outputs": [],
   "source": [
    "def genre_based_popularity(genre, full_data):#dataframe từ file data cuối cùng của mình - get_movie_feature, type(genre) = String\n",
    "    '''Model recommendation dựa trên popularity'''\n",
    "    mask = full_data.genres.apply(lambda x: genre in x) # trả về dạng bool, check xem genre có trong cái list genres đó k\n",
    "    filtered_movie = full_data[mask]# trả về dataframe các film match với genre\n",
    "    filtered_movie = filtered_movie.sort_values(by='popularity', ascending=False) #xếp theo độ phổ biến nhất\n",
    "    return filtered_movie['movieId'].head(3).values.tolist() #trả về list top 10 movie similar"
   ]
  },
  {
   "cell_type": "code",
   "execution_count": 10,
   "id": "e0e99aa8",
   "metadata": {},
   "outputs": [],
   "source": [
    "def make_useinfo_df(full_data, train_df): #full_data - get_movie_feature; train_df: train của sklearn\n",
    "    full_data['genres'] = full_data.genres.apply(lambda x: literal_eval(str(x)))\n",
    "    train_df['genres'] = train_df.genres.apply(lambda x: literal_eval(str(x)))\n",
    "    \n",
    "    unique_genre = full_data['genres'].explode().unique() #unique genres của full_data\n",
    "    genre_distribution = train_df['genres'].explode().value_counts() #unique genres của train_df\n",
    "    \n",
    "    # Make a dict assigning an index to a genre\n",
    "    genre_dict = {k: v for v, k in enumerate(unique_genre)} #key-value: genre - encode\n",
    "\n",
    "    user_ids = train_df['userId'].unique()\n",
    "    user_df = pd.DataFrame(columns=['userId', 'user_vector', 'avg_rating', 'num_movies_rated'])\n",
    "    for user_id in user_ids:\n",
    "        user_rating_df = train_df[(train_df['userId'] == user_id)]\n",
    "        user_vector = np.zeros(len(genre_dict))\n",
    "        count_vector = np.zeros(len(genre_dict))\n",
    "\n",
    "        user_avg_rating = 0\n",
    "        movies_rated_count = 0\n",
    "        for _, row in user_rating_df.iterrows():\n",
    "            user_avg_rating += row.rating \n",
    "            movies_rated_count += 1\n",
    "            genres = row.genres\n",
    "\n",
    "            user_movie_vector = np.zeros(len(genre_dict))\n",
    "\n",
    "            for g in genres:\n",
    "                user_movie_vector[genre_dict[g]] = 1\n",
    "                count_vector[genre_dict[g]] += 1\n",
    "            \n",
    "            user_vector += user_movie_vector*row.rating\n",
    "        count_vector = np.where(count_vector==0, 1, count_vector)\n",
    "        user_vector = np.divide(user_vector, count_vector)\n",
    "        user_avg_rating /= movies_rated_count\n",
    "        row_df = pd.DataFrame([[user_id, user_vector, user_avg_rating, movies_rated_count]], \n",
    "                          columns=['userId', 'user_vector', 'avg_rating', 'num_movies_rated'])\n",
    "        user_df = pd.concat([user_df, row_df], ignore_index=True)\n",
    "        \n",
    "    return user_df\n",
    "    '''đặt biến user_info = make_useinfo_df(full_data, train_df): trae về dataframe'''"
   ]
  },
  {
   "cell_type": "code",
   "execution_count": 11,
   "id": "ab2137f2",
   "metadata": {},
   "outputs": [],
   "source": [
    "def user_top_genre(userId, user_info, idx_to_genre): #user_info la dataframe dùng hàm make_useinfo_df(fulldata_path, trainset_path), type(userId) = int\n",
    "    user_vec = user_info['user_vector'][user_info['userId'] == userId].values[0].copy()\n",
    "    # print(\"User Vector: \", user_vec)\n",
    "    top_genre_indices = np.flip(np.argsort(user_vec))\n",
    "    genre_list = []\n",
    "    for i in top_genre_indices[:3]:\n",
    "        genre_list.append(idx_to_genre[i])\n",
    "    return genre_list \n",
    "    '''đặt 1 biến là genre_list = user_top_genre(userId, user_info'''\n",
    "    "
   ]
  },
  {
   "cell_type": "code",
   "execution_count": 13,
   "id": "07ad4e21",
   "metadata": {},
   "outputs": [],
   "source": [
    "def get_title(x):\n",
    "    '''lấy ra title của hàm hybrid'''\n",
    "    mid = x['movieId']\n",
    "    return full_data['title'][full_data['movieId'] == mid].values\n",
    "\n",
    "def get_genre(x):\n",
    "    '''get genre của hybrid'''\n",
    "    mid = x['movieId']\n",
    "    return full_data['genres'][full_data['movieId'] == mid].values"
   ]
  },
  {
   "cell_type": "code",
   "execution_count": 62,
   "metadata": {},
   "outputs": [],
   "source": [
    "def hybrid(userId, full_data, train_df, train_full, models, idx_to_genre): #full_data là file data movie features\n",
    "    \n",
    "    user_movies = train_df[train_df['userId'] == userId]['movieId'].values.tolist()\n",
    "    \n",
    "    # get 10 most similar movies\n",
    "\n",
    "    sim_movies_list = pd.DataFrame(columns=['movieId', 'sim_score'])\n",
    "    for movie_id in user_movies:\n",
    "        movie_title = full_data['title'][full_data['movieId'] == movie_id].values[0]\n",
    "        sim_movie = get_recommendation_new(movie_title, full_data)\n",
    "        sim_movies_list = pd.concat([sim_movies_list, sim_movie], ignore_index=True)\n",
    "    sim_movies_list.sort_values(by='sim_score', ascending=False)\n",
    "    sim_movies_list['movieId'].head(10).values.tolist()\n",
    "\n",
    "    recommend_list = pd.DataFrame(columns=['userId', 'movieId', 'est', \"Model\"])\n",
    "    recommend_list.userId = userId\n",
    "    recommend_list.movieId = user_movies\n",
    "\n",
    "    # Compute ratings for the similar movies\n",
    "    for movie_id in sim_movies_list:\n",
    "        pred_rating = 0\n",
    "        for model, w in models.items():\n",
    "            pred_rating += model.algorithm.predict(userId, movie_id)[3] * w\n",
    "        row_df = pd.DataFrame([[userId, movie_id, pred_rating, \"Similarity\"]], columns=['userId', 'movieId', 'est', \"Model\"])\n",
    "        recommend_list = pd.concat([recommend_list, row_df], ignore_index=True)\n",
    "    recommend_list = recommend_list[recommend_list['est'].notnull()].head(10).sort_values(by = 'est',ascending = False)\n",
    "\n",
    "    # Popular based movies\n",
    "    top_genre_list = user_top_genre(userId, make_useinfo_df(full_data, train_full), \\\n",
    "                                    idx_to_genre) #data frame user_info\n",
    "\n",
    "    popular_movies = []\n",
    "    for top_genre in top_genre_list:\n",
    "        popular_movies.extend(genre_based_popularity(top_genre, full_data))\n",
    "\n",
    "    # Compute ratings for the popular movies\n",
    "    for movie_id in popular_movies:\n",
    "        pred_rating = 0\n",
    "        for model, w in models.items():\n",
    "            pred_rating += model.algorithm.predict(userId, movie_id)[3] * w        \n",
    "        row_df = pd.DataFrame([[userId, movie_id, pred_rating, 'Popularity']], columns=['userId', 'movieId', 'est','Model'])\n",
    "        recommend_list = pd.concat([recommend_list, row_df], ignore_index=True)\n",
    "\n",
    "    recommend_list = recommend_list.drop_duplicates(subset=['movieId'])\n",
    "    train_movie_list = train_df[train_df['userId']==userId]['movieId'].values.tolist()\n",
    "\n",
    "    # Remove movies in training for this user\n",
    "    mask = recommend_list.movieId.apply(lambda x: x not in train_movie_list)\n",
    "    recommend_list = recommend_list[mask]\n",
    "    recommend_list.userId = recommend_list.userId.astype(int)\n",
    "    \n",
    "    recommend_list['title'] = recommend_list.apply(get_title, axis=1)\n",
    "    recommend_list['genre'] = recommend_list.apply(get_genre, axis=1)\n",
    "\n",
    "    return recommend_list.sort_values(by='est', ascending=False).head(10)\n"
   ]
  },
  {
   "cell_type": "markdown",
   "id": "db0fd6ff",
   "metadata": {},
   "source": [
    "# DataFrame"
   ]
  },
  {
   "cell_type": "markdown",
   "id": "e7fceaf5",
   "metadata": {},
   "source": [
    "**Full Dataset**"
   ]
  },
  {
   "cell_type": "code",
   "execution_count": 14,
   "id": "6ff1b7b6",
   "metadata": {},
   "outputs": [
    {
     "data": {
      "text/html": [
       "<div>\n",
       "<style scoped>\n",
       "    .dataframe tbody tr th:only-of-type {\n",
       "        vertical-align: middle;\n",
       "    }\n",
       "\n",
       "    .dataframe tbody tr th {\n",
       "        vertical-align: top;\n",
       "    }\n",
       "\n",
       "    .dataframe thead th {\n",
       "        text-align: right;\n",
       "    }\n",
       "</style>\n",
       "<table border=\"1\" class=\"dataframe\">\n",
       "  <thead>\n",
       "    <tr style=\"text-align: right;\">\n",
       "      <th></th>\n",
       "      <th>id</th>\n",
       "      <th>movieId</th>\n",
       "      <th>title</th>\n",
       "      <th>genres</th>\n",
       "      <th>description</th>\n",
       "      <th>cast</th>\n",
       "      <th>director</th>\n",
       "      <th>keywords</th>\n",
       "      <th>popularity</th>\n",
       "      <th>vote_average</th>\n",
       "      <th>vote_count</th>\n",
       "      <th>year</th>\n",
       "      <th>wr</th>\n",
       "      <th>spoken_languages</th>\n",
       "    </tr>\n",
       "  </thead>\n",
       "  <tbody>\n",
       "    <tr>\n",
       "      <th>0</th>\n",
       "      <td>862</td>\n",
       "      <td>1</td>\n",
       "      <td>Toy Story</td>\n",
       "      <td>[Animation, Comedy, Family]</td>\n",
       "      <td>Led by Woody, Andy's toys live happily in his ...</td>\n",
       "      <td>[tomhanks, timallen, donrickles]</td>\n",
       "      <td>johnlasseter</td>\n",
       "      <td>[jealousi, toy, boy, friendship, friend, rival...</td>\n",
       "      <td>21.946943</td>\n",
       "      <td>7</td>\n",
       "      <td>5415</td>\n",
       "      <td>1995</td>\n",
       "      <td>6.869770</td>\n",
       "      <td>[English]</td>\n",
       "    </tr>\n",
       "    <tr>\n",
       "      <th>1</th>\n",
       "      <td>8844</td>\n",
       "      <td>2</td>\n",
       "      <td>Jumanji</td>\n",
       "      <td>[Adventure, Fantasy, Family]</td>\n",
       "      <td>When siblings Judy and Peter discover an encha...</td>\n",
       "      <td>[robinwilliams, jonathanhyde, kirstendunst]</td>\n",
       "      <td>joejohnston</td>\n",
       "      <td>[boardgam, disappear, basedonchildren'sbook, n...</td>\n",
       "      <td>17.015539</td>\n",
       "      <td>6</td>\n",
       "      <td>2413</td>\n",
       "      <td>1995</td>\n",
       "      <td>5.884891</td>\n",
       "      <td>[English, Français]</td>\n",
       "    </tr>\n",
       "  </tbody>\n",
       "</table>\n",
       "</div>"
      ],
      "text/plain": [
       "     id  movieId      title                        genres  \\\n",
       "0   862        1  Toy Story   [Animation, Comedy, Family]   \n",
       "1  8844        2    Jumanji  [Adventure, Fantasy, Family]   \n",
       "\n",
       "                                         description  \\\n",
       "0  Led by Woody, Andy's toys live happily in his ...   \n",
       "1  When siblings Judy and Peter discover an encha...   \n",
       "\n",
       "                                          cast      director  \\\n",
       "0             [tomhanks, timallen, donrickles]  johnlasseter   \n",
       "1  [robinwilliams, jonathanhyde, kirstendunst]   joejohnston   \n",
       "\n",
       "                                            keywords  popularity  \\\n",
       "0  [jealousi, toy, boy, friendship, friend, rival...   21.946943   \n",
       "1  [boardgam, disappear, basedonchildren'sbook, n...   17.015539   \n",
       "\n",
       "   vote_average  vote_count  year        wr     spoken_languages  \n",
       "0             7        5415  1995  6.869770            [English]  \n",
       "1             6        2413  1995  5.884891  [English, Français]  "
      ]
     },
     "execution_count": 14,
     "metadata": {},
     "output_type": "execute_result"
    }
   ],
   "source": [
    "full_data.head(2)"
   ]
  },
  {
   "cell_type": "code",
   "execution_count": 15,
   "id": "b72a47f0",
   "metadata": {},
   "outputs": [],
   "source": [
    "full_data = full_data[['movieId', 'title', 'genres', 'description', 'popularity']]"
   ]
  },
  {
   "cell_type": "markdown",
   "id": "305e948c",
   "metadata": {},
   "source": [
    "**Train_df, Test_df**"
   ]
  },
  {
   "cell_type": "code",
   "execution_count": 16,
   "id": "413e3d15",
   "metadata": {},
   "outputs": [],
   "source": [
    "#train, test_df\n",
    "train_df, test_df = train_test_split(rating_df, random_state=42, \\\n",
    "                                     stratify=rating_df['userId'], test_size=0.25)\n",
    "train_full = full_data.merge(rating_df, on='movieId')"
   ]
  },
  {
   "cell_type": "code",
   "execution_count": 17,
   "id": "2c9ace95",
   "metadata": {},
   "outputs": [
    {
     "data": {
      "text/html": [
       "<div>\n",
       "<style scoped>\n",
       "    .dataframe tbody tr th:only-of-type {\n",
       "        vertical-align: middle;\n",
       "    }\n",
       "\n",
       "    .dataframe tbody tr th {\n",
       "        vertical-align: top;\n",
       "    }\n",
       "\n",
       "    .dataframe thead th {\n",
       "        text-align: right;\n",
       "    }\n",
       "</style>\n",
       "<table border=\"1\" class=\"dataframe\">\n",
       "  <thead>\n",
       "    <tr style=\"text-align: right;\">\n",
       "      <th></th>\n",
       "      <th>userId</th>\n",
       "      <th>movieId</th>\n",
       "      <th>rating</th>\n",
       "      <th>timestamp</th>\n",
       "    </tr>\n",
       "  </thead>\n",
       "  <tbody>\n",
       "    <tr>\n",
       "      <th>59679</th>\n",
       "      <td>431</td>\n",
       "      <td>2863</td>\n",
       "      <td>4.0</td>\n",
       "      <td>1165548515</td>\n",
       "    </tr>\n",
       "    <tr>\n",
       "      <th>85061</th>\n",
       "      <td>571</td>\n",
       "      <td>7173</td>\n",
       "      <td>2.0</td>\n",
       "      <td>1334343358</td>\n",
       "    </tr>\n",
       "  </tbody>\n",
       "</table>\n",
       "</div>"
      ],
      "text/plain": [
       "       userId  movieId  rating   timestamp\n",
       "59679     431     2863     4.0  1165548515\n",
       "85061     571     7173     2.0  1334343358"
      ]
     },
     "execution_count": 17,
     "metadata": {},
     "output_type": "execute_result"
    }
   ],
   "source": [
    "train_df.head(2)"
   ]
  },
  {
   "cell_type": "code",
   "execution_count": 18,
   "id": "43f30ba3",
   "metadata": {},
   "outputs": [
    {
     "data": {
      "text/html": [
       "<div>\n",
       "<style scoped>\n",
       "    .dataframe tbody tr th:only-of-type {\n",
       "        vertical-align: middle;\n",
       "    }\n",
       "\n",
       "    .dataframe tbody tr th {\n",
       "        vertical-align: top;\n",
       "    }\n",
       "\n",
       "    .dataframe thead th {\n",
       "        text-align: right;\n",
       "    }\n",
       "</style>\n",
       "<table border=\"1\" class=\"dataframe\">\n",
       "  <thead>\n",
       "    <tr style=\"text-align: right;\">\n",
       "      <th></th>\n",
       "      <th>userId</th>\n",
       "      <th>movieId</th>\n",
       "      <th>rating</th>\n",
       "      <th>timestamp</th>\n",
       "    </tr>\n",
       "  </thead>\n",
       "  <tbody>\n",
       "    <tr>\n",
       "      <th>42031</th>\n",
       "      <td>302</td>\n",
       "      <td>593</td>\n",
       "      <td>5.0</td>\n",
       "      <td>843720636</td>\n",
       "    </tr>\n",
       "    <tr>\n",
       "      <th>26084</th>\n",
       "      <td>191</td>\n",
       "      <td>110</td>\n",
       "      <td>3.0</td>\n",
       "      <td>839925631</td>\n",
       "    </tr>\n",
       "  </tbody>\n",
       "</table>\n",
       "</div>"
      ],
      "text/plain": [
       "       userId  movieId  rating  timestamp\n",
       "42031     302      593     5.0  843720636\n",
       "26084     191      110     3.0  839925631"
      ]
     },
     "execution_count": 18,
     "metadata": {},
     "output_type": "execute_result"
    }
   ],
   "source": [
    "test_df.head(2)"
   ]
  },
  {
   "cell_type": "code",
   "execution_count": 19,
   "metadata": {},
   "outputs": [
    {
     "data": {
      "text/html": [
       "<div>\n",
       "<style scoped>\n",
       "    .dataframe tbody tr th:only-of-type {\n",
       "        vertical-align: middle;\n",
       "    }\n",
       "\n",
       "    .dataframe tbody tr th {\n",
       "        vertical-align: top;\n",
       "    }\n",
       "\n",
       "    .dataframe thead th {\n",
       "        text-align: right;\n",
       "    }\n",
       "</style>\n",
       "<table border=\"1\" class=\"dataframe\">\n",
       "  <thead>\n",
       "    <tr style=\"text-align: right;\">\n",
       "      <th></th>\n",
       "      <th>movieId</th>\n",
       "      <th>title</th>\n",
       "      <th>genres</th>\n",
       "      <th>description</th>\n",
       "      <th>popularity</th>\n",
       "      <th>userId</th>\n",
       "      <th>rating</th>\n",
       "      <th>timestamp</th>\n",
       "    </tr>\n",
       "  </thead>\n",
       "  <tbody>\n",
       "    <tr>\n",
       "      <th>0</th>\n",
       "      <td>1</td>\n",
       "      <td>Toy Story</td>\n",
       "      <td>[Animation, Comedy, Family]</td>\n",
       "      <td>Led by Woody, Andy's toys live happily in his ...</td>\n",
       "      <td>21.946943</td>\n",
       "      <td>7</td>\n",
       "      <td>3.0</td>\n",
       "      <td>851866703</td>\n",
       "    </tr>\n",
       "    <tr>\n",
       "      <th>1</th>\n",
       "      <td>1</td>\n",
       "      <td>Toy Story</td>\n",
       "      <td>[Animation, Comedy, Family]</td>\n",
       "      <td>Led by Woody, Andy's toys live happily in his ...</td>\n",
       "      <td>21.946943</td>\n",
       "      <td>9</td>\n",
       "      <td>4.0</td>\n",
       "      <td>938629179</td>\n",
       "    </tr>\n",
       "  </tbody>\n",
       "</table>\n",
       "</div>"
      ],
      "text/plain": [
       "   movieId      title                       genres  \\\n",
       "0        1  Toy Story  [Animation, Comedy, Family]   \n",
       "1        1  Toy Story  [Animation, Comedy, Family]   \n",
       "\n",
       "                                         description  popularity  userId  \\\n",
       "0  Led by Woody, Andy's toys live happily in his ...   21.946943       7   \n",
       "1  Led by Woody, Andy's toys live happily in his ...   21.946943       9   \n",
       "\n",
       "   rating  timestamp  \n",
       "0     3.0  851866703  \n",
       "1     4.0  938629179  "
      ]
     },
     "execution_count": 19,
     "metadata": {},
     "output_type": "execute_result"
    }
   ],
   "source": [
    "train_full.head(2)"
   ]
  },
  {
   "cell_type": "markdown",
   "id": "b3a098ed",
   "metadata": {},
   "source": [
    "**User_info**"
   ]
  },
  {
   "cell_type": "code",
   "execution_count": 20,
   "id": "e409a208",
   "metadata": {},
   "outputs": [],
   "source": [
    "user_info = make_useinfo_df(full_data, train_full)"
   ]
  },
  {
   "cell_type": "code",
   "execution_count": 21,
   "id": "4b699eee",
   "metadata": {},
   "outputs": [
    {
     "data": {
      "text/html": [
       "<div>\n",
       "<style scoped>\n",
       "    .dataframe tbody tr th:only-of-type {\n",
       "        vertical-align: middle;\n",
       "    }\n",
       "\n",
       "    .dataframe tbody tr th {\n",
       "        vertical-align: top;\n",
       "    }\n",
       "\n",
       "    .dataframe thead th {\n",
       "        text-align: right;\n",
       "    }\n",
       "</style>\n",
       "<table border=\"1\" class=\"dataframe\">\n",
       "  <thead>\n",
       "    <tr style=\"text-align: right;\">\n",
       "      <th></th>\n",
       "      <th>userId</th>\n",
       "      <th>user_vector</th>\n",
       "      <th>avg_rating</th>\n",
       "      <th>num_movies_rated</th>\n",
       "    </tr>\n",
       "  </thead>\n",
       "  <tbody>\n",
       "    <tr>\n",
       "      <th>0</th>\n",
       "      <td>7</td>\n",
       "      <td>[4.0, 3.5294117647058822, 3.625, 3.43333333333...</td>\n",
       "      <td>3.448276</td>\n",
       "      <td>87</td>\n",
       "    </tr>\n",
       "    <tr>\n",
       "      <th>1</th>\n",
       "      <td>9</td>\n",
       "      <td>[3.3333333333333335, 3.5833333333333335, 3.333...</td>\n",
       "      <td>3.755556</td>\n",
       "      <td>45</td>\n",
       "    </tr>\n",
       "    <tr>\n",
       "      <th>2</th>\n",
       "      <td>13</td>\n",
       "      <td>[4.0, 3.5277777777777777, 3.9705882352941178, ...</td>\n",
       "      <td>3.730769</td>\n",
       "      <td>52</td>\n",
       "    </tr>\n",
       "  </tbody>\n",
       "</table>\n",
       "</div>"
      ],
      "text/plain": [
       "  userId                                        user_vector  avg_rating  \\\n",
       "0      7  [4.0, 3.5294117647058822, 3.625, 3.43333333333...    3.448276   \n",
       "1      9  [3.3333333333333335, 3.5833333333333335, 3.333...    3.755556   \n",
       "2     13  [4.0, 3.5277777777777777, 3.9705882352941178, ...    3.730769   \n",
       "\n",
       "  num_movies_rated  \n",
       "0               87  \n",
       "1               45  \n",
       "2               52  "
      ]
     },
     "execution_count": 21,
     "metadata": {},
     "output_type": "execute_result"
    }
   ],
   "source": [
    "user_info.head(3)"
   ]
  },
  {
   "cell_type": "markdown",
   "id": "d22e18cf",
   "metadata": {},
   "source": [
    "# Algorithms"
   ]
  },
  {
   "cell_type": "markdown",
   "id": "318100e2",
   "metadata": {},
   "source": [
    "**knnbaseline_algo, svdpp_algo, BaselineOnly**"
   ]
  },
  {
   "cell_type": "code",
   "execution_count": 22,
   "metadata": {},
   "outputs": [],
   "source": [
    "# train_set, test_set = train_test_split(train_df, test_size=0.25,\\\n",
    "                                    # stratify=train_df['userId'], random_state=42)"
   ]
  },
  {
   "cell_type": "code",
   "execution_count": 23,
   "id": "51451f00",
   "metadata": {},
   "outputs": [
    {
     "name": "stdout",
     "output_type": "stream",
     "text": [
      "Estimating biases using als...\n",
      "Computing the msd similarity matrix...\n",
      "Done computing similarity matrix.\n",
      "RMSE: 0.9035\n",
      "MAE:  0.6917\n"
     ]
    },
    {
     "data": {
      "text/plain": [
       "(0.7525242667117319, 0.6784179454034541, 0.7135521792094823)"
      ]
     },
     "execution_count": 23,
     "metadata": {},
     "output_type": "execute_result"
    }
   ],
   "source": [
    "# Tuple: precision, recall, F1 score\n",
    "\n",
    "knn_base_line = CF.CollaborativeFiltering(KNNBaseline())\n",
    "knn_base_line.load_data(train_df, test_df)\n",
    "knn_base_line.fit()\n",
    "knn_base_line.predict()"
   ]
  },
  {
   "cell_type": "code",
   "execution_count": 24,
   "id": "45f11bfb",
   "metadata": {},
   "outputs": [
    {
     "name": "stdout",
     "output_type": "stream",
     "text": [
      "RMSE: 0.8948\n",
      "MAE:  0.6860\n"
     ]
    },
    {
     "data": {
      "text/plain": [
       "(0.7345044571195224, 0.6930292566015249, 0.7131643519103869)"
      ]
     },
     "execution_count": 24,
     "metadata": {},
     "output_type": "execute_result"
    }
   ],
   "source": [
    "# svd_algo = svd(train_convert, val_convert)\n",
    "svdpp = CF.CollaborativeFiltering(SVDpp())\n",
    "svdpp.load_data(train_df, test_df)\n",
    "svdpp.fit()\n",
    "svdpp.predict()"
   ]
  },
  {
   "cell_type": "code",
   "execution_count": 25,
   "id": "efd0497c",
   "metadata": {},
   "outputs": [
    {
     "name": "stdout",
     "output_type": "stream",
     "text": [
      "Estimating biases using als...\n",
      "RMSE: 0.8995\n",
      "MAE:  0.6951\n"
     ]
    },
    {
     "data": {
      "text/plain": [
       "(0.7392863655981999, 0.695005133582501, 0.7164621969408549)"
      ]
     },
     "execution_count": 25,
     "metadata": {},
     "output_type": "execute_result"
    }
   ],
   "source": [
    "base_line_only = CF.CollaborativeFiltering(BaselineOnly())\n",
    "base_line_only.load_data(train_df, test_df)\n",
    "base_line_only.fit()\n",
    "base_line_only.predict()"
   ]
  },
  {
   "cell_type": "markdown",
   "id": "e503f4c0",
   "metadata": {},
   "source": [
    "**cosine_similarity, indices**"
   ]
  },
  {
   "cell_type": "code",
   "execution_count": 26,
   "id": "35d8d99d",
   "metadata": {},
   "outputs": [],
   "source": [
    "cosine_sim = cosine_similarity(full_data)"
   ]
  },
  {
   "cell_type": "code",
   "execution_count": 27,
   "id": "5253b95a",
   "metadata": {},
   "outputs": [],
   "source": [
    "indices = mapping_title_toIndex(full_data)"
   ]
  },
  {
   "cell_type": "code",
   "execution_count": 28,
   "id": "36844ce9",
   "metadata": {},
   "outputs": [],
   "source": [
    "genre_to_idx = {'Animation': 0,\n",
    " 'Comedy': 1,\n",
    " 'Family': 2,\n",
    " 'Adventure': 3,\n",
    " 'Fantasy': 4,\n",
    " 'Romance': 5,\n",
    " 'Drama': 6,\n",
    " 'Action': 7,\n",
    " 'Crime': 8,\n",
    " 'Thriller': 9,\n",
    " 'Horror': 10,\n",
    " 'History': 11,\n",
    " 'Science Fiction': 12,\n",
    " 'Mystery': 13,\n",
    " 'War': 14,\n",
    " 'Foreign': 15,\n",
    " 'Music': 16,\n",
    " 'Documentary': 17,\n",
    " None: 18,\n",
    " 'Western': 19,\n",
    " 'TV Movie': 20}"
   ]
  },
  {
   "cell_type": "code",
   "execution_count": 29,
   "id": "55a7e76f",
   "metadata": {},
   "outputs": [],
   "source": [
    "idx_to_genre = {0: 'Animation',\n",
    " 1: 'Comedy',\n",
    " 2: 'Family',\n",
    " 3: 'Adventure',\n",
    " 4: 'Fantasy',\n",
    " 5: 'Romance',\n",
    " 6: 'Drama',\n",
    " 7: 'Action',\n",
    " 8: 'Crime',\n",
    " 9: 'Thriller',\n",
    " 10: 'Horror',\n",
    " 11: 'History',\n",
    " 12: 'Science Fiction',\n",
    " 13: 'Mystery',\n",
    " 14: 'War',\n",
    " 15: 'Foreign',\n",
    " 16: 'Music',\n",
    " 17: 'Documentary',\n",
    " 18: None,\n",
    " 19: 'Western',\n",
    " 20: 'TV Movie'}"
   ]
  },
  {
   "cell_type": "markdown",
   "id": "01849525",
   "metadata": {},
   "source": [
    "# Modeling "
   ]
  },
  {
   "cell_type": "markdown",
   "id": "ce51d389",
   "metadata": {},
   "source": [
    "**Movie Similarity model**"
   ]
  },
  {
   "cell_type": "code",
   "execution_count": 42,
   "metadata": {},
   "outputs": [
    {
     "name": "stdout",
     "output_type": "stream",
     "text": [
      "[(0, 1.0), (2522, 0.28756765994464184), (7629, 0.23259654531091614), (6267, 0.12302282475189674), (8432, 0.10715934388111009), (2751, 0.10508214486551863), (2567, 0.09708859375679496), (1432, 0.09487004679517726), (6809, 0.08934720473853719), (3833, 0.08823846005183036), (7254, 0.08724072071012798), (1219, 0.08653372561070624), (9093, 0.08153789976835765), (6534, 0.08094665654659736), (1662, 0.08088353117976962), (9045, 0.07962682309911445), (8519, 0.07916537457469214), (6519, 0.07912526931644351), (7854, 0.07910220544188537), (6733, 0.07884099787801448), (9134, 0.07730259261345862), (9135, 0.07730259261345862), (8758, 0.07675245877639231), (6708, 0.07666008339865733), (7163, 0.07547257957424267), (9182, 0.07533996383510742), (8230, 0.07392862852901624), (5456, 0.07389132746700759), (9129, 0.07250236727146582), (7454, 0.07217731655914686), (6130, 0.07153794726724119), (910, 0.07122721039608364), (4757, 0.07103921108081647), (6427, 0.07102037651786333), (8595, 0.06978494348578239), (8646, 0.06966724064802911), (1883, 0.0690836743805397), (8371, 0.06873613592923306), (627, 0.06863285475482223), (6736, 0.06840448079482409), (6771, 0.06742982233979891), (933, 0.06737978064752137), (8743, 0.06657547923875787), (4286, 0.0659080173506253), (7307, 0.06531485673032864), (4194, 0.06520065569026351), (3897, 0.06520009226861942), (7334, 0.06494683149689347), (543, 0.06457728295184616), (7404, 0.06386380752660502), (6401, 0.0626307731343215), (1832, 0.06260747477498015), (5287, 0.062356829302426), (607, 0.06220260256146911), (7644, 0.061724221394858864), (3287, 0.06146990620108958), (853, 0.06146000084358194), (6784, 0.06076334283626414), (3440, 0.06071931842527198), (6585, 0.06003005551193087), (3210, 0.059779595441730046), (7820, 0.059732460206225024), (8023, 0.05958407893171443), (8331, 0.05952907546373948), (6635, 0.059394851946039856), (7169, 0.05897142108316061), (6545, 0.058221374229189715), (5696, 0.05797215608154254), (4272, 0.05793472002857922), (6968, 0.05786616422504348), (6631, 0.057804781225189665), (3019, 0.05760545053258957), (4341, 0.05735949708289395), (3016, 0.057157962557252494), (5445, 0.0569246001021952), (576, 0.05666166611705348), (1619, 0.055967195540890344), (4029, 0.0558864147377906), (1157, 0.05558674535941282), (3907, 0.055276671922530676), (3797, 0.054746238548457636), (996, 0.05462615068864469), (3908, 0.05451605919681406), (3727, 0.05425835350878171), (1015, 0.05404071331773329), (6639, 0.05399694682114281), (852, 0.05277558520079091), (2797, 0.05204586393257417), (4224, 0.051178055712698914), (8785, 0.05056547776817259), (402, 0.05023997259826023), (3233, 0.049948234473009785), (8693, 0.04991214951681628), (2177, 0.04986906714356183), (8683, 0.04970629947784175), (6307, 0.04935651765476805), (5195, 0.04920016593099875), (6744, 0.049103104807813824), (9008, 0.04909755031970704), (7232, 0.04891458026080907), (9205, 0.04879314784738994), (8822, 0.04830155131462811), (8788, 0.0482489318368482), (4146, 0.048025855018442976), (7167, 0.047747664130469915), (4847, 0.04774686885846576), (328, 0.047231036989593855), (7732, 0.04639909864675208), (1727, 0.046230199999051945), (5043, 0.04579382040601841), (220, 0.04579051121090711), (8807, 0.04560864499184206), (2414, 0.0455790380830523), (8641, 0.04541620817709079), (7859, 0.04521172029559583), (4704, 0.045185245101459735), (8167, 0.04515417366068605), (6181, 0.04449931005901595), (7482, 0.04449882609824566), (7492, 0.044285079225642385), (6695, 0.04385618358731064), (1597, 0.04373864706760221), (8678, 0.04357036510407217), (437, 0.04353364158156381), (9000, 0.043282786377341204), (9176, 0.04298881121950601), (713, 0.04281488922553922), (4098, 0.04257567856360582), (12, 0.04235643339922982), (7246, 0.042339843653220556), (721, 0.0420557575571851), (1383, 0.04162477854826229), (4638, 0.041530810442953196), (5424, 0.041499372353904135), (7871, 0.04121452676336715), (228, 0.04091004059488711), (8449, 0.04085801920010567), (5509, 0.04053281120487222), (5654, 0.04048452396636126), (4755, 0.04043532684743174), (7117, 0.040389872024331475), (8437, 0.04031837400057168), (5805, 0.040055546186216935), (7355, 0.03997902025955252), (2635, 0.039787358828230736), (7230, 0.0397394057942434), (4431, 0.03971107211983314), (3117, 0.0396945200941894), (6044, 0.039684256960282265), (563, 0.03949518160313308), (6160, 0.03936824273728726), (4738, 0.03916379555860581), (2901, 0.038979139298633676), (7779, 0.03896248813415641), (6234, 0.038710975778891904), (4975, 0.038702611670790615), (1633, 0.038666161072687805), (1609, 0.03854866054706933), (629, 0.038517727748256604), (7515, 0.038244695941107895), (6906, 0.03819924100016732), (7053, 0.03819895848856433), (519, 0.038041998839980704), (7830, 0.038037438528277095), (386, 0.03753847890927039), (1628, 0.03752182819246773), (6882, 0.037506707890993106), (1812, 0.03736164905494239), (8423, 0.03736067697341235), (1125, 0.0373565756084488), (6798, 0.03725064720475008), (8783, 0.03724445332020761), (2219, 0.037139994854209456), (7816, 0.03713173997600396), (2320, 0.03682379851200116), (886, 0.036811619512207065), (6489, 0.03680346141163091), (6496, 0.03670726872481164), (527, 0.036673841992044195), (6907, 0.036648025638558825), (7846, 0.03655012986105947), (8874, 0.03634079043775741), (7336, 0.036278802313970564), (9017, 0.03621734803128847), (6992, 0.03610525642676145), (1958, 0.03601261393741689), (4990, 0.03598269929378483), (5891, 0.03593370467161189), (7135, 0.03586796600605766), (838, 0.035843578162921344), (6141, 0.03580738323675385), (6221, 0.0358066406130367), (1716, 0.03578209669057577), (5961, 0.03564046921372065), (6293, 0.035628407542003665), (2759, 0.03558946311498729), (833, 0.035521624735809984), (7625, 0.03516292656180766), (851, 0.03505158510094597), (8171, 0.03493785211250256), (6364, 0.03484410851933398), (1657, 0.034568293270423725), (7617, 0.03453969298025595), (7468, 0.034329352653558944), (5193, 0.03431740271924234), (749, 0.034015062933728656), (3609, 0.033948974623616616), (3694, 0.03383520854816255), (8469, 0.03357911190721817), (8254, 0.03351825173551024), (2556, 0.033306301499214055), (3937, 0.03318542163646218), (2653, 0.03318536496544377), (7441, 0.032932055836734954), (832, 0.03285403900757517), (489, 0.032795544843437156), (8816, 0.03271281066139811), (846, 0.03251409453119863), (4179, 0.03242312223569609), (2718, 0.0323000850801985), (6503, 0.03218352125237196), (4861, 0.032059049465058866), (8620, 0.03193809609644645), (643, 0.031814154080253454), (7064, 0.03166577466811876), (7150, 0.03162921241686986), (5524, 0.03148025481466012), (7136, 0.03146780152471875), (8164, 0.03138662797353607), (2068, 0.03124620283630276), (529, 0.031159181580766592), (1327, 0.031145391012637573), (6246, 0.031072020304159863), (7201, 0.031051199374424954), (2770, 0.031045756529584058), (5423, 0.030978881102085243), (3295, 0.03088778003193373), (8091, 0.03067953803929562), (1660, 0.03048098202619764), (6651, 0.030451155672973563), (320, 0.030431120510972458), (8997, 0.030373527649990385), (5343, 0.03036967664685704), (1595, 0.03027648527284171), (5025, 0.030270778330888995), (2257, 0.030250931494846596), (5945, 0.03022409515662642), (2554, 0.03020667945040751), (2710, 0.030160890977542803), (2443, 0.030134102751318257), (1926, 0.029956580049808848), (1590, 0.029940195524503357), (8192, 0.02985344726074542), (2388, 0.029839193861850525), (4128, 0.029810621795612814), (835, 0.029680085058813307), (1655, 0.029672713564054407), (8298, 0.029655213218411573), (4441, 0.02963856753222599), (4401, 0.029559110587734194), (6205, 0.029499848400853276), (4862, 0.029421981581135855), (783, 0.02932410866071649), (4752, 0.0293216594999389), (3589, 0.029291690886761448), (7156, 0.029280802904403557), (1672, 0.02921927672105277), (1277, 0.029194017270713836), (6797, 0.029183439214365642), (2265, 0.02917486186098465), (8998, 0.0291561898676685), (1208, 0.02912780630611439), (500, 0.0290698601054923), (4942, 0.02904777472488328), (4826, 0.029039353209845468), (1630, 0.02891175704681733), (4118, 0.028754227023264866), (2065, 0.028638462934950433), (2761, 0.028550396014191348), (7647, 0.028508585102684718), (1632, 0.028444296912027423), (1572, 0.028440357094385808), (1919, 0.028397959183332138), (5116, 0.02839287118132916), (845, 0.028357619195002647), (6538, 0.02835515226276941), (8148, 0.02833737570375094), (3491, 0.028254329153250733), (1372, 0.028233566303337433), (2074, 0.028227105590735067), (1075, 0.028218927132587623), (2760, 0.028148617427386502), (850, 0.028142739098459164), (843, 0.028100446383491864), (4225, 0.028086226141059857), (3996, 0.027978238821954042), (5506, 0.027964658383909862), (3699, 0.027950970221621373), (8013, 0.0279352376197996), (4378, 0.027934779890826412), (1484, 0.02792248275082618), (7466, 0.027904640763503397), (1664, 0.027885737315598874), (5123, 0.02779291665918275), (8541, 0.0277704096745272), (283, 0.027732113461224152), (32, 0.027692544576578625), (8155, 0.027676425079350486), (1370, 0.02766676885766302), (6133, 0.027664740258157742), (6826, 0.027648209588286114), (8880, 0.027613709325251513), (7541, 0.02756352511703565), (1658, 0.027543126589507055), (3478, 0.027492373127626448), (5106, 0.0274638168490905), (8409, 0.027438569493231563), (9009, 0.02732976483353568), (8179, 0.027240578103476222), (4634, 0.027161951405738655), (6200, 0.0271600823469588), (5672, 0.027121910284368462), (6758, 0.027097806541787145), (7063, 0.027065030391618353), (4265, 0.027030250984793208), (7777, 0.027015773587210364), (1199, 0.027011594460282704), (6182, 0.026977373950264286), (361, 0.02691529749341612), (8935, 0.02690229529975726), (5438, 0.026891226772830748), (5952, 0.026883163834244966), (4201, 0.026873152201345656), (6419, 0.026818479020048153), (2349, 0.026758107095371634), (5482, 0.026713310525461307), (3840, 0.02664940633666461), (8278, 0.02663625407150324), (1240, 0.02649467351741421), (513, 0.026482796865052637), (1631, 0.026474284311043112), (1665, 0.026467208168420416), (338, 0.026406722076756654), (2727, 0.026344045513435013), (4676, 0.026115249723312292), (1629, 0.02609961327730257), (1616, 0.0260321749000716), (4246, 0.025997304791702723), (6564, 0.025966559286001986), (7807, 0.025964407890671573), (1424, 0.025948592409408534), (1882, 0.025875613446905428), (1245, 0.025875041288763053), (5523, 0.025863896115725392), (51, 0.025855898907924526), (8158, 0.025838590645778682), (7905, 0.025786418996730877), (7591, 0.025780322420995642), (3580, 0.025755743946860706), (8955, 0.025752545142229487), (1492, 0.025748362600795393), (7832, 0.025747992410719556), (1625, 0.025677634033819424), (6853, 0.025593196395153693), (2728, 0.025531492268096916), (4747, 0.025518568694274036), (1594, 0.025474381189719102), (2166, 0.02540071733368126), (7794, 0.02538886479384147), (1614, 0.025374931624733862), (1667, 0.025343429398474872), (829, 0.025322717366913328), (7292, 0.025079284742384935), (5949, 0.02503485150260789), (3385, 0.025018619851393035), (7744, 0.025009399971665527), (3750, 0.025001580352532613), (5897, 0.024990497301783224), (3712, 0.02495932849226941), (284, 0.024920385722470264), (3552, 0.024900507875593), (9164, 0.024856061772827148), (9165, 0.024856061772827148), (5928, 0.02483847364310302), (7852, 0.02482973238787233), (1388, 0.024778886762549468), (1659, 0.02476522573378165), (3211, 0.024748195178576706), (8529, 0.02473902904687481), (1489, 0.024681187600389887), (8028, 0.024648887054079208), (2453, 0.024603940710672963), (432, 0.02458052379792845), (8790, 0.02456976415237846), (687, 0.02456402488936673), (509, 0.024529951811229238), (1712, 0.02450799812073627), (556, 0.024464032289333738), (36, 0.024360700366078097), (675, 0.024164865047920106), (4509, 0.02412092868278677), (6901, 0.024118336685152925), (3929, 0.02403820539792753), (7929, 0.024027988777861133), (2897, 0.02399947227642891), (8271, 0.02394062777250295), (9118, 0.023904875559884613), (81, 0.023886851737038892), (5404, 0.023793431463145186), (5571, 0.0237802540175271), (1448, 0.023688893188900613), (507, 0.023682072784128518), (7297, 0.023637635517137833), (2978, 0.023553785101321844), (161, 0.023542239747012285), (4172, 0.023533207098371953), (5183, 0.02353150747771892), (7927, 0.02351778479364907), (4006, 0.02350141125651151), (3040, 0.023500360513837894), (7711, 0.023495114998620337), (246, 0.023488197512057805), (2568, 0.0234837773906914), (1666, 0.023454620582382162), (7549, 0.02343504444523306), (8040, 0.023369562084434768), (8157, 0.02335625627353701), (2800, 0.023349235168926247), (7193, 0.0233490430849026), (848, 0.02330487516579454), (2109, 0.023271701817868966), (7914, 0.023255459318867282), (7815, 0.02325239987975767), (5689, 0.023214248216884188), (8063, 0.023125109818242666), (8832, 0.023080157414802974), (7045, 0.023078188467057753), (354, 0.023014073982839518), (552, 0.02298993938328115), (4930, 0.02296568185457278), (3610, 0.022947192651321467), (2615, 0.022936216273845983), (2261, 0.022935194300150667), (239, 0.022929845772777065), (5542, 0.022907419676704392), (3590, 0.0229025227406049), (786, 0.022896691304966223), (5939, 0.02289515662558321), (2725, 0.022863975039639498), (2654, 0.02278813327029367), (272, 0.02278781847933297), (8056, 0.02278781847933297), (1711, 0.02278271903030185), (364, 0.022764799376763192), (1714, 0.022758272152570737), (5009, 0.022683639601378345), (3023, 0.02265033468686825), (3981, 0.02264873435051126), (1626, 0.022638298387708984), (567, 0.022602697259023245), (1613, 0.022598119078875552), (1618, 0.022553840744375678), (9062, 0.02254277647892767), (1358, 0.022510217202124958), (518, 0.02245469092217817), (1757, 0.022431248864718006), (1053, 0.022419146402965457), (1367, 0.022418872738844176), (528, 0.022399643193711637), (6754, 0.022360390125444028), (5686, 0.022353482450510716), (1979, 0.02234340248800899), (4182, 0.02232660855820706), (2364, 0.022313778535297018), (2863, 0.022160021180882207), (3857, 0.022135418284708493), (3891, 0.02209633944447547), (1717, 0.02209436126027535), (7879, 0.02204395862222367), (8573, 0.022022206735786042), (4914, 0.021999699533982377), (4404, 0.021991738449492634), (847, 0.02198422738668557), (1869, 0.021957230781394815), (3655, 0.02193183074822735), (1273, 0.021918252385784966), (7478, 0.02191800774344841), (1953, 0.021896094641464345), (7410, 0.02187977283794176), (3827, 0.02185311687410957), (8471, 0.021789907187936084), (6633, 0.021780147180237498), (1762, 0.021719633998292742), (2633, 0.021702658412948612), (3013, 0.021702643761213763), (7084, 0.021654044371999068), (3997, 0.02165226273588057), (2729, 0.021649501207998897), (4658, 0.021634338156996027), (4176, 0.021555548962573765), (7031, 0.021497657819139968), (433, 0.021478121075160304), (4249, 0.02146145722776948), (3374, 0.021395400279262223), (8934, 0.021316083569076064), (8389, 0.021271238133189253), (8162, 0.021238478231211912), (6153, 0.02123470926428777), (6499, 0.021230850183144065), (711, 0.021230452923864565), (7223, 0.02119360045483251), (1591, 0.021184925837334313), (3976, 0.021150275913222882), (1281, 0.021132075410713505), (4247, 0.021131227837025895), (2194, 0.021096912433562577), (494, 0.0210595138228409), (7930, 0.02102443516971035), (2228, 0.02102441905427087), (6740, 0.021009148794534145), (381, 0.021005280081905418), (7512, 0.020980287454624075), (651, 0.020972289848361147), (855, 0.020943422337767113), (78, 0.02088881887284974), (5634, 0.020875157853991258), (8156, 0.0208529080629368), (6342, 0.020850635060505662), (56, 0.020842924702103978), (1460, 0.020783386408929926), (4874, 0.02073443772909677), (3966, 0.020732205493885998), (6091, 0.02066867242631803), (521, 0.020661542911153824), (7519, 0.020593487837932314), (6722, 0.020581844735295923), (5803, 0.020529533501324873), (1584, 0.020406872613811248), (935, 0.020385802808230345), (7067, 0.02036983036391174), (6243, 0.020364659515801367), (7595, 0.020362846205012552), (7640, 0.02036139291687275), (5951, 0.02027334474155503), (879, 0.020263540655458344), (9122, 0.02025613321010402), (1611, 0.02025588428074701), (1729, 0.02025292378598426), (1263, 0.020234927506330287), (6441, 0.020233863001936844), (2282, 0.020166891277931403), (3333, 0.0201067230783033), (8506, 0.020101030142426077), (1710, 0.020047464673886187), (1713, 0.02003779186352654), (2782, 0.02001117866851309), (4452, 0.020006596316015493), (1500, 0.01988525521599937), (545, 0.019846696878325375), (6558, 0.01978842931549945), (7218, 0.01977578088703256), (7864, 0.019711624453234974), (1679, 0.019568656955873637), (137, 0.01953756858075091), (222, 0.019486924049531586), (584, 0.019474293937390665), (6557, 0.019437409169764306), (5711, 0.019428051574981405), (7321, 0.01939010953960293), (7633, 0.019372881129754254), (8566, 0.01933859166427906), (9029, 0.019331461816041527), (7181, 0.019281430538060834), (6296, 0.01926763881447436), (1610, 0.019147152295398345), (2348, 0.019144071577492656), (693, 0.019127602013164983), (404, 0.01908695777986972), (4880, 0.019065830167443325), (1593, 0.01904643208122198), (3749, 0.019008069866019103), (4355, 0.01900363795744984), (9125, 0.018987100889739462), (2025, 0.018973797274731714), (5044, 0.01893103348599371), (7470, 0.018922655860907144), (5610, 0.018868448189253186), (551, 0.018828334030123465), (2580, 0.018822777691476097), (6671, 0.018773107637684475), (9049, 0.018750104226983873), (2833, 0.018749023580616624), (526, 0.018689033344087523), (2993, 0.01865859987791766), (3254, 0.018651740643974724), (6035, 0.01860897552966936), (7477, 0.018597818815154463), (6365, 0.018594417551985667), (5420, 0.018562225488605526), (444, 0.018560533093162496), (5883, 0.018486288111373712), (3873, 0.018483203409538095), (537, 0.018481954017135333), (1675, 0.018454578549014736), (3975, 0.01844531560394369), (6582, 0.01841148269773941), (46, 0.018343108726968725), (1719, 0.018329430265661983), (3970, 0.01830800376899289), (6597, 0.018269141378768713), (8576, 0.018240408967765725), (3279, 0.01821989972246673), (6283, 0.018216451744998363), (5587, 0.01817542153872525), (7908, 0.01814875931709824), (7092, 0.01808788462644896), (3751, 0.018076653234456053), (8582, 0.01806581223129136), (4178, 0.01804391236668256), (5985, 0.018019346059713597), (5814, 0.018013279343245262), (1469, 0.018004781367697745), (7792, 0.017969512263621305), (3036, 0.0178655154685013), (6943, 0.01782293739457378), (7339, 0.017798367997965026), (7530, 0.017772140833377845), (4541, 0.01776334727060864), (8024, 0.017739162301870386), (308, 0.01772397532687939), (6443, 0.017707555645051595), (3265, 0.017706348899057672), (1693, 0.017704119181031826), (7145, 0.017524424988628162), (1084, 0.017518204914880493), (5662, 0.017447368688133333), (7562, 0.01738295766636374), (1435, 0.017374866211150104), (6303, 0.01733423615218265), (624, 0.01733372772432161), (3393, 0.017314368364193658), (3394, 0.017314368364193658), (3395, 0.017314368364193658), (3396, 0.017314368364193658), (3397, 0.017314368364193658), (3398, 0.017314368364193658), (3399, 0.017314368364193658), (3400, 0.017314368364193658), (6472, 0.01729343082277497), (5594, 0.01727232542408567), (5595, 0.01727232542408567), (5596, 0.01727232542408567), (5597, 0.01727232542408567), (5598, 0.01727232542408567), (5599, 0.01727232542408567), (5600, 0.01727232542408567), (5601, 0.01727232542408567), (3224, 0.017263721995348636), (1586, 0.01725585003265416), (6851, 0.017242842649201676), (5799, 0.017222041838350004), (5656, 0.017180917865949108), (3208, 0.017111041654944422), (8652, 0.017105028296707965), (3531, 0.017089870753544824), (1596, 0.017051044243621194), (2190, 0.0170488327391455), (3053, 0.017039129769059407), (5852, 0.01703908056595721), (9110, 0.01701314992513792), (3480, 0.017012755236547092), (4131, 0.01700037353989904), (326, 0.016976517421588923), (723, 0.016976390533986377), (280, 0.016956988736243215), (7551, 0.016941372934107204), (719, 0.016934547825889462), (6272, 0.016920088741452788), (6174, 0.016909239007399723), (6381, 0.016908813454641704), (5991, 0.01684484147440314), (7578, 0.016819190682325638), (2919, 0.016793221585329515), (1673, 0.016791836395066113), (1921, 0.016789915801333377), (2599, 0.016778169294205083), (1700, 0.01677753414164289), (339, 0.016776470914108547), (945, 0.016763297364896245), (8461, 0.01675360857007862), (8992, 0.016711239792534593), (475, 0.016701702035235407), (1804, 0.01667007538796974), (8146, 0.01665864251136709), (9015, 0.016631570653735536), (7256, 0.016622885819217798), (8793, 0.016567412855240028), (3578, 0.016555820365013168), (7833, 0.016549332259014976), (8112, 0.016545267087356427), (6794, 0.016500147027390232), (5617, 0.016497238260914315), (4490, 0.01649470141361462), (5646, 0.016452935846329973), (7520, 0.016442602797940988), (684, 0.016437474180409348), (4865, 0.0164298815253121), (1797, 0.016429851703763636), (493, 0.01641134967699894), (7717, 0.016398153790152085), (2731, 0.01637270474547969), (8707, 0.016320401385385073), (3186, 0.016314280204634546), (1669, 0.016277087433412395), (7457, 0.016263074478889944), (4314, 0.01625137014622489), (8186, 0.01625099727511451), (1442, 0.016247732070234798), (844, 0.016207789838294517), (854, 0.016206928527443168), (5171, 0.016201236433844638), (1447, 0.016191764365429132), (7210, 0.016188780517881335), (8249, 0.016185773375699222), (2824, 0.016162702907439215), (7700, 0.016161913144245987), (6485, 0.01615971420335537), (6892, 0.016138494855957315), (5935, 0.0161246709883606), (7452, 0.016123688981894528), (7888, 0.016116529993694402), (5902, 0.01610880956096675), (3902, 0.016086148191111684), (7182, 0.01607241855944455), (670, 0.01603542691803426), (4004, 0.016031660881039654), (7203, 0.01601035971576034), (5788, 0.015978536083459387), (7420, 0.01597564697834136), (2436, 0.015962075162239152), (5893, 0.01595486042116411), (3990, 0.015893933131547203), (2837, 0.015885079726134267), (8131, 0.01585925882986993), (921, 0.015840079685710294), (211, 0.015836505756049758), (6855, 0.015832166664970185), (790, 0.015832133705555487), (5095, 0.01582851235809188), (8518, 0.01581236785919144), (4577, 0.015810146981923415), (2609, 0.015805515696517065), (7443, 0.01579356910108698), (6321, 0.015753985354566555), (2098, 0.01573579938255224), (8849, 0.01571341500950397), (4646, 0.01571002212571012), (4908, 0.01570977482738021), (6761, 0.01569601566296561), (3742, 0.015684888737298716), (9199, 0.015675953526290594), (3707, 0.015653936136865675), (6449, 0.015650962555579587), (4303, 0.01564721156946257), (3348, 0.015617658504205288), (7521, 0.015607157508327371), (644, 0.015578732031524642), (8294, 0.0155677584369101), (4689, 0.015567673387112917), (8149, 0.015563236028261866), (4916, 0.015559801173377425), (9123, 0.015554381453107046), (279, 0.015526593797719002), (7791, 0.015507832059631776), (4487, 0.0154318275180011), (4097, 0.01542544454815803), (2042, 0.01540203203632612), (53, 0.015401307788030363), (8135, 0.01538908136571233), (6052, 0.015375329486703152), (6913, 0.01534106375211323), (631, 0.015284240017028397), (7309, 0.015281313609530611), (6868, 0.01526948850219318), (3069, 0.015266874198361084), (8142, 0.015261219672343883), (5504, 0.015232370556526419), (3890, 0.015232330779127033), (4252, 0.015198304684793395), (6079, 0.015191727337408121), (3253, 0.015169348003002778), (17, 0.015154551303327726), (7050, 0.015141562262930763), (5797, 0.0151200528476434), (7407, 0.015117669548526405), (4295, 0.015114687645404704), (4296, 0.015114687645404704), (4297, 0.015114687645404704), (4298, 0.015114687645404704), (4299, 0.015114687645404704), (4300, 0.015114687645404704), (4301, 0.015114687645404704), (4302, 0.015114687645404704), (7564, 0.015104090776849361), (8292, 0.015085162991848282), (5411, 0.015055624311149146), (9186, 0.01505550686376665), (250, 0.015026756958930033), (2640, 0.014998019210928677), (6192, 0.014996675671588643), (4160, 0.014996163353666075), (6110, 0.014991238443052234), (8184, 0.014991070849311453), (2020, 0.014921859474113626), (8574, 0.014916757415152393), (6103, 0.014871632327244531), (3653, 0.01485824579287), (8482, 0.01481377889848674), (8578, 0.014787083658215645), (8120, 0.014778754815022756), (5929, 0.014757209338080755), (3675, 0.014716924970842225), (8334, 0.014699857003050931), (4208, 0.014695310739844814), (7444, 0.014656811518367181), (6385, 0.01465334268222496), (1007, 0.014640784562713689), (661, 0.014631025808678682), (1051, 0.01461449526077064), (1589, 0.014612597085390935), (1960, 0.014607804694120131), (7134, 0.014569643647510129), (7560, 0.014560810410061686), (7123, 0.014501627302468834), (5568, 0.014494151161553292), (4169, 0.014439245034906581), (8694, 0.014407544982870679), (5976, 0.0143990396324499), (4843, 0.014380371276993514), (6679, 0.014374438619101412), (6177, 0.01435540178269315), (6194, 0.014343359278930412), (3974, 0.014338083907919191), (8692, 0.014330049637897035), (2341, 0.014325408618864542), (8265, 0.014325011154126138), (6386, 0.01430328028163254), (2807, 0.014262840402215586), (3635, 0.014237578625109389), (2535, 0.014227639345292156), (2396, 0.014202931453775026), (5864, 0.01417892635376155), (8071, 0.014170686494946027), (7124, 0.014148075504678935), (6227, 0.014145956964572676), (8704, 0.014091915262476586), (8650, 0.014053992835881305), (6311, 0.01403765762802065), (2771, 0.01402632311618543), (8372, 0.014019303714470785), (3047, 0.013947207720875576), (969, 0.013938870132304493), (7354, 0.013906809903907833), (2661, 0.013901962069614656), (2779, 0.013890203150986087), (8213, 0.013874743768254386), (3993, 0.013864080267979473), (7686, 0.013850939216107477), (2393, 0.013826356930066935), (8789, 0.01381874028234838), (3697, 0.013816104238635097), (6849, 0.013777685387250589), (7417, 0.013735925091563406), (4462, 0.01373364446413497), (7786, 0.013696897635395033), (3999, 0.013692023758537949), (3709, 0.013686908086867454), (6824, 0.013640517721607579), (395, 0.013590126752889628), (116, 0.013588636767149255), (6813, 0.01358694666430049), (7977, 0.013577176339632985), (8311, 0.01355608946666084), (3538, 0.013555961664332662), (7319, 0.013484262640200306), (5608, 0.013479703137519446), (7233, 0.013469003477422152), (3148, 0.013453748632981733), (4765, 0.013422739801782246), (6915, 0.013417674120380085), (3825, 0.013402099903085595), (3633, 0.013378187373641187), (3403, 0.013369362914757942), (7746, 0.013353662109939445), (5050, 0.013324688052752484), (8185, 0.013314925761238886), (8125, 0.013311462309084166), (7240, 0.013309956858596676), (5947, 0.013309845147359325), (2670, 0.01330797802946852), (2332, 0.013306260186106525), (6114, 0.01329517484120714), (451, 0.013288895785570347), (640, 0.013285501585201047), (514, 0.013259204264462055), (8183, 0.013256567094377567), (5922, 0.01325316721937047), (5159, 0.013245767689679333), (1291, 0.013232942064632446), (8425, 0.013225014263606094), (4089, 0.013198522086337674), (3011, 0.013189153664703385), (2780, 0.01318730319940565), (253, 0.013186524857504475), (2014, 0.013182815856626603), (215, 0.013175787772821152), (6859, 0.013174430617690044), (6525, 0.013173915900453501), (1162, 0.013140972324134826), (3358, 0.013137826808505688), (5401, 0.01313501711491113), (2199, 0.01312736565056662), (857, 0.013110431452542037), (8178, 0.013103000493438608), (3125, 0.013101400757874986), (3745, 0.013096318558642945), (5156, 0.01309456318882823), (6616, 0.013088860712530823), (4924, 0.013086200066022572), (2494, 0.01303960440543737), (1044, 0.013035904774148496), (5968, 0.013031602130106625), (4068, 0.013030625323240686), (7391, 0.013013320831389423), (4892, 0.012991739658697918), (4679, 0.012991625494725214), (428, 0.012986733063511134), (3439, 0.012985075749485023), (9111, 0.012979342924707862), (8395, 0.012961806668030365), (5127, 0.01295449830043021), (3978, 0.01294304499785934), (384, 0.012940279142922572), (447, 0.012934180732091061), (4486, 0.01292846716784805), (8610, 0.012918709439647947), (8445, 0.01291327228584999), (3465, 0.012894230238827575), (1120, 0.012893952534858555), (2942, 0.012883965187064823), (8458, 0.012881664663329337), (2508, 0.012876087408676155), (3971, 0.012862950463548658), (2259, 0.012848859159493523), (550, 0.012848369451035815), (5804, 0.0128319785678374), (6437, 0.012808144738505077), (4557, 0.012804484504344295), (906, 0.012799683945634788), (7102, 0.012793445153187012), (7535, 0.012786506760463895), (778, 0.012773404242935306), (4693, 0.012749222596362676), (2181, 0.012738163581230507), (7253, 0.012736662861127235), (1570, 0.012705921527329963), (7631, 0.012705246377959289), (2957, 0.012704998166388717), (8542, 0.012669567175183211), (1499, 0.012669029549762878), (122, 0.01266401664038528), (3475, 0.01265172308672765), (3330, 0.012645463779103517), (2559, 0.012636450951172896), (98, 0.012633767135643839), (1944, 0.012610771400945289), (5226, 0.012609626003534736), (2745, 0.012580537804073463), (3046, 0.012571394621729067), (5444, 0.012570988735355212), (2371, 0.012570161894513298), (669, 0.012568460898388506), (1339, 0.012541169768113428), (6583, 0.012536551598474175), (1197, 0.012536502625790175), (7659, 0.012534504217830329), (5253, 0.012519293741030063), (2519, 0.01251245755266541), (8691, 0.012484224837398151), (8748, 0.012443180439162281), (8749, 0.012443180439162281), (8750, 0.012443180439162281), (8751, 0.012443180439162281), (8752, 0.012443180439162281), (8753, 0.012443180439162281), (8754, 0.012443180439162281), (8755, 0.012443180439162281), (6526, 0.01242127398627612), (6656, 0.012415073296589769), (7007, 0.012413775397998303), (4536, 0.012406200759742601), (876, 0.01238497345986964), (6248, 0.012381495461123621), (2842, 0.012376519712432584), (4511, 0.012359956514739569), (7262, 0.012352516645820346), (5801, 0.012332474196829656), (4083, 0.012331954399371913), (3456, 0.01231037068062801), (476, 0.012310194404632333), (1988, 0.012309559703047743), (6225, 0.012305517852834885), (3658, 0.012299722837662013), (4749, 0.012296199344359295), (425, 0.012283722050301971), (7789, 0.012281245641794863), (233, 0.012280880565659595), (907, 0.012272707253334469), (4627, 0.012264173352497448), (8066, 0.012255374764492918), (6795, 0.012254776935734232), (3090, 0.012248686350754566), (28, 0.012240770030107123), (7097, 0.01224002228518207), (6159, 0.012232277398963655), (8102, 0.012188495314066836), (54, 0.01216826245434189), (3099, 0.012167907621774983), (7455, 0.012139422798075204), (230, 0.012136214821686475), (203, 0.012131297885155143), (5867, 0.012129283164733728), (7811, 0.012118114727252525), (6444, 0.012099106153373455), (7739, 0.0120922776371244), (2662, 0.012087458342556704), (837, 0.012084997643956758), (6516, 0.01207918943112388), (8999, 0.012058477464634393), (4988, 0.01204990478123716), (2425, 0.012033473078706988), (4948, 0.012030578696417313), (7027, 0.012013016295075627), (8443, 0.012003295483473408), (8151, 0.01199466581567252), (7088, 0.011974562298038234), (8834, 0.011960163036273876), (5153, 0.011957479742759767), (5202, 0.011955004130881448), (2509, 0.011954854147304697), (2174, 0.011928165018750936), (2027, 0.011893334726428853), (6099, 0.011892680793910123), (5461, 0.011891125073249284), (8726, 0.011888907765728035), (3973, 0.011840880500635604), (1516, 0.011797827267014376), (3410, 0.011795559116404866), (4493, 0.011789575546275008), (2831, 0.011785845610557342), (5915, 0.011771106833128745), (5990, 0.01176631460739204), (1462, 0.011760028579537452), (5371, 0.011752441261687369), (6912, 0.011731193526863613), (4405, 0.011714042031589794), (8208, 0.011704297851129836), (8314, 0.01168951585656668), (1138, 0.011673064974576588), (1, 0.011671116878129098), (7618, 0.011660965801597605), (8123, 0.01164499184518606), (4682, 0.011637734587246278), (8369, 0.011626457686935609), (5274, 0.01161510289554437), (8163, 0.011606064945618657), (7778, 0.011604527070908095), (8494, 0.01158832168623581), (4615, 0.011582725554024774), (5065, 0.011582236463620138), (3198, 0.01158094183646206), (4953, 0.011553145914152728), (6349, 0.011550638170191084), (4816, 0.011539470958004058), (7190, 0.011499125901554849), (2905, 0.011488979987151742), (7305, 0.011473025501453212), (4782, 0.011470688500209943), (7842, 0.011448011184464986), (2303, 0.01144467314119353), (1216, 0.011442365911727752), (6254, 0.011439792205265831), (4783, 0.011435619855556477), (2017, 0.011395226538031388), (153, 0.01139274752958333), (8535, 0.011369133176061428), (3522, 0.011349754238170627), (261, 0.011331783735645334), (4904, 0.011315266733678135), (8478, 0.011312309041501094), (765, 0.011305050496510118), (2271, 0.011303386806224875), (6422, 0.011290781304797035), (2062, 0.011289576645190286), (6966, 0.011289190874924237), (7837, 0.011275885926163083), (2442, 0.011270482876538788), (8886, 0.011254974667498743), (1615, 0.011246647314175563), (6156, 0.011242086754400294), (6076, 0.01122369468950891), (3841, 0.011218866934152683), (6104, 0.011214775202928212), (927, 0.01120331593082059), (7065, 0.01118587506327045), (600, 0.011183219104070358), (4180, 0.011175292346884066), (4833, 0.011173358667046659), (6723, 0.011171689742790591), (2984, 0.01115575904774331), (192, 0.011140441232145798), (2944, 0.011140035497148686), (2330, 0.011123502843567952), (2566, 0.011113941519723978), (7413, 0.011108379728393987), (8177, 0.01110062133460524), (2122, 0.01109479004234739), (5187, 0.011082802668376164), (3166, 0.011081084106624638), (2055, 0.011080075558170407), (2440, 0.011077290016012986), (216, 0.011072627872891056), (1079, 0.01106790142284476), (6362, 0.01105482434241289), (1878, 0.011047392360132526), (8630, 0.011047321379754994), (1122, 0.01104721793297617), (834, 0.011046969548904956), (7665, 0.01103185149010243), (3299, 0.011013889177789535), (1045, 0.011008887092719096), (6600, 0.01100866541448273), (6490, 0.011002736937596319), (1485, 0.011000379614558162), (3530, 0.010991307812022833), (3346, 0.010991035330771629), (5367, 0.010982954247209529), (8354, 0.010978490480315226), (9100, 0.010964946605516598), (4059, 0.010939260909477732), (4060, 0.010939260909477732), (4061, 0.010939260909477732), (4062, 0.010939260909477732), (4063, 0.010939260909477732), (4064, 0.010939260909477732), (4065, 0.010939260909477732), (4066, 0.010939260909477732), (1982, 0.010937514716668071), (5871, 0.01093733356044667), (1464, 0.01092920558599992), (1862, 0.010927895580325121), (5978, 0.01092314389968109), (2958, 0.010903014756672557), (2983, 0.010884478577451995), (2256, 0.010881999767079003), (8540, 0.010858204171031774), (1951, 0.01081044358417172), (464, 0.010807163639559227), (1996, 0.010782132427287512), (6549, 0.010782072070736726), (9023, 0.01078103895410474), (5896, 0.010776216732017247), (1482, 0.010773522306763775), (2906, 0.010763129168616168), (840, 0.010762781491714243), (4920, 0.010733249931350403), (2112, 0.010729850587355882), (8976, 0.010727081367945032), (8477, 0.010722518014393587), (5012, 0.01072033556814311), (839, 0.010715005375873412), (8304, 0.010713476977976585), (1887, 0.010697248648502097), (2902, 0.010679454530383851), (8037, 0.010674955123968103), (5966, 0.010669743705004078), (5369, 0.010665035695206708), (1701, 0.010643745912803605), (8592, 0.010639242268972901), (2970, 0.010628799226238812), (5900, 0.010626806308944383), (6318, 0.010603939268012778), (8201, 0.010595316420522739), (3643, 0.010593324655270249), (1428, 0.01058877671703608), (4226, 0.010556798326836645), (698, 0.010552450998709207), (774, 0.010548980360549444), (260, 0.010547535622942465), (540, 0.010547521654068685), (3923, 0.010544344466476082), (4165, 0.010534653610529802), (8078, 0.010525619559513144), (7287, 0.010497775835485876), (1986, 0.010494456533763637), (2775, 0.010485955115410495), (1624, 0.010484924897083843), (4038, 0.010478831775535548), (5661, 0.010473999874347963), (7587, 0.0104702445311752), (3954, 0.010441645613489097), (2850, 0.010431920503364502), (2617, 0.010430998623371086), (6829, 0.010420880457112595), (460, 0.010417924168123042), (4937, 0.010417799062969196), (8912, 0.01039242255596397), (420, 0.010387683113367196), (3968, 0.010386133860559605), (5886, 0.010371026812741248), (7364, 0.01035928010058077), (6618, 0.010359230109902412), (2884, 0.010356273104964807), (609, 0.010350954390624735), (7361, 0.01032500847283567), (3302, 0.01030681797354799), (6908, 0.010303405718264914), (6822, 0.010290821932745818), (4642, 0.010282158130734107), (8424, 0.010279315276331512), (7436, 0.01027729194653244), (4013, 0.010262551967651908), (646, 0.010250447117861147), (7857, 0.01024636000334785), (9066, 0.010245557506751015), (6042, 0.010243756828414552), (8480, 0.010242267483451216), (7680, 0.010229194408600801), (4053, 0.010223208841631238), (3068, 0.01022282146881076), (4606, 0.010222080455591493), (4844, 0.010218995645619164), (5169, 0.010218101769624201), (7958, 0.010215772893191543), (7699, 0.010214030797933914), (7158, 0.010213472452529517), (1156, 0.010213402948721641), (5709, 0.010208406165611512), (2491, 0.010202188133108766), (371, 0.010194867682611398), (3620, 0.010181960878913744), (4219, 0.010180678638981953), (7899, 0.010176928712786325), (4564, 0.0101643434038893), (2544, 0.010152636352024628), (3430, 0.010140370265602772), (181, 0.010138595090365392), (6514, 0.010134955033330357), (8465, 0.01013378746400414), (8952, 0.010130910321016259), (6258, 0.010126676332445243), (74, 0.010124579436944663), (7708, 0.010122846469583969), (6125, 0.010112752041919188), (4933, 0.010110061957150676), (2501, 0.01010644743355925), (9191, 0.0101031321001888), (6188, 0.010094989060319262), (7229, 0.010091993415633119), (6544, 0.010088253147416619), (5327, 0.01008426939769228), (2084, 0.010077586973159983), (2471, 0.010075289597664353), (4019, 0.010070478378887221), (155, 0.010059341350589302), (8315, 0.010058947140677435), (7611, 0.01005834274231647), (6124, 0.010042750173940514), (827, 0.01004222989316606), (5830, 0.010032112659501758), (202, 0.010031890800854627), (4217, 0.010031464072883686), (7310, 0.010031245528180278), (2407, 0.010028249753292164), (5513, 0.010021478507383724), (1782, 0.010013153452965466), (6975, 0.010013108152982723), (3169, 0.010007933297821308), (8547, 0.010006327794717848), (431, 0.01000245663675634), (2660, 0.0100000366661006), (7702, 0.009991917522453157), (3636, 0.009978559096816823), (1928, 0.009962586881423825), (8847, 0.009957006442506581), (1850, 0.0099555706403871), (6521, 0.009941396547891833), (8289, 0.009927426871900413), (678, 0.009925610852037563), (1642, 0.009924656736038606), (5728, 0.009921625653464576), (5060, 0.009911294758580352), (7804, 0.0099112146350016), (7667, 0.009908011122283449), (3331, 0.009906103857889726), (6945, 0.009883141954205652), (2668, 0.009877566273870809), (8818, 0.009873457928697737), (2796, 0.009867595744905098), (1404, 0.009865374123468402), (7862, 0.009864851283429746), (5529, 0.009852682971214537), (3485, 0.009841900406649291), (2920, 0.009837851204956324), (1685, 0.009828088996726814), (2627, 0.009825198855221137), (6057, 0.009821647951783547), (6709, 0.009818958853969618), (5157, 0.009812041674950145), (7655, 0.009786061588035126), (8809, 0.009782479345304993), (2915, 0.009782039046284389), (7485, 0.009769546705036894), (8187, 0.009760329673315346), (9041, 0.009750407937187303), (1911, 0.009748963166443794), (4450, 0.009738256249281133), (5488, 0.00973703512183285), (2914, 0.009735160844457396), (1394, 0.009729894670715), (747, 0.009725494066700854), (7858, 0.009723067436453178), (742, 0.009720764569355793), (278, 0.009714656358462494), (5290, 0.009707315521232085), (6852, 0.009699418332153415), (1950, 0.009690456310613807), (4851, 0.009687135835649886), (9133, 0.009685395318110461), (4934, 0.009678067673401746), (3143, 0.009671615164670869), (2549, 0.009663162526146116), (6005, 0.009662587590820119), (7664, 0.009662298605835187), (8175, 0.009658849472869189), (5182, 0.009648403480613889), (6928, 0.00964617082188812), (5527, 0.009646036334793575), (2115, 0.009642628220945703), (5811, 0.009640599113527897), (697, 0.00963923785711034), (6780, 0.009633052274769412), (7692, 0.009626792100767886), (9038, 0.009623588848797939), (3163, 0.009617090418130612), (6831, 0.009611788682867816), (9107, 0.009607286832604431), (7979, 0.009584514647115214), (2389, 0.009576499338525052), (76, 0.009576027322265411), (8913, 0.009573365848635097), (6380, 0.009570059623700576), (6982, 0.009564533461934895), (5791, 0.009550311179584792), (7947, 0.009547022662167875), (7059, 0.009540874438575734), (8279, 0.009528514407093592), (8280, 0.009528514407093592), (8281, 0.009528514407093592), (8282, 0.009528514407093592), (8283, 0.009528514407093592), (8284, 0.009528514407093592), (8285, 0.009528514407093592), (8286, 0.009528514407093592), (939, 0.00952470405231913), (6154, 0.009520926997585073), (2608, 0.00951755012282599), (7086, 0.009515006239879671), (1416, 0.00951135912372807), (8049, 0.009498812118761473), (6019, 0.009492349819300767), (3241, 0.009490136132391013), (2856, 0.00945435790023058), (1784, 0.009451960255589307), (4093, 0.009450465964331915), (4438, 0.009441241508231663), (4995, 0.009433828195178916), (7589, 0.009427470842407255), (8534, 0.009426201848600515), (2527, 0.009424144198389689), (2822, 0.009420719046184124), (26, 0.009420281585662774), (2426, 0.00941986625650642), (1308, 0.009419612981037193), (6787, 0.009418462406216271), (2810, 0.00941566989678961), (276, 0.009412638067196048), (5901, 0.009399106244888218), (3729, 0.009391905140321727), (2207, 0.009390113082357227), (830, 0.00938847966972758), (3271, 0.00938770041523692), (8441, 0.00938289646328275), (7498, 0.009380477673727163), (1955, 0.009378555596359075), (3950, 0.009364019603034849), (1730, 0.009350459941556715), (7694, 0.009348459423108656), (7873, 0.009341210917594158), (967, 0.009340754583956971), (1856, 0.009311164854170797), (9063, 0.0093091446547656), (548, 0.009306882976827207), (951, 0.009302662306031557), (8147, 0.009299940847730065), (1186, 0.0092993788315774), (6384, 0.009290073580433184), (7500, 0.009269340410489362), (6387, 0.009255746692708431), (5633, 0.009249674987795865), (7765, 0.009244655532806168), (6376, 0.009244092127072761), (6753, 0.00922314619203492), (6880, 0.009222657559501234), (6151, 0.009216807072026257), (3078, 0.00921429591741458), (1430, 0.00920336188797864), (4939, 0.009189754030484557), (1935, 0.009185976377324835), (8771, 0.009167138894740454), (6767, 0.009161639844687434), (5199, 0.009156728888170197), (132, 0.009148091886382633), (4940, 0.009125009311692722), (7939, 0.009117729329806808), (6751, 0.009111767687417905), (1148, 0.009111407712913622), (4607, 0.009109946242961185), (7426, 0.009104625660461428), (1637, 0.009102876979426262), (4672, 0.009099998906457995), (5303, 0.009097682552843355), (5933, 0.00909441799019338), (3088, 0.009085206210181235), (1256, 0.009083539150449774), (1505, 0.009077206681019221), (6425, 0.009074226925880632), (7429, 0.009073782176327098), (4460, 0.009073579684323096), (3096, 0.009068214113202641), (9074, 0.009067182853342676), (4521, 0.00906472346775172), (418, 0.009064259920651931), (7308, 0.00905918320672465), (1809, 0.009057643090306442), (7575, 0.009054713652790194), (7678, 0.009045254346913868), (6680, 0.009038463125812336), (8001, 0.00903246201370382), (158, 0.009028671801586575), (6257, 0.009027885694259014), (971, 0.009027706460456055), (4791, 0.009013584616936805), (564, 0.009011604817238374), (7626, 0.009010858370006371), (660, 0.009005493017985339), (5393, 0.009002878809120998), (1302, 0.008993630370339551), (5143, 0.008992458855462017), (7543, 0.008974326930632215), (1565, 0.008973281982978849), (205, 0.008970635752214354), (3703, 0.008967064317779617), (2113, 0.00896111757882809), (1769, 0.008953541635628701), (7771, 0.008939565545045295), (6073, 0.008927045906413116), (5439, 0.00891469993932079), (8484, 0.00889695190348341), (199, 0.008889188750815482), (2454, 0.008888928281173073), (8776, 0.008885608754658072), (1333, 0.00888117468248574), (8290, 0.008866267066266255), (7106, 0.008866191323828031), (1247, 0.008865307507391347), (4794, 0.008865177746616494), (204, 0.008864339469300899), (4973, 0.008862425323117023), (1975, 0.008844874426485962), (5733, 0.008844381104696118), (4086, 0.00883974387991809), (49, 0.008839693675532868), (1041, 0.008835813589249794), (8924, 0.008834878559462207), (3361, 0.008834352632284886), (5581, 0.008830628519213766), (4814, 0.008829241255301563), (1768, 0.00882137429652049), (1262, 0.008806851065651735), (8558, 0.008802669693983082), (4515, 0.00879976518171928), (3275, 0.00878387636563556), (6054, 0.008777137405102676), (2462, 0.008767321903794121), (3801, 0.008762682044913426), (8936, 0.008761825869838409), (6300, 0.008761776647177814), (1316, 0.00875993988444585), (3196, 0.008755042245880536), (1297, 0.00875287237632989), (6231, 0.008742531026727217), (3383, 0.008740750741201696), (3756, 0.00873728474495182), (287, 0.008728402236092444), (3682, 0.008727951392060975), (2460, 0.008725370919046533), (8145, 0.008715625444923127), (3852, 0.008708217311645977), (7128, 0.008708018247293677), (8316, 0.008701218631891227), (8855, 0.008694904673951905), (1344, 0.008691037348033562), (8598, 0.00868991263675794), (1990, 0.008681357441220436), (4897, 0.008665355362816072), (1194, 0.008658599174800934), (3769, 0.008651943800154396), (814, 0.008648253026145202), (1825, 0.008641486475947563), (3932, 0.008639686275778503), (8005, 0.00863835955707449), (3268, 0.008632236365898752), (1927, 0.008631699441817724), (7217, 0.008609990093938995), (3107, 0.008589185355370082), (2865, 0.0085851479866796), (2949, 0.008582879508606095), (2959, 0.008581017478158792), (5680, 0.008572449022323667), (8306, 0.008572404803886128), (2730, 0.008569814186350036), (9213, 0.008560020079009016), (5708, 0.008551605868850403), (1200, 0.008551234948514817), (7968, 0.008547980849884203), (6453, 0.008547787827369525), (2737, 0.008546233589603809), (1620, 0.00853948457987131), (1410, 0.008537012050355255), (6167, 0.0085355505848938), (2184, 0.00853433798511193), (8229, 0.008532640185254948), (5458, 0.00853194416851041), (4140, 0.008526377476027183), (3808, 0.008523391536321994), (1043, 0.008521728389031601), (6325, 0.00852022725189975), (8583, 0.00851451617850435), (6024, 0.008507467033952661), (5265, 0.008500971727918409), (2216, 0.008496011898668504), (1873, 0.00849506673588016), (3388, 0.008494957305587301), (5191, 0.008483518904653401), (4211, 0.008482786009460805), (2961, 0.008474521546786557), (4215, 0.00847422650119107), (542, 0.008450528018889236), (2001, 0.00844969403591132), (6172, 0.008448730276852535), (2741, 0.008448310768577582), (8883, 0.008446998834142301), (7257, 0.008443325397378448), (3357, 0.008441335301025253), (6836, 0.008432228054321873), (3691, 0.008430408981559041), (7130, 0.008427406761288956), (2258, 0.008412962297519247), (3380, 0.008408569758323797), (6370, 0.008405738555015335), (734, 0.008405168523636552), (1386, 0.008403002175432803), (3221, 0.00840271308234957), (6546, 0.00840151267139822), (2151, 0.008397781728726645), (2619, 0.008394859349989152), (649, 0.008389130839556384), (4785, 0.008385109575723958), (1403, 0.008384683043514822), (1702, 0.008384231063081064), (1623, 0.008370813497382862), (5299, 0.008369851010668136), (9042, 0.008368280384948457), (1724, 0.008363771199435129), (7409, 0.008353225289260968), (8355, 0.008349594497253907), (316, 0.008343067501130315), (2551, 0.008337575777616835), (5059, 0.008335028756782364), (4580, 0.008331223086682087), (3264, 0.008328301446754643), (7861, 0.008327219179632812), (1406, 0.008317800193375241), (8116, 0.008315976292018731), (7154, 0.00831589591352099), (4879, 0.008313341883182945), (8107, 0.008312612403917454), (5246, 0.008305286214292508), (7, 0.008295471669871235), (8681, 0.008292378473040518), (4340, 0.008291706391044158), (2238, 0.0082872755182153), (1088, 0.008281663829367932), (4204, 0.008281611346191686), (8498, 0.008275723088382645), (3185, 0.008275501990418795), (1326, 0.008272648356797465), (746, 0.008267757736643178), (4685, 0.008257808165044912), (1946, 0.008257544260514327), (7294, 0.00824879763541721), (8826, 0.00824862691589892), (5508, 0.008248428913705915), (5706, 0.008244675234711774), (793, 0.008241946761216805), (5605, 0.008239758446656373), (1853, 0.00823816369736781), (3790, 0.008236896261710463), (4458, 0.008235099343773991), (3252, 0.008222735737900702), (8500, 0.00822045228949123), (4475, 0.008217992737707491), (7379, 0.00821720715321133), (6111, 0.008209269615496954), (1454, 0.008201744171722772), (8679, 0.008201026218949067), (1040, 0.00819619928473302), (1622, 0.008194724130253055), (3476, 0.008194353845786921), (7224, 0.008188845949514627), (480, 0.008187737225056798), (1239, 0.008182887339987137), (4037, 0.008181210659566347), (2726, 0.008180696690736431), (4366, 0.008178684582686488), (4291, 0.00817620645824137), (3498, 0.008148862875056508), (4057, 0.008148066653562516), (347, 0.008145411315187017), (1627, 0.008136561420502302), (7868, 0.008130258484614577), (3115, 0.008130084860141754), (397, 0.008126325337442852), (3754, 0.008122952977484159), (7554, 0.008120951036051123), (2250, 0.00811904107494477), (5620, 0.00811048100492964), (4282, 0.008100220455861068), (8967, 0.008099152841511522), (4598, 0.008095664559374568), (6888, 0.008092897794944499), (1278, 0.008087823499554248), (3363, 0.008068885957369914), (1945, 0.008064125167338176), (1635, 0.008061188156854096), (2287, 0.008057528891473171), (501, 0.008049843323302197), (5668, 0.008048506784051347), (3269, 0.008047325086482775), (5282, 0.008023201496686094), (1759, 0.008020195886181422), (4553, 0.008019968852571955), (7337, 0.008019311987102004), (7963, 0.00801833873052409), (6209, 0.008011722837881876), (1301, 0.008008397243922103), (4624, 0.007979797194016843), (6186, 0.007977028464302238), (5516, 0.007976389245822916), (8275, 0.007972520257428931), (4969, 0.007972304972284922), (7131, 0.00797122880148505), (1168, 0.007940574282895567), (3216, 0.00793890109122069), (5563, 0.007914294318329166), (4753, 0.007914235918964944), (6070, 0.007912745806845652), (4253, 0.007912720074398763), (4525, 0.00789820046097215), (1932, 0.007892507323322974), (3037, 0.007890693573066295), (2536, 0.00788424546864158), (3292, 0.007877928850606434), (6196, 0.007876663717969575), (3746, 0.007876293553902495), (8160, 0.0078727440465053), (6737, 0.007861605711472477), (448, 0.007860833291333516), (8454, 0.007857840358638677), (4510, 0.007852004661400383), (7710, 0.007842950412994168), (6122, 0.007841477468583994), (2057, 0.007838687653985326), (2862, 0.007836645043103175), (4731, 0.007825112452533464), (7385, 0.007822395352730086), (7318, 0.007812948257886546), (2684, 0.007804849406093396), (5297, 0.0078038854510980565), (4001, 0.0077970321229158274), (8991, 0.007788605178651598), (168, 0.007786792914095686), (4869, 0.007780472985360845), (8310, 0.0077679964720365645), (5093, 0.007765518257421163), (4845, 0.007763683705610733), (298, 0.007763421779636132), (8830, 0.00776174400450923), (7383, 0.007758903588945919), (973, 0.007751833094056136), (1908, 0.007749331951140606), (248, 0.007747108956431528), (5005, 0.007746847478841495), (7317, 0.007746079982501819), (1307, 0.0077438812635747456), (9033, 0.0077396633267015486), (52, 0.007721205753309101), (8661, 0.007700646389712023), (5827, 0.0076972136927425895), (726, 0.007692767485283504), (6074, 0.0076837769120444085), (9211, 0.007682792421144619), (6399, 0.007678082613092377), (5147, 0.0076746961466495935), (1670, 0.0076743562878014504), (5103, 0.007668701650766427), (2424, 0.007667314151294952), (1663, 0.0076650659051031075), (1260, 0.007663282426410966), (3898, 0.007656956782321566), (6335, 0.007651084383452033), (3411, 0.007648723204488933), (3919, 0.007646474584157147), (7451, 0.007643499725661731), (4573, 0.00764089844741638), (7089, 0.0076374603067210535), (1458, 0.007633215263686167), (8457, 0.007631277832306238), (2790, 0.0076310220175546456), (7528, 0.007629396951299262), (8625, 0.007626856576250087), (1638, 0.007623600896651801), (4451, 0.007622282784810797), (482, 0.007618020530640013), (4127, 0.007610548048712323), (2912, 0.0076038746122277815), (3188, 0.007601953862486791), (916, 0.007599299767459421), (7918, 0.007597003003879938), (2045, 0.007593993919029037), (3569, 0.007593375279979689), (1373, 0.007590257440511183), (1747, 0.007588311790464647), (3646, 0.007585892241644827), (5010, 0.00758438993665548), (5254, 0.007583211239262216), (1385, 0.007581301509301603), (7016, 0.007573430885299159), (4958, 0.007570662528340146), (6657, 0.007565528808134513), (6282, 0.007560401169709048), (8899, 0.007553430714917783), (6959, 0.007550340697313506), (2429, 0.0075364573455421), (7113, 0.007535786905041436), (8460, 0.00753371815021784), (1451, 0.007531406565574356), (6963, 0.007531145304057518), (5004, 0.0075244202048536145), (232, 0.0075116339001033245), (6818, 0.007501993327558113), (536, 0.007501750844052437), (1851, 0.007501186636648623), (8887, 0.007500684144918111), (7395, 0.007492274431570182), (6085, 0.007490329976970109), (1272, 0.007489960897839871), (8055, 0.00748587237917057), (5616, 0.007484815613818956), (5053, 0.00748463567299232), (7247, 0.007484010869422131), (7143, 0.007482880521245989), (5494, 0.00747892912392435), (275, 0.007471499896586745), (463, 0.00747032822681161), (4084, 0.007463912484928125), (3690, 0.007463321668459588), (7574, 0.0074604925189284185), (85, 0.007452053179297638), (2804, 0.00745063218094055), (5070, 0.00744539614566017), (4248, 0.007442920247819985), (7358, 0.007442525507453219), (5024, 0.0074368442611124725), (1656, 0.007436230606497062), (5502, 0.007432668585309811), (7018, 0.007431360583734059), (2531, 0.007423144276863828), (7345, 0.007422605564027561), (7221, 0.007422343123544322), (6271, 0.007416713647998207), (2866, 0.0074147011207328145), (9055, 0.007410840532799156), (1639, 0.007408658466240871), (977, 0.00739880328531419), (6250, 0.007397151796892156), (4257, 0.0073971240679976), (7797, 0.007396098146269973), (3551, 0.007393791867784117), (9127, 0.007388213546723094), (5747, 0.007383565265641859), (5710, 0.007383451427449195), (2553, 0.007380335625301047), (4327, 0.007375205575217657), (3695, 0.007374218751082443), (1676, 0.007360503964756375), (8361, 0.007360199557121016), (4832, 0.007345643876204795), (2121, 0.007343284483324475), (4776, 0.00734107738507802), (5429, 0.007339205781948212), (2758, 0.007336776038589957), (3634, 0.007336506285977537), (8604, 0.007318750247595313), (2089, 0.007316819667173716), (8962, 0.007316798276704395), (7902, 0.007311296571945502), (4504, 0.0073070381615266775), (8466, 0.007306786791565951), (3497, 0.007306741531700781), (2826, 0.007296953904413922), (2985, 0.007289119068886572), (484, 0.0072856178241058394), (251, 0.007281910530844133), (4905, 0.007276288950103326), (6804, 0.007274327004344397), (8118, 0.007274035583245018), (7580, 0.007273295115972668), (1353, 0.00726875898593412), (1821, 0.007267705821054017), (1311, 0.007264198444144982), (7480, 0.007262206662630751), (1300, 0.0072605923285307475), (8812, 0.0072600338606493165), (8607, 0.007250474120673842), (2266, 0.00724864364377024), (1174, 0.007245822383565767), (4498, 0.007241918023093294), (3972, 0.007241220512075675), (4177, 0.007236933490509029), (741, 0.007212257438078521), (1065, 0.007194814059527257), (6782, 0.007187775364350975), (7964, 0.007186478190918132), (940, 0.007184445826463952), (5739, 0.007176961779017987), (6690, 0.007174518107773814), (6434, 0.007169308950903956), (4586, 0.007166474143894723), (9028, 0.007165728381920559), (6372, 0.007156927542973262), (8210, 0.0071523229116410725), (2312, 0.007151084330505754), (5337, 0.0071487978103598705), (1535, 0.007145196159290764), (4956, 0.007144906589426828), (5027, 0.007135627041951907), (3553, 0.007135237972504196), (302, 0.007132887127731407), (5569, 0.00713219952489845), (4279, 0.0071288167734962354), (7663, 0.007128171655910455), (1135, 0.0071225296040056535), (608, 0.007118706883563688), (966, 0.007113015338295993), (2953, 0.0070986207983817235), (2579, 0.007096975362584483), (5170, 0.007091222716505049), (6233, 0.007083180454835772), (6663, 0.007077685994561343), (6652, 0.0070683901754173524), (7119, 0.007062631294380097), (3392, 0.0070541142198328535), (2015, 0.007047441717054054), (9116, 0.00703443932576247), (2848, 0.007032556730498333), (7845, 0.007031242508890771), (4200, 0.007031048302201049), (1365, 0.0070277918961486555), (3317, 0.00702281137212086), (5742, 0.007022708216029155), (1078, 0.007022372629686879), (5210, 0.007021015466906201), (565, 0.007018599550655515), (2989, 0.007016754157216705), (4410, 0.007015351336114207), (2340, 0.007011734392998242), (4772, 0.006999142988412378), (6640, 0.006997005579565349), (964, 0.006991257426081005), (3482, 0.0069902012391617014), (1213, 0.006988522287754505), (6670, 0.006987240514316424), (2943, 0.00698668833582316), (8393, 0.00698249935296002), (4078, 0.006977812809078488), (1221, 0.006973618099387299), (4388, 0.0069717785819145995), (7783, 0.006971460411524425), (4723, 0.006969054391197643), (8766, 0.006968904965326634), (3813, 0.0069680395465356836), (7696, 0.0069617916425657855), (7497, 0.006959207957967561), (1530, 0.006954260128838377), (1322, 0.006949698825761351), (5626, 0.0069401639502692175), (2666, 0.006937590979545714), (6603, 0.006936555720805686), (570, 0.006931825801799294), (8260, 0.00691702161885739), (504, 0.006916711001088005), (6299, 0.006914659858604458), (4428, 0.006912314860028042), (4262, 0.006908833658141356), (3969, 0.006907258893125181), (2811, 0.006900165639687443), (396, 0.006898336785257766), (4104, 0.006895288557368231), (5468, 0.006894822179885515), (7517, 0.00689472219412585), (4381, 0.006894525470007314), (9018, 0.006891026159310044), (4932, 0.006890587456164328), (724, 0.006889947749508113), (6423, 0.006885287716661614), (5306, 0.006880733391675888), (400, 0.006879208618065752), (3215, 0.006871612086290402), (3602, 0.006865223757719076), (3340, 0.006862282804800161), (8926, 0.0068622346717604876), (919, 0.006856100991875449), (8370, 0.0068538166555067075), (4587, 0.006851241593443891), (7648, 0.006850343786392875), (2827, 0.006850045109086743), (2702, 0.006847383551458451), (8674, 0.006842601455518262), (539, 0.006838764387663284), (3043, 0.0068381716646061415), (7757, 0.006835856577803521), (2613, 0.006835388055381085), (6861, 0.006833053663877553), (5497, 0.006830148141470286), (8684, 0.0068295508157134345), (7401, 0.006826050134714781), (8599, 0.0068160031699204615), (1842, 0.006810861003855822), (6932, 0.006808823608074377), (7924, 0.00680344291055888), (4002, 0.006801660005298155), (8960, 0.006795763138029194), (8073, 0.006789877435960588), (7782, 0.006786988448806635), (8943, 0.006783959948514846), (4163, 0.0067829074119775), (160, 0.006781204546125046), (2072, 0.006780975393090189), (383, 0.006780469332317566), (555, 0.0067783724347456505), (1149, 0.006776798085901791), (890, 0.006770814697839754), (376, 0.006763952859737325), (8575, 0.006760276584693036), (1329, 0.006759985804948704), (2187, 0.0067575910939916915), (3051, 0.0067554568908965735), (3711, 0.006754857360081995), (6914, 0.006754397257496216), (3733, 0.0067529148371809926), (5192, 0.0067527573982407), (5435, 0.006752630359016188), (9061, 0.006752121373272277), (9076, 0.006748255355103216), (8085, 0.006747625527791841), (5925, 0.0067469844196392376), (4508, 0.006746980311823522), (304, 0.006746227797628474), (6672, 0.006739863884314611), (2864, 0.0067373524298147665), (6494, 0.0067372282485502425), (7836, 0.006737029927054989), (7403, 0.006737017457757713), (7970, 0.006729151172232351), (306, 0.006725471637523368), (2011, 0.0067239388685639435), (459, 0.006722837148280968), (7434, 0.006721967645370049), (737, 0.006721113231756149), (4187, 0.0067149147004002705), (4268, 0.006703174699283509), (6857, 0.006699462619000533), (123, 0.00669220938208916), (8907, 0.006691637595994322), (20, 0.006688568946612341), (3555, 0.006686983743229327), (5283, 0.006680832019278787), (3352, 0.006673891917804704), (6973, 0.006673220797153108), (3685, 0.006672694497724743), (5452, 0.006669119630252828), (8387, 0.00666710726018539), (7080, 0.006666005356736381), (190, 0.006663429279768844), (82, 0.006644946238404683), (3683, 0.006644846794031906), (1193, 0.006637598439944886), (2836, 0.0066335863206971254), (8076, 0.00663300482794739), (5484, 0.00663274361395789), (2497, 0.006628822466549604), (1296, 0.006627814312190286), (2860, 0.006626640076351668), (8930, 0.006626037699194518), (8914, 0.006619638289943759), (6728, 0.0066181384949500965), (1734, 0.0066169849208048154), (35, 0.006614109908278487), (3122, 0.006608220833079329), (1686, 0.006608088403903036), (571, 0.006607427184911911), (7705, 0.006604970530551617), (2908, 0.006602645194905747), (1188, 0.006602104860303588), (8668, 0.006600817260587926), (7375, 0.006591106702931377), (7058, 0.00658987749905727), (1476, 0.006588990580545938), (1097, 0.006588909165468818), (4356, 0.006588022989331134), (7962, 0.006586640768150449), (5340, 0.006580802288194358), (3630, 0.006579946986803604), (5048, 0.006575379151416666), (8780, 0.006570995019546665), (8420, 0.006570088527899024), (3570, 0.006569946987149285), (8476, 0.006568919404589603), (4695, 0.006567524884815822), (3701, 0.006564396495632894), (7840, 0.006563566100363786), (8761, 0.006561538499373352), (4657, 0.00655744437057848), (409, 0.006556046766097641), (9021, 0.0065514558116989315), (2950, 0.006550626559849067), (5740, 0.0065462126079510255), (4344, 0.006543473630484253), (6793, 0.0065424776945958), (7601, 0.006541236057015983), (2139, 0.006540161612096638), (1255, 0.006538781617225491), (473, 0.0065354408244082205), (4351, 0.006533724183355628), (5152, 0.006529213056634299), (2698, 0.006527094322937023), (5194, 0.006522922853765379), (7538, 0.006520800201600744), (8317, 0.006516290122002236), (8623, 0.006512353590547956), (3527, 0.006505950763298532), (3064, 0.006504532065310201), (8563, 0.0065044518193733145), (6999, 0.006503650079868378), (6276, 0.006493128292915107), (4501, 0.006492366810852763), (6023, 0.006488546465771801), (1834, 0.006485783201899013), (5186, 0.006482169527544421), (2829, 0.0064777200854086855), (3230, 0.006464981739595173), (6604, 0.006463149576284884), (3288, 0.0064619088771028345), (8837, 0.006461121197463757), (6171, 0.00646045025343919), (4922, 0.006446975452070814), (3151, 0.006445562357259104), (6116, 0.006439638661110411), (2329, 0.006428277137706764), (5385, 0.006426593758512131), (7921, 0.0064249172057088706), (9130, 0.006420737779630699), (8715, 0.006418760151635098), (3775, 0.006416263998207137), (2391, 0.0064141873976735755), (213, 0.006411224300249795), (7787, 0.006409131873064362), (2195, 0.006401222162523748), (8971, 0.006393182624380306), (342, 0.006385845502468262), (63, 0.006379791311050493), (6769, 0.006377644355495827), (2990, 0.006376660668981172), (6807, 0.006362132514534995), (3167, 0.006356725171752004), (2610, 0.006354448387724687), (4631, 0.0063485143552019655), (8459, 0.006347012440625322), (1546, 0.006336402082346592), (6371, 0.00633355877238183), (4111, 0.006329924828292845), (4216, 0.006324600904579211), (3730, 0.0063245851948468), (4414, 0.006320599679069897), (8020, 0.006319243619228951), (5737, 0.0063178730947470296), (5034, 0.006316190523820821), (3525, 0.006312088244844292), (8046, 0.006302242777966775), (16, 0.006301349213118252), (5566, 0.006294667974183609), (7831, 0.006290294858730672), (4579, 0.006288669950783834), (4670, 0.0062833510517935395), (4207, 0.006283038668502501), (4683, 0.006282980039347713), (2506, 0.00627766192524781), (8198, 0.0062754371482679865), (1661, 0.006273127257260967), (1436, 0.0062619271729518035), (7741, 0.006261546627494133), (125, 0.006255289105831901), (8060, 0.006249573059235708), (6163, 0.006245136772353256), (322, 0.0062441065712651135), (6569, 0.006242609073101529), (4507, 0.0062420204057880594), (7394, 0.006235581840090383), (4684, 0.006233093209611947), (7742, 0.00623119986370327), (7656, 0.006231045644419512), (6213, 0.00622727530977039), (2606, 0.0062191651524661044), (4649, 0.006214806785563546), (8944, 0.006213339290617801), (6420, 0.006209769430427306), (4069, 0.006208313608541873), (4644, 0.0062017243434102694), (4124, 0.006198419401246637), (3189, 0.006198301934273517), (5115, 0.006184614626639494), (5729, 0.006182265633482895), (5350, 0.006180491167636287), (5790, 0.0061794330223071915), (6626, 0.006177746221344037), (206, 0.006176576181409243), (8928, 0.006176389861211568), (1266, 0.006174106629772135), (4589, 0.006173779185219321), (234, 0.006166222307630215), (3933, 0.006166186193913252), (994, 0.006154078868613668), (8419, 0.006150463944278396), (9112, 0.006146650924145971), (9073, 0.006146560375546853), (4369, 0.006145803708254977), (4003, 0.006138897348211227), (751, 0.006136504880499737), (1488, 0.006136438658955802), (5835, 0.0061342169502920495), (254, 0.006130125921971156), (7196, 0.006129611304972141), (113, 0.006128239576153941), (5726, 0.0061280143270242), (1422, 0.00612721386306998), (1827, 0.006121323920651483), (7758, 0.006110889416474705), (417, 0.0061090879383501615), (8584, 0.00610193649710307), (699, 0.0061018136984737174), (6621, 0.006093054777231318), (7173, 0.0060902336287235095), (2307, 0.0060872799170747175), (4232, 0.00608727544151467), (3869, 0.006085272037410284), (1542, 0.006084750626119387), (1324, 0.00608437794717305), (1617, 0.006084105869863516), (2097, 0.006081105652013799), (7386, 0.006079952366787127), (9071, 0.006073199594665337), (242, 0.006068234775878594), (2450, 0.006066446961780382), (5592, 0.006065766974366849), (6801, 0.006057489158269828), (48, 0.0060538653323224815), (4955, 0.006047735326089177), (3895, 0.006045848832387332), (2, 0.006040476469451788), (6715, 0.006038529829148899), (5291, 0.006028565916747168), (1867, 0.0060262849064338575), (6183, 0.006015704345062959), (8300, 0.006012929275461639), (5946, 0.006011587472044757), (7673, 0.0060100759016581485), (1001, 0.005998911194506648), (1925, 0.005997929523726424), (7165, 0.005996217773866257), (124, 0.005995465385262638), (1868, 0.005987828031593887), (2721, 0.005985558004032503), (4033, 0.005985313068518823), (2955, 0.005984432575992474), (6360, 0.005981710098192395), (486, 0.00597610693339861), (8446, 0.005973914427676102), (5829, 0.005972238890041376), (247, 0.00597186078910534), (2750, 0.005969127183930464), (2643, 0.00596659662105103), (3406, 0.005963329872213494), (8614, 0.005963143381883814), (77, 0.005958985631644997), (5700, 0.005958797874700846), (5857, 0.005957814417443363), (2255, 0.005957806240569439), (8531, 0.005955169933379677), (7806, 0.005952859786445331), (8611, 0.005950511317968401), (115, 0.005939456149952006), (4294, 0.00593897650273195), (1817, 0.0059363217686402014), (8407, 0.0059359185274208085), (1167, 0.005935155549877485), (6775, 0.0059335693824307725), (295, 0.005928425279414867), (185, 0.005927398637434935), (4574, 0.005921934383474139), (7572, 0.0059210591393551015), (4174, 0.0059172124623508415), (825, 0.0059162358416291715), (3911, 0.005913790576638472), (3309, 0.005913606090611758), (4380, 0.005913601468001733), (6207, 0.0059130849367107835), (6921, 0.005912041813372303), (6354, 0.005910986200776776), (2294, 0.005909500106993841), (8072, 0.005908502474296375), (5029, 0.00590510127361127), (928, 0.005901168001526077), (1434, 0.005900588212457589), (800, 0.005898781538738884), (3378, 0.0058980957285142), (8308, 0.005896534118559322), (6339, 0.0058959078269554994), (8277, 0.005894551834854777), (5262, 0.005893900728240086), (4206, 0.005893461257029591), (1829, 0.0058929145009735465), (8174, 0.00589106743933791), (9184, 0.005889815010261468), (4625, 0.005889019851862124), (6166, 0.005888346498906697), (1929, 0.005887422789589622), (7682, 0.005885585551519763), (2525, 0.005880966583827), (7211, 0.00587830689062821), (9086, 0.005875941863829919), (753, 0.005873994236784621), (5261, 0.005872771894378646), (1874, 0.005872496466588576), (5802, 0.005872212958256508), (3015, 0.0058697479676037894), (6289, 0.005867330279442373), (3364, 0.005863303875869371), (2478, 0.005861414953435952), (2459, 0.00585909801275351), (1215, 0.005856717201192213), (329, 0.005854522135988038), (8467, 0.005853086867547654), (4976, 0.005852489938960748), (7805, 0.005848518260487073), (3810, 0.005842271641220038), (8307, 0.005839675812974162), (1293, 0.005838928947764234), (159, 0.005836919728407162), (7657, 0.00583331112534916), (4858, 0.0058330904256519815), (1525, 0.0058286485458072185), (5770, 0.005826328321752756), (7975, 0.005820984714526969), (353, 0.005818180206656927), (2361, 0.005815546240970543), (2681, 0.005809793959357292), (1393, 0.005808865368367422), (878, 0.005800851020603191), (5062, 0.005800233840381536), (4822, 0.005799313085190855), (6465, 0.005798647832203178), (6240, 0.005797767373007633), (2828, 0.005797651799909621), (5519, 0.005796594740433042), (3533, 0.005795565866577591), (1941, 0.005795325344701069), (6106, 0.005794832594793747), (1513, 0.0057939847772925145), (5776, 0.005793895116173543), (6721, 0.00579238426616493), (449, 0.005784904799205508), (5215, 0.005775751450875214), (7459, 0.005775038931563233), (7205, 0.005774750299804386), (9108, 0.0057747224978121105), (225, 0.005773676211998313), (656, 0.005771733940718428), (2372, 0.005770951229814115), (957, 0.005765210635423805), (1020, 0.005764904916941622), (6577, 0.005760085658966756), (5076, 0.00575968222372846), (2082, 0.005756730513629167), (5204, 0.005756702263331163), (5856, 0.005754768384967968), (193, 0.00575140147574912), (6747, 0.005744999797102971), (8038, 0.005744639714758364), (43, 0.005739083689350106), (6027, 0.005737132511658849), (1507, 0.005736637613391905), (1391, 0.005735807579407874), (1949, 0.005732744491624849), (7944, 0.005731696758961223), (8404, 0.005729537733487538), (696, 0.005728126335531414), (2157, 0.00572728224746642), (1235, 0.005723610734816645), (8521, 0.005723017220630245), (785, 0.005720618127298852), (2744, 0.00571962455990284), (1250, 0.005718944084510138), (8052, 0.005718280133121515), (5203, 0.005717736434973787), (3638, 0.005714418984090278), (5031, 0.005711253708465699), (2249, 0.005707563492544067), (3598, 0.0057072897427800345), (4322, 0.0057068597332896615), (1014, 0.005704963571880072), (8417, 0.005704673232850833), (2380, 0.0056995545866193814), (8429, 0.005698473226127559), (5083, 0.005697511001403851), (6524, 0.005692920019972956), (3627, 0.005690195697259359), (3958, 0.0056881739980252895), (4044, 0.005685785533874165), (884, 0.005685271020721824), (4545, 0.005682329084546829), (2612, 0.005676694943337106), (5141, 0.005672886580483607), (5383, 0.005671729369466443), (3842, 0.005670816198502873), (6366, 0.005669512692582851), (3832, 0.005669032563987986), (2092, 0.005664717204544614), (7853, 0.005663652030207392), (2099, 0.0056615764164397045), (4018, 0.005660509722736268), (893, 0.0056600454779379685), (2093, 0.005658121405819033), (4520, 0.005656071606998229), (1898, 0.0056552075287454335), (3541, 0.005655010569842467), (1733, 0.005654401038984673), (8497, 0.005651791196422577), (3883, 0.00565178423071233), (8901, 0.005651381951481785), (508, 0.005650199658398769), (5981, 0.005649054778317293), (293, 0.005643063629428426), (647, 0.005640107430290249), (58, 0.005636575389388123), (1904, 0.005635836962227666), (3674, 0.005633972857975365), (2540, 0.005633148059540113), (5918, 0.005631975388176931), (59, 0.005628708772437294), (5629, 0.005628368141999546), (6677, 0.005627712953078383), (5899, 0.005624504710327012), (307, 0.005618330069467251), (4156, 0.005616153056916968), (5644, 0.005615794343185107), (6637, 0.005615248508851486), (1070, 0.0056133946910680585), (7769, 0.005612736773293682), (6562, 0.005606570881979024), (6473, 0.005605911614721338), (5161, 0.005604831970220246), (6567, 0.005601457006522789), (766, 0.005601236467598872), (5432, 0.005600076581733958), (3177, 0.0055970779698492346), (3488, 0.005594601188379404), (7493, 0.005593912461425363), (1440, 0.005588105704860839), (7993, 0.005586961558574004), (164, 0.005585566147773415), (5078, 0.005585452281144708), (2192, 0.005582177751291165), (8608, 0.005581718177430017), (8053, 0.005577334512576018), (3337, 0.0055768339860710866), (1847, 0.0055747843167749025), (107, 0.00557335068365458), (313, 0.00557132412265682), (5026, 0.005571211245760797), (5018, 0.005570827983586853), (3955, 0.005570682568885578), (1828, 0.005565809364456706), (5249, 0.005560650323064196), (1222, 0.005555439034834751), (7510, 0.005554077797408866), (1977, 0.005552654476780313), (6142, 0.005550748689347994), (1008, 0.00554976845478855), (1894, 0.0055441938215231275), (6697, 0.0055404233517638846), (2227, 0.00553526775064286), (1573, 0.00553202859998537), (6433, 0.005530756289789292), (929, 0.005529714769605583), (6189, 0.005527898223848548), (6954, 0.005521264881119109), (1606, 0.005517886678394408), (7982, 0.00551707485450682), (2705, 0.005509265421991151), (4139, 0.005508250970010717), (4171, 0.005506032084622591), (7616, 0.0055041112847824805), (8760, 0.005501192898527412), (5602, 0.005500451908596366), (2621, 0.005497332765970947), (1419, 0.005490511117505129), (8841, 0.005489749560648472), (3837, 0.005489385898165139), (7283, 0.005487724681341843), (4949, 0.005486867624359991), (4762, 0.0054860592595845255), (3261, 0.0054821496567623515), (8095, 0.005481697372765936), (6687, 0.005481297338835779), (1792, 0.005480392140939201), (5627, 0.005480172064615734), (3467, 0.005478372512166689), (1737, 0.005475910661189283), (3158, 0.005472486467471478), (3192, 0.005472306910376495), (1743, 0.005472005961819179), (5988, 0.0054705504375980474), (5400, 0.005469382503439317), (5038, 0.005468841700467262), (3446, 0.00546701493198286), (5876, 0.005466394364652353), (1770, 0.005461536390170243), (100, 0.005460352409919596), (6561, 0.0054583700642852695), (3501, 0.005458021795721045), (1890, 0.005453622889357602), (7120, 0.00545254532092768), (2465, 0.005448284679568207), (2006, 0.005447601574672809), (2251, 0.005446215556986607), (5430, 0.005445746451329276), (2482, 0.005444226672621351), (249, 0.00544319734864713), (6786, 0.0054427319917845765), (61, 0.0054375760788625774), (515, 0.005437558447187329), (1083, 0.005436260914733493), (6400, 0.005431172554778692), (4877, 0.00543105016929642), (2685, 0.005428058752700384), (2075, 0.005424848257043289), (6689, 0.0054217751312153305), (2327, 0.005421625012245506), (4479, 0.00541968578426458), (3584, 0.005418919812901393), (8806, 0.005418621725614929), (7266, 0.005414123535478761), (2356, 0.005413608138726023), (6374, 0.0054132257331394925), (1206, 0.005413089614137849), (5206, 0.00541204420400603), (8680, 0.005412018843478564), (2898, 0.005409802098473064), (2605, 0.0054093918300584095), (6363, 0.00540936662666046), (2598, 0.005407408068710949), (4712, 0.005401726590486323), (4839, 0.005400798046164568), (1002, 0.005399146551633512), (6693, 0.005398595248358076), (3845, 0.005397268191136875), (1502, 0.005396469366174805), (5150, 0.005396080645818047), (2928, 0.005392781966511099), (4483, 0.005389885634676791), (8203, 0.0053882443646451365), (2401, 0.005383800321706456), (7121, 0.005382555722135091), (2117, 0.005382546862425467), (8402, 0.005381596039761618), (5271, 0.005378440591696412), (7003, 0.00537797429964652), (6355, 0.005376523158630882), (9173, 0.005373670282699576), (6009, 0.005371539773524269), (3961, 0.0053682532815594805), (8205, 0.005367906512418021), (1495, 0.005367433716621054), (2010, 0.005366247956436438), (3075, 0.005366031996145227), (8853, 0.0053622000245077935), (4677, 0.005361039649234368), (2132, 0.005360489275667436), (8721, 0.005358083297127223), (4308, 0.0053576501460011906), (5471, 0.00535515418238552), (6692, 0.005353118891240856), (315, 0.005352640798067913), (7024, 0.005349424293537081), (1886, 0.0053493184905804205), (424, 0.00534837459124016), (8931, 0.005348156484266487), (4817, 0.005346688230545933), (1722, 0.005346462768898822), (8442, 0.005343553187681187), (6432, 0.005343310981004371), (717, 0.005340791887585322), (3791, 0.005337707100105572), (8255, 0.005333238789254906), (8127, 0.005333089815308017), (5948, 0.0053312060747593105), (4769, 0.005331163445978387), (9175, 0.005327821242609053), (2538, 0.005324158721879524), (6704, 0.005322812052056053), (1028, 0.005322023849563944), (5427, 0.0053199821175849505), (3596, 0.005319289153099008), (2091, 0.005318393531284154), (1364, 0.005313230598067851), (5131, 0.005312635501509748), (6015, 0.005312420860403157), (7550, 0.005310136709527898), (4244, 0.0053089608873805325), (2073, 0.005307066425753691), (2338, 0.0053055859632825655), (4082, 0.0053047676275839025), (6312, 0.005302544667541286), (8312, 0.005300976515440872), (5510, 0.005297632119536885), (7430, 0.0052962242687177264), (5172, 0.005294671524218523), (6268, 0.005293960180698579), (3455, 0.0052900454362980655), (3872, 0.005282935087301716), (4542, 0.005280724923594469), (6463, 0.005277063058339065), (2624, 0.0052759890966657666), (1795, 0.005275365216250529), (4635, 0.005272262258952548), (5652, 0.005271742337075447), (4551, 0.005271363717581783), (7981, 0.005268719403644542), (874, 0.005268615612217402), (368, 0.005265347451042879), (7082, 0.005264372674120623), (6724, 0.005263583546150132), (5813, 0.005263079712512043), (4323, 0.0052628565993608845), (1184, 0.005261168774363201), (4671, 0.005261113454456426), (3956, 0.005258855229308544), (2331, 0.00525229069181982), (27, 0.005252240741718217), (5570, 0.005250580056046941), (8988, 0.005246819117247129), (6625, 0.005244193848794223), (5694, 0.005239616187656559), (2052, 0.005237530406883024), (7286, 0.005234139521090142), (1980, 0.005234052526607924), (8439, 0.0052338080097700706), (7909, 0.00523243296534486), (4343, 0.0052321702202118075), (5732, 0.0052281651589217385), (5491, 0.005227645876346784), (4429, 0.005227239670488784), (8581, 0.005226927641882194), (4594, 0.0052268420187857895), (6367, 0.005226618661265606), (8916, 0.005226180765978461), (8487, 0.005223166690252169), (6781, 0.005222753082766805), (6359, 0.005221547187444834), (1253, 0.005219794592380501), (1643, 0.005219769015798072), (8054, 0.005219101700859566), (7284, 0.0052186526684332634), (8527, 0.005214968815209577), (1994, 0.005213778802444842), (3603, 0.005204984645559569), (5041, 0.005203002612506545), (2362, 0.005202220023444793), (3042, 0.005200291418043855), (8602, 0.005199049773716897), (6123, 0.005195496137195692), (6844, 0.005194378472612559), (1634, 0.005190763224921888), (3583, 0.005190224018227716), (5917, 0.005185834636001472), (2458, 0.005185367253841626), (941, 0.005184609137797634), (2248, 0.005184485958298168), (4798, 0.005182463806281453), (2885, 0.00518081736499434), (1892, 0.005178011653250341), (2021, 0.005170736186759749), (7900, 0.005168019754422875), (1210, 0.005166072965528593), (5175, 0.005165284315368002), (1833, 0.005162671235630669), (1127, 0.005161872231650979), (7690, 0.005158601714962998), (3474, 0.005154873094207704), (5451, 0.005152615882644501), (2417, 0.005151256343771429), (887, 0.005145492786272373), (1984, 0.005143624265601583), (2877, 0.005143413225360911), (3379, 0.005140824092784475), (4442, 0.005138648105877829), (1600, 0.005138481419183496), (8436, 0.005133708523964042), (3270, 0.005133569813539447), (8365, 0.005132014537218205), (6326, 0.005129974113810206), (8462, 0.005128198841268367), (5264, 0.005127475794624541), (3509, 0.005125765745550305), (7423, 0.0051223262636080815), (6117, 0.005115419995698816), (7486, 0.0051145655140272354), (8065, 0.005114388113774719), (510, 0.005113435551250682), (6602, 0.0051089532123323594), (2678, 0.005108187156845463), (4318, 0.005106011124572917), (5017, 0.005103101036095921), (1699, 0.005101719046481826), (443, 0.005101187781217437), (942, 0.005096838745713485), (3448, 0.005096424478793031), (1948, 0.0050963217841412806), (877, 0.005091307916791288), (1543, 0.005091220087675014), (6336, 0.00508993085182422), (2254, 0.005089866755244658), (8302, 0.005088371087506021), (7365, 0.005088186982059604), (7366, 0.005088186982059604), (7367, 0.005088186982059604), (7368, 0.005088186982059604), (7369, 0.005088186982059604), (7370, 0.005088186982059604), (7371, 0.005088186982059604), (7372, 0.005088186982059604), (4425, 0.0050861965113406194), (7019, 0.005084947282379415), (7881, 0.005083426082740116), (8939, 0.005080853419263367), (8510, 0.0050795816137668886), (5847, 0.005076385728458244), (2297, 0.005076146339958395), (6864, 0.0050731429393237), (7754, 0.005072016200257736), (7701, 0.005067896434406133), (802, 0.005065008083811335), (803, 0.005065008083811335), (804, 0.005065008083811335), (805, 0.005065008083811335), (806, 0.005065008083811335), (807, 0.005065008083811335), (808, 0.005065008083811335), (809, 0.005065008083811335), (8711, 0.005064908986112), (3057, 0.005057426269693465), (1508, 0.005056000045826253), (1010, 0.005053562574183914), (4565, 0.005050912470170501), (7001, 0.005050839390215318), (6285, 0.005050619928853785), (8364, 0.005046710029316949), (799, 0.005046106585882228), (8270, 0.005043480092299265), (136, 0.005042097259963894), (1048, 0.005041705989685181), (8344, 0.005040787448427966), (4887, 0.005038401314225177), (3205, 0.005037339911155571), (7714, 0.0050361631570306495), (7748, 0.005035974827398696), (5066, 0.005029339492522243), (4965, 0.005029172807691451), (4786, 0.005026383361673769), (3597, 0.005020759927371706), (4328, 0.005017743089184068), (5544, 0.005016894166908364), (5114, 0.005016665063289529), (8980, 0.00501413998653351), (3576, 0.005014033022920493), (6889, 0.005013483449114764), (6987, 0.005012901732735352), (5181, 0.00501141074411371), (618, 0.005010490160535105), (5816, 0.005010027326588291), (4157, 0.005007363069129956), (2821, 0.005005831356718697), (5228, 0.005005030413635861), (7471, 0.005001646748887669), (6295, 0.0050004319224636), (264, 0.004999501061226836), (1136, 0.004996915801564239), (3550, 0.004996190131135367), (4978, 0.004995729660465906), (5660, 0.004994793595701064), (1126, 0.004994460059698098), (569, 0.004991992572101051), (1889, 0.004991970643651972), (2211, 0.004990229433749136), (8491, 0.004987451900515449), (8492, 0.004987159370120618), (5268, 0.004982848423194802), (8153, 0.004981465069897341), (5006, 0.004975560262567974), (288, 0.004975356665235915), (406, 0.00497464424200095), (9114, 0.004972672593328202), (6749, 0.00497193666283275), (4474, 0.00497116333645968), (3953, 0.0049693328845017105), (4335, 0.004969108820231399), (3980, 0.004967726217768981), (2155, 0.004967674226054401), (1145, 0.0049643412635955704), (9171, 0.00496347929647455), (1218, 0.004959027489814416), (2100, 0.0049572460382157745), (2138, 0.004956575660848058), (5074, 0.00495362474244046), (8421, 0.00495305037869747), (6924, 0.004952658258987502), (2945, 0.004951929147855391), (8008, 0.004951436843816284), (1735, 0.004950981651398287), (5144, 0.004948790446719456), (9202, 0.004947552258907185), (7865, 0.004946927494620882), (2405, 0.00494632708199334), (6477, 0.004946057300054222), (6256, 0.004937864321748826), (5349, 0.004931651462315692), (3725, 0.0049309685582293265), (5380, 0.0049308809803583955), (777, 0.004929769836539935), (7920, 0.004926989884754378), (6462, 0.004926316139676095), (8378, 0.004925920365066795), (8932, 0.004921859269088878), (8585, 0.004920600190254356), (4549, 0.004918149352306581), (6837, 0.004917226621007233), (5406, 0.0049137237645885375), (2278, 0.004913094694346787), (1192, 0.0049103208147665755), (1964, 0.004907419554162378), (4583, 0.004905516905291477), (5160, 0.004904536797228941), (6823, 0.004903014026177911), (4353, 0.004902106998020647), (5370, 0.004900812559457978), (387, 0.004899551231885231), (6866, 0.004898329676647637), (7731, 0.00489780752558848), (8990, 0.004897708006436169), (2887, 0.0048972415911703515), (2461, 0.004894341265065248), (8090, 0.004892170844019245), (4186, 0.0048902548671707164), (9138, 0.004889420503206995), (9139, 0.004889420503206995), (8670, 0.0048873669026613135), (8251, 0.004886341172979738), (3155, 0.004885743019511873), (2792, 0.004883707219100586), (7814, 0.0048824706523682), (4807, 0.004882015254887829), (8440, 0.004881835775215608), (5752, 0.004880734119149516), (1147, 0.004880223956372234), (3183, 0.004875190525275936), (5725, 0.004874666088752033), (195, 0.004873219830784216), (5067, 0.004872312658156412), (5534, 0.004866716733949721), (2466, 0.004866086196498048), (6957, 0.004865489738750082), (8368, 0.004865187102049203), (1248, 0.004864494997651753), (7776, 0.004863934229778493), (415, 0.00486248256460008), (4821, 0.0048621400892125185), (5448, 0.0048617723940103065), (419, 0.004861246135823066), (4031, 0.004860616091745732), (1786, 0.004857000007857369), (891, 0.004855086480834219), (3686, 0.00485357576183315), (1185, 0.004853023010558371), (7070, 0.004852205904925259), (5583, 0.0048521128702936085), (2106, 0.004849168084552838), (3612, 0.004849118488630893), (5574, 0.00484713463441154), (7194, 0.004846914330293102), (3844, 0.004846824646314274), (8863, 0.004841761445225404), (5923, 0.004840977338974036), (5100, 0.0048403977460131755), (3297, 0.004838782793226181), (6903, 0.00483804508614867), (7322, 0.004835386491852965), (8888, 0.004835031054343664), (1146, 0.004834430650981634), (6140, 0.004834320637456343), (5839, 0.004832554395528005), (1232, 0.004832417711703264), (7197, 0.00482264009577709), (333, 0.0048222510096837465), (6314, 0.004820147250186999), (2018, 0.0048195286881681735), (8569, 0.004817299216304281), (6839, 0.004815429774536366), (3131, 0.0048135105458316715), (2505, 0.004813431492641955), (1547, 0.004813239571196712), (8403, 0.0048119809276200584), (389, 0.004809229194969181), (5879, 0.004809050678717237), (7006, 0.004808008663864045), (2376, 0.004800656230018411), (3755, 0.004800068252720806), (5858, 0.004798458710928591), (3341, 0.004796938175611308), (3322, 0.00479332395774116), (7772, 0.0047925315691977645), (5361, 0.0047913619224656655), (1465, 0.004791252170516291), (2700, 0.004791247910145365), (2572, 0.004789339448919736), (8412, 0.004789033553933508), (4126, 0.004786908296091291), (6152, 0.0047842573415949816), (5648, 0.004783399650131853), (358, 0.004781376252345999), (8025, 0.004780457370936084), (1025, 0.0047793384819579355), (4205, 0.004776351886732726), (1345, 0.004776055476582947), (7904, 0.004772696456528245), (8343, 0.004772542035734387), (1318, 0.004772394714376519), (8618, 0.004770343453011194), (1668, 0.0047684901010433935), (8706, 0.004767874179086198), (1671, 0.004767027648247609), (8808, 0.004766341486367839), (5580, 0.004765330310897135), (1805, 0.004764342100687484), (7649, 0.004764250700693275), (8770, 0.004764098975302417), (4601, 0.0047640008064885955), (6706, 0.004763850386626057), (4652, 0.004762233316240745), (3277, 0.004760387671310111), (4166, 0.004759110256947589), (4707, 0.004758402206950848), (7959, 0.004757012347959152), (2523, 0.0047565459078625525), (380, 0.004756383753096759), (2441, 0.004753719235122912), (5914, 0.004753371852051529), (64, 0.004749709469705618), (1029, 0.004748961278838637), (5906, 0.004747079251663251), (1299, 0.004745906186967836), (7035, 0.004744177105606695), (5102, 0.004743856250454675), (6470, 0.004743706018874795), (9003, 0.004739414006252516), (2903, 0.004738185449861972), (6288, 0.0047380696621881855), (7034, 0.004735140612539119), (7424, 0.004735070305315593), (2423, 0.004734497123058017), (1342, 0.004731766576957895), (5335, 0.004731388267976564), (2607, 0.004730317996559049), (7558, 0.004727055200490354), (8522, 0.004726092048322884), (5731, 0.004725951055556686), (4966, 0.004723218391376158), (681, 0.004720550782221782), (8757, 0.004719069317218304), (8291, 0.004715886564786725), (8628, 0.00471325495183406), (7718, 0.004711094104231954), (4735, 0.00471101092515892), (5129, 0.004706887551640585), (167, 0.004706507968727294), (7022, 0.0047030910503191355), (5812, 0.004701785542799471), (1282, 0.004700460897761013), (3615, 0.004700325026224207), (3663, 0.004699477385451857), (3097, 0.004695727699295145), (7605, 0.004694541820857792), (7406, 0.004694450715350665), (7610, 0.004691249716532356), (8398, 0.004690709469826826), (5311, 0.004688703135149658), (2118, 0.0046881876533225895), (3276, 0.004687342378579443), (8797, 0.004685933025582421), (8957, 0.00468580558622294), (210, 0.0046856160140325296), (7147, 0.004685146814240131), (8136, 0.0046844164871139805), (6766, 0.0046833057131788714), (446, 0.004682196492898084), (4654, 0.004681948714539079), (5796, 0.004681780884773612), (1390, 0.004681372437056757), (2024, 0.004680513331806674), (2769, 0.004679432192842158), (6214, 0.004677455501697975), (3327, 0.004676767785763381), (1563, 0.004674474818722446), (2719, 0.0046732380565766484), (1050, 0.004666596268283604), (2438, 0.004665011597290754), (5320, 0.004663716159815987), (3618, 0.004658033235527918), (963, 0.0046568799018226695), (5233, 0.004654866500023124), (2096, 0.004653064613152235), (9204, 0.004652233196111294), (9128, 0.00465040455976403), (965, 0.004649344940320216), (5434, 0.004649081133320343), (3545, 0.004647377167530856), (2835, 0.004647075227401589), (483, 0.0046468493467914885), (1004, 0.004646513252091936), (5125, 0.004646144229461219), (4162, 0.0046455239390295645), (6683, 0.004644357561093183), (7331, 0.004643271794905377), (4107, 0.004642347973614484), (6331, 0.004640312294311768), (733, 0.004639424654920453), (5576, 0.00463909758042425), (2904, 0.00463873046784339), (6158, 0.004638555226287953), (3412, 0.004638244494627778), (317, 0.004637481525243218), (3577, 0.004636144291728984), (1123, 0.004636140818354526), (4051, 0.004635231459443112), (792, 0.0046350817295606125), (4269, 0.004634027380962012), (5822, 0.004631045118516896), (7388, 0.00462867039718701), (2825, 0.004628282477393459), (4792, 0.004627865202298067), (8141, 0.004626648952305982), (5302, 0.004626198386227423), (4276, 0.004626028473186839), (3179, 0.0046257847946313355), (5773, 0.004625429776996064), (8833, 0.0046217722408713625), (5270, 0.004620456927054364), (7238, 0.004619640257493042), (3536, 0.004619170501506968), (398, 0.004618677426081284), (8796, 0.00461696273881135), (2900, 0.004616673471000488), (7928, 0.004615919448607655), (1237, 0.004615746948290605), (784, 0.004614977677530653), (8687, 0.004614648767669666), (4336, 0.004613354835956697), (469, 0.004612912620688318), (7995, 0.0046117119259314904), (5972, 0.004609918214132338), (2173, 0.004608865090583735), (5850, 0.00460581966285168), (6931, 0.004605256806472349), (8762, 0.004604653869441242), (8779, 0.004603444147220725), (767, 0.004602095608501531), (5545, 0.004601581816016587), (2477, 0.00460151686359404), (8685, 0.0046009316852447905), (4590, 0.004600581797104638), (1161, 0.0045994304297473166), (3138, 0.004596518795386332), (3077, 0.0045963309199772385), (7565, 0.004595560727236912), (2022, 0.00459481853202084), (1467, 0.0045912935984243125), (3061, 0.004589461488175949), (1753, 0.004589051251619655), (1785, 0.004580379621001053), (4778, 0.004579926521795883), (4902, 0.004579316872171083), (503, 0.004578332903576726), (6461, 0.004576592879507307), (439, 0.004576239740641468), (3558, 0.004573917147010163), (3559, 0.004573917147010163), (3560, 0.004573917147010163), (3561, 0.004573917147010163), (3562, 0.004573917147010163), (3563, 0.004573917147010163), (3564, 0.004573917147010163), (3565, 0.004573917147010163), (2179, 0.004573877036183242), (2004, 0.0045738492281824725), (9185, 0.00457330588973343), (2352, 0.0045730216878796795), (108, 0.004571748002089471), (2754, 0.004571042069862733), (2180, 0.004568858158162244), (3811, 0.004563875059203888), (7187, 0.004560652134752814), (1961, 0.004560602361298159), (8559, 0.004560087037857877), (6184, 0.004559701840742608), (8104, 0.004559021340822383), (1688, 0.004555865198760984), (6553, 0.004554611604944906), (4175, 0.004552408332552286), (7973, 0.0045522538445247245), (8669, 0.004549627114070693), (4391, 0.004549176153992305), (8717, 0.004546556856940305), (3109, 0.004545137730615009), (3500, 0.0045425420268069925), (6195, 0.004542270277760279), (831, 0.004541576145353791), (3938, 0.004540369550464442), (4996, 0.004540186081353818), (3197, 0.004538609378404928), (1650, 0.004538255737782478), (6046, 0.0045370650775512856), (4155, 0.004536345407014707), (127, 0.004536225856956157), (224, 0.004535424976897141), (8622, 0.004533714381506965), (5140, 0.004532466094926283), (4077, 0.004531913990428703), (623, 0.004530454622894737), (4806, 0.0045303082397511255), (3041, 0.004528958353332817), (3431, 0.004527390169698066), (3441, 0.004527293695391841), (2175, 0.0045271275896120585), (4570, 0.004525752052205905), (6448, 0.004524928159850611), (7360, 0.004523817723496972), (4512, 0.004521930444340085), (5094, 0.004519802238180866), (7453, 0.004516578552064702), (8925, 0.004515102989266355), (6529, 0.004514513220589499), (7387, 0.004513951878244089), (5767, 0.0045132865882343285), (1987, 0.0045122510293601785), (5712, 0.004511028158118387), (9166, 0.004510739877984004), (9167, 0.004510739877984004), (5189, 0.004510623081295135), (4919, 0.0045098283182357585), (9035, 0.00450964125319237), (4556, 0.0045093015375969195), (8360, 0.004508842065261764), (3289, 0.004506938005205947), (5824, 0.00450636419613112), (1055, 0.00450410969605568), (5641, 0.004501389632123694), (5374, 0.004501181726016329), (4154, 0.004496776033774), (3081, 0.004496558681285409), (1578, 0.004495178991015063), (4597, 0.004494578382884098), (1612, 0.004493191442788351), (8084, 0.004492664458271936), (7555, 0.004491042457648797), (6471, 0.0044908784491370386), (3510, 0.004489046929762271), (7841, 0.0044884401020890636), (5577, 0.004488024734336379), (8329, 0.004487390512499403), (2160, 0.004487083003822784), (9203, 0.004485915553423223), (1439, 0.004485887107738876), (7425, 0.004485621826813128), (3355, 0.0044856202088235115), (1229, 0.004485028692349006), (7567, 0.004484446865910772), (1992, 0.0044839241704705685), (6598, 0.004478749867433232), (2874, 0.00447790920186498), (8321, 0.004476991795297998), (3816, 0.004476335281860782), (19, 0.004475231195325031), (3462, 0.0044748835761087725), (4071, 0.004472442169236452), (8456, 0.004472334967558851), (1473, 0.00447214917777381), (2965, 0.004472084811116968), (9218, 0.004471650371861121), (7399, 0.004471244812780202), (1967, 0.004471197995335321), (4229, 0.004469202753484013), (554, 0.004467142643910729), (4264, 0.004465409738434888), (5636, 0.004464937102201487), (3236, 0.004464666334174938), (3060, 0.004463325363174693), (5235, 0.004462027418925933), (2512, 0.004461783034287943), (817, 0.00446141417977611), (4095, 0.004460102994943506), (6347, 0.004458683039447972), (8902, 0.004457978062900863), (8843, 0.0044576964014160485), (9197, 0.00445634185339773), (2480, 0.004456309726477153), (1165, 0.004456071989302444), (3962, 0.004455334264247627), (2247, 0.0044537166989426745), (944, 0.004453310442387756), (4692, 0.004452329892543978), (7526, 0.004452199471397654), (2486, 0.0044511297243476555), (6984, 0.004450147204894474), (8189, 0.004448040971510993), (4777, 0.004443598906038682), (6298, 0.004441410544080681), (2683, 0.004441311874697795), (5003, 0.004441205670671045), (5825, 0.004440011418393239), (2980, 0.004439709172654641), (7906, 0.004439687318632038), (604, 0.004437180276628214), (9069, 0.0044368845786825085), (546, 0.004436789568007284), (1431, 0.004436106659915152), (4363, 0.004435797282751106), (9078, 0.004435036902500225), (5014, 0.004434240713857798), (4076, 0.0044330165533220936), (3108, 0.004431568950861521), (2428, 0.004430749508286819), (6126, 0.0044302156434920725), (60, 0.004428576052097255), (6317, 0.00442697201991283), (4290, 0.004426581441187651), (3035, 0.00442551146310409), (5168, 0.004423346268006455), (5101, 0.004421809717458432), (1343, 0.004421452880129953), (1861, 0.004420587565493068), (2962, 0.004419614008076415), (8391, 0.004419355759772526), (8124, 0.0044184716149017565), (121, 0.004417824366223429), (862, 0.004417322710891151), (5425, 0.004415976438526736), (4546, 0.004414323930749493), (7556, 0.0044126146847052305), (2975, 0.004411987640054727), (7032, 0.004411073415428108), (3408, 0.00441035497498325), (157, 0.004409012044385267), (1983, 0.004408097455424673), (3784, 0.004404777308634022), (8723, 0.004404407712751765), (8616, 0.004400568218235987), (3688, 0.004400495209613908), (4465, 0.004399052127015207), (8987, 0.0043988177857109045), (9027, 0.004397291385487962), (1837, 0.004396540766890882), (5236, 0.004396398128121135), (712, 0.004393863462300532), (1323, 0.004391898130038476), (8093, 0.004389116370776915), (8553, 0.0043866615753114045), (8520, 0.004385201878398371), (7389, 0.004382445233811429), (888, 0.004381764396068283), (5295, 0.00438175936046986), (5375, 0.004381534090237018), (1049, 0.004379683959553928), (2816, 0.00437881741849998), (842, 0.004377810223959986), (1052, 0.004373707298462526), (1351, 0.004371703698861786), (5251, 0.004371126056824565), (7185, 0.004370480710253578), (8817, 0.004370103808128867), (6165, 0.004368422161672819), (6378, 0.004367610329257183), (6297, 0.0043675107627899916), (3672, 0.004365830161001217), (2128, 0.00436547469775994), (8347, 0.004361770553218153), (779, 0.004361343659915658), (2588, 0.0043587889173370975), (4829, 0.004356452456508041), (988, 0.004356304244535822), (1441, 0.0043534879698397), (8113, 0.004352357358647941), (71, 0.004352261083387769), (1201, 0.004350138134791467), (2603, 0.004349731675367619), (4260, 0.004348392677477258), (8496, 0.004347907491646912), (4459, 0.00434741423907153), (8619, 0.004346817873952899), (5201, 0.004346215528896232), (8248, 0.004343647737782132), (4964, 0.004343254131689825), (7011, 0.004341315382339005), (11, 0.0043409167723424185), (8048, 0.004339361113897622), (970, 0.0043393516627702475), (2795, 0.004334732299612281), (4721, 0.00433369008905286), (2242, 0.004333260198975511), (6998, 0.0043329441289872445), (5495, 0.004332262189078576), (4800, 0.004331744296859811), (2260, 0.004330268019638163), (7476, 0.004328879450703467), (2090, 0.004328158867951802), (3001, 0.00432686579196509), (6212, 0.004325361483351043), (3899, 0.004324548787088434), (4085, 0.004322844924729633), (789, 0.004322370391873538), (5130, 0.004320202817483021), (1991, 0.004317608093104554), (3662, 0.004317428203186818), (8645, 0.004316864483714735), (8075, 0.004315415911603983), (7839, 0.004314476672070369), (8996, 0.0043105157564464714), (2403, 0.004310071328404923), (4096, 0.004309899873782759), (6403, 0.0043091613486700925), (5001, 0.004308604769370013), (5704, 0.0043076139478768535), (8557, 0.004306856891151013), (3293, 0.004306602473840188), (436, 0.004303000347839552), (8879, 0.004302494842987223), (1314, 0.004302438915019579), (1362, 0.004302007842939306), (549, 0.004301430504330275), (1420, 0.004301316148305334), (4288, 0.00430112368173321), (9007, 0.004294995954423632), (6865, 0.004294252134792181), (1166, 0.004292546449185923), (2030, 0.004291959050689084), (5844, 0.0042915453645601155), (4423, 0.004290298630973935), (2602, 0.004286678180094216), (8047, 0.004286157480121589), (3743, 0.004286046153169988), (1057, 0.004284930877101869), (729, 0.0042781388451787646), (664, 0.0042775399548909765), (1913, 0.004276807416241229), (6536, 0.004276554910871659), (750, 0.0042764139527259465), (5046, 0.004274269279395977), (813, 0.004273399896173843), (4427, 0.0042725814230881965), (5304, 0.0042725149982494595), (8850, 0.004272459473418407), (1077, 0.004270665727553721), (7112, 0.004270019484230958), (8345, 0.004269718544736108), (5681, 0.004267155961308471), (6745, 0.0042666968249430726), (4202, 0.004266091020027739), (676, 0.004266083471650712), (622, 0.004265385073329493), (861, 0.004265354679695256), (2087, 0.004264522038108098), (5387, 0.004263736730601417), (5564, 0.004263344284717981), (3113, 0.004262884152556492), (94, 0.004260603978124444), (1141, 0.00425848887037403), (4664, 0.004257327976192551), (9081, 0.004256981475047337), (3101, 0.0042563465402402165), (5926, 0.00425570879772532), (9210, 0.0042535054205324946), (7599, 0.004251364719801484), (3137, 0.0042503681735961245), (8671, 0.00424820243652031), (8966, 0.004247289344332641), (7890, 0.004247156475398181), (6452, 0.004246253497410555), (1261, 0.004245402560463619), (4784, 0.0042453397455068315), (7685, 0.004244320007192305), (1515, 0.004242460081108681), (6518, 0.004241829958841659), (2689, 0.0042417268191494075), (1962, 0.0042412708710065075), (3557, 0.004241170252035216), (989, 0.0042383726269107636), (1993, 0.0042378983409133535), (5950, 0.004232163869698616), (7295, 0.004230643789282546), (340, 0.004227820174544044), (413, 0.004227031345794926), (2409, 0.004225650874844254), (8159, 0.004225341780675362), (8844, 0.0042251233044618055), (1063, 0.004223113445245703), (1997, 0.004222781404755714), (8452, 0.004221086498159236), (6727, 0.004216999692333122), (8161, 0.004215688169773744), (6725, 0.004215518165003299), (1645, 0.004211159327337732), (382, 0.004210651722484208), (2642, 0.004208978618698136), (1981, 0.004208451679331485), (7199, 0.004204928821151852), (1487, 0.004204235206668719), (5667, 0.004201698005114737), (5619, 0.004199504850729562), (1746, 0.004199169363708805), (2972, 0.004195614280471988), (7422, 0.004195366484679448), (8801, 0.004194960261621112), (6223, 0.004194886143320501), (9179, 0.0041942998635468125), (7479, 0.004190993859746181), (1006, 0.004190556871300346), (7028, 0.004189607094457768), (520, 0.004187739578140137), (1395, 0.004186843009448719), (8961, 0.004186511279226196), (7938, 0.0041852432179427), (3988, 0.004184631245101326), (6897, 0.00418155509115091), (4640, 0.004179412779689646), (641, 0.004178828468236831), (3111, 0.0041775201658925225), (6586, 0.004176758534581534), (4572, 0.004172011580316989), (4421, 0.00417128993597589), (7720, 0.004169746215215178), (9026, 0.004167801835239945), (2879, 0.004167779376866043), (3031, 0.004164145780037482), (9030, 0.004164087398249185), (5352, 0.004162213610618105), (7885, 0.004161118639765917), (2288, 0.004160873577195576), (4049, 0.004158851986265602), (7393, 0.004158009963334158), (3843, 0.004157323904143689), (4237, 0.004157304823094555), (2743, 0.004156101090456516), (9103, 0.004156099803806073), (207, 0.0041540417311678405), (8556, 0.004153519287327843), (3032, 0.004152559130691483), (4812, 0.004152022194794833), (7235, 0.0041519999521388885), (8590, 0.004151661627419858), (2392, 0.004149587723541785), (7439, 0.004149107974664821), (506, 0.004148837843050217), (3579, 0.004148122879880677), (3944, 0.004145817946886007), (8825, 0.00414291189115855), (5684, 0.0041426629096446245), (2851, 0.004142589257915557), (8269, 0.004142359565101598), (8550, 0.004140931866554985), (4673, 0.004140481676814443), (6323, 0.004138551215897568), (2191, 0.004138344379867688), (8821, 0.004132886643811503), (4853, 0.004132114743846645), (1541, 0.0041318885433918595), (8137, 0.004130865740256999), (9088, 0.004126079744424739), (2628, 0.00412600184098695), (3910, 0.0041233908163659525), (2616, 0.004122803799018012), (8906, 0.004119231416555343), (2410, 0.004118977541409982), (1453, 0.004118472433934525), (4304, 0.004116925651190967), (9170, 0.004113723054593898), (4857, 0.004113311897188915), (6949, 0.004111504892381728), (2518, 0.004110633814419435), (8767, 0.004110505274177177), (2444, 0.004110474861748843), (8341, 0.004110205523199032), (1677, 0.004109434807066708), (4761, 0.004106911306287841), (7460, 0.004105035420145249), (7571, 0.00410458678185303), (3824, 0.004104569193449306), (632, 0.004104115306765285), (6030, 0.0041018292237029845), (579, 0.0040998461774962545), (4052, 0.004099674948549426), (4041, 0.0040982465289781935), (8273, 0.004097268985214818), (9046, 0.004095537988427694), (2412, 0.004094763352055526), (6, 0.004094658655520565), (8982, 0.00409057707621314), (1621, 0.004090525293916638), (4047, 0.004087912941029871), (6779, 0.004087094664001083), (606, 0.004087091384264787), (4074, 0.004086630546584713), (6313, 0.004086193526305566), (8567, 0.004085881499873493), (992, 0.004084676858871439), (6840, 0.004082262056866231), (8191, 0.004082146092259253), (6001, 0.004081599218622398), (8891, 0.004081121970071023), (150, 0.004081012692937228), (3345, 0.004079089082490859), (4854, 0.004077199815197508), (6358, 0.004072675811887849), (3401, 0.004072023489979308), (8434, 0.00407153046932078), (186, 0.004071232180388556), (6305, 0.0040712093152590716), (3435, 0.004069298095923054), (3856, 0.004068814626831986), (2140, 0.004068724734472938), (612, 0.004067886942561701), (4359, 0.004067454154505752), (8900, 0.004064589573230724), (1085, 0.004063851049300812), (1849, 0.004063501674862443), (5331, 0.004063473145160436), (8919, 0.004059859228428622), (4397, 0.0040589058732172925), (4907, 0.0040576775021495095), (7204, 0.004055213220506497), (183, 0.004055163505014657), (2413, 0.004053632656025708), (636, 0.004052208668565598), (4132, 0.004050573994036047), (8665, 0.004049946518959074), (7212, 0.004048653874026342), (3149, 0.004047730493645126), (8305, 0.0040447137036861034), (6506, 0.0040437825242429495), (8396, 0.004043290964599385), (2655, 0.004041301628843452), (1320, 0.0040395886628059935), (1359, 0.004037773101000216), (6144, 0.00403753828018824), (5068, 0.0040360705160930495), (3347, 0.004034937602360787), (2200, 0.004034936248516251), (1794, 0.004034873835646298), (5305, 0.004029336310723496), (235, 0.004027582525240377), (4342, 0.004026802724039973), (1310, 0.004024923302416374), (6198, 0.004024117357807003), (6563, 0.004023109010751135), (8764, 0.004021298480874696), (1575, 0.00401933095541979), (3387, 0.004019232324529806), (2322, 0.004018280499069091), (1568, 0.0040177716531401295), (5330, 0.004015164012582958), (4043, 0.004014763695476459), (5258, 0.004014279549879221), (1459, 0.004013773160491111), (4674, 0.00401325424961053), (6707, 0.004009663703271899), (4706, 0.0040084787559155665), (5075, 0.0040065746371205965), (6648, 0.0040062754005139554), (3141, 0.004004747519692496), (1056, 0.004003880912158891), (8473, 0.004003304313042595), (3892, 0.004002532880352783), (2286, 0.0039995403474828535), (870, 0.0039994918683092335), (511, 0.003999481542673237), (7848, 0.00399830273047108), (2960, 0.003998004451769803), (5719, 0.003995318138677772), (9152, 0.003995020297151244), (9153, 0.003995020297151244), (9101, 0.003994599587530314), (6730, 0.00399347628658817), (3307, 0.00399173864450052), (1791, 0.003990796310976191), (8548, 0.003988910185629326), (3600, 0.003988838150329332), (3761, 0.003988753987060483), (4040, 0.003988560168587164), (3741, 0.003986978563669995), (5530, 0.003985783265237137), (5895, 0.003984113653686962), (5040, 0.003983390793380767), (6121, 0.003981013063811123), (6478, 0.003980861587084804), (5496, 0.003980340196717909), (5613, 0.003979140434011036), (3940, 0.003978491495688205), (4422, 0.003977759355381743), (7445, 0.00397753329871539), (6948, 0.003972601162037921), (2088, 0.003969557690612066), (5882, 0.003969245386197726), (4183, 0.00396705890877967), (5541, 0.003966496791114101), (512, 0.00396225333849703), (2911, 0.0039617153118420845), (7863, 0.003961332679485696), (634, 0.00396104469241135), (7767, 0.003959885440630825), (6475, 0.003959601110551542), (3716, 0.003959065861592132), (5614, 0.003958396485078932), (1969, 0.003956060794477825), (5056, 0.003955717290983312), (7808, 0.003955636017737948), (7576, 0.0039552500159479006), (5198, 0.00395385754563025), (6041, 0.003953144411817564), (7780, 0.00395244285157898), (6778, 0.003947312812020109), (1294, 0.003945737563692727), (6646, 0.00394522012872303), (2892, 0.003945174125332374), (4141, 0.00394465035033897), (3469, 0.003944521378979098), (8737, 0.003942703916269279), (9010, 0.003942250556843279), (6883, 0.003941219251885532), (5308, 0.003940957591167781), (7876, 0.00394078374898213), (4348, 0.003937834203105778), (5178, 0.003936111005436866), (7180, 0.003935615581744083), (1397, 0.003934160690406556), (1060, 0.003934139600436339), (4389, 0.003933674187569062), (9131, 0.0039332574971679005), (5207, 0.0039331915368050335), (8804, 0.003930354222689204), (573, 0.003930223716225158), (4015, 0.0039291585169202795), (3244, 0.003927234002928562), (3798, 0.003926540866341221), (1738, 0.003925631135905161), (3007, 0.003923659830174459), (768, 0.003923154478547687), (2143, 0.003921372965095118), (44, 0.003920973020060328), (5550, 0.003920293589721655), (2000, 0.003919252932402757), (7342, 0.00391586220722647), (1336, 0.003915739077913184), (9032, 0.003915450603207941), (7751, 0.0039132393661622696), (4703, 0.003912334642507026), (2708, 0.003911460533148122), (2537, 0.003909121496279277), (7608, 0.003908064105464139), (4338, 0.003907125184366128), (3438, 0.0039062902112503494), (4705, 0.0039058582672401978), (8262, 0.003905520318691483), (6819, 0.0039045198314388084), (1999, 0.003902560959574399), (7057, 0.003902476601537596), (2058, 0.003901100139225169), (4409, 0.0039007245443492644), (8182, 0.003898800574717893), (3376, 0.0038969186700251925), (5870, 0.0038962899564996853), (3901, 0.0038945577568659097), (865, 0.0038912115114594975), (3481, 0.00389050039789133), (9126, 0.0038884999268055023), (7290, 0.0038884064525322145), (1807, 0.003888162858580004), (5692, 0.0038880123858160043), (5832, 0.003887842165357406), (8444, 0.0038872642792912053), (267, 0.003887238876033944), (3768, 0.0038855428431478632), (86, 0.003885419496412911), (3329, 0.0038840922361451052), (4610, 0.003883954827749552), (7505, 0.003882114363011789), (8007, 0.0038812477840672803), (4028, 0.0038808284798170583), (8234, 0.0038780841060477196), (1680, 0.003877752695315858), (6922, 0.0038737168940354014), (7352, 0.00387253796648022), (8978, 0.0038724643674869627), (6249, 0.0038723188204279582), (7745, 0.0038691593658834317), (4824, 0.003868203697344499), (2693, 0.0038681527535753073), (9120, 0.003867381037934157), (2802, 0.0038668077483794395), (8672, 0.0038666120244334828), (8722, 0.0038663843028965915), (1284, 0.0038656766269452715), (5936, 0.0038645048666730857), (2818, 0.0038636924070482056), (2159, 0.0038621452700435144), (8154, 0.0038619536227533073), (1283, 0.0038611663088663917), (3243, 0.0038608711534089215), (6735, 0.003859959286511811), (730, 0.0038583343039424), (5639, 0.0038576684943016962), (621, 0.003857109631819426), (4621, 0.0038542937283705778), (2483, 0.0038524698575764654), (8889, 0.003849791867569557), (3286, 0.0038492670393251356), (8359, 0.0038485800442097594), (1534, 0.003847380483068603), (2473, 0.0038462856239349467), (8736, 0.0038452360682592066), (7725, 0.003844501492484971), (3325, 0.003840446241284876), (4720, 0.0038404183235589357), (3763, 0.003839326000373274), (5679, 0.003839285366477395), (6925, 0.0038353460467640908), (5472, 0.0038352062187076703), (5155, 0.0038337733114149676), (3193, 0.0038329961093102544), (8333, 0.0038327613807424385), (7213, 0.0038310150269666647), (5942, 0.003830515966210588), (8777, 0.0038300674474818146), (379, 0.0038265453624282074), (3762, 0.0038251617051940053), (3739, 0.0038249499423105016), (4680, 0.003824930184508543), (4233, 0.003824703441698157), (1211, 0.003824373561365944), (6187, 0.003823998300512198), (8406, 0.0038233767061256435), (5546, 0.0038232351092831935), (4478, 0.003823012419746122), (5107, 0.003822473341899784), (1471, 0.0038222579762492042), (2516, 0.003822010724638868), (5808, 0.003821388493821638), (4506, 0.0038211556355521783), (1379, 0.0038199890977702513), (4321, 0.0038196375167562423), (8490, 0.003819172037330497), (7397, 0.003818025529177326), (6132, 0.003816756244750736), (5553, 0.003815288659822158), (2056, 0.0038149309161702757), (8624, 0.0038148010659303784), (3767, 0.0038132635367553905), (9124, 0.0038118772320972108), (2766, 0.0038106195384804645), (7766, 0.0038101506523008522), (8197, 0.003809994492157452), (3778, 0.0038096668085152836), (6688, 0.003806915640056194), (3407, 0.0038050739824359516), (3601, 0.003801208746823405), (2517, 0.003799004630948257), (1503, 0.0037989101724383175), (7653, 0.0037985821771109748), (4254, 0.003798500469333452), (1254, 0.003797409474773891), (5219, 0.003796517196292493), (3083, 0.003796410669539844), (5222, 0.0037960302015459437), (8509, 0.0037945674222737823), (3092, 0.003794421058773246), (4415, 0.00379050291264544), (547, 0.0037895164633348155), (4105, 0.0037886167968844303), (1678, 0.003787816311346377), (7568, 0.003787142301509581), (9047, 0.0037855953386803877), (6206, 0.003785150783248128), (3982, 0.003784785908340669), (4523, 0.0037844383665481193), (6886, 0.0037838058743861853), (558, 0.0037830577854203137), (2783, 0.0037824962608386217), (2720, 0.003782469479947146), (1012, 0.0037814486170637844), (1433, 0.0037810078591937004), (244, 0.003778381764848519), (5457, 0.0037781888507718935), (7269, 0.0037756652660419303), (2922, 0.003775325576386458), (1036, 0.0037738022638615994), (5214, 0.003773347483173174), (2334, 0.0037717073013259265), (1475, 0.0037716122310837243), (4480, 0.0037696860238445604), (7933, 0.0037660213596637797), (5794, 0.003761917298244768), (4655, 0.0037614102881623635), (8640, 0.0037591605264834026), (4983, 0.003758866038912097), (4913, 0.003758797402385123), (7171, 0.003758162749666902), (5108, 0.003757039430317227), (1207, 0.0037565502718379237), (2890, 0.0037551931620941007), (8044, 0.003753397678311244), (8129, 0.0037520852199923456), (2964, 0.0037519618020038213), (3120, 0.0037519539643469384), (7931, 0.0037511547674577836), (6588, 0.003750857383206699), (7936, 0.003748936358936949), (8172, 0.0037486618989715846), (4412, 0.0037478150627467672), (3017, 0.0037457207697611963), (6369, 0.0037455590474328895), (8690, 0.0037450305341578927), (3639, 0.003744335218929494), (5118, 0.003743465589244101), (9190, 0.0037430922111224268), (3573, 0.003740395743588616), (8539, 0.003739081692888643), (8989, 0.003738832522166257), (5499, 0.0037378190317814398), (6308, 0.003737618291004901), (4666, 0.0037335368682014855), (2768, 0.0037329339353858286), (8263, 0.0037328365294108335), (3644, 0.0037324015457218247), (3696, 0.0037315164622055614), (7378, 0.003729802535520096), (6129, 0.0037287726511338348), (8349, 0.0037260001050907466), (6264, 0.0037256398919616554), (7730, 0.0037244407945218718), (2040, 0.003722991961867203), (1544, 0.0037205878645824534), (2533, 0.003720437011878722), (6990, 0.003719955602706239), (4789, 0.0037178426238447266), (1242, 0.0037176941974337158), (715, 0.003717323819978258), (6397, 0.0037165237802370115), (5637, 0.003716018302262563), (5323, 0.003715288392168481), (110, 0.0037139523368674983), (1086, 0.0037138027116852238), (5528, 0.003713717588657466), (5217, 0.003713321669490915), (920, 0.003712999361734713), (145, 0.0037090901277468977), (6986, 0.0037087377084401483), (9177, 0.003708321683754205), (3165, 0.0037051942132305974), (1496, 0.0037050690233030852), (3998, 0.003703869873313984), (7228, 0.0037028830750309317), (6501, 0.0037019982300890222), (4890, 0.0036988026343122947), (5676, 0.003697939426502377), (5748, 0.003697147705136778), (3860, 0.003697106425316731), (7338, 0.0036945416955298746), (8544, 0.003694480916915004), (8276, 0.0036917445215684293), (5714, 0.003691106800560233), (2717, 0.003688953959668474), (8242, 0.003688321963834744), (366, 0.0036874518495783382), (2667, 0.0036865002956179313), (1321, 0.003686422084120323), (3030, 0.0036864174669027066), (9132, 0.003686240986904767), (4466, 0.0036856838448773447), (4467, 0.0036856838448773447), (4468, 0.0036856838448773447), (4469, 0.0036856838448773447), (4470, 0.0036856838448773447), (4471, 0.0036856838448773447), (4472, 0.0036856838448773447), (4473, 0.0036856838448773447), (3428, 0.003684772367727333), (3466, 0.003682208487457715), (3502, 0.003680524685136064), (4734, 0.003678094696370962), (2313, 0.003677133917256353), (1957, 0.0036765713174660253), (3909, 0.003676317708908951), (6847, 0.0036762307163656412), (5944, 0.0036758242189503746), (8663, 0.0036752470669535573), (2253, 0.003672848557899986), (3065, 0.0036724457406055993), (7081, 0.003672417728410062), (370, 0.0036709176077096037), (1027, 0.003667380085368047), (4440, 0.003666998453781486), (9060, 0.0036652061067385545), (3308, 0.0036631151064988737), (5589, 0.003662849307761955), (7798, 0.003662040254250435), (2086, 0.003661321848505402), (2596, 0.0036605550460566327), (897, 0.0036592555064166228), (8660, 0.0036579332965185297), (4614, 0.0036574891384093485), (6764, 0.0036569494944892343), (6714, 0.003656227000865291), (29, 0.0036539278532004534), (7703, 0.003653540103354169), (3781, 0.0036511332938809903), (4384, 0.0036510993715924097), (4593, 0.0036496590001514374), (680, 0.003648673590542408), (8654, 0.003647548727223239), (6870, 0.003647140970615898), (2812, 0.003646876827241537), (7239, 0.003644318989352195), (3449, 0.0036434635371852602), (517, 0.0036429051680027906), (7494, 0.003641743636918291), (363, 0.003640555792013085), (5213, 0.0036388400487874692), (2110, 0.003638022811278792), (6942, 0.0036378524110661507), (3605, 0.0036374512236684734), (4745, 0.003636465547525686), (5357, 0.003636085512875753), (3985, 0.00363583159360401), (8092, 0.0036344756858180246), (7980, 0.003632659832800326), (8109, 0.003632018058646828), (6681, 0.0036296781393707206), (6329, 0.0036294055388459098), (7622, 0.0036264255403176443), (4122, 0.003622110825497177), (290, 0.0036206529617091115), (1150, 0.0036196087307608584), (3893, 0.0036187936587761234), (7850, 0.003618216492523272), (3228, 0.0036173152356200667), (2485, 0.003617203134153562), (7878, 0.0036169626519777748), (4899, 0.003616592330759894), (2019, 0.0036164877840591833), (7991, 0.00361328617307954), (5136, 0.003612198871234475), (7300, 0.003612158287511928), (3885, 0.003612058570608348), (4, 0.0036108152205141003), (7838, 0.0036096277848342143), (1264, 0.0036082998004083647), (7250, 0.003607481762555317), (5460, 0.003606730631168618), (6022, 0.0036043407623069347), (6805, 0.0036034393730016226), (4373, 0.003601149401500467), (6134, 0.003600546173532584), (6702, 0.0035996829789341138), (7207, 0.0035985303560438883), (7590, 0.003597798460783003), (8268, 0.003597431647593169), (7249, 0.003594756078987554), (399, 0.003594067864074631), (4023, 0.003594048740252997), (4746, 0.0035936252666804967), (8803, 0.003593547411413853), (5967, 0.003593216916580214), (1220, 0.0035921407091984445), (2913, 0.0035916510694728745), (3419, 0.003591071119888258), (4230, 0.003590011148909059), (3009, 0.0035879367546127793), (5872, 0.0035878361037135855), (8968, 0.0035827635083780763), (5338, 0.003582613567869958), (6143, 0.0035820862066233802), (6762, 0.0035807969725702255), (4715, 0.0035801456087291655), (8846, 0.0035798076798042714), (8169, 0.0035781864555479944), (1732, 0.0035749621865478866), (4426, 0.0035742454179847494), (401, 0.0035739088014015135), (4639, 0.003571680729154363), (6239, 0.0035702134688739124), (3152, 0.0035693684609718053), (2963, 0.0035692254051195916), (5023, 0.0035673411507028104), (2220, 0.003566058073443977), (4048, 0.0035652548459065834), (6197, 0.003564774150610002), (2799, 0.0035634680188413705), (8119, 0.003563397294677421), (3670, 0.0035612121159293306), (4941, 0.003560324964347098), (8069, 0.003557808415798747), (4056, 0.0035561136839833553), (9196, 0.0035548115586369372), (3572, 0.0035546238662013834), (8778, 0.0035536403341554445), (9056, 0.0035536064599658856), (208, 0.0035529421942885695), (7956, 0.0035514639707278704), (4125, 0.0035513214678747442), (8897, 0.0035506321468799255), (5910, 0.0035504622569543297), (128, 0.0035474748919244264), (1910, 0.003546658153884202), (3604, 0.003543667042559855), (869, 0.0035435524209738957), (3588, 0.0035402547158561635), (8857, 0.0035397490651817346), (4618, 0.0035393952106913926), (689, 0.0035386597552696055), (3100, 0.0035358002385165233), (2210, 0.003535202453093125), (7311, 0.003535154538618797), (8651, 0.003535052224537795), (4370, 0.0035350476520131305), (4585, 0.0035303349442213205), (1249, 0.003529996028914801), (6951, 0.0035282906128687127), (8705, 0.0035250294438423733), (7141, 0.003522177054056789), (5526, 0.003520481805643237), (5408, 0.0035199982977646396), (7976, 0.003518200421656084), (6097, 0.0035178611717280794), (4339, 0.0035175175541695383), (7489, 0.0035171302948719986), (8895, 0.0035138601185981683), (986, 0.00351331694464531), (3424, 0.0035128092267868055), (8774, 0.003508220136804763), (7109, 0.0035079798335102153), (2319, 0.003507648041963677), (8963, 0.0035074444318696665), (6927, 0.0035068372816167677), (434, 0.0035065722130601176), (209, 0.0035063548977210123), (3034, 0.0035054884165286217), (4435, 0.003504482048908762), (2778, 0.003503627256786149), (8012, 0.0035032131421868715), (1865, 0.003502998570484858), (2336, 0.003501540243741157), (4675, 0.0035006937989786055), (6720, 0.003496905026110136), (4952, 0.0034968367369518235), (3839, 0.0034959500330219886), (2548, 0.0034935777407533813), (292, 0.0034927751695362145), (3667, 0.0034913854412911673), (7522, 0.003489226356411474), (1456, 0.0034875003898502373), (6698, 0.0034868620954682282), (8214, 0.0034845537057433657), (7775, 0.0034826442626716175), (6856, 0.0034813776550297916), (1179, 0.0034789522074138747), (5582, 0.0034782966347392964), (4608, 0.0034762231583104755), (6808, 0.0034748749275082726), (6281, 0.0034731211535428846), (300, 0.0034704910060962863), (9193, 0.0034704476357407294), (3820, 0.003469361396560875), (148, 0.0034684460477665564), (6665, 0.003468360878157711), (3848, 0.0034674711049679104), (5384, 0.003466133317987359), (1444, 0.003465848991698056), (6416, 0.0034657662014158388), (677, 0.0034645549935167948), (6578, 0.003463444461608403), (2651, 0.003462595314929829), (6833, 0.0034625170578046188), (2335, 0.003461723351815411), (7883, 0.0034610704199401236), (4599, 0.003458651555610793), (5316, 0.003457898229189876), (7624, 0.0034565282694238005), (1481, 0.0034555238693286753), (1233, 0.003454988819524365), (3413, 0.003454882843428), (6429, 0.003453277396195154), (6608, 0.0034532036147084874), (6609, 0.0034532036147084874), (6610, 0.0034532036147084874), (6611, 0.0034532036147084874), (6612, 0.0034532036147084874), (6613, 0.0034532036147084874), (6614, 0.0034532036147084874), (6615, 0.0034532036147084874), (6245, 0.0034519603602961566), (8320, 0.0034503281802373783), (6605, 0.0034492419470855814), (1105, 0.0034486673672192796), (4271, 0.003448461367667187), (8597, 0.0034460005827406104), (8635, 0.0034444966629905392), (2469, 0.0034444907776947785), (8666, 0.0034442442833504494), (6164, 0.0034435892012495127), (7038, 0.003443166630394462), (7615, 0.0034421250712657176), (6543, 0.0034410351060497222), (7017, 0.0034400151354484205), (6858, 0.003439681867250071), (2695, 0.0034387188752614995), (685, 0.0034369121827901063), (3777, 0.0034350656717842434), (2924, 0.0034336068636201447), (3513, 0.0034335931406997396), (6594, 0.0034330528044821127), (196, 0.0034329894527580797), (7148, 0.003432364949494166), (9014, 0.003430609287929247), (3119, 0.003430493633986385), (6333, 0.0034289626867882992), (6062, 0.003427423943732832), (6063, 0.003427423943732832), (6064, 0.003427423943732832), (6065, 0.003427423943732832), (6066, 0.003427423943732832), (6067, 0.003427423943732832), (6068, 0.003427423943732832), (6069, 0.003427423943732832), (1189, 0.0034263745155209864), (2306, 0.00342611942645356), (4748, 0.0034244097479827662), (289, 0.0034219088485930244), (4209, 0.0034200715820245013), (6972, 0.0034162900332441876), (4518, 0.0034154464503498108), (4970, 0.0034154177812969057), (1726, 0.003415230723749634), (8896, 0.0034149273185378557), (8108, 0.0034143743142047767), (1907, 0.0034122523721979094), (2838, 0.0034119278783790122), (7332, 0.003411520548507103), (7835, 0.0034104692009868562), (1401, 0.003410268956165674), (5177, 0.0034089374378283343), (1582, 0.003408672255536812), (900, 0.0034078997122780324), (3687, 0.003407860243044172), (2314, 0.003406375937815935), (4220, 0.003403887787157554), (8481, 0.0034037597238208263), (7271, 0.0034032872459652187), (1888, 0.003402710321847732), (177, 0.0034016741819393433), (2907, 0.0034011042137192526), (1723, 0.0033972939675860152), (6591, 0.003395923391747729), (5447, 0.003395284565601751), (4212, 0.0033936544459494795), (8405, 0.0033935062562016356), (4860, 0.0033934800291404057), (5873, 0.003393456385848651), (3726, 0.003393147555348103), (8209, 0.0033925512699281173), (3281, 0.0033922361250283035), (10, 0.0033917163024430744), (3744, 0.003390623256259332), (2868, 0.0033895361529756485), (3490, 0.0033881070787481656), (5846, 0.0033866325601654345), (8447, 0.0033858907228228974), (8713, 0.003385634640329636), (2291, 0.0033846978383203353), (6934, 0.00338307680375059), (1042, 0.00338248193807639), (4626, 0.0033823824647505915), (6407, 0.0033810440946790295), (7768, 0.0033804876364136294), (2503, 0.0033794285142529613), (3925, 0.0033719937829122513), (3780, 0.003370339184380989), (672, 0.003370216321928678), (3071, 0.003370092405176932), (993, 0.003369011994845053), (3282, 0.003368483585668769), (2781, 0.0033684366602695255), (4855, 0.003367289248193544), (7596, 0.0033658956950507178), (6601, 0.0033643086476022425), (663, 0.003362040821204187), (6815, 0.003361996959365584), (2876, 0.0033617081449538507), (6768, 0.0033604488223744535), (5743, 0.003359524264116778), (3779, 0.003358485347262465), (2432, 0.0033560835847145864), (7244, 0.003351478718630503), (462, 0.0033488880972164774), (7619, 0.003346994302504004), (227, 0.0033460989153016076), (5092, 0.003346010066617263), (4032, 0.003344909387544414), (3370, 0.003344490728986376), (3714, 0.003342615280219509), (8898, 0.003341439130829436), (4828, 0.003341137051385687), (4830, 0.003340247786340983), (5890, 0.003339488884172613), (1580, 0.0033375642507461477), (6811, 0.003335859967325948), (6961, 0.0033342826658890727), (2507, 0.0033333148771926982), (7098, 0.003332904960807344), (135, 0.003331739154663252), (6944, 0.0033312851914957422), (3386, 0.0033302891463686383), (6566, 0.0033296583465378766), (1226, 0.0033295327889128206), (179, 0.003329394608898616), (4499, 0.0033283927395907423), (3184, 0.0033273997392176983), (3884, 0.0033270365088892144), (3, 0.0033257881403873906), (8696, 0.0033252398970429697), (4256, 0.0033237462152174374), (2123, 0.003320829086409252), (2534, 0.003317930248388906), (2406, 0.0033174251259049372), (8728, 0.0033168247460232097), (2333, 0.003313790660942732), (6405, 0.0033121306652392425), (5208, 0.00331206484643947), (4759, 0.003311584281445321), (4763, 0.003310008690176331), (7261, 0.003309549345924131), (6408, 0.0033088392245815435), (9077, 0.003307440605968112), (1974, 0.0033060304724197294), (1089, 0.00330508745461519), (2209, 0.0033047891735310097), (7449, 0.0033046859203126723), (3103, 0.0033044140586428387), (1268, 0.003304218455127757), (6898, 0.0033039277534132046), (6643, 0.003302652663070188), (41, 0.0033018724811587747), (1407, 0.003301235392469473), (5707, 0.0032993742515794264), (2620, 0.003299006588765648), (3312, 0.0032978772687887055), (6899, 0.0032976028803238175), (6893, 0.0032973624879758146), (2674, 0.0032964456923106223), (1902, 0.0032952524155973016), (6508, 0.003295055612866605), (5413, 0.0032940992824589768), (4612, 0.0032920883235040893), (1923, 0.003291996704087467), (1067, 0.003291249809154632), (1871, 0.0032903092529362053), (4024, 0.0032877804394185347), (3242, 0.0032865891228117884), (3719, 0.0032829915376394537), (5184, 0.003281827515164886), (1943, 0.003281408441230677), (5511, 0.0032798056918153396), (4198, 0.003276414005669115), (1032, 0.0032755501037761855), (8297, 0.0032738473804751335), (8667, 0.0032734565317215987), (6037, 0.0032729661380009826), (6814, 0.0032722731858847226), (3587, 0.0032704948855647995), (5329, 0.0032692057304124235), (6087, 0.0032691495490181502), (8845, 0.0032681607912502667), (5591, 0.003267491220845299), (7416, 0.0032670554061824688), (8523, 0.0032668342112473665), (6208, 0.0032668196243656783), (8612, 0.003266698210462345), (8742, 0.0032647274454519026), (1725, 0.0032646419779662423), (3772, 0.0032641299593104823), (7151, 0.00326369200402881), (6792, 0.003262169403661028), (2188, 0.0032615006917449127), (1246, 0.003260384578560741), (6277, 0.003260373951488955), (6418, 0.0032599685343483956), (3134, 0.0032583530431908978), (7585, 0.003256054083067447), (3656, 0.003255287834710878), (2415, 0.003254639303538246), (6595, 0.0032545941184334835), (6361, 0.003253764300616242), (7049, 0.0032531053673830867), (7874, 0.0032530212836307713), (4567, 0.003251441186525769), (3231, 0.0032513267080092304), (5197, 0.003250691724550299), (22, 0.003249784656984105), (4773, 0.0032492832881949843), (8836, 0.0032490082579868266), (2328, 0.0032488838975102716), (3850, 0.0032474739570064765), (6923, 0.0032440586806898623), (3382, 0.0032422620408457882), (3723, 0.003241765848611058), (6255, 0.003235028730063168), (613, 0.003234500549754732), (5520, 0.0032342085968848997), (4285, 0.003232992844238427), (2573, 0.003232652043412299), (4112, 0.003232030928375031), (390, 0.0032313298227921237), (5615, 0.0032301358414771543), (4054, 0.003229967245627373), (1151, 0.0032295245403594916), (1899, 0.0032287115706622284), (4681, 0.003226360070449088), (93, 0.0032246296481444835), (4240, 0.0032243122839587294), (1704, 0.0032221313033207397), (2740, 0.0032220967070962937), (365, 0.003217633071938796), (913, 0.003216959359359832), (7826, 0.003213671209536371), (5033, 0.0032129419783778266), (3139, 0.0032128106845719638), (4532, 0.0032119382538449205), (7469, 0.003208417063664048), (4819, 0.003207247434366615), (3715, 0.0032061560980633707), (3024, 0.0032049153046483985), (2694, 0.0032045333790588046), (3315, 0.0032044617787103684), (960, 0.003203213085531714), (7236, 0.0032027616303832896), (7243, 0.003199179374138628), (2846, 0.0031986849577403257), (2102, 0.0031976678674422135), (5855, 0.00319640157513808), (7313, 0.0031961763577826067), (1506, 0.003194973236186798), (6230, 0.003194028951697031), (3698, 0.0031927206321736012), (6962, 0.0031921181057976127), (3464, 0.0031908322705916144), (5720, 0.003190468599616698), (7178, 0.0031902134365172493), (3928, 0.0031897638010704526), (5507, 0.0031873581474001957), (3493, 0.0031865292823623605), (2845, 0.0031854320367696912), (1493, 0.003185256082873846), (7248, 0.0031800531363109998), (3585, 0.0031784480062913584), (4918, 0.0031755653007877996), (7268, 0.0031754257942200707), (4849, 0.0031738699438202426), (3486, 0.003173854487819403), (3310, 0.003172838186375503), (1474, 0.0031727944403663376), (4109, 0.0031714369612576695), (4637, 0.003170912904836951), (572, 0.0031698452500996434), (619, 0.0031671872713611893), (2817, 0.003166344685068323), (6995, 0.0031657447661028464), (4016, 0.003165622406606143), (8951, 0.0031645850087527873), (5064, 0.0031641748311479418), (3548, 0.0031632526996033207), (6480, 0.0031624859446295504), (3375, 0.0031614660353459804), (6911, 0.0031614116731440074), (4661, 0.0031613398422880115), (7737, 0.0031608113446856575), (3168, 0.0031607342629975848), (505, 0.0031603580962933156), (106, 0.0031602172162526645), (769, 0.0031594987142245005), (4959, 0.003158188426322267), (4560, 0.0031557563577664016), (1480, 0.003154535739369771), (7661, 0.00315419109093977), (5348, 0.0031534726410453397), (7431, 0.0031530950101286872), (7607, 0.003151983077843358), (8081, 0.0031509862743018652), (8212, 0.0031487332233642346), (2703, 0.003148474405581414), (394, 0.003147800340843115), (7340, 0.0031432402891859216), (2691, 0.0031429019110759877), (6338, 0.003142450329266987), (5035, 0.003140855284433581), (1190, 0.003140806435819042), (1836, 0.0031407168893261973), (3426, 0.003140297684938091), (3326, 0.0031381991035054958), (7531, 0.0031359180587352846), (7325, 0.0031355016604724764), (1906, 0.0031354573432228537), (6093, 0.0031354130535693517), (1909, 0.0031346361697985018), (2676, 0.0031344275375354102), (2370, 0.0031340585185696446), (7886, 0.0031335754276599096), (7756, 0.0031331016766005856), (934, 0.003132352744736043), (9013, 0.0031306303248934096), (6238, 0.0031297092808747575), (6228, 0.0031277700103648103), (1745, 0.0031267223968996904), (6568, 0.0031250897178790034), (8082, 0.0031250231289052495), (5088, 0.0031244526329079173), (8839, 0.0031241637715212064), (8261, 0.0031241316689436405), (2625, 0.0031234790848324125), (9064, 0.0031232300444724685), (3738, 0.003122662431039821), (659, 0.0031220572160710557), (3847, 0.003121391449681059), (3245, 0.003119538581461234), (335, 0.003116363013572195), (5522, 0.003114982629196558), (5087, 0.003114902821431527), (2237, 0.003112899972559459), (782, 0.0031116324140188947), (9053, 0.003110796932447428), (653, 0.003110730361294289), (369, 0.003110702792707354), (7010, 0.0031105933438089007), (1940, 0.0031095758386067446), (5080, 0.0031082099704694884), (4726, 0.003107446804704863), (4974, 0.003107047082956027), (1091, 0.0031066219680528787), (5473, 0.003105709169806224), (3423, 0.003104604259336717), (479, 0.0031036298434815803), (5724, 0.003101856015600033), (7061, 0.003100945546714706), (2966, 0.0031008882204121902), (4656, 0.003099802051126222), (3259, 0.003099468601956687), (8002, 0.0030992346541038195), (1838, 0.003097205082732189), (3870, 0.003096757194242854), (1114, 0.003096028919375255), (1875, 0.003094693492782172), (5139, 0.0030946202510304917), (5866, 0.0030933656991284347), (349, 0.003093327768743609), (1922, 0.003093121373156627), (5055, 0.0030918927636088274), (1387, 0.003089737414412989), (3178, 0.0030890303645478077), (4009, 0.0030888619154107524), (6060, 0.003086941716163048), (9192, 0.003086341728033655), (3283, 0.0030852280071960083), (5489, 0.003084243285849255), (7882, 0.0030835271584862003), (5179, 0.003083404767442162), (6873, 0.0030826999611524948), (4135, 0.0030824665601656928), (259, 0.00308099051831354), (2147, 0.0030794648933695937), (1236, 0.0030782020016374683), (1548, 0.003078054699738528), (2464, 0.0030764697154525168), (1790, 0.0030762573119230783), (7688, 0.0030762271755292703), (1537, 0.003076206016292469), (130, 0.003075214329234463), (8533, 0.003075088910836312), (5875, 0.0030747175561029808), (3641, 0.0030745545007353874), (3593, 0.0030741585654662077), (9052, 0.0030735892332677153), (8045, 0.003073341057912595), (1081, 0.0030720351538847256), (3645, 0.0030720063724268888), (3987, 0.003071382809019383), (8010, 0.0030712996748216894), (4805, 0.003070889451071973), (7071, 0.0030704977798979294), (4025, 0.003070098050835668), (7487, 0.0030695283966859738), (7913, 0.0030694986034282244), (7373, 0.0030692746821734326), (421, 0.003068930326651183), (5498, 0.0030669525604162663), (1801, 0.0030668661807993127), (4195, 0.0030664566371403183), (6487, 0.003065992215688474), (4137, 0.0030659216044081716), (2526, 0.0030648424121153565), (7507, 0.0030638652503867532), (4017, 0.0030620251710333523), (5630, 0.003060355475911259), (6584, 0.0030601420979990044), (5045, 0.0030594691565669647), (8838, 0.0030591373422450964), (5818, 0.003057911407748367), (5313, 0.003057784546413791), (7400, 0.0030570465422140765), (7343, 0.003056471864065075), (4732, 0.003056413744233278), (3965, 0.003055716155560059), (3728, 0.00305570051986936), (8193, 0.003054722948195188), (6574, 0.0030519316141978396), (3795, 0.003051505390233802), (5109, 0.0030509828605167883), (7628, 0.003050269289596849), (1799, 0.0030471322429164393), (5969, 0.0030465197582695515), (273, 0.003046437967776026), (1587, 0.00304638844979285), (8117, 0.0030449078433815334), (8517, 0.00304418898989332), (6173, 0.0030433125209465453), (3274, 0.0030412981994082182), (7002, 0.0030412589157103064), (5476, 0.0030392318627722415), (2669, 0.003038716780500883), (6108, 0.0030376509512430178), (6086, 0.0030365203589812267), (5342, 0.003034435460743309), (2217, 0.0030334206299668545), (5440, 0.0030332658480481155), (6810, 0.0030322796758218452), (2699, 0.0030322141031806716), (5678, 0.0030298754115276137), (3594, 0.003028866358128042), (3145, 0.0030284538859026563), (1552, 0.003028448629354459), (4151, 0.0030278266710518456), (739, 0.0030269119350899423), (1472, 0.0030257259874568354), (8953, 0.003025703510447913), (2715, 0.0030248305942158853), (5836, 0.0030246228408628913), (5751, 0.0030223799198245164), (8121, 0.003022127530621769), (1687, 0.0030201417720375824), (1381, 0.0030189456441042967), (3622, 0.0030188303099310046), (5815, 0.003018312941044408), (2546, 0.0030179930948013517), (4284, 0.003017293825036376), (1340, 0.0030166468033139436), (6802, 0.0030146710255791616), (732, 0.0030139572043795743), (8814, 0.0030138346214437224), (8941, 0.0030123344014843776), (8884, 0.00301195253182435), (2162, 0.0030117080804924487), (4991, 0.003011061402753865), (1581, 0.003010844010720328), (6051, 0.003009477757769806), (2381, 0.0030080625696666027), (5030, 0.0030074224242798357), (2832, 0.0030028915730423433), (8593, 0.003002590715471311), (5165, 0.0030015990990325822), (6176, 0.003000310137343971), (5163, 0.0030002830670913887), (7954, 0.003000243489127571), (4729, 0.0030001807870830644), (2353, 0.002999714677423528), (1858, 0.0029989524055139627), (5607, 0.0029976701333251426), (6410, 0.002997461449167272), (162, 0.0029974068963476205), (3574, 0.0029971618950666136), (1709, 0.002996989142656989), (2504, 0.002995945786517538), (9068, 0.0029956296511458817), (1649, 0.0029950095404690756), (3200, 0.0029948633739022715), (4609, 0.0029947815931323156), (6273, 0.0029941884840232703), (7272, 0.002993600092738054), (7273, 0.002993600092738054), (7274, 0.002993600092738054), (7275, 0.002993600092738054), (7276, 0.002993600092738054), (7277, 0.002993600092738054), (7278, 0.002993600092738054), (7279, 0.002993600092738054), (1527, 0.0029925407863612575), (6220, 0.002992325760424424), (96, 0.002992120550327265), (4267, 0.002991916593601145), (1857, 0.0029910640015960587), (6094, 0.0029902287035791808), (6589, 0.0029888768173278214), (7263, 0.0029880898058871654), (668, 0.0029870202511854058), (2895, 0.002985864479465313), (3920, 0.002985370651599629), (863, 0.0029848500740687098), (914, 0.0029846889349675384), (1789, 0.0029845434207095706), (2198, 0.002984244351815936), (2178, 0.0029836413715107215), (4882, 0.0029825410703492117), (3070, 0.002981975822654125), (1880, 0.0029818266074724603), (3164, 0.002981567598701171), (816, 0.002980905167667218), (6210, 0.0029798969981005233), (8180, 0.0029794129492312126), (7104, 0.0029778728299110404), (7582, 0.002977840965002575), (4881, 0.002977347902640176), (6290, 0.002977045076359878), (2108, 0.0029763639516130172), (4992, 0.0029732687519917096), (7695, 0.0029708703187815754), (5593, 0.002970316943124175), (2899, 0.0029661554621785466), (6036, 0.002965553432539975), (2452, 0.0029650997408610246), (1574, 0.0029644240232809906), (5138, 0.0029630186848526485), (4581, 0.0029614258500284896), (4039, 0.0029614086703544603), (6821, 0.002960924351775954), (18, 0.0029606091956014273), (5362, 0.0029601258601258482), (3621, 0.0029573683827480877), (6078, 0.0029570040734352952), (3503, 0.002956057652189459), (4737, 0.0029551990212552653), (4616, 0.0029550849072655996), (3960, 0.0029543298092630584), (1767, 0.0029538216643138523), (2701, 0.002952734625209048), (3854, 0.0029523147989703215), (7781, 0.002949925815696758), (4852, 0.0029491679433073644), (8759, 0.0029491162565992743), (8110, 0.002948644476707094), (4390, 0.0029472979663949864), (6710, 0.0029468459243612516), (2197, 0.0029464441948852276), (2475, 0.002946144333637448), (4716, 0.002946071225755613), (7414, 0.002944681068966336), (532, 0.0029440301319381508), (6642, 0.002941951353565183), (3959, 0.002940924855336079), (8502, 0.0029405017294988154), (3350, 0.0029395941161315504), (5196, 0.002938000071736919), (4293, 0.0029377319722606013), (2318, 0.002937210566902574), (4613, 0.0029368536465934265), (4534, 0.0029355295224310044), (2941, 0.0029349569771045456), (7433, 0.002934891760390465), (5104, 0.0029327064184896424), (4434, 0.002932607416898652), (1808, 0.0029324188070290994), (3532, 0.0029319515240482305), (5691, 0.002931893506341439), (2241, 0.002931867938261729), (4795, 0.0029315331111352707), (4437, 0.002931314364872805), (4136, 0.0029302974685803404), (3681, 0.0029302523233013136), (4728, 0.0029292231221358244), (6825, 0.002929005213255046), (2067, 0.0029285915972463235), (8021, 0.0029280963086054873), (6310, 0.0029278559818255914), (309, 0.002927463419476814), (7023, 0.0029264675461916465), (8499, 0.002925960486824015), (1583, 0.002925789985581986), (2235, 0.0029251113784947843), (6537, 0.00292491969273196), (1545, 0.002922325248148484), (3190, 0.0029218496274699707), (5505, 0.002921634027688213), (6592, 0.0029214168894289485), (2285, 0.002919539179457289), (5971, 0.0029190681620004356), (3232, 0.0029190544543396483), (7525, 0.002918725855528876), (1608, 0.002918320109512259), (8979, 0.0029183017567563268), (2840, 0.0029177896106191625), (1776, 0.002917590909996621), (7302, 0.002917452412061521), (7740, 0.002917069088851128), (3402, 0.0029164549285806015), (3222, 0.0029141559678387582), (8097, 0.0029139586361973686), (3255, 0.0029121325022553575), (2910, 0.0029110975395249313), (8920, 0.0029102068856685184), (3066, 0.0029095263328595177), (7202, 0.00290939551597642), (947, 0.00290867601005775), (7713, 0.0029086417269993427), (3693, 0.0029083661076993), (2663, 0.0029066033033728817), (6505, 0.0029041909914651), (4667, 0.002903442370568124), (3460, 0.0029028812879697925), (2981, 0.0029023647194609246), (3319, 0.002901787049473015), (2614, 0.0029016123833268087), (7206, 0.002901513080129133), (5450, 0.0029009619640155367), (6383, 0.0029004993950009425), (414, 0.0029004035026384766), (3535, 0.0029002976168646236), (974, 0.002900208227487052), (5738, 0.002899539161430414), (7450, 0.0028994270900795185), (2774, 0.0028985220549150536), (3702, 0.0028976496825388626), (575, 0.002895143153579025), (1366, 0.0028947679143646586), (2808, 0.0028923784534702116), (321, 0.0028920735235752493), (5973, 0.0028915566740765042), (1205, 0.0028906047305554323), (5134, 0.0028902472372515694), (5409, 0.0028902072486222978), (2854, 0.0028900278536953673), (3332, 0.0028878991370865238), (3936, 0.0028873805111406733), (8631, 0.002885101689726565), (1271, 0.0028848228128149113), (7004, 0.0028835806530847995), (495, 0.0028834312443861408), (334, 0.002882984403598285), (2722, 0.0028808957235461393), (6287, 0.0028804153790208645), (1972, 0.0028799475982226744), (4840, 0.0028797976250625593), (1486, 0.0028796585394318813), (3305, 0.002879109177136039), (5054, 0.0028775669059481618), (4357, 0.0028768998387839395), (1884, 0.0028759310624017526), (1158, 0.0028756499460763935), (4088, 0.0028736457150166784), (3868, 0.0028729143663707287), (2638, 0.0028727109885055236), (6327, 0.00287152680686925), (5300, 0.0028714611970009347), (5536, 0.002871356951156377), (5188, 0.0028678885267946538), (4780, 0.002867874683910615), (2630, 0.0028674451724421675), (616, 0.0028654361816252945), (7041, 0.0028646039443663658), (798, 0.002864265772388421), (7592, 0.00286422320184964), (332, 0.0028641490477424787), (5312, 0.0028632150103039206), (6115, 0.002862446246493547), (6259, 0.0028596623626673894), (743, 0.002859196510216916), (6373, 0.0028584622109332786), (1802, 0.0028575581515524365), (3642, 0.002856688854444024), (5097, 0.0028556957768926454), (7382, 0.0028550905161448424), (2169, 0.0028539266102664603), (6894, 0.002853727887840166), (6253, 0.0028536184335268733), (3118, 0.0028521803873252983), (1139, 0.0028516652164440374), (2590, 0.00285124688792705), (7111, 0.002850685490723789), (3336, 0.00284706661292356), (5612, 0.0028468371376590687), (7598, 0.0028459460186228956), (1384, 0.0028454154355305942), (4477, 0.0028453099346118665), (3595, 0.0028444190638983002), (8945, 0.0028442462101553987), (4228, 0.00284361320255602), (3384, 0.0028429167032504713), (2164, 0.0028417725563939945), (770, 0.0028407446258855835), (2472, 0.0028403284984600255), (5209, 0.0028400362352524844), (1427, 0.0028385752422400118), (3718, 0.0028384778770534132), (1446, 0.002837237241971007), (8950, 0.002836431581171272), (6946, 0.002835669975871157), (1183, 0.0028353346556411734), (1815, 0.00283402787058561), (5459, 0.002833150391564075), (3994, 0.002833014570947051), (111, 0.0028326442270733185), (8562, 0.002832633599582616), (8871, 0.002832075941845289), (4875, 0.0028309085172646647), (1796, 0.002830711891684372), (6201, 0.0028273906511885197), (2176, 0.0028263199446679314), (6918, 0.002826108609606997), (8101, 0.0028259266906103444), (393, 0.002825464196811617), (1741, 0.0028254075144088435), (8138, 0.002824819778026197), (3194, 0.002823955261318639), (2130, 0.0028231132436574964), (5314, 0.0028218521468083343), (3182, 0.0028217338301979346), (4433, 0.0028203843264599793), (7411, 0.0028183745181331018), (7957, 0.0028164002659611413), (1059, 0.0028158884645530084), (3760, 0.0028158318689508327), (5532, 0.002815395213067592), (5560, 0.0028131890492323667), (3369, 0.00281309242960605), (7609, 0.0028126497954948115), (2844, 0.0028125231333100513), (265, 0.002812237589209615), (7377, 0.002811982436215246), (6666, 0.0028109115672842588), (3659, 0.0028100319444368956), (1368, 0.002808698129428532), (8128, 0.002807696305975061), (3668, 0.002807668542654517), (6548, 0.002807547622177591), (593, 0.002807218491617846), (5137, 0.0028046325190170113), (3957, 0.002803580916222769), (7114, 0.0028032694832123895), (2267, 0.0028028061348617686), (748, 0.0028026193931871544), (6862, 0.0028007728161291664), (2474, 0.0028007057181652167), (4950, 0.0028005497708227314), (1173, 0.0027992831674819654), (7160, 0.0027991375503419306), (3915, 0.002799022990068591), (3235, 0.002798519423837739), (2626, 0.0027980364473377804), (5874, 0.0027979662995539518), (5047, 0.00279632724045684), (7039, 0.002796286422217875), (7641, 0.002796127488917472), (2032, 0.0027953230678602146), (8985, 0.0027931228269338485), (5119, 0.002792750023852378), (1831, 0.0027922250661723876), (8915, 0.0027907759240342563), (2648, 0.0027881184526624384), (67, 0.002787807315760662), (172, 0.002786166565533494), (2234, 0.002785714945341915), (6806, 0.002780508922416296), (7161, 0.002780267552110902), (3126, 0.0027801761756001842), (3617, 0.002778916355257019), (880, 0.0027788037219576797), (6351, 0.002775852779224127), (1788, 0.002775530613789763), (2724, 0.0027751301389092693), (4993, 0.0027747836188004344), (4835, 0.002774591640924082), (6077, 0.002774072687075432), (8232, 0.002773832523109413), (5500, 0.0027730983212329407), (2283, 0.0027721106144107054), (4575, 0.0027714486589092272), (7544, 0.0027707546705025466), (7103, 0.0027698669137291724), (6334, 0.0027684142621434244), (2326, 0.002765166817396449), (37, 0.0027648529586758066), (9095, 0.002763570191171675), (9215, 0.0027633119550352437), (6647, 0.002763003995330186), (6426, 0.0027627252140521395), (7563, 0.002762688843176018), (3445, 0.002762495898456007), (7719, 0.002761433305032121), (7464, 0.0027613019081043884), (3172, 0.0027603741428722873), (722, 0.0027597180570594773), (5525, 0.0027584261593806875), (824, 0.0027560398424572806), (1579, 0.0027553517887121868), (2005, 0.0027519948735212404), (915, 0.0027516984103835317), (8150, 0.0027504688456709957), (7932, 0.002749973536098126), (5263, 0.0027490781527837794), (8122, 0.0027483948809668493), (776, 0.0027437824016174122), (8867, 0.002742978516704109), (4008, 0.0027426679973581243), (7750, 0.0027424458414232627), (3273, 0.002741260990109321), (7817, 0.0027377294456889167), (1933, 0.002737019178938413), (1742, 0.0027359412371179815), (2451, 0.002735300551183107), (6440, 0.00273436746707289), (7632, 0.002734065356638673), (2467, 0.0027331651828779407), (310, 0.0027325804716068418), (4158, 0.0027307981485234067), (120, 0.002729984310130104), (5543, 0.002728938928978787), (4714, 0.0027287051801574837), (5559, 0.002727769055927665), (5741, 0.002727588268489371), (7602, 0.002727315091708367), (1934, 0.0027238337050982412), (1914, 0.0027237046562219656), (7651, 0.0027187426341547007), (3050, 0.002718116903043235), (4629, 0.002717362418326578), (856, 0.002716444570874737), (105, 0.0027164186205484307), (2347, 0.002715929801609279), (4245, 0.002712513623096048), (5659, 0.0027122061317067132), (3939, 0.0027120266450561766), (2080, 0.0027119119409810084), (6540, 0.0027073113352472523), (2315, 0.002707299622473265), (2324, 0.002706417629921987), (1178, 0.0027061734719938018), (2008, 0.002705185275663423), (3737, 0.002704266074029634), (6328, 0.002703566075454694), (5588, 0.002703353555040425), (88, 0.002702087248010101), (4917, 0.0027018189719920887), (5863, 0.002701125604557897), (6056, 0.0027009561681230767), (2301, 0.0026994651181114814), (738, 0.002699258086659472), (200, 0.0026988005713211244), (3794, 0.0026985804414503835), (4617, 0.0026974697795306263), (2239, 0.0026968439442248797), (8351, 0.00269627817906083), (2600, 0.0026957904429479665), (2023, 0.0026902494884159), (4360, 0.0026898264908280733), (3735, 0.002689065121784928), (6978, 0.0026882669170723186), (1566, 0.002688088589398115), (2133, 0.0026877779126445087), (8489, 0.0026869997132565205), (5781, 0.0026830428176833477), (8221, 0.002680405044323684), (1177, 0.00267942119650261), (8252, 0.0026788072704885648), (5007, 0.0026782421170614273), (8272, 0.002677781289359182), (5642, 0.002677285623138142), (3351, 0.0026771159444110375), (3272, 0.002676639027165289), (2496, 0.0026762974139055706), (1820, 0.002676222824067967), (557, 0.002674724707091442), (2891, 0.002673312699121441), (6119, 0.0026730974130220703), (626, 0.002672948848803105), (731, 0.002672912887859822), (1708, 0.0026721938284810453), (3074, 0.0026706086348919976), (3263, 0.0026701674932260995), (7677, 0.00266930298266139), (3896, 0.002668783272202633), (881, 0.002668072493740495), (8639, 0.002667619644394378), (4895, 0.00266710321280911), (5763, 0.002665353014805742), (3311, 0.002664546490746332), (7438, 0.0026644386026565847), (4241, 0.0026642242416949086), (6630, 0.00266384352823282), (367, 0.002662153971508105), (3104, 0.002661847406375749), (119, 0.0026612494572887477), (652, 0.00265932933168697), (4203, 0.0026568430982549748), (8903, 0.0026547320837438213), (3710, 0.0026543975350024254), (6994, 0.0026532747218483603), (956, 0.002650791017942764), (4026, 0.002650350530310865), (2636, 0.002650050200133369), (8435, 0.0026499535870185414), (1315, 0.0026492184457327836), (1901, 0.002647807777079015), (2468, 0.0026455152760598843), (7316, 0.002645040846553205), (416, 0.0026449346490462246), (6113, 0.002643762237487505), (5325, 0.0026423107315576766), (6952, 0.0026408212812245578), (2007, 0.00263920014884142), (1461, 0.0026390489574741206), (171, 0.0026350946994201942), (2309, 0.002634295405140742), (4255, 0.0026326664247907287), (1498, 0.002629998862947513), (1306, 0.0026294027099287402), (7946, 0.0026281028452239384), (892, 0.0026280132818031483), (6061, 0.002627210532997325), (3882, 0.0026267304069210393), (2310, 0.0026258094004445454), (3095, 0.002625412927033959), (999, 0.002624392881026917), (5358, 0.002621852112042419), (4981, 0.0026205244878364947), (7819, 0.002619950981820626), (6675, 0.002619206120477754), (4227, 0.0026189635161534583), (6414, 0.002618435224456552), (8099, 0.0026177973675252098), (3240, 0.002615506554699807), (4075, 0.002614405040678178), (7999, 0.002614314630490377), (1196, 0.0026135958405792605), (8659, 0.0026128517270129596), (3804, 0.0026122858163831857), (8204, 0.002612134894665569), (5782, 0.0026104264810235486), (102, 0.002607622351488695), (8799, 0.0026050902301339167), (1217, 0.0026040749877467816), (642, 0.002600849081669221), (3989, 0.0025999368156224174), (3821, 0.002599604792211476), (7821, 0.0025964300441677227), (2252, 0.002596249158563787), (1176, 0.002595916994300575), (889, 0.0025940958078247197), (5232, 0.002594087616173733), (7501, 0.0025929921083505335), (6382, 0.002592051955072121), (3517, 0.0025917453175158503), (6322, 0.0025895811920751926), (6244, 0.0025893345691626567), (4744, 0.0025890910242674764), (6175, 0.0025881554408004074), (6345, 0.0025878536744476464), (4864, 0.0025873455891270653), (1468, 0.0025870014284455783), (2339, 0.0025863299521773657), (6746, 0.002585279594986736), (4067, 0.0025842723638977117), (466, 0.002583454832980577), (5565, 0.002582337746847831), (7593, 0.002581316966028792), (1912, 0.002581139833476165), (3979, 0.0025800741324531772), (2221, 0.0025772993279524403), (3708, 0.002576273677963203), (3008, 0.0025745397433953794), (1518, 0.002574295335635857), (2161, 0.002572723364840707), (5090, 0.002572076803414735), (7620, 0.0025707639919768242), (7672, 0.0025705307664303898), (4535, 0.002569124888512145), (8729, 0.002568389868230694), (4678, 0.0025675664383957336), (8376, 0.002565971886213371), (4872, 0.0025655230185896074), (5860, 0.002565123931380437), (5573, 0.0025589579354220538), (3846, 0.0025551923327767467), (487, 0.0025547692466223342), (2495, 0.0025539756354797144), (2639, 0.0025532207157891473), (4876, 0.0025509469455314926), (8133, 0.0025507919997892355), (3628, 0.002546564190711685), (2069, 0.0025444943848360684), (8228, 0.002541548701825859), (8401, 0.0025404030131515494), (5909, 0.0025393218371738487), (2215, 0.0025390168455861747), (8222, 0.0025389540230514257), (4311, 0.0025380966137336937), (165, 0.002535607559389331), (8875, 0.0025355275430558374), (5977, 0.0025351109545659668), (4430, 0.0025339534758300896), (7722, 0.002533134862959543), (1337, 0.0025316314231293856), (3640, 0.0025315295040547296), (1244, 0.0025312296298083676), (1107, 0.002524903712040966), (488, 0.0025235418176216867), (5675, 0.0025234353654181104), (1026, 0.0025233057090082874), (801, 0.002521965326904069), (5649, 0.0025206171068760724), (3713, 0.002516734013437942), (8428, 0.002514984571616025), (3303, 0.002512630590121286), (197, 0.0025095924273437903), (2671, 0.0025085015835630236), (1844, 0.0025039565840112286), (3473, 0.002494322951159941), (1720, 0.002493319396032232), (2597, 0.002491970498680047), (7849, 0.0024909437458761766), (2940, 0.0024889305819188593), (1787, 0.002486771468392756), (8427, 0.0024853904785954975), (6026, 0.002484803410690358), (4121, 0.0024843781829369574), (1896, 0.002481296592537061), (8725, 0.0024785900798630013), (950, 0.0024767146262594897), (7635, 0.002475565767319055), (5405, 0.0024734257925813534), (1270, 0.002473042283178702), (7996, 0.002471875259437903), (7942, 0.0024702115311566373), (7539, 0.0024645659461984375), (8708, 0.0024632176078745074), (5428, 0.002461966576130547), (7734, 0.002461748462859984), (7851, 0.0024597049588059037), (2841, 0.0024570477177660722), (2889, 0.00245686383509217), (5800, 0.00245657642802812), (598, 0.002455471753904815), (3657, 0.0024524015667447864), (2805, 0.0024521955125837735), (8035, 0.0024495962370561122), (7532, 0.00244894050306205), (4110, 0.0024485469889599524), (2988, 0.0024473120101233562), (2146, 0.0024467729323642707), (7785, 0.0024453736368248344), (3946, 0.0024419757747222467), (8455, 0.0024382239330162964), (4192, 0.00243818432727298), (3677, 0.0024371772953120903), (3313, 0.002431744869754543), (2270, 0.0024315844282106337), (7803, 0.0024312917853636486), (3156, 0.002431091724057059), (1793, 0.0024284908031913), (5492, 0.002427915768935674), (7573, 0.002427871557572653), (2083, 0.00242784561574702), (9146, 0.0024267483098583077), (9147, 0.0024267483098583077), (4144, 0.0024251297422053716), (1450, 0.002421740669448697), (5071, 0.0024167418129984286), (1195, 0.0024118637400925833), (4717, 0.0024111337081946854), (1187, 0.002410297183732965), (2677, 0.002408713410753357), (1917, 0.0024065095432349018), (5919, 0.002405968312784963), (2488, 0.002403695046684838), (3499, 0.0024002112847936108), (1905, 0.002397501539015007), (5389, 0.0023974356947148927), (8747, 0.002394833166712885), (331, 0.0023912664404045405), (5322, 0.0023896353775244286), (4883, 0.002389196298022079), (325, 0.002386677550822252), (3828, 0.002381648250507804), (7581, 0.0023799863997126854), (2894, 0.002379933743918126), (2168, 0.0023790607544240646), (6149, 0.0023760981335481657), (4306, 0.0023760703498924168), (7087, 0.0023755929063706497), (583, 0.0023751299327672525), (8381, 0.002369876506637376), (481, 0.002367515708439847), (5998, 0.002366889718293902), (4079, 0.002364385569390106), (6169, 0.0023630972247435144), (4756, 0.0023618140491114084), (2723, 0.002359665192087481), (4647, 0.0023558477843206005), (4628, 0.002355088462627732), (8975, 0.0023524912127467733), (7056, 0.002350827891746163), (6002, 0.0023422416267709725), (6483, 0.0023396943375358407), (533, 0.0023329677245255997), (8917, 0.0023329663647611507), (758, 0.002330054781218514), (8536, 0.002328482296723523), (4042, 0.002326895953550073), (4181, 0.0023200931448153876), (6777, 0.0023167280018504266), (3027, 0.0023039453870545104), (6580, 0.0023033085612955513), (6872, 0.0022994535621599986), (781, 0.0022940900041482143), (1104, 0.0022924043898298555), (3360, 0.002292262938009094), (7712, 0.0022807139489792543), (3278, 0.0022797734862293295), (8235, 0.0022788055946543016), (4963, 0.002276870384405215), (1721, 0.0022766609400452103), (2003, 0.0022703674647326618), (3964, 0.002267575743219167), (3758, 0.0022636821477684554), (5558, 0.0022636364595434275), (5275, 0.0022586346958724784), (3717, 0.0022536550054052164), (187, 0.0022511319253714144), (4416, 0.002247851972124014), (3334, 0.002246182122576453), (3945, 0.0022433683016600888), (7937, 0.0022430812983507483), (3876, 0.0022381251630015394), (7668, 0.0022321191492378806), (8579, 0.0022305237074660878), (8016, 0.002211128593583902), (5351, 0.0022066328439501763), (1966, 0.0022013542889526253), (2224, 0.002198230545897831), (8744, 0.002197695034945848), (6316, 0.0021864144719011534), (4699, 0.0021838343716125076), (2232, 0.0021831501940206594), (8739, 0.0021678564710271167), (2293, 0.0021540059347765913), (7926, 0.002151696059556198), (2514, 0.002144453571593358), (8140, 0.002140266806329788), (8893, 0.0021359253045768575), (7511, 0.002135439629519826), (3280, 0.0021344219171890166), (7095, 0.0021320653569265584), (5671, 0.0021292061172566486), (6532, 0.002125991396480555), (8383, 0.002122402518661314), (7925, 0.002116562134722559), (2679, 0.002115379558924071), (2570, 0.0021122730243255863), (4888, 0.002101456422842368), (8714, 0.002090242994717649), (2867, 0.0020893575835408177), (3776, 0.0020791406011011378), (7344, 0.0020741776947916144), (3175, 0.0020690190159656685), (8414, 0.002067658066091323), (3477, 0.0020539156173251232), (1347, 0.0020534412501543526), (2584, 0.002049356660239672), (7177, 0.0020412955607391307), (6417, 0.0020347062560107333), (6659, 0.0020284415806088854), (1491, 0.002027669717940578), (1181, 0.0020232165074841124), (7721, 0.002021405460020051), (324, 0.0020141958817181376), (3504, 0.0020111421970742164), (2077, 0.002004817708037735), (3629, 0.001999286539399366), (9072, 0.001994275844954542), (959, 0.0019868849856114396), (7096, 0.001983682415972629), (3436, 0.0019610096103247084), (6520, 0.0019479811122001967), (3786, 0.0019448337992050235), (5628, 0.0019382259196545053), (1276, 0.0019268798854035257), (2650, 0.0019204135807901295), (4324, 0.0019144134393031522), (231, 0.0019009568611710213), (8342, 0.001892745036703022), (6678, 0.0018908762758347469), (3546, 0.0018895412698051257), (5328, 0.0018846206258354408), (2337, 0.0018608828486495034), (8564, 0.0018603640497108296), (4448, 0.0018586467817603566), (4011, 0.0018555740724050939), (7917, 0.0018453443639069392), (1995, 0.0018417129519242314), (3673, 0.001823712263676118), (4754, 0.0017800437735107269), (8451, 0.0017630915699935218), (976, 0.0017625043933448571), (8609, 0.0017595753926445243), (3700, 0.0017561517367719317), (336, 0.0017482879152275616), (4526, 0.0017333416334125496), (6445, 0.0017094368316516286), (2587, 0.0016769724033686775), (2447, 0.0016472736788589832), (9065, 0.0014490361375639207), (8474, 0.0012873278938892742), (8560, 0.0012671869517271812), (1813, 0.0012473904169754827), (257, 0.0012340808373931483), (7784, 0.0009667406984659287), (5, 0.0), (8, 0.0), (9, 0.0), (13, 0.0), (14, 0.0), (15, 0.0), (21, 0.0), (23, 0.0), (24, 0.0), (25, 0.0), (30, 0.0), (31, 0.0), (33, 0.0), (34, 0.0), (38, 0.0), (39, 0.0), (40, 0.0), (42, 0.0), (45, 0.0), (47, 0.0), (50, 0.0), (55, 0.0), (57, 0.0), (62, 0.0), (65, 0.0), (66, 0.0), (68, 0.0), (69, 0.0), (70, 0.0), (72, 0.0), (73, 0.0), (75, 0.0), (79, 0.0), (80, 0.0), (83, 0.0), (84, 0.0), (87, 0.0), (89, 0.0), (90, 0.0), (91, 0.0), (92, 0.0), (95, 0.0), (97, 0.0), (99, 0.0), (101, 0.0), (103, 0.0), (104, 0.0), (109, 0.0), (112, 0.0), (114, 0.0), (117, 0.0), (118, 0.0), (126, 0.0), (129, 0.0), (131, 0.0), (133, 0.0), (134, 0.0), (138, 0.0), (139, 0.0), (140, 0.0), (141, 0.0), (142, 0.0), (143, 0.0), (144, 0.0), (146, 0.0), (147, 0.0), (149, 0.0), (151, 0.0), (152, 0.0), (154, 0.0), (156, 0.0), (163, 0.0), (166, 0.0), (169, 0.0), (170, 0.0), (173, 0.0), (174, 0.0), (175, 0.0), (176, 0.0), (178, 0.0), (180, 0.0), (182, 0.0), (184, 0.0), (188, 0.0), (189, 0.0), (191, 0.0), (194, 0.0), (198, 0.0), (201, 0.0), (212, 0.0), (214, 0.0), (217, 0.0), (218, 0.0), (219, 0.0), (221, 0.0), (223, 0.0), (226, 0.0), (229, 0.0), (236, 0.0), (237, 0.0), (238, 0.0), (240, 0.0), (241, 0.0), (243, 0.0), (245, 0.0), (252, 0.0), (255, 0.0), (256, 0.0), (258, 0.0), (262, 0.0), (263, 0.0), (266, 0.0), (268, 0.0), (269, 0.0), (270, 0.0), (271, 0.0), (274, 0.0), (277, 0.0), (281, 0.0), (282, 0.0), (285, 0.0), (286, 0.0), (291, 0.0), (294, 0.0), (296, 0.0), (297, 0.0), (299, 0.0), (301, 0.0), (303, 0.0), (305, 0.0), (311, 0.0), (312, 0.0), (314, 0.0), (318, 0.0), (319, 0.0), (323, 0.0), (327, 0.0), (330, 0.0), (337, 0.0), (341, 0.0), (343, 0.0), (344, 0.0), (345, 0.0), (346, 0.0), (348, 0.0), (350, 0.0), (351, 0.0), (352, 0.0), (355, 0.0), (356, 0.0), (357, 0.0), (359, 0.0), (360, 0.0), (362, 0.0), (372, 0.0), (373, 0.0), (374, 0.0), (375, 0.0), (377, 0.0), (378, 0.0), (385, 0.0), (388, 0.0), (391, 0.0), (392, 0.0), (403, 0.0), (405, 0.0), (407, 0.0), (408, 0.0), (410, 0.0), (411, 0.0), (412, 0.0), (422, 0.0), (423, 0.0), (426, 0.0), (427, 0.0), (429, 0.0), (430, 0.0), (435, 0.0), (438, 0.0), (440, 0.0), (441, 0.0), (442, 0.0), (445, 0.0), (450, 0.0), (452, 0.0), (453, 0.0), (454, 0.0), (455, 0.0), (456, 0.0), (457, 0.0), (458, 0.0), (461, 0.0), (465, 0.0), (467, 0.0), (468, 0.0), (470, 0.0), (471, 0.0), (472, 0.0), (474, 0.0), (477, 0.0), (478, 0.0), (485, 0.0), (490, 0.0), (491, 0.0), (492, 0.0), (496, 0.0), (497, 0.0), (498, 0.0), (499, 0.0), (502, 0.0), (516, 0.0), (522, 0.0), (523, 0.0), (524, 0.0), (525, 0.0), (530, 0.0), (531, 0.0), (534, 0.0), (535, 0.0), (538, 0.0), (541, 0.0), (544, 0.0), (553, 0.0), (559, 0.0), (560, 0.0), (561, 0.0), (562, 0.0), (566, 0.0), (568, 0.0), (574, 0.0), (577, 0.0), (578, 0.0), (580, 0.0), (581, 0.0), (582, 0.0), (585, 0.0), (586, 0.0), (587, 0.0), (588, 0.0), (589, 0.0), (590, 0.0), (591, 0.0), (592, 0.0), (594, 0.0), (595, 0.0), (596, 0.0), (597, 0.0), (599, 0.0), (601, 0.0), (602, 0.0), (603, 0.0), (605, 0.0), (610, 0.0), (611, 0.0), (614, 0.0), (615, 0.0), (617, 0.0), (620, 0.0), (625, 0.0), (628, 0.0), (630, 0.0), (633, 0.0), (635, 0.0), (637, 0.0), (638, 0.0), (639, 0.0), (645, 0.0), (648, 0.0), (650, 0.0), (654, 0.0), (655, 0.0), (657, 0.0), (658, 0.0), (662, 0.0), (665, 0.0), (666, 0.0), (667, 0.0), (671, 0.0), (673, 0.0), (674, 0.0), (679, 0.0), (682, 0.0), (683, 0.0), (686, 0.0), (688, 0.0), (690, 0.0), (691, 0.0), (692, 0.0), (694, 0.0), (695, 0.0), (700, 0.0), (701, 0.0), (702, 0.0), (703, 0.0), (704, 0.0), (705, 0.0), (706, 0.0), (707, 0.0), (708, 0.0), (709, 0.0), (710, 0.0), (714, 0.0), (716, 0.0), (718, 0.0), (720, 0.0), (725, 0.0), (727, 0.0), (728, 0.0), (735, 0.0), (736, 0.0), (740, 0.0), (744, 0.0), (745, 0.0), (752, 0.0), (754, 0.0), (755, 0.0), (756, 0.0), (757, 0.0), (759, 0.0), (760, 0.0), (761, 0.0), (762, 0.0), (763, 0.0), (764, 0.0), (771, 0.0), (772, 0.0), (773, 0.0), (775, 0.0), (780, 0.0), (787, 0.0), (788, 0.0), (791, 0.0), (794, 0.0), (795, 0.0), (796, 0.0), (797, 0.0), (810, 0.0), (811, 0.0), (812, 0.0), (815, 0.0), (818, 0.0), (819, 0.0), (820, 0.0), (821, 0.0), (822, 0.0), (823, 0.0), (826, 0.0), (828, 0.0), (836, 0.0), (841, 0.0), (849, 0.0), (858, 0.0), (859, 0.0), (860, 0.0), (864, 0.0), (866, 0.0), (867, 0.0), (868, 0.0), (871, 0.0), (872, 0.0), (873, 0.0), (875, 0.0), (882, 0.0), (883, 0.0), (885, 0.0), (894, 0.0), (895, 0.0), (896, 0.0), (898, 0.0), (899, 0.0), (901, 0.0), (902, 0.0), (903, 0.0), (904, 0.0), (905, 0.0), (908, 0.0), (909, 0.0), (911, 0.0), (912, 0.0), (917, 0.0), (918, 0.0), (922, 0.0), (923, 0.0), (924, 0.0), (925, 0.0), (926, 0.0), (930, 0.0), (931, 0.0), (932, 0.0), (936, 0.0), (937, 0.0), (938, 0.0), (943, 0.0), (946, 0.0), (948, 0.0), (949, 0.0), (952, 0.0), (953, 0.0), (954, 0.0), (955, 0.0), (958, 0.0), (961, 0.0), (962, 0.0), (968, 0.0), (972, 0.0), (975, 0.0), (978, 0.0), (979, 0.0), (980, 0.0), (981, 0.0), (982, 0.0), (983, 0.0), (984, 0.0), (985, 0.0), (987, 0.0), (990, 0.0), (991, 0.0), (995, 0.0), (997, 0.0), (998, 0.0), (1000, 0.0), (1003, 0.0), (1005, 0.0), (1009, 0.0), (1011, 0.0), (1013, 0.0), (1016, 0.0), (1017, 0.0), (1018, 0.0), (1019, 0.0), (1021, 0.0), (1022, 0.0), (1023, 0.0), (1024, 0.0), (1030, 0.0), (1031, 0.0), (1033, 0.0), (1034, 0.0), (1035, 0.0), (1037, 0.0), (1038, 0.0), (1039, 0.0), (1046, 0.0), (1047, 0.0), (1054, 0.0), (1058, 0.0), (1061, 0.0), (1062, 0.0), (1064, 0.0), (1066, 0.0), (1068, 0.0), (1069, 0.0), (1071, 0.0), (1072, 0.0), (1073, 0.0), (1074, 0.0), (1076, 0.0), (1080, 0.0), (1082, 0.0), (1087, 0.0), (1090, 0.0), (1092, 0.0), (1093, 0.0), (1094, 0.0), (1095, 0.0), (1096, 0.0), (1098, 0.0), (1099, 0.0), (1100, 0.0), (1101, 0.0), (1102, 0.0), (1103, 0.0), (1106, 0.0), (1108, 0.0), (1109, 0.0), (1110, 0.0), (1111, 0.0), (1112, 0.0), (1113, 0.0), (1115, 0.0), (1116, 0.0), (1117, 0.0), (1118, 0.0), (1119, 0.0), (1121, 0.0), (1124, 0.0), (1128, 0.0), (1129, 0.0), (1130, 0.0), (1131, 0.0), (1132, 0.0), (1133, 0.0), (1134, 0.0), (1137, 0.0), (1140, 0.0), (1142, 0.0), (1143, 0.0), (1144, 0.0), (1152, 0.0), (1153, 0.0), (1154, 0.0), (1155, 0.0), (1159, 0.0), (1160, 0.0), (1163, 0.0), (1164, 0.0), (1169, 0.0), (1170, 0.0), (1171, 0.0), (1172, 0.0), (1175, 0.0), (1180, 0.0), (1182, 0.0), (1191, 0.0), (1198, 0.0), (1202, 0.0), (1203, 0.0), (1204, 0.0), (1209, 0.0), (1212, 0.0), (1214, 0.0), (1223, 0.0), (1224, 0.0), (1225, 0.0), (1227, 0.0), (1228, 0.0), (1230, 0.0), (1231, 0.0), (1234, 0.0), (1238, 0.0), (1241, 0.0), (1243, 0.0), (1251, 0.0), (1252, 0.0), (1257, 0.0), (1258, 0.0), (1259, 0.0), (1265, 0.0), (1267, 0.0), (1269, 0.0), (1274, 0.0), (1275, 0.0), (1279, 0.0), (1280, 0.0), (1285, 0.0), (1286, 0.0), (1287, 0.0), (1288, 0.0), (1289, 0.0), (1290, 0.0), (1292, 0.0), (1295, 0.0), (1298, 0.0), (1303, 0.0), (1304, 0.0), (1305, 0.0), (1309, 0.0), (1312, 0.0), (1313, 0.0), (1317, 0.0), (1319, 0.0), (1325, 0.0), (1328, 0.0), (1330, 0.0), (1331, 0.0), (1332, 0.0), (1334, 0.0), (1335, 0.0), (1338, 0.0), (1341, 0.0), (1346, 0.0), (1348, 0.0), (1349, 0.0), (1350, 0.0), (1352, 0.0), (1354, 0.0), (1355, 0.0), (1356, 0.0), (1357, 0.0), (1360, 0.0), (1361, 0.0), (1363, 0.0), (1369, 0.0), (1371, 0.0), (1374, 0.0), (1375, 0.0), (1376, 0.0), (1377, 0.0), (1378, 0.0), (1380, 0.0), (1382, 0.0), (1389, 0.0), (1392, 0.0), (1396, 0.0), (1398, 0.0), (1399, 0.0), (1400, 0.0), (1402, 0.0), (1405, 0.0), (1408, 0.0), (1409, 0.0), (1411, 0.0), (1412, 0.0), (1413, 0.0), (1414, 0.0), (1415, 0.0), (1417, 0.0), (1418, 0.0), (1421, 0.0), (1423, 0.0), (1425, 0.0), (1426, 0.0), (1429, 0.0), (1437, 0.0), (1438, 0.0), (1443, 0.0), (1445, 0.0), (1449, 0.0), (1452, 0.0), (1455, 0.0), (1457, 0.0), (1463, 0.0), (1466, 0.0), (1470, 0.0), (1477, 0.0), (1478, 0.0), (1479, 0.0), (1483, 0.0), (1490, 0.0), (1494, 0.0), (1497, 0.0), (1501, 0.0), (1504, 0.0), (1509, 0.0), (1510, 0.0), (1511, 0.0), (1512, 0.0), (1514, 0.0), (1517, 0.0), (1519, 0.0), (1520, 0.0), (1521, 0.0), (1522, 0.0), (1523, 0.0), (1524, 0.0), (1526, 0.0), (1528, 0.0), (1529, 0.0), (1531, 0.0), (1532, 0.0), (1533, 0.0), (1536, 0.0), (1538, 0.0), (1539, 0.0), (1540, 0.0), (1549, 0.0), (1550, 0.0), (1551, 0.0), (1553, 0.0), (1554, 0.0), (1555, 0.0), (1556, 0.0), (1557, 0.0), (1558, 0.0), (1559, 0.0), (1560, 0.0), (1561, 0.0), (1562, 0.0), (1564, 0.0), (1567, 0.0), (1569, 0.0), (1571, 0.0), (1576, 0.0), (1577, 0.0), (1585, 0.0), (1588, 0.0), (1592, 0.0), (1598, 0.0), (1599, 0.0), (1601, 0.0), (1602, 0.0), (1603, 0.0), (1604, 0.0), (1605, 0.0), (1607, 0.0), (1636, 0.0), (1640, 0.0), (1641, 0.0), (1644, 0.0), (1646, 0.0), (1647, 0.0), (1648, 0.0), (1651, 0.0), (1652, 0.0), (1653, 0.0), (1654, 0.0), (1674, 0.0), (1681, 0.0), (1682, 0.0), (1683, 0.0), (1684, 0.0), (1689, 0.0), (1690, 0.0), (1691, 0.0), (1692, 0.0), (1694, 0.0), (1695, 0.0), (1696, 0.0), (1697, 0.0), (1698, 0.0), (1703, 0.0), (1705, 0.0), (1706, 0.0), (1707, 0.0), (1715, 0.0), (1718, 0.0), (1728, 0.0), (1731, 0.0), (1736, 0.0), (1739, 0.0), (1740, 0.0), (1744, 0.0), (1748, 0.0), (1749, 0.0), (1750, 0.0), (1751, 0.0), (1752, 0.0), (1754, 0.0), (1755, 0.0), (1756, 0.0), (1758, 0.0), (1760, 0.0), (1761, 0.0), (1763, 0.0), (1764, 0.0), (1765, 0.0), (1766, 0.0), (1771, 0.0), (1772, 0.0), (1773, 0.0), (1774, 0.0), (1775, 0.0), (1777, 0.0), (1778, 0.0), (1779, 0.0), (1780, 0.0), (1781, 0.0), (1783, 0.0), (1798, 0.0), (1800, 0.0), (1803, 0.0), (1806, 0.0), (1810, 0.0), (1811, 0.0), (1814, 0.0), (1816, 0.0), (1818, 0.0), (1819, 0.0), (1822, 0.0), (1823, 0.0), (1824, 0.0), (1826, 0.0), (1830, 0.0), (1835, 0.0), (1839, 0.0), (1840, 0.0), (1841, 0.0), (1843, 0.0), (1845, 0.0), (1846, 0.0), (1848, 0.0), (1852, 0.0), (1854, 0.0), (1855, 0.0), (1859, 0.0), (1860, 0.0), (1863, 0.0), (1864, 0.0), (1866, 0.0), (1870, 0.0), (1872, 0.0), (1876, 0.0), (1877, 0.0), (1879, 0.0), (1881, 0.0), (1885, 0.0), (1891, 0.0), (1893, 0.0), (1895, 0.0), (1897, 0.0), (1900, 0.0), (1903, 0.0), (1915, 0.0), (1916, 0.0), (1918, 0.0), (1920, 0.0), (1924, 0.0), (1930, 0.0), (1931, 0.0), (1936, 0.0), (1937, 0.0), (1938, 0.0), (1939, 0.0), (1942, 0.0), (1947, 0.0), (1952, 0.0), (1954, 0.0), (1956, 0.0), (1959, 0.0), (1963, 0.0), (1965, 0.0), (1968, 0.0), (1970, 0.0), (1971, 0.0), (1973, 0.0), (1976, 0.0), (1978, 0.0), (1985, 0.0), (1989, 0.0), (1998, 0.0), (2002, 0.0), (2009, 0.0), (2012, 0.0), (2013, 0.0), (2016, 0.0), (2026, 0.0), (2028, 0.0), (2029, 0.0), (2031, 0.0), (2033, 0.0), (2034, 0.0), (2035, 0.0), (2036, 0.0), (2037, 0.0), (2038, 0.0), (2039, 0.0), (2041, 0.0), (2043, 0.0), (2044, 0.0), (2046, 0.0), (2047, 0.0), (2048, 0.0), (2049, 0.0), (2050, 0.0), (2051, 0.0), (2053, 0.0), (2054, 0.0), (2059, 0.0), (2060, 0.0), (2061, 0.0), (2063, 0.0), (2064, 0.0), (2066, 0.0), (2070, 0.0), (2071, 0.0), (2076, 0.0), (2078, 0.0), (2079, 0.0), (2081, 0.0), (2085, 0.0), (2094, 0.0), (2095, 0.0), (2101, 0.0), (2103, 0.0), (2104, 0.0), (2105, 0.0), (2107, 0.0), (2111, 0.0), (2114, 0.0), (2116, 0.0), (2119, 0.0), (2120, 0.0), (2124, 0.0), (2125, 0.0), (2126, 0.0), (2127, 0.0), (2129, 0.0), (2131, 0.0), (2134, 0.0), (2135, 0.0), (2136, 0.0), (2137, 0.0), (2141, 0.0), (2142, 0.0), (2144, 0.0), (2145, 0.0), (2148, 0.0), (2149, 0.0), (2150, 0.0), (2152, 0.0), (2153, 0.0), (2154, 0.0), (2156, 0.0), (2158, 0.0), (2163, 0.0), (2165, 0.0), (2167, 0.0), (2170, 0.0), (2171, 0.0), (2172, 0.0), (2182, 0.0), (2183, 0.0), (2185, 0.0), (2186, 0.0), (2189, 0.0), (2193, 0.0), (2196, 0.0), (2201, 0.0), (2202, 0.0), (2203, 0.0), (2204, 0.0), (2205, 0.0), (2206, 0.0), (2208, 0.0), (2212, 0.0), (2213, 0.0), (2214, 0.0), (2218, 0.0), (2222, 0.0), (2223, 0.0), (2225, 0.0), (2226, 0.0), (2229, 0.0), (2230, 0.0), (2231, 0.0), (2233, 0.0), (2236, 0.0), (2240, 0.0), (2243, 0.0), (2244, 0.0), (2245, 0.0), (2246, 0.0), (2262, 0.0), (2263, 0.0), (2264, 0.0), (2268, 0.0), (2269, 0.0), (2272, 0.0), (2273, 0.0), (2274, 0.0), (2275, 0.0), (2276, 0.0), (2277, 0.0), (2279, 0.0), (2280, 0.0), (2281, 0.0), (2284, 0.0), (2289, 0.0), (2290, 0.0), (2292, 0.0), (2295, 0.0), (2296, 0.0), (2298, 0.0), (2299, 0.0), (2300, 0.0), (2302, 0.0), (2304, 0.0), (2305, 0.0), (2308, 0.0), (2311, 0.0), (2316, 0.0), (2317, 0.0), (2321, 0.0), (2323, 0.0), (2325, 0.0), (2342, 0.0), (2343, 0.0), (2344, 0.0), (2345, 0.0), (2346, 0.0), (2350, 0.0), (2351, 0.0), (2354, 0.0), (2355, 0.0), (2357, 0.0), (2358, 0.0), (2359, 0.0), (2360, 0.0), (2363, 0.0), (2365, 0.0), (2366, 0.0), (2367, 0.0), (2368, 0.0), (2369, 0.0), (2373, 0.0), (2374, 0.0), (2375, 0.0), (2377, 0.0), (2378, 0.0), (2379, 0.0), (2382, 0.0), (2383, 0.0), (2384, 0.0), (2385, 0.0), (2386, 0.0), (2387, 0.0), (2390, 0.0), (2394, 0.0), (2395, 0.0), (2397, 0.0), (2398, 0.0), (2399, 0.0), (2400, 0.0), (2402, 0.0), (2404, 0.0), (2408, 0.0), (2411, 0.0), (2416, 0.0), (2418, 0.0), (2419, 0.0), (2420, 0.0), (2421, 0.0), (2422, 0.0), (2427, 0.0), (2430, 0.0), (2431, 0.0), (2433, 0.0), (2434, 0.0), (2435, 0.0), (2437, 0.0), (2439, 0.0), (2445, 0.0), (2446, 0.0), (2448, 0.0), (2449, 0.0), (2455, 0.0), (2456, 0.0), (2457, 0.0), (2463, 0.0), (2470, 0.0), (2476, 0.0), (2479, 0.0), (2481, 0.0), (2484, 0.0), (2487, 0.0), (2489, 0.0), (2490, 0.0), (2492, 0.0), (2493, 0.0), (2498, 0.0), (2499, 0.0), (2500, 0.0), (2502, 0.0), (2510, 0.0), (2511, 0.0), (2513, 0.0), (2515, 0.0), (2520, 0.0), (2521, 0.0), (2524, 0.0), (2528, 0.0), (2529, 0.0), (2530, 0.0), (2532, 0.0), (2539, 0.0), (2541, 0.0), (2542, 0.0), (2543, 0.0), (2545, 0.0), (2547, 0.0), (2550, 0.0), (2552, 0.0), (2555, 0.0), (2557, 0.0), (2558, 0.0), (2560, 0.0), (2561, 0.0), (2562, 0.0), (2563, 0.0), (2564, 0.0), (2565, 0.0), (2569, 0.0), (2571, 0.0), (2574, 0.0), (2575, 0.0), (2576, 0.0), (2577, 0.0), (2578, 0.0), (2581, 0.0), (2582, 0.0), (2583, 0.0), (2585, 0.0), (2586, 0.0), (2589, 0.0), (2591, 0.0), (2592, 0.0), (2593, 0.0), (2594, 0.0), (2595, 0.0), (2601, 0.0), (2604, 0.0), (2611, 0.0), (2618, 0.0), (2622, 0.0), (2623, 0.0), (2629, 0.0), (2631, 0.0), (2632, 0.0), (2634, 0.0), (2637, 0.0), (2641, 0.0), (2644, 0.0), (2645, 0.0), (2646, 0.0), (2647, 0.0), (2649, 0.0), (2652, 0.0), (2656, 0.0), (2657, 0.0), (2658, 0.0), (2659, 0.0), (2664, 0.0), (2665, 0.0), (2672, 0.0), (2673, 0.0), (2675, 0.0), (2680, 0.0), (2682, 0.0), (2686, 0.0), (2687, 0.0), (2688, 0.0), (2690, 0.0), (2692, 0.0), (2696, 0.0), (2697, 0.0), (2704, 0.0), (2706, 0.0), (2707, 0.0), (2709, 0.0), (2711, 0.0), (2712, 0.0), (2713, 0.0), (2714, 0.0), (2716, 0.0), (2732, 0.0), (2733, 0.0), (2734, 0.0), (2735, 0.0), (2736, 0.0), (2738, 0.0), (2739, 0.0), (2742, 0.0), (2746, 0.0), (2747, 0.0), (2748, 0.0), (2749, 0.0), (2752, 0.0), (2753, 0.0), (2755, 0.0), (2756, 0.0), (2757, 0.0), (2762, 0.0), (2763, 0.0), (2764, 0.0), (2765, 0.0), (2767, 0.0), (2772, 0.0), (2773, 0.0), (2776, 0.0), (2777, 0.0), (2784, 0.0), (2785, 0.0), (2786, 0.0), (2787, 0.0), (2788, 0.0), (2789, 0.0), (2791, 0.0), (2793, 0.0), (2794, 0.0), (2798, 0.0), (2801, 0.0), (2803, 0.0), (2806, 0.0), (2809, 0.0), (2813, 0.0), (2814, 0.0), (2815, 0.0), (2819, 0.0), (2820, 0.0), (2823, 0.0), (2830, 0.0), (2834, 0.0), (2839, 0.0), (2843, 0.0), (2847, 0.0), (2849, 0.0), (2852, 0.0), (2853, 0.0), (2855, 0.0), (2857, 0.0), (2858, 0.0), (2859, 0.0), (2861, 0.0), (2869, 0.0), (2870, 0.0), (2871, 0.0), (2872, 0.0), (2873, 0.0), (2875, 0.0), (2878, 0.0), (2880, 0.0), (2881, 0.0), (2882, 0.0), (2883, 0.0), (2886, 0.0), (2888, 0.0), (2893, 0.0), (2896, 0.0), (2909, 0.0), (2916, 0.0), (2917, 0.0), (2918, 0.0), (2921, 0.0), (2923, 0.0), (2925, 0.0), (2926, 0.0), (2927, 0.0), (2929, 0.0), (2930, 0.0), (2931, 0.0), (2932, 0.0), (2933, 0.0), (2934, 0.0), (2935, 0.0), (2936, 0.0), (2937, 0.0), (2938, 0.0), (2939, 0.0), (2946, 0.0), (2947, 0.0), (2948, 0.0), (2951, 0.0), (2952, 0.0), (2954, 0.0), (2956, 0.0), (2967, 0.0), (2968, 0.0), (2969, 0.0), (2971, 0.0), (2973, 0.0), (2974, 0.0), (2976, 0.0), (2977, 0.0), (2979, 0.0), (2982, 0.0), (2986, 0.0), (2987, 0.0), (2991, 0.0), (2992, 0.0), (2994, 0.0), (2995, 0.0), (2996, 0.0), (2997, 0.0), (2998, 0.0), (2999, 0.0), (3000, 0.0), (3002, 0.0), (3003, 0.0), (3004, 0.0), (3005, 0.0), (3006, 0.0), (3010, 0.0), (3012, 0.0), (3014, 0.0), (3018, 0.0), (3020, 0.0), (3021, 0.0), (3022, 0.0), (3025, 0.0), (3026, 0.0), (3028, 0.0), (3029, 0.0), (3033, 0.0), (3038, 0.0), (3039, 0.0), (3044, 0.0), (3045, 0.0), (3048, 0.0), (3049, 0.0), (3052, 0.0), (3054, 0.0), (3055, 0.0), (3056, 0.0), (3058, 0.0), (3059, 0.0), (3062, 0.0), (3063, 0.0), (3067, 0.0), (3072, 0.0), (3073, 0.0), (3076, 0.0), (3079, 0.0), (3080, 0.0), (3082, 0.0), (3084, 0.0), (3085, 0.0), (3086, 0.0), (3087, 0.0), (3089, 0.0), (3091, 0.0), (3093, 0.0), (3094, 0.0), (3098, 0.0), (3102, 0.0), (3105, 0.0), (3106, 0.0), (3110, 0.0), (3112, 0.0), (3114, 0.0), (3116, 0.0), (3121, 0.0), (3123, 0.0), (3124, 0.0), (3127, 0.0), (3128, 0.0), (3129, 0.0), (3130, 0.0), (3132, 0.0), (3133, 0.0), (3135, 0.0), (3136, 0.0), (3140, 0.0), (3142, 0.0), (3144, 0.0), (3146, 0.0), (3147, 0.0), (3150, 0.0), (3153, 0.0), (3154, 0.0), (3157, 0.0), (3159, 0.0), (3160, 0.0), (3161, 0.0), (3162, 0.0), (3170, 0.0), (3171, 0.0), (3173, 0.0), (3174, 0.0), (3176, 0.0), (3180, 0.0), (3181, 0.0), (3187, 0.0), (3191, 0.0), (3195, 0.0), (3199, 0.0), (3201, 0.0), (3202, 0.0), (3203, 0.0), (3204, 0.0), (3206, 0.0), (3207, 0.0), (3209, 0.0), (3212, 0.0), (3213, 0.0), (3214, 0.0), (3217, 0.0), (3218, 0.0), (3219, 0.0), (3220, 0.0), (3223, 0.0), (3225, 0.0), (3226, 0.0), (3227, 0.0), (3229, 0.0), (3234, 0.0), (3237, 0.0), (3238, 0.0), (3239, 0.0), (3246, 0.0), (3247, 0.0), (3248, 0.0), (3249, 0.0), (3250, 0.0), (3251, 0.0), (3256, 0.0), (3257, 0.0), (3258, 0.0), (3260, 0.0), (3262, 0.0), (3266, 0.0), (3267, 0.0), (3284, 0.0), (3285, 0.0), (3290, 0.0), (3291, 0.0), (3294, 0.0), (3296, 0.0), (3298, 0.0), (3300, 0.0), (3301, 0.0), (3304, 0.0), (3306, 0.0), (3314, 0.0), (3316, 0.0), (3318, 0.0), (3320, 0.0), (3321, 0.0), (3323, 0.0), (3324, 0.0), (3328, 0.0), (3335, 0.0), (3338, 0.0), (3339, 0.0), (3342, 0.0), (3343, 0.0), (3344, 0.0), (3349, 0.0), (3353, 0.0), (3354, 0.0), (3356, 0.0), (3359, 0.0), (3362, 0.0), (3365, 0.0), (3366, 0.0), (3367, 0.0), (3368, 0.0), (3371, 0.0), (3372, 0.0), (3373, 0.0), (3377, 0.0), (3381, 0.0), (3389, 0.0), (3390, 0.0), (3391, 0.0), (3404, 0.0), (3405, 0.0), (3409, 0.0), (3414, 0.0), (3415, 0.0), (3416, 0.0), (3417, 0.0), (3418, 0.0), (3420, 0.0), (3421, 0.0), (3422, 0.0), (3425, 0.0), (3427, 0.0), (3429, 0.0), (3432, 0.0), (3433, 0.0), (3434, 0.0), (3437, 0.0), (3442, 0.0), (3443, 0.0), (3444, 0.0), (3447, 0.0), (3450, 0.0), (3451, 0.0), (3452, 0.0), (3453, 0.0), (3454, 0.0), (3457, 0.0), (3458, 0.0), (3459, 0.0), (3461, 0.0), (3463, 0.0), (3468, 0.0), (3470, 0.0), (3471, 0.0), (3472, 0.0), (3479, 0.0), (3483, 0.0), (3484, 0.0), (3487, 0.0), (3489, 0.0), (3492, 0.0), (3494, 0.0), (3495, 0.0), (3496, 0.0), (3505, 0.0), (3506, 0.0), (3507, 0.0), (3508, 0.0), (3511, 0.0), (3512, 0.0), (3514, 0.0), (3515, 0.0), (3516, 0.0), (3518, 0.0), (3519, 0.0), (3520, 0.0), (3521, 0.0), (3523, 0.0), (3524, 0.0), (3526, 0.0), (3528, 0.0), (3529, 0.0), (3534, 0.0), (3537, 0.0), (3539, 0.0), (3540, 0.0), (3542, 0.0), (3543, 0.0), (3544, 0.0), (3547, 0.0), (3549, 0.0), (3554, 0.0), (3556, 0.0), (3566, 0.0), (3567, 0.0), (3568, 0.0), (3571, 0.0), (3575, 0.0), (3581, 0.0), (3582, 0.0), (3586, 0.0), (3591, 0.0), (3592, 0.0), (3599, 0.0), (3606, 0.0), (3607, 0.0), (3608, 0.0), (3611, 0.0), (3613, 0.0), (3614, 0.0), (3616, 0.0), (3619, 0.0), (3623, 0.0), (3624, 0.0), (3625, 0.0), (3626, 0.0), (3631, 0.0), (3632, 0.0), (3637, 0.0), (3647, 0.0), (3648, 0.0), (3649, 0.0), (3650, 0.0), (3651, 0.0), (3652, 0.0), (3654, 0.0), (3660, 0.0), (3661, 0.0), (3664, 0.0), (3665, 0.0), (3666, 0.0), (3669, 0.0), (3671, 0.0), (3676, 0.0), (3678, 0.0), (3679, 0.0), (3680, 0.0), (3684, 0.0), (3689, 0.0), (3692, 0.0), (3704, 0.0), (3705, 0.0), (3706, 0.0), (3720, 0.0), (3721, 0.0), (3722, 0.0), (3724, 0.0), (3731, 0.0), (3732, 0.0), (3734, 0.0), (3736, 0.0), (3740, 0.0), (3747, 0.0), (3748, 0.0), (3752, 0.0), (3753, 0.0), (3757, 0.0), (3759, 0.0), (3764, 0.0), (3765, 0.0), (3766, 0.0), (3770, 0.0), (3771, 0.0), (3773, 0.0), (3774, 0.0), (3782, 0.0), (3783, 0.0), (3785, 0.0), (3787, 0.0), (3788, 0.0), (3789, 0.0), (3792, 0.0), (3793, 0.0), (3796, 0.0), (3799, 0.0), (3800, 0.0), (3802, 0.0), (3803, 0.0), (3805, 0.0), (3806, 0.0), (3807, 0.0), (3809, 0.0), (3812, 0.0), (3814, 0.0), (3815, 0.0), (3817, 0.0), (3818, 0.0), (3819, 0.0), (3822, 0.0), (3823, 0.0), (3826, 0.0), (3829, 0.0), (3830, 0.0), (3831, 0.0), (3834, 0.0), (3835, 0.0), (3836, 0.0), (3838, 0.0), (3849, 0.0), (3851, 0.0), (3853, 0.0), (3855, 0.0), (3858, 0.0), (3859, 0.0), (3861, 0.0), (3862, 0.0), (3863, 0.0), (3864, 0.0), (3865, 0.0), (3866, 0.0), (3867, 0.0), (3871, 0.0), (3874, 0.0), (3875, 0.0), (3877, 0.0), (3878, 0.0), (3879, 0.0), (3880, 0.0), (3881, 0.0), (3886, 0.0), (3887, 0.0), (3888, 0.0), (3889, 0.0), (3894, 0.0), (3900, 0.0), (3903, 0.0), (3904, 0.0), (3905, 0.0), (3906, 0.0), (3912, 0.0), (3913, 0.0), (3914, 0.0), (3916, 0.0), (3917, 0.0), (3918, 0.0), (3921, 0.0), (3922, 0.0), (3924, 0.0), (3926, 0.0), (3927, 0.0), (3930, 0.0), (3931, 0.0), (3934, 0.0), (3935, 0.0), (3941, 0.0), (3942, 0.0), (3943, 0.0), (3947, 0.0), (3948, 0.0), (3949, 0.0), (3951, 0.0), (3952, 0.0), (3963, 0.0), (3967, 0.0), (3977, 0.0), (3983, 0.0), (3984, 0.0), (3986, 0.0), (3991, 0.0), (3992, 0.0), (3995, 0.0), (4000, 0.0), (4005, 0.0), (4007, 0.0), (4010, 0.0), (4012, 0.0), (4014, 0.0), (4020, 0.0), (4021, 0.0), (4022, 0.0), (4027, 0.0), (4030, 0.0), (4034, 0.0), (4035, 0.0), (4036, 0.0), (4045, 0.0), (4046, 0.0), (4050, 0.0), (4055, 0.0), (4058, 0.0), (4070, 0.0), (4072, 0.0), (4073, 0.0), (4080, 0.0), (4081, 0.0), (4087, 0.0), (4090, 0.0), (4091, 0.0), (4092, 0.0), (4094, 0.0), (4099, 0.0), (4100, 0.0), (4101, 0.0), (4102, 0.0), (4103, 0.0), (4106, 0.0), (4108, 0.0), (4113, 0.0), (4114, 0.0), (4115, 0.0), (4116, 0.0), (4117, 0.0), (4119, 0.0), (4120, 0.0), (4123, 0.0), (4129, 0.0), (4130, 0.0), (4133, 0.0), (4134, 0.0), (4138, 0.0), (4142, 0.0), (4143, 0.0), (4145, 0.0), (4147, 0.0), (4148, 0.0), (4149, 0.0), (4150, 0.0), (4152, 0.0), (4153, 0.0), (4159, 0.0), (4161, 0.0), (4164, 0.0), (4167, 0.0), (4168, 0.0), (4170, 0.0), (4173, 0.0), (4184, 0.0), (4185, 0.0), (4188, 0.0), (4189, 0.0), (4190, 0.0), (4191, 0.0), (4193, 0.0), (4196, 0.0), (4197, 0.0), (4199, 0.0), (4210, 0.0), (4213, 0.0), (4214, 0.0), (4218, 0.0), (4221, 0.0), (4222, 0.0), (4223, 0.0), (4231, 0.0), (4234, 0.0), (4235, 0.0), (4236, 0.0), (4238, 0.0), (4239, 0.0), (4242, 0.0), (4243, 0.0), (4250, 0.0), (4251, 0.0), (4258, 0.0), (4259, 0.0), (4261, 0.0), (4263, 0.0), (4266, 0.0), (4270, 0.0), (4273, 0.0), (4274, 0.0), (4275, 0.0), (4277, 0.0), (4278, 0.0), (4280, 0.0), (4281, 0.0), (4283, 0.0), (4287, 0.0), (4289, 0.0), (4292, 0.0), (4305, 0.0), (4307, 0.0), (4309, 0.0), (4310, 0.0), (4312, 0.0), (4313, 0.0), (4315, 0.0), (4316, 0.0), (4317, 0.0), (4319, 0.0), (4320, 0.0), (4325, 0.0), (4326, 0.0), (4329, 0.0), (4330, 0.0), (4331, 0.0), (4332, 0.0), (4333, 0.0), (4334, 0.0), (4337, 0.0), (4345, 0.0), (4346, 0.0), (4347, 0.0), (4349, 0.0), (4350, 0.0), (4352, 0.0), (4354, 0.0), (4358, 0.0), (4361, 0.0), (4362, 0.0), (4364, 0.0), (4365, 0.0), (4367, 0.0), (4368, 0.0), (4371, 0.0), (4372, 0.0), (4374, 0.0), (4375, 0.0), (4376, 0.0), (4377, 0.0), (4379, 0.0), (4382, 0.0), (4383, 0.0), (4385, 0.0), (4386, 0.0), (4387, 0.0), (4392, 0.0), (4393, 0.0), (4394, 0.0), (4395, 0.0), (4396, 0.0), (4398, 0.0), (4399, 0.0), (4400, 0.0), (4402, 0.0), (4403, 0.0), (4406, 0.0), (4407, 0.0), (4408, 0.0), (4411, 0.0), (4413, 0.0), (4417, 0.0), (4418, 0.0), (4419, 0.0), (4420, 0.0), (4424, 0.0), (4432, 0.0), (4436, 0.0), (4439, 0.0), (4443, 0.0), (4444, 0.0), (4445, 0.0), (4446, 0.0), (4447, 0.0), (4449, 0.0), (4453, 0.0), (4454, 0.0), (4455, 0.0), (4456, 0.0), (4457, 0.0), (4461, 0.0), (4463, 0.0), (4464, 0.0), (4476, 0.0), (4481, 0.0), (4482, 0.0), (4484, 0.0), (4485, 0.0), (4488, 0.0), (4489, 0.0), (4491, 0.0), (4492, 0.0), (4494, 0.0), (4495, 0.0), (4496, 0.0), (4497, 0.0), (4500, 0.0), (4502, 0.0), (4503, 0.0), (4505, 0.0), (4513, 0.0), (4514, 0.0), (4516, 0.0), (4517, 0.0), (4519, 0.0), (4522, 0.0), (4524, 0.0), (4527, 0.0), (4528, 0.0), (4529, 0.0), (4530, 0.0), (4531, 0.0), (4533, 0.0), (4537, 0.0), (4538, 0.0), (4539, 0.0), (4540, 0.0), (4543, 0.0), (4544, 0.0), (4547, 0.0), (4548, 0.0), (4550, 0.0), (4552, 0.0), (4554, 0.0), (4555, 0.0), (4558, 0.0), (4559, 0.0), (4561, 0.0), (4562, 0.0), (4563, 0.0), (4566, 0.0), (4568, 0.0), (4569, 0.0), (4571, 0.0), (4576, 0.0), (4578, 0.0), (4582, 0.0), (4584, 0.0), (4588, 0.0), (4591, 0.0), (4592, 0.0), (4595, 0.0), (4596, 0.0), (4600, 0.0), (4602, 0.0), (4603, 0.0), (4604, 0.0), (4605, 0.0), (4611, 0.0), (4619, 0.0), (4620, 0.0), (4622, 0.0), (4623, 0.0), (4630, 0.0), (4632, 0.0), (4633, 0.0), (4636, 0.0), (4641, 0.0), (4643, 0.0), (4645, 0.0), (4648, 0.0), (4650, 0.0), (4651, 0.0), (4653, 0.0), (4659, 0.0), (4660, 0.0), (4662, 0.0), (4663, 0.0), (4665, 0.0), (4668, 0.0), (4669, 0.0), (4686, 0.0), (4687, 0.0), (4688, 0.0), (4690, 0.0), (4691, 0.0), (4694, 0.0), (4696, 0.0), (4697, 0.0), (4698, 0.0), (4700, 0.0), (4701, 0.0), (4702, 0.0), (4708, 0.0), (4709, 0.0), (4710, 0.0), (4711, 0.0), (4713, 0.0), (4718, 0.0), (4719, 0.0), (4722, 0.0), (4724, 0.0), (4725, 0.0), (4727, 0.0), (4730, 0.0), (4733, 0.0), (4736, 0.0), (4739, 0.0), (4740, 0.0), (4741, 0.0), (4742, 0.0), (4743, 0.0), (4750, 0.0), (4751, 0.0), (4758, 0.0), (4760, 0.0), (4764, 0.0), (4766, 0.0), (4767, 0.0), (4768, 0.0), (4770, 0.0), (4771, 0.0), (4774, 0.0), (4775, 0.0), (4779, 0.0), (4781, 0.0), (4787, 0.0), (4788, 0.0), (4790, 0.0), (4793, 0.0), (4796, 0.0), (4797, 0.0), (4799, 0.0), (4801, 0.0), (4802, 0.0), (4803, 0.0), (4804, 0.0), (4808, 0.0), (4809, 0.0), (4810, 0.0), (4811, 0.0), (4813, 0.0), (4815, 0.0), (4818, 0.0), (4820, 0.0), (4823, 0.0), (4825, 0.0), (4827, 0.0), (4831, 0.0), (4834, 0.0), (4836, 0.0), (4837, 0.0), (4838, 0.0), (4841, 0.0), (4842, 0.0), (4846, 0.0), (4848, 0.0), (4850, 0.0), (4856, 0.0), (4859, 0.0), (4863, 0.0), (4866, 0.0), (4867, 0.0), (4868, 0.0), (4870, 0.0), (4871, 0.0), (4873, 0.0), (4878, 0.0), (4884, 0.0), (4885, 0.0), (4886, 0.0), (4889, 0.0), (4891, 0.0), (4893, 0.0), (4894, 0.0), (4896, 0.0), (4898, 0.0), (4900, 0.0), (4901, 0.0), (4903, 0.0), (4906, 0.0), (4909, 0.0), (4910, 0.0), (4911, 0.0), (4912, 0.0), (4915, 0.0), (4921, 0.0), (4923, 0.0), (4925, 0.0), (4926, 0.0), (4927, 0.0), (4928, 0.0), (4929, 0.0), (4931, 0.0), (4935, 0.0), (4936, 0.0), (4938, 0.0), (4943, 0.0), (4944, 0.0), (4945, 0.0), (4946, 0.0), (4947, 0.0), (4951, 0.0), (4954, 0.0), (4957, 0.0), (4960, 0.0), (4961, 0.0), (4962, 0.0), (4967, 0.0), (4968, 0.0), (4971, 0.0), (4972, 0.0), (4977, 0.0), (4979, 0.0), (4980, 0.0), (4982, 0.0), (4984, 0.0), (4985, 0.0), (4986, 0.0), (4987, 0.0), (4989, 0.0), (4994, 0.0), (4997, 0.0), (4998, 0.0), (4999, 0.0), (5000, 0.0), (5002, 0.0), (5008, 0.0), (5011, 0.0), (5013, 0.0), (5015, 0.0), (5016, 0.0), (5019, 0.0), (5020, 0.0), (5021, 0.0), (5022, 0.0), (5028, 0.0), (5032, 0.0), (5036, 0.0), (5037, 0.0), (5039, 0.0), (5042, 0.0), (5049, 0.0), (5051, 0.0), (5052, 0.0), (5057, 0.0), (5058, 0.0), (5061, 0.0), (5063, 0.0), (5069, 0.0), (5072, 0.0), (5073, 0.0), (5077, 0.0), (5079, 0.0), (5081, 0.0), (5082, 0.0), (5084, 0.0), (5085, 0.0), (5086, 0.0), (5089, 0.0), (5091, 0.0), (5096, 0.0), (5098, 0.0), (5099, 0.0), (5105, 0.0), (5110, 0.0), (5111, 0.0), (5112, 0.0), (5113, 0.0), (5117, 0.0), (5120, 0.0), (5121, 0.0), (5122, 0.0), (5124, 0.0), (5126, 0.0), (5128, 0.0), (5132, 0.0), (5133, 0.0), (5135, 0.0), (5142, 0.0), (5145, 0.0), (5146, 0.0), (5148, 0.0), (5149, 0.0), (5151, 0.0), (5154, 0.0), (5158, 0.0), (5162, 0.0), (5164, 0.0), (5166, 0.0), (5167, 0.0), (5173, 0.0), (5174, 0.0), (5176, 0.0), (5180, 0.0), (5185, 0.0), (5190, 0.0), (5200, 0.0), (5205, 0.0), (5211, 0.0), (5212, 0.0), (5216, 0.0), (5218, 0.0), (5220, 0.0), (5221, 0.0), (5223, 0.0), (5224, 0.0), (5225, 0.0), (5227, 0.0), (5229, 0.0), (5230, 0.0), (5231, 0.0), (5234, 0.0), (5237, 0.0), (5238, 0.0), (5239, 0.0), (5240, 0.0), (5241, 0.0), (5242, 0.0), (5243, 0.0), (5244, 0.0), (5245, 0.0), (5247, 0.0), (5248, 0.0), (5250, 0.0), (5252, 0.0), (5255, 0.0), (5256, 0.0), (5257, 0.0), (5259, 0.0), (5260, 0.0), (5266, 0.0), (5267, 0.0), (5269, 0.0), (5272, 0.0), (5273, 0.0), (5276, 0.0), (5277, 0.0), (5278, 0.0), (5279, 0.0), (5280, 0.0), (5281, 0.0), (5284, 0.0), (5285, 0.0), (5286, 0.0), (5288, 0.0), (5289, 0.0), (5292, 0.0), (5293, 0.0), (5294, 0.0), (5296, 0.0), (5298, 0.0), (5301, 0.0), (5307, 0.0), (5309, 0.0), (5310, 0.0), (5315, 0.0), (5317, 0.0), (5318, 0.0), (5319, 0.0), (5321, 0.0), (5324, 0.0), (5326, 0.0), (5332, 0.0), (5333, 0.0), (5334, 0.0), (5336, 0.0), (5339, 0.0), (5341, 0.0), (5344, 0.0), (5345, 0.0), (5346, 0.0), (5347, 0.0), (5353, 0.0), (5354, 0.0), (5355, 0.0), (5356, 0.0), (5359, 0.0), (5360, 0.0), (5363, 0.0), (5364, 0.0), (5365, 0.0), (5366, 0.0), (5368, 0.0), (5372, 0.0), (5373, 0.0), (5376, 0.0), (5377, 0.0), (5378, 0.0), (5379, 0.0), (5381, 0.0), (5382, 0.0), (5386, 0.0), (5388, 0.0), (5390, 0.0), (5391, 0.0), (5392, 0.0), (5394, 0.0), (5395, 0.0), (5396, 0.0), (5397, 0.0), (5398, 0.0), (5399, 0.0), (5402, 0.0), (5403, 0.0), (5407, 0.0), (5410, 0.0), (5412, 0.0), (5414, 0.0), (5415, 0.0), (5416, 0.0), (5417, 0.0), (5418, 0.0), (5419, 0.0), (5421, 0.0), (5422, 0.0), (5426, 0.0), (5431, 0.0), (5433, 0.0), (5436, 0.0), (5437, 0.0), (5441, 0.0), (5442, 0.0), (5443, 0.0), (5446, 0.0), (5449, 0.0), (5453, 0.0), (5454, 0.0), (5455, 0.0), (5462, 0.0), (5463, 0.0), (5464, 0.0), (5465, 0.0), (5466, 0.0), (5467, 0.0), (5469, 0.0), (5470, 0.0), (5474, 0.0), (5475, 0.0), (5477, 0.0), (5478, 0.0), (5479, 0.0), (5480, 0.0), (5481, 0.0), (5483, 0.0), (5485, 0.0), (5486, 0.0), (5487, 0.0), (5490, 0.0), (5493, 0.0), (5501, 0.0), (5503, 0.0), (5512, 0.0), (5514, 0.0), (5515, 0.0), (5517, 0.0), (5518, 0.0), (5521, 0.0), (5531, 0.0), (5533, 0.0), (5535, 0.0), (5537, 0.0), (5538, 0.0), (5539, 0.0), (5540, 0.0), (5547, 0.0), (5548, 0.0), (5549, 0.0), (5551, 0.0), (5552, 0.0), (5554, 0.0), (5555, 0.0), (5556, 0.0), (5557, 0.0), (5561, 0.0), (5562, 0.0), (5567, 0.0), (5572, 0.0), (5575, 0.0), (5578, 0.0), (5579, 0.0), (5584, 0.0), (5585, 0.0), (5586, 0.0), (5590, 0.0), (5603, 0.0), (5604, 0.0), (5606, 0.0), (5609, 0.0), (5611, 0.0), (5618, 0.0), (5621, 0.0), (5622, 0.0), (5623, 0.0), (5624, 0.0), (5625, 0.0), (5631, 0.0), (5632, 0.0), (5635, 0.0), (5638, 0.0), (5640, 0.0), (5643, 0.0), (5645, 0.0), (5647, 0.0), (5650, 0.0), (5651, 0.0), (5653, 0.0), (5655, 0.0), (5657, 0.0), (5658, 0.0), (5663, 0.0), (5664, 0.0), (5665, 0.0), (5666, 0.0), (5669, 0.0), (5670, 0.0), (5673, 0.0), (5674, 0.0), (5677, 0.0), (5682, 0.0), (5683, 0.0), (5685, 0.0), (5687, 0.0), (5688, 0.0), (5690, 0.0), (5693, 0.0), (5695, 0.0), (5697, 0.0), (5698, 0.0), (5699, 0.0), (5701, 0.0), (5702, 0.0), (5703, 0.0), (5705, 0.0), (5713, 0.0), (5715, 0.0), (5716, 0.0), (5717, 0.0), (5718, 0.0), (5721, 0.0), (5722, 0.0), (5723, 0.0), (5727, 0.0), (5730, 0.0), (5734, 0.0), (5735, 0.0), (5736, 0.0), (5744, 0.0), (5745, 0.0), (5746, 0.0), (5749, 0.0), (5750, 0.0), (5753, 0.0), (5754, 0.0), (5755, 0.0), (5756, 0.0), (5757, 0.0), (5758, 0.0), (5759, 0.0), (5760, 0.0), (5761, 0.0), (5762, 0.0), (5764, 0.0), (5765, 0.0), (5766, 0.0), (5768, 0.0), (5769, 0.0), (5771, 0.0), (5772, 0.0), (5774, 0.0), (5775, 0.0), (5777, 0.0), (5778, 0.0), (5779, 0.0), (5780, 0.0), (5783, 0.0), (5784, 0.0), (5785, 0.0), (5786, 0.0), (5787, 0.0), (5789, 0.0), (5792, 0.0), (5793, 0.0), (5795, 0.0), (5798, 0.0), (5806, 0.0), (5807, 0.0), (5809, 0.0), (5810, 0.0), (5817, 0.0), (5819, 0.0), (5820, 0.0), (5821, 0.0), (5823, 0.0), (5826, 0.0), (5828, 0.0), (5831, 0.0), (5833, 0.0), (5834, 0.0), (5837, 0.0), (5838, 0.0), (5840, 0.0), (5841, 0.0), (5842, 0.0), (5843, 0.0), (5845, 0.0), (5848, 0.0), (5849, 0.0), (5851, 0.0), (5853, 0.0), (5854, 0.0), (5859, 0.0), (5861, 0.0), (5862, 0.0), (5865, 0.0), (5868, 0.0), (5869, 0.0), (5877, 0.0), (5878, 0.0), (5880, 0.0), (5881, 0.0), (5884, 0.0), (5885, 0.0), (5887, 0.0), (5888, 0.0), (5889, 0.0), (5892, 0.0), (5894, 0.0), (5898, 0.0), (5903, 0.0), (5904, 0.0), (5905, 0.0), (5907, 0.0), (5908, 0.0), (5911, 0.0), (5912, 0.0), (5913, 0.0), (5916, 0.0), (5920, 0.0), (5921, 0.0), (5924, 0.0), (5927, 0.0), (5930, 0.0), (5931, 0.0), (5932, 0.0), (5934, 0.0), (5937, 0.0), (5938, 0.0), (5940, 0.0), (5941, 0.0), (5943, 0.0), (5953, 0.0), (5954, 0.0), (5955, 0.0), (5956, 0.0), (5957, 0.0), (5958, 0.0), (5959, 0.0), (5960, 0.0), (5962, 0.0), (5963, 0.0), (5964, 0.0), (5965, 0.0), (5970, 0.0), (5974, 0.0), (5975, 0.0), (5979, 0.0), (5980, 0.0), (5982, 0.0), (5983, 0.0), (5984, 0.0), (5986, 0.0), (5987, 0.0), (5989, 0.0), (5992, 0.0), (5993, 0.0), (5994, 0.0), (5995, 0.0), (5996, 0.0), (5997, 0.0), (5999, 0.0), (6000, 0.0), (6003, 0.0), (6004, 0.0), (6006, 0.0), (6007, 0.0), (6008, 0.0), (6010, 0.0), (6011, 0.0), (6012, 0.0), (6013, 0.0), (6014, 0.0), (6016, 0.0), (6017, 0.0), (6018, 0.0), (6020, 0.0), (6021, 0.0), (6025, 0.0), (6028, 0.0), (6029, 0.0), (6031, 0.0), (6032, 0.0), (6033, 0.0), (6034, 0.0), (6038, 0.0), (6039, 0.0), (6040, 0.0), (6043, 0.0), (6045, 0.0), (6047, 0.0), (6048, 0.0), (6049, 0.0), (6050, 0.0), (6053, 0.0), (6055, 0.0), (6058, 0.0), (6059, 0.0), (6071, 0.0), (6072, 0.0), (6075, 0.0), (6080, 0.0), (6081, 0.0), (6082, 0.0), (6083, 0.0), (6084, 0.0), (6088, 0.0), (6089, 0.0), (6090, 0.0), (6092, 0.0), (6095, 0.0), (6096, 0.0), (6098, 0.0), (6100, 0.0), (6101, 0.0), (6102, 0.0), (6105, 0.0), (6107, 0.0), (6109, 0.0), (6112, 0.0), (6118, 0.0), (6120, 0.0), (6127, 0.0), (6128, 0.0), (6131, 0.0), (6135, 0.0), (6136, 0.0), (6137, 0.0), (6138, 0.0), (6139, 0.0), (6145, 0.0), (6146, 0.0), (6147, 0.0), (6148, 0.0), (6150, 0.0), (6155, 0.0), (6157, 0.0), (6161, 0.0), (6162, 0.0), (6168, 0.0), (6170, 0.0), (6178, 0.0), (6179, 0.0), (6180, 0.0), (6185, 0.0), (6190, 0.0), (6191, 0.0), (6193, 0.0), (6199, 0.0), (6202, 0.0), (6203, 0.0), (6204, 0.0), (6211, 0.0), (6215, 0.0), (6216, 0.0), (6217, 0.0), (6218, 0.0), (6219, 0.0), (6222, 0.0), (6224, 0.0), (6226, 0.0), (6229, 0.0), (6232, 0.0), (6235, 0.0), (6236, 0.0), (6237, 0.0), (6241, 0.0), (6242, 0.0), (6247, 0.0), (6251, 0.0), (6252, 0.0), (6260, 0.0), (6261, 0.0), (6262, 0.0), (6263, 0.0), (6265, 0.0), (6266, 0.0), (6269, 0.0), (6270, 0.0), (6274, 0.0), (6275, 0.0), (6278, 0.0), (6279, 0.0), (6280, 0.0), (6284, 0.0), (6286, 0.0), (6291, 0.0), (6292, 0.0), (6294, 0.0), (6301, 0.0), (6302, 0.0), (6304, 0.0), (6306, 0.0), (6309, 0.0), (6315, 0.0), (6319, 0.0), (6320, 0.0), (6324, 0.0), (6330, 0.0), (6332, 0.0), (6337, 0.0), (6340, 0.0), (6341, 0.0), (6343, 0.0), (6344, 0.0), (6346, 0.0), (6348, 0.0), (6350, 0.0), (6352, 0.0), (6353, 0.0), (6356, 0.0), (6357, 0.0), (6368, 0.0), (6375, 0.0), (6377, 0.0), (6379, 0.0), (6388, 0.0), (6389, 0.0), (6390, 0.0), (6391, 0.0), (6392, 0.0), (6393, 0.0), (6394, 0.0), (6395, 0.0), (6396, 0.0), (6398, 0.0), (6402, 0.0), (6404, 0.0), (6406, 0.0), (6409, 0.0), (6411, 0.0), (6412, 0.0), (6413, 0.0), (6415, 0.0), (6421, 0.0), (6424, 0.0), (6428, 0.0), (6430, 0.0), (6431, 0.0), (6435, 0.0), (6436, 0.0), (6438, 0.0), (6439, 0.0), (6442, 0.0), (6446, 0.0), (6447, 0.0), (6450, 0.0), (6451, 0.0), (6454, 0.0), (6455, 0.0), (6456, 0.0), (6457, 0.0), (6458, 0.0), (6459, 0.0), (6460, 0.0), (6464, 0.0), (6466, 0.0), (6467, 0.0), (6468, 0.0), (6469, 0.0), (6474, 0.0), (6476, 0.0), (6479, 0.0), (6481, 0.0), (6482, 0.0), (6484, 0.0), (6486, 0.0), (6488, 0.0), (6491, 0.0), (6492, 0.0), (6493, 0.0), (6495, 0.0), (6497, 0.0), (6498, 0.0), (6500, 0.0), (6502, 0.0), (6504, 0.0), (6507, 0.0), (6509, 0.0), (6510, 0.0), (6511, 0.0), (6512, 0.0), (6513, 0.0), (6515, 0.0), (6517, 0.0), (6522, 0.0), (6523, 0.0), (6527, 0.0), (6528, 0.0), (6530, 0.0), (6531, 0.0), (6533, 0.0), (6535, 0.0), (6539, 0.0), (6541, 0.0), (6542, 0.0), (6547, 0.0), (6550, 0.0), (6551, 0.0), (6552, 0.0), (6554, 0.0), (6555, 0.0), (6556, 0.0), (6559, 0.0), (6560, 0.0), (6565, 0.0), (6570, 0.0), (6571, 0.0), (6572, 0.0), (6573, 0.0), (6575, 0.0), (6576, 0.0), (6579, 0.0), (6581, 0.0), (6587, 0.0), (6590, 0.0), (6593, 0.0), (6596, 0.0), (6599, 0.0), (6606, 0.0), (6607, 0.0), (6617, 0.0), (6619, 0.0), (6620, 0.0), (6622, 0.0), (6623, 0.0), (6624, 0.0), (6627, 0.0), (6628, 0.0), (6629, 0.0), (6632, 0.0), (6634, 0.0), (6636, 0.0), (6638, 0.0), (6641, 0.0), (6644, 0.0), (6645, 0.0), (6649, 0.0), (6650, 0.0), (6653, 0.0), (6654, 0.0), (6655, 0.0), (6658, 0.0), (6660, 0.0), (6661, 0.0), (6662, 0.0), (6664, 0.0), (6667, 0.0), (6668, 0.0), (6669, 0.0), (6673, 0.0), (6674, 0.0), (6676, 0.0), (6682, 0.0), (6684, 0.0), (6685, 0.0), (6686, 0.0), (6691, 0.0), (6694, 0.0), (6696, 0.0), (6699, 0.0), (6700, 0.0), (6701, 0.0), (6703, 0.0), (6705, 0.0), (6711, 0.0), (6712, 0.0), (6713, 0.0), (6716, 0.0), (6717, 0.0), (6718, 0.0), (6719, 0.0), (6726, 0.0), (6729, 0.0), (6731, 0.0), (6732, 0.0), (6734, 0.0), (6738, 0.0), (6739, 0.0), (6741, 0.0), (6742, 0.0), (6743, 0.0), (6748, 0.0), (6750, 0.0), (6752, 0.0), (6755, 0.0), (6756, 0.0), (6757, 0.0), (6759, 0.0), (6760, 0.0), (6763, 0.0), (6765, 0.0), (6770, 0.0), (6772, 0.0), (6773, 0.0), (6774, 0.0), (6776, 0.0), (6783, 0.0), (6785, 0.0), (6788, 0.0), (6789, 0.0), (6790, 0.0), (6791, 0.0), (6796, 0.0), (6799, 0.0), (6800, 0.0), (6803, 0.0), (6812, 0.0), (6816, 0.0), (6817, 0.0), (6820, 0.0), (6827, 0.0), (6828, 0.0), (6830, 0.0), (6832, 0.0), (6834, 0.0), (6835, 0.0), (6838, 0.0), (6841, 0.0), (6842, 0.0), (6843, 0.0), (6845, 0.0), (6846, 0.0), (6848, 0.0), (6850, 0.0), (6854, 0.0), (6860, 0.0), (6863, 0.0), (6867, 0.0), (6869, 0.0), (6871, 0.0), (6874, 0.0), (6875, 0.0), (6876, 0.0), (6877, 0.0), (6878, 0.0), (6879, 0.0), (6881, 0.0), (6884, 0.0), (6885, 0.0), (6887, 0.0), (6890, 0.0), (6891, 0.0), (6895, 0.0), (6896, 0.0), (6900, 0.0), (6902, 0.0), (6904, 0.0), (6905, 0.0), (6909, 0.0), (6910, 0.0), (6916, 0.0), (6917, 0.0), (6919, 0.0), (6920, 0.0), (6926, 0.0), (6929, 0.0), (6930, 0.0), (6933, 0.0), (6935, 0.0), (6936, 0.0), (6937, 0.0), (6938, 0.0), (6939, 0.0), (6940, 0.0), (6941, 0.0), (6947, 0.0), (6950, 0.0), (6953, 0.0), (6955, 0.0), (6956, 0.0), (6958, 0.0), (6960, 0.0), (6964, 0.0), (6965, 0.0), (6967, 0.0), (6969, 0.0), (6970, 0.0), (6971, 0.0), (6974, 0.0), (6976, 0.0), (6977, 0.0), (6979, 0.0), (6980, 0.0), (6981, 0.0), (6983, 0.0), (6985, 0.0), (6988, 0.0), (6989, 0.0), (6991, 0.0), (6993, 0.0), (6996, 0.0), (6997, 0.0), (7000, 0.0), (7005, 0.0), (7008, 0.0), (7009, 0.0), (7012, 0.0), (7013, 0.0), (7014, 0.0), (7015, 0.0), (7020, 0.0), (7021, 0.0), (7025, 0.0), (7026, 0.0), (7029, 0.0), (7030, 0.0), (7033, 0.0), (7036, 0.0), (7037, 0.0), (7040, 0.0), (7042, 0.0), (7043, 0.0), (7044, 0.0), (7046, 0.0), (7047, 0.0), (7048, 0.0), (7051, 0.0), (7052, 0.0), (7054, 0.0), (7055, 0.0), (7060, 0.0), (7062, 0.0), (7066, 0.0), (7068, 0.0), (7069, 0.0), (7072, 0.0), (7073, 0.0), (7074, 0.0), (7075, 0.0), (7076, 0.0), (7077, 0.0), (7078, 0.0), (7079, 0.0), (7083, 0.0), (7085, 0.0), (7090, 0.0), (7091, 0.0), (7093, 0.0), (7094, 0.0), (7099, 0.0), (7100, 0.0), (7101, 0.0), (7105, 0.0), (7107, 0.0), (7108, 0.0), (7110, 0.0), (7115, 0.0), (7116, 0.0), (7118, 0.0), (7122, 0.0), (7125, 0.0), (7126, 0.0), (7127, 0.0), (7129, 0.0), (7132, 0.0), (7133, 0.0), (7137, 0.0), (7138, 0.0), (7139, 0.0), (7140, 0.0), (7142, 0.0), (7144, 0.0), (7146, 0.0), (7149, 0.0), (7152, 0.0), (7153, 0.0), (7155, 0.0), (7157, 0.0), (7159, 0.0), (7162, 0.0), (7164, 0.0), (7166, 0.0), (7168, 0.0), (7170, 0.0), (7172, 0.0), (7174, 0.0), (7175, 0.0), (7176, 0.0), (7179, 0.0), (7183, 0.0), (7184, 0.0), (7186, 0.0), (7188, 0.0), (7189, 0.0), (7191, 0.0), (7192, 0.0), (7195, 0.0), (7198, 0.0), (7200, 0.0), (7208, 0.0), (7209, 0.0), (7214, 0.0), (7215, 0.0), (7216, 0.0), (7219, 0.0), (7220, 0.0), (7222, 0.0), (7225, 0.0), (7226, 0.0), (7227, 0.0), (7231, 0.0), (7234, 0.0), (7237, 0.0), (7241, 0.0), (7242, 0.0), (7245, 0.0), (7251, 0.0), (7252, 0.0), (7255, 0.0), (7258, 0.0), (7259, 0.0), (7260, 0.0), (7264, 0.0), (7265, 0.0), (7267, 0.0), (7270, 0.0), (7280, 0.0), (7281, 0.0), (7282, 0.0), (7285, 0.0), (7288, 0.0), (7289, 0.0), (7291, 0.0), (7293, 0.0), (7296, 0.0), (7298, 0.0), (7299, 0.0), (7301, 0.0), (7303, 0.0), (7304, 0.0), (7306, 0.0), (7312, 0.0), (7314, 0.0), (7315, 0.0), (7320, 0.0), (7323, 0.0), (7324, 0.0), (7326, 0.0), (7327, 0.0), (7328, 0.0), (7329, 0.0), (7330, 0.0), (7333, 0.0), (7335, 0.0), (7341, 0.0), (7346, 0.0), (7347, 0.0), (7348, 0.0), (7349, 0.0), (7350, 0.0), (7351, 0.0), (7353, 0.0), (7356, 0.0), (7357, 0.0), (7359, 0.0), (7362, 0.0), (7363, 0.0), (7374, 0.0), (7376, 0.0), (7380, 0.0), (7381, 0.0), (7384, 0.0), (7390, 0.0), (7392, 0.0), (7396, 0.0), (7398, 0.0), (7402, 0.0), (7405, 0.0), (7408, 0.0), (7412, 0.0), (7415, 0.0), (7418, 0.0), (7419, 0.0), (7421, 0.0), (7427, 0.0), (7428, 0.0), (7432, 0.0), (7435, 0.0), (7437, 0.0), (7440, 0.0), (7442, 0.0), (7446, 0.0), (7447, 0.0), (7448, 0.0), (7456, 0.0), (7458, 0.0), (7461, 0.0), (7462, 0.0), (7463, 0.0), (7465, 0.0), (7467, 0.0), (7472, 0.0), (7473, 0.0), (7474, 0.0), (7475, 0.0), (7481, 0.0), (7483, 0.0), (7484, 0.0), (7488, 0.0), (7490, 0.0), (7491, 0.0), (7495, 0.0), (7496, 0.0), (7499, 0.0), (7502, 0.0), (7503, 0.0), (7504, 0.0), (7506, 0.0), (7508, 0.0), (7509, 0.0), (7513, 0.0), (7514, 0.0), (7516, 0.0), (7518, 0.0), (7523, 0.0), (7524, 0.0), (7527, 0.0), (7529, 0.0), (7533, 0.0), (7534, 0.0), (7536, 0.0), (7537, 0.0), (7540, 0.0), (7542, 0.0), (7545, 0.0), (7546, 0.0), (7547, 0.0), (7548, 0.0), (7552, 0.0), (7553, 0.0), (7557, 0.0), (7559, 0.0), (7561, 0.0), (7566, 0.0), (7569, 0.0), (7570, 0.0), (7577, 0.0), (7579, 0.0), (7583, 0.0), (7584, 0.0), (7586, 0.0), (7588, 0.0), (7594, 0.0), (7597, 0.0), (7600, 0.0), (7603, 0.0), (7604, 0.0), (7606, 0.0), (7612, 0.0), (7613, 0.0), (7614, 0.0), (7621, 0.0), (7623, 0.0), (7627, 0.0), (7630, 0.0), (7634, 0.0), (7636, 0.0), (7637, 0.0), (7638, 0.0), (7639, 0.0), (7642, 0.0), (7643, 0.0), (7645, 0.0), (7646, 0.0), (7650, 0.0), (7652, 0.0), (7654, 0.0), (7658, 0.0), (7660, 0.0), (7662, 0.0), (7666, 0.0), (7669, 0.0), (7670, 0.0), (7671, 0.0), (7674, 0.0), (7675, 0.0), (7676, 0.0), (7679, 0.0), (7681, 0.0), (7683, 0.0), (7684, 0.0), (7687, 0.0), (7689, 0.0), (7691, 0.0), (7693, 0.0), (7697, 0.0), (7698, 0.0), (7704, 0.0), (7706, 0.0), (7707, 0.0), (7709, 0.0), (7715, 0.0), (7716, 0.0), (7723, 0.0), (7724, 0.0), (7726, 0.0), (7727, 0.0), (7728, 0.0), (7729, 0.0), (7733, 0.0), (7735, 0.0), (7736, 0.0), (7738, 0.0), (7743, 0.0), (7747, 0.0), (7749, 0.0), (7752, 0.0), (7753, 0.0), (7755, 0.0), (7759, 0.0), (7760, 0.0), (7761, 0.0), (7762, 0.0), (7763, 0.0), (7764, 0.0), (7770, 0.0), (7773, 0.0), (7774, 0.0), (7788, 0.0), (7790, 0.0), (7793, 0.0), (7795, 0.0), (7796, 0.0), (7799, 0.0), (7800, 0.0), (7801, 0.0), (7802, 0.0), (7809, 0.0), (7810, 0.0), (7812, 0.0), (7813, 0.0), (7818, 0.0), (7822, 0.0), (7823, 0.0), (7824, 0.0), (7825, 0.0), (7827, 0.0), (7828, 0.0), (7829, 0.0), (7834, 0.0), (7843, 0.0), (7844, 0.0), (7847, 0.0), (7855, 0.0), (7856, 0.0), (7860, 0.0), (7866, 0.0), (7867, 0.0), (7869, 0.0), (7870, 0.0), (7872, 0.0), (7875, 0.0), (7877, 0.0), (7880, 0.0), (7884, 0.0), (7887, 0.0), (7889, 0.0), (7891, 0.0), (7892, 0.0), (7893, 0.0), (7894, 0.0), (7895, 0.0), (7896, 0.0), (7897, 0.0), (7898, 0.0), (7901, 0.0), (7903, 0.0), (7907, 0.0), (7910, 0.0), (7911, 0.0), (7912, 0.0), (7915, 0.0), (7916, 0.0), (7919, 0.0), (7922, 0.0), (7923, 0.0), (7934, 0.0), (7935, 0.0), (7940, 0.0), (7941, 0.0), (7943, 0.0), (7945, 0.0), (7948, 0.0), (7949, 0.0), (7950, 0.0), (7951, 0.0), (7952, 0.0), (7953, 0.0), (7955, 0.0), (7960, 0.0), (7961, 0.0), (7965, 0.0), (7966, 0.0), (7967, 0.0), (7969, 0.0), (7971, 0.0), (7972, 0.0), (7974, 0.0), (7978, 0.0), (7983, 0.0), (7984, 0.0), (7985, 0.0), (7986, 0.0), (7987, 0.0), (7988, 0.0), (7989, 0.0), (7990, 0.0), (7992, 0.0), (7994, 0.0), (7997, 0.0), (7998, 0.0), (8000, 0.0), (8003, 0.0), (8004, 0.0), (8006, 0.0), (8009, 0.0), (8011, 0.0), (8014, 0.0), (8015, 0.0), (8017, 0.0), (8018, 0.0), (8019, 0.0), (8022, 0.0), (8026, 0.0), (8027, 0.0), (8029, 0.0), (8030, 0.0), (8031, 0.0), (8032, 0.0), (8033, 0.0), (8034, 0.0), (8036, 0.0), (8039, 0.0), (8041, 0.0), (8042, 0.0), (8043, 0.0), (8050, 0.0), (8051, 0.0), (8057, 0.0), (8058, 0.0), (8059, 0.0), (8061, 0.0), (8062, 0.0), (8064, 0.0), (8067, 0.0), (8068, 0.0), (8070, 0.0), (8074, 0.0), (8077, 0.0), (8079, 0.0), (8080, 0.0), (8083, 0.0), (8086, 0.0), (8087, 0.0), (8088, 0.0), (8089, 0.0), (8094, 0.0), (8096, 0.0), (8098, 0.0), (8100, 0.0), (8103, 0.0), (8105, 0.0), (8106, 0.0), (8111, 0.0), (8114, 0.0), (8115, 0.0), (8126, 0.0), (8130, 0.0), (8132, 0.0), (8134, 0.0), (8139, 0.0), (8143, 0.0), (8144, 0.0), (8152, 0.0), (8165, 0.0), (8166, 0.0), (8168, 0.0), (8170, 0.0), (8173, 0.0), (8176, 0.0), (8181, 0.0), (8188, 0.0), (8190, 0.0), (8194, 0.0), (8195, 0.0), (8196, 0.0), (8199, 0.0), (8200, 0.0), (8202, 0.0), (8206, 0.0), (8207, 0.0), (8211, 0.0), (8215, 0.0), (8216, 0.0), (8217, 0.0), (8218, 0.0), (8219, 0.0), (8220, 0.0), (8223, 0.0), (8224, 0.0), (8225, 0.0), (8226, 0.0), (8227, 0.0), (8231, 0.0), (8233, 0.0), (8236, 0.0), (8237, 0.0), (8238, 0.0), (8239, 0.0), (8240, 0.0), (8241, 0.0), (8243, 0.0), (8244, 0.0), (8245, 0.0), (8246, 0.0), (8247, 0.0), (8250, 0.0), (8253, 0.0), (8256, 0.0), (8257, 0.0), (8258, 0.0), (8259, 0.0), (8264, 0.0), (8266, 0.0), (8267, 0.0), (8274, 0.0), (8287, 0.0), (8288, 0.0), (8293, 0.0), (8295, 0.0), (8296, 0.0), (8299, 0.0), (8301, 0.0), (8303, 0.0), (8309, 0.0), (8313, 0.0), (8318, 0.0), (8319, 0.0), (8322, 0.0), (8323, 0.0), (8324, 0.0), (8325, 0.0), (8326, 0.0), (8327, 0.0), (8328, 0.0), (8330, 0.0), (8332, 0.0), (8335, 0.0), (8336, 0.0), (8337, 0.0), (8338, 0.0), (8339, 0.0), (8340, 0.0), (8346, 0.0), (8348, 0.0), (8350, 0.0), (8352, 0.0), (8353, 0.0), (8356, 0.0), (8357, 0.0), (8358, 0.0), (8362, 0.0), (8363, 0.0), (8366, 0.0), (8367, 0.0), (8373, 0.0), (8374, 0.0), (8375, 0.0), (8377, 0.0), (8379, 0.0), (8380, 0.0), (8382, 0.0), (8384, 0.0), (8385, 0.0), (8386, 0.0), (8388, 0.0), (8390, 0.0), (8392, 0.0), (8394, 0.0), (8397, 0.0), (8399, 0.0), (8400, 0.0), (8408, 0.0), (8410, 0.0), (8411, 0.0), (8413, 0.0), (8415, 0.0), (8416, 0.0), (8418, 0.0), (8422, 0.0), (8426, 0.0), (8430, 0.0), (8431, 0.0), (8433, 0.0), (8438, 0.0), (8448, 0.0), (8450, 0.0), (8453, 0.0), (8463, 0.0), (8464, 0.0), (8468, 0.0), (8470, 0.0), (8472, 0.0), (8475, 0.0), (8479, 0.0), (8483, 0.0), (8485, 0.0), (8486, 0.0), (8488, 0.0), (8493, 0.0), (8495, 0.0), (8501, 0.0), (8503, 0.0), (8504, 0.0), (8505, 0.0), (8507, 0.0), (8508, 0.0), (8511, 0.0), (8512, 0.0), (8513, 0.0), (8514, 0.0), (8515, 0.0), (8516, 0.0), (8524, 0.0), (8525, 0.0), (8526, 0.0), (8528, 0.0), (8530, 0.0), (8532, 0.0), (8537, 0.0), (8538, 0.0), (8543, 0.0), (8545, 0.0), (8546, 0.0), (8549, 0.0), (8551, 0.0), (8552, 0.0), (8554, 0.0), (8555, 0.0), (8561, 0.0), (8565, 0.0), (8568, 0.0), (8570, 0.0), (8571, 0.0), (8572, 0.0), (8577, 0.0), (8580, 0.0), (8586, 0.0), (8587, 0.0), (8588, 0.0), (8589, 0.0), (8591, 0.0), (8594, 0.0), (8596, 0.0), (8600, 0.0), (8601, 0.0), (8603, 0.0), (8605, 0.0), (8606, 0.0), (8613, 0.0), (8615, 0.0), (8617, 0.0), (8621, 0.0), (8626, 0.0), (8627, 0.0), (8629, 0.0), (8632, 0.0), (8633, 0.0), (8634, 0.0), (8636, 0.0), (8637, 0.0), (8638, 0.0), (8642, 0.0), (8643, 0.0), (8644, 0.0), (8647, 0.0), (8648, 0.0), (8649, 0.0), (8653, 0.0), (8655, 0.0), (8656, 0.0), (8657, 0.0), (8658, 0.0), (8662, 0.0), (8664, 0.0), (8673, 0.0), (8675, 0.0), (8676, 0.0), (8677, 0.0), (8682, 0.0), (8686, 0.0), (8688, 0.0), (8689, 0.0), (8695, 0.0), (8697, 0.0), (8698, 0.0), (8699, 0.0), (8700, 0.0), (8701, 0.0), (8702, 0.0), (8703, 0.0), (8709, 0.0), (8710, 0.0), (8712, 0.0), (8716, 0.0), (8718, 0.0), (8719, 0.0), (8720, 0.0), (8724, 0.0), (8727, 0.0), (8730, 0.0), (8731, 0.0), (8732, 0.0), (8733, 0.0), (8734, 0.0), (8735, 0.0), (8738, 0.0), (8740, 0.0), (8741, 0.0), (8745, 0.0), (8746, 0.0), (8756, 0.0), (8763, 0.0), (8765, 0.0), (8768, 0.0), (8769, 0.0), (8772, 0.0), (8773, 0.0), (8775, 0.0), (8781, 0.0), (8782, 0.0), (8784, 0.0), (8786, 0.0), (8787, 0.0), (8791, 0.0), (8792, 0.0), (8794, 0.0), (8795, 0.0), (8798, 0.0), (8800, 0.0), (8802, 0.0), (8805, 0.0), (8810, 0.0), (8811, 0.0), (8813, 0.0), (8815, 0.0), (8819, 0.0), (8820, 0.0), (8823, 0.0), (8824, 0.0), (8827, 0.0), (8828, 0.0), (8829, 0.0), (8831, 0.0), (8835, 0.0), (8840, 0.0), (8842, 0.0), (8848, 0.0), (8851, 0.0), (8852, 0.0), (8854, 0.0), (8856, 0.0), (8858, 0.0), (8859, 0.0), (8860, 0.0), (8861, 0.0), (8862, 0.0), (8864, 0.0), (8865, 0.0), (8866, 0.0), (8868, 0.0), (8869, 0.0), (8870, 0.0), (8872, 0.0), (8873, 0.0), (8876, 0.0), (8877, 0.0), (8878, 0.0), (8881, 0.0), (8882, 0.0), (8885, 0.0), (8890, 0.0), (8892, 0.0), (8894, 0.0), (8904, 0.0), (8905, 0.0), (8908, 0.0), (8909, 0.0), (8910, 0.0), (8911, 0.0), (8918, 0.0), (8921, 0.0), (8922, 0.0), (8923, 0.0), (8927, 0.0), (8929, 0.0), (8933, 0.0), (8937, 0.0), (8938, 0.0), (8940, 0.0), (8942, 0.0), (8946, 0.0), (8947, 0.0), (8948, 0.0), (8949, 0.0), (8954, 0.0), (8956, 0.0), (8958, 0.0), (8959, 0.0), (8964, 0.0), (8965, 0.0), (8969, 0.0), (8970, 0.0), (8972, 0.0), (8973, 0.0), (8974, 0.0), (8977, 0.0), (8981, 0.0), (8983, 0.0), (8984, 0.0), (8986, 0.0), (8993, 0.0), (8994, 0.0), (8995, 0.0), (9001, 0.0), (9002, 0.0), (9004, 0.0), (9005, 0.0), (9006, 0.0), (9011, 0.0), (9012, 0.0), (9016, 0.0), (9019, 0.0), (9020, 0.0), (9022, 0.0), (9024, 0.0), (9025, 0.0), (9031, 0.0), (9034, 0.0), (9036, 0.0), (9037, 0.0), (9039, 0.0), (9040, 0.0), (9043, 0.0), (9044, 0.0), (9048, 0.0), (9050, 0.0), (9051, 0.0), (9054, 0.0), (9057, 0.0), (9058, 0.0), (9059, 0.0), (9067, 0.0), (9070, 0.0), (9075, 0.0), (9079, 0.0), (9080, 0.0), (9082, 0.0), (9083, 0.0), (9084, 0.0), (9085, 0.0), (9087, 0.0), (9089, 0.0), (9090, 0.0), (9091, 0.0), (9092, 0.0), (9094, 0.0), (9096, 0.0), (9097, 0.0), (9098, 0.0), (9099, 0.0), (9102, 0.0), (9104, 0.0), (9105, 0.0), (9106, 0.0), (9109, 0.0), (9113, 0.0), (9115, 0.0), (9117, 0.0), (9119, 0.0), (9121, 0.0), (9136, 0.0), (9137, 0.0), (9140, 0.0), (9141, 0.0), (9142, 0.0), (9143, 0.0), (9144, 0.0), (9145, 0.0), (9148, 0.0), (9149, 0.0), (9150, 0.0), (9151, 0.0), (9154, 0.0), (9155, 0.0), (9156, 0.0), (9157, 0.0), (9158, 0.0), (9159, 0.0), (9160, 0.0), (9161, 0.0), (9162, 0.0), (9163, 0.0), (9168, 0.0), (9169, 0.0), (9172, 0.0), (9174, 0.0), (9178, 0.0), (9180, 0.0), (9181, 0.0), (9183, 0.0), (9187, 0.0), (9188, 0.0), (9189, 0.0), (9194, 0.0), (9195, 0.0), (9198, 0.0), (9200, 0.0), (9201, 0.0), (9206, 0.0), (9207, 0.0), (9208, 0.0), (9209, 0.0), (9212, 0.0), (9214, 0.0), (9216, 0.0), (9217, 0.0)]\n"
     ]
    },
    {
     "data": {
      "text/html": [
       "<div>\n",
       "<style scoped>\n",
       "    .dataframe tbody tr th:only-of-type {\n",
       "        vertical-align: middle;\n",
       "    }\n",
       "\n",
       "    .dataframe tbody tr th {\n",
       "        vertical-align: top;\n",
       "    }\n",
       "\n",
       "    .dataframe thead th {\n",
       "        text-align: right;\n",
       "    }\n",
       "</style>\n",
       "<table border=\"1\" class=\"dataframe\">\n",
       "  <thead>\n",
       "    <tr style=\"text-align: right;\">\n",
       "      <th></th>\n",
       "      <th>movieId</th>\n",
       "      <th>sim_score</th>\n",
       "    </tr>\n",
       "  </thead>\n",
       "  <tbody>\n",
       "    <tr>\n",
       "      <th>2522</th>\n",
       "      <td>3114</td>\n",
       "      <td>0.287568</td>\n",
       "    </tr>\n",
       "    <tr>\n",
       "      <th>7629</th>\n",
       "      <td>78499</td>\n",
       "      <td>0.232597</td>\n",
       "    </tr>\n",
       "    <tr>\n",
       "      <th>6267</th>\n",
       "      <td>35836</td>\n",
       "      <td>0.123023</td>\n",
       "    </tr>\n",
       "    <tr>\n",
       "      <th>8432</th>\n",
       "      <td>103335</td>\n",
       "      <td>0.107159</td>\n",
       "    </tr>\n",
       "    <tr>\n",
       "      <th>2751</th>\n",
       "      <td>3429</td>\n",
       "      <td>0.105082</td>\n",
       "    </tr>\n",
       "    <tr>\n",
       "      <th>2567</th>\n",
       "      <td>3174</td>\n",
       "      <td>0.097089</td>\n",
       "    </tr>\n",
       "    <tr>\n",
       "      <th>1432</th>\n",
       "      <td>1822</td>\n",
       "      <td>0.094870</td>\n",
       "    </tr>\n",
       "    <tr>\n",
       "      <th>6809</th>\n",
       "      <td>54272</td>\n",
       "      <td>0.089347</td>\n",
       "    </tr>\n",
       "    <tr>\n",
       "      <th>3833</th>\n",
       "      <td>4886</td>\n",
       "      <td>0.088238</td>\n",
       "    </tr>\n",
       "    <tr>\n",
       "      <th>7254</th>\n",
       "      <td>67295</td>\n",
       "      <td>0.087241</td>\n",
       "    </tr>\n",
       "  </tbody>\n",
       "</table>\n",
       "</div>"
      ],
      "text/plain": [
       "      movieId  sim_score\n",
       "2522     3114   0.287568\n",
       "7629    78499   0.232597\n",
       "6267    35836   0.123023\n",
       "8432   103335   0.107159\n",
       "2751     3429   0.105082\n",
       "2567     3174   0.097089\n",
       "1432     1822   0.094870\n",
       "6809    54272   0.089347\n",
       "3833     4886   0.088238\n",
       "7254    67295   0.087241"
      ]
     },
     "execution_count": 42,
     "metadata": {},
     "output_type": "execute_result"
    }
   ],
   "source": [
    "get_recommendation_new('Toy Story', full_data)"
   ]
  },
  {
   "cell_type": "markdown",
   "id": "10d8d47e",
   "metadata": {},
   "source": [
    "**Popularity Model**"
   ]
  },
  {
   "cell_type": "code",
   "execution_count": 31,
   "id": "980f74de",
   "metadata": {},
   "outputs": [],
   "source": [
    "# get user's favourite genres\n",
    "user_top_gen = user_top_genre(1, user_info, idx_to_genre)"
   ]
  },
  {
   "cell_type": "code",
   "execution_count": 32,
   "id": "0907c47f",
   "metadata": {},
   "outputs": [
    {
     "data": {
      "text/plain": [
       "[135887, 115617, 5618, 4886, 152081, 152081, 6377, 103335, 106696, 134853]"
      ]
     },
     "execution_count": 32,
     "metadata": {},
     "output_type": "execute_result"
    }
   ],
   "source": [
    "# popular movie id based on genres\n",
    "popularity = genre_based_popularity('Animation', full_data)\n",
    "popularity"
   ]
  },
  {
   "cell_type": "markdown",
   "id": "430b7334",
   "metadata": {},
   "source": [
    "**Hybrid Model**"
   ]
  },
  {
   "cell_type": "code",
   "execution_count": 61,
   "id": "84116466",
   "metadata": {},
   "outputs": [
    {
     "data": {
      "text/html": [
       "<div>\n",
       "<style scoped>\n",
       "    .dataframe tbody tr th:only-of-type {\n",
       "        vertical-align: middle;\n",
       "    }\n",
       "\n",
       "    .dataframe tbody tr th {\n",
       "        vertical-align: top;\n",
       "    }\n",
       "\n",
       "    .dataframe thead th {\n",
       "        text-align: right;\n",
       "    }\n",
       "</style>\n",
       "<table border=\"1\" class=\"dataframe\">\n",
       "  <thead>\n",
       "    <tr style=\"text-align: right;\">\n",
       "      <th></th>\n",
       "      <th>userId</th>\n",
       "      <th>movieId</th>\n",
       "      <th>est</th>\n",
       "      <th>Model</th>\n",
       "      <th>title</th>\n",
       "      <th>genre</th>\n",
       "    </tr>\n",
       "  </thead>\n",
       "  <tbody>\n",
       "    <tr>\n",
       "      <th>5</th>\n",
       "      <td>1</td>\n",
       "      <td>1219</td>\n",
       "      <td>3.417630</td>\n",
       "      <td>Popularity</td>\n",
       "      <td>[Psycho]</td>\n",
       "      <td>[[Drama, Horror, Thriller]]</td>\n",
       "    </tr>\n",
       "    <tr>\n",
       "      <th>2</th>\n",
       "      <td>1</td>\n",
       "      <td>356</td>\n",
       "      <td>3.371570</td>\n",
       "      <td>Popularity</td>\n",
       "      <td>[Forrest Gump]</td>\n",
       "      <td>[[Comedy, Drama, Romance]]</td>\n",
       "    </tr>\n",
       "    <tr>\n",
       "      <th>10</th>\n",
       "      <td>1</td>\n",
       "      <td>99114</td>\n",
       "      <td>3.276081</td>\n",
       "      <td>Popularity</td>\n",
       "      <td>[Django Unchained]</td>\n",
       "      <td>[[Drama, Western]]</td>\n",
       "    </tr>\n",
       "    <tr>\n",
       "      <th>9</th>\n",
       "      <td>1</td>\n",
       "      <td>128360</td>\n",
       "      <td>3.202220</td>\n",
       "      <td>Popularity</td>\n",
       "      <td>[The Hateful Eight]</td>\n",
       "      <td>[[Crime, Drama, Mystery, Western]]</td>\n",
       "    </tr>\n",
       "    <tr>\n",
       "      <th>8</th>\n",
       "      <td>1</td>\n",
       "      <td>139385</td>\n",
       "      <td>3.082193</td>\n",
       "      <td>Popularity</td>\n",
       "      <td>[The Revenant]</td>\n",
       "      <td>[[Western, Drama, Adventure, Thriller]]</td>\n",
       "    </tr>\n",
       "    <tr>\n",
       "      <th>3</th>\n",
       "      <td>1</td>\n",
       "      <td>152017</td>\n",
       "      <td>2.936507</td>\n",
       "      <td>Popularity</td>\n",
       "      <td>[Me Before You, Me Before You]</td>\n",
       "      <td>[[Drama, Romance], [Drama, Romance]]</td>\n",
       "    </tr>\n",
       "    <tr>\n",
       "      <th>0</th>\n",
       "      <td>1</td>\n",
       "      <td>movieId</td>\n",
       "      <td>2.854043</td>\n",
       "      <td>Similarity</td>\n",
       "      <td>[]</td>\n",
       "      <td>[]</td>\n",
       "    </tr>\n",
       "    <tr>\n",
       "      <th>1</th>\n",
       "      <td>1</td>\n",
       "      <td>sim_score</td>\n",
       "      <td>2.854043</td>\n",
       "      <td>Similarity</td>\n",
       "      <td>[]</td>\n",
       "      <td>[]</td>\n",
       "    </tr>\n",
       "    <tr>\n",
       "      <th>6</th>\n",
       "      <td>1</td>\n",
       "      <td>112818</td>\n",
       "      <td>2.655662</td>\n",
       "      <td>Popularity</td>\n",
       "      <td>[The Purge: Anarchy]</td>\n",
       "      <td>[[Horror, Thriller]]</td>\n",
       "    </tr>\n",
       "    <tr>\n",
       "      <th>7</th>\n",
       "      <td>1</td>\n",
       "      <td>103249</td>\n",
       "      <td>2.600605</td>\n",
       "      <td>Popularity</td>\n",
       "      <td>[World War Z]</td>\n",
       "      <td>[[Action, Drama, Horror, Science Fiction, Thri...</td>\n",
       "    </tr>\n",
       "  </tbody>\n",
       "</table>\n",
       "</div>"
      ],
      "text/plain": [
       "    userId    movieId       est       Model                           title  \\\n",
       "5        1       1219  3.417630  Popularity                        [Psycho]   \n",
       "2        1        356  3.371570  Popularity                  [Forrest Gump]   \n",
       "10       1      99114  3.276081  Popularity              [Django Unchained]   \n",
       "9        1     128360  3.202220  Popularity             [The Hateful Eight]   \n",
       "8        1     139385  3.082193  Popularity                  [The Revenant]   \n",
       "3        1     152017  2.936507  Popularity  [Me Before You, Me Before You]   \n",
       "0        1    movieId  2.854043  Similarity                              []   \n",
       "1        1  sim_score  2.854043  Similarity                              []   \n",
       "6        1     112818  2.655662  Popularity            [The Purge: Anarchy]   \n",
       "7        1     103249  2.600605  Popularity                   [World War Z]   \n",
       "\n",
       "                                                genre  \n",
       "5                         [[Drama, Horror, Thriller]]  \n",
       "2                          [[Comedy, Drama, Romance]]  \n",
       "10                                 [[Drama, Western]]  \n",
       "9                  [[Crime, Drama, Mystery, Western]]  \n",
       "8             [[Western, Drama, Adventure, Thriller]]  \n",
       "3                [[Drama, Romance], [Drama, Romance]]  \n",
       "0                                                  []  \n",
       "1                                                  []  \n",
       "6                                [[Horror, Thriller]]  \n",
       "7   [[Action, Drama, Horror, Science Fiction, Thri...  "
      ]
     },
     "execution_count": 61,
     "metadata": {},
     "output_type": "execute_result"
    }
   ],
   "source": [
    "# combine best algorithms by weight\n",
    "models = {svdpp: 0.4, base_line_only: 0.4, knn_base_line: 0.2}\n",
    "\n",
    "hybrid_result = hybrid(1, full_data, train_df, train_full, models, idx_to_genre)\n",
    "hybrid_result\n"
   ]
  },
  {
   "cell_type": "markdown",
   "id": "0d74b951",
   "metadata": {},
   "source": [
    "# Evaluate model "
   ]
  },
  {
   "cell_type": "code",
   "execution_count": 34,
   "id": "1ada6e09",
   "metadata": {},
   "outputs": [
    {
     "data": {
      "text/html": [
       "<div>\n",
       "<style scoped>\n",
       "    .dataframe tbody tr th:only-of-type {\n",
       "        vertical-align: middle;\n",
       "    }\n",
       "\n",
       "    .dataframe tbody tr th {\n",
       "        vertical-align: top;\n",
       "    }\n",
       "\n",
       "    .dataframe thead th {\n",
       "        text-align: right;\n",
       "    }\n",
       "</style>\n",
       "<table border=\"1\" class=\"dataframe\">\n",
       "  <thead>\n",
       "    <tr style=\"text-align: right;\">\n",
       "      <th></th>\n",
       "      <th>userId</th>\n",
       "      <th>movieId</th>\n",
       "      <th>est</th>\n",
       "      <th>Model</th>\n",
       "    </tr>\n",
       "  </thead>\n",
       "  <tbody>\n",
       "    <tr>\n",
       "      <th>0</th>\n",
       "      <td>302</td>\n",
       "      <td>117529</td>\n",
       "      <td>3.150111</td>\n",
       "      <td>Similarity</td>\n",
       "    </tr>\n",
       "    <tr>\n",
       "      <th>1</th>\n",
       "      <td>302</td>\n",
       "      <td>60674</td>\n",
       "      <td>3.150111</td>\n",
       "      <td>Similarity</td>\n",
       "    </tr>\n",
       "    <tr>\n",
       "      <th>2</th>\n",
       "      <td>302</td>\n",
       "      <td>65552</td>\n",
       "      <td>3.150111</td>\n",
       "      <td>Similarity</td>\n",
       "    </tr>\n",
       "    <tr>\n",
       "      <th>3</th>\n",
       "      <td>302</td>\n",
       "      <td>8447</td>\n",
       "      <td>3.150111</td>\n",
       "      <td>Similarity</td>\n",
       "    </tr>\n",
       "    <tr>\n",
       "      <th>4</th>\n",
       "      <td>302</td>\n",
       "      <td>136800</td>\n",
       "      <td>3.150111</td>\n",
       "      <td>Similarity</td>\n",
       "    </tr>\n",
       "    <tr>\n",
       "      <th>...</th>\n",
       "      <td>...</td>\n",
       "      <td>...</td>\n",
       "      <td>...</td>\n",
       "      <td>...</td>\n",
       "    </tr>\n",
       "    <tr>\n",
       "      <th>69</th>\n",
       "      <td>191</td>\n",
       "      <td>7143</td>\n",
       "      <td>3.150111</td>\n",
       "      <td>Popularity</td>\n",
       "    </tr>\n",
       "    <tr>\n",
       "      <th>70</th>\n",
       "      <td>191</td>\n",
       "      <td>3155</td>\n",
       "      <td>3.150111</td>\n",
       "      <td>Popularity</td>\n",
       "    </tr>\n",
       "    <tr>\n",
       "      <th>71</th>\n",
       "      <td>191</td>\n",
       "      <td>33162</td>\n",
       "      <td>3.150111</td>\n",
       "      <td>Popularity</td>\n",
       "    </tr>\n",
       "    <tr>\n",
       "      <th>72</th>\n",
       "      <td>191</td>\n",
       "      <td>3342</td>\n",
       "      <td>3.150111</td>\n",
       "      <td>Popularity</td>\n",
       "    </tr>\n",
       "    <tr>\n",
       "      <th>73</th>\n",
       "      <td>191</td>\n",
       "      <td>136562</td>\n",
       "      <td>3.150111</td>\n",
       "      <td>Popularity</td>\n",
       "    </tr>\n",
       "  </tbody>\n",
       "</table>\n",
       "<p>74 rows × 4 columns</p>\n",
       "</div>"
      ],
      "text/plain": [
       "   userId movieId       est       Model\n",
       "0     302  117529  3.150111  Similarity\n",
       "1     302   60674  3.150111  Similarity\n",
       "2     302   65552  3.150111  Similarity\n",
       "3     302    8447  3.150111  Similarity\n",
       "4     302  136800  3.150111  Similarity\n",
       "..    ...     ...       ...         ...\n",
       "69    191    7143  3.150111  Popularity\n",
       "70    191    3155  3.150111  Popularity\n",
       "71    191   33162  3.150111  Popularity\n",
       "72    191    3342  3.150111  Popularity\n",
       "73    191  136562  3.150111  Popularity\n",
       "\n",
       "[74 rows x 4 columns]"
      ]
     },
     "execution_count": 34,
     "metadata": {},
     "output_type": "execute_result"
    }
   ],
   "source": [
    "pred_df = pd.DataFrame(columns=['userId', 'movieId', 'est', 'Model'])\n",
    "\n",
    "for user in test_df.userId.unique():\n",
    "    pred_df = pd.concat([pred_df, hybrid(user, full_data, train_df, \\\n",
    "                              train_full, models, idx_to_genre)], ignore_index=True)\n",
    "pred_df"
   ]
  },
  {
   "cell_type": "code",
   "execution_count": 35,
   "metadata": {},
   "outputs": [
    {
     "data": {
      "text/plain": [
       "7.84375245117264e-05"
      ]
     },
     "execution_count": 35,
     "metadata": {},
     "output_type": "execute_result"
    }
   ],
   "source": [
    "evaluate(pred_df[['userId', 'movieId']], test_df[['userId', 'movieId']])"
   ]
  },
  {
   "cell_type": "code",
   "execution_count": null,
   "metadata": {},
   "outputs": [],
   "source": []
  }
 ],
 "metadata": {
  "kernelspec": {
   "display_name": "Python 3 (ipykernel)",
   "language": "python",
   "name": "python3"
  },
  "language_info": {
   "codemirror_mode": {
    "name": "ipython",
    "version": 3
   },
   "file_extension": ".py",
   "mimetype": "text/x-python",
   "name": "python",
   "nbconvert_exporter": "python",
   "pygments_lexer": "ipython3",
   "version": "3.9.7"
  }
 },
 "nbformat": 4,
 "nbformat_minor": 5
}
