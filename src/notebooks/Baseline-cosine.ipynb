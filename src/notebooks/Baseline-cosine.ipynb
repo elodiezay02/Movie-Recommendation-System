{
 "cells": [
  {
   "cell_type": "code",
   "execution_count": 1,
   "id": "3da67f2d",
   "metadata": {},
   "outputs": [],
   "source": [
    "%matplotlib inline\n",
    "import pandas as pd\n",
    "import numpy as np\n",
    "import matplotlib.pyplot as plt\n",
    "import seaborn as sns\n",
    "from scipy import stats\n",
    "from ast import literal_eval\n",
    "from sklearn.feature_extraction.text import TfidfVectorizer, CountVectorizer\n",
    "from sklearn.metrics.pairwise import linear_kernel, cosine_similarity\n",
    "from nltk.stem.snowball import SnowballStemmer\n",
    "from nltk.stem.wordnet import WordNetLemmatizer\n",
    "from nltk.corpus import wordnet\n",
    "from surprise import Reader, Dataset, SVD\n",
    "from surprise.model_selection import cross_validate\n",
    "\n",
    "\n",
    "import warnings; warnings.simplefilter('ignore')"
   ]
  },
  {
   "cell_type": "code",
   "execution_count": 8,
   "id": "538d9997",
   "metadata": {},
   "outputs": [],
   "source": [
    "def baseline_model(metadata_path, links_small_path, title):\n",
    "    meta = pd.read_csv(metadata_path)\n",
    "    links_small = pd.read_csv(links_small_path)\n",
    "    meta['genres'] = meta['genres'].fillna('[]').apply(literal_eval).apply(lambda x: [i['name'] for i in x] if isinstance(x, list) else [])\n",
    "    links_small = links_small[links_small['tmdbId'].notnull()]['tmdbId'].astype('int')\n",
    "    meta = meta.drop([19730, 29503, 35587])\n",
    "    meta['id'] = meta['id'].astype('int')\n",
    "    smd = meta[meta['id'].isin(links_small)]\n",
    "    smd['tagline'] = smd['tagline'].fillna('')\n",
    "    smd['description'] = smd['overview'] + smd['tagline']\n",
    "    smd['description'] = smd['description'].fillna('')\n",
    "    tf = TfidfVectorizer(analyzer='word',ngram_range=(1, 2),min_df=0, stop_words='english')\n",
    "    tfidf_matrix = tf.fit_transform(smd['description'])\n",
    "    cosine_sim = linear_kernel(tfidf_matrix, tfidf_matrix)\n",
    "    smd = smd.reset_index()\n",
    "    titles = smd['title']\n",
    "    indices = pd.Series(smd.index, index=smd['title'])\n",
    "    idx = indices[title]\n",
    "    sim_scores = list(enumerate(cosine_sim[idx]))\n",
    "    sim_scores = sorted(sim_scores, key=lambda x: x[1], reverse=True)\n",
    "    sim_scores = sim_scores[1:31]\n",
    "    movie_indices = [i[0] for i in sim_scores]\n",
    "    #return top 10 recommendation movie\n",
    "    return titles.iloc[movie_indices].head(10)"
   ]
  },
  {
   "cell_type": "code",
   "execution_count": 9,
   "id": "465730b2",
   "metadata": {},
   "outputs": [
    {
     "data": {
      "text/plain": [
       "8435                           Frozen\n",
       "3764                      Serendipity\n",
       "353                     Jason's Lyric\n",
       "655                        Phenomenon\n",
       "7980                    Perfect Sense\n",
       "7856                      Project Nim\n",
       "4425                      City of God\n",
       "3318    Long Night's Journey Into Day\n",
       "5040                        Jane Eyre\n",
       "5439                     The Notebook\n",
       "Name: title, dtype: object"
      ]
     },
     "execution_count": 9,
     "metadata": {},
     "output_type": "execute_result"
    }
   ],
   "source": [
    "baseline_model('movies_metadata.csv', 'links_small.csv', 'Forrest Gump')"
   ]
  },
  {
   "cell_type": "code",
   "execution_count": null,
   "id": "71edc4e4",
   "metadata": {},
   "outputs": [],
   "source": []
  }
 ],
 "metadata": {
  "kernelspec": {
   "display_name": "Python 3 (ipykernel)",
   "language": "python",
   "name": "python3"
  },
  "language_info": {
   "codemirror_mode": {
    "name": "ipython",
    "version": 3
   },
   "file_extension": ".py",
   "mimetype": "text/x-python",
   "name": "python",
   "nbconvert_exporter": "python",
   "pygments_lexer": "ipython3",
   "version": "3.9.6"
  }
 },
 "nbformat": 4,
 "nbformat_minor": 5
}
