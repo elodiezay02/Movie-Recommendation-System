{
 "cells": [
  {
   "cell_type": "code",
   "execution_count": 9,
   "metadata": {},
   "outputs": [],
   "source": [
    "import numpy as np\n",
    "import pandas as pd\n",
    "from itertools import product\n",
    "\n",
    "from get_movie_features import movie_feature\n",
    "from evaluate_model import evaluate\n",
    "\n",
    "from sklearn.model_selection import train_test_split\n",
    "\n",
    "import warnings; warnings.simplefilter('ignore')\n"
   ]
  },
  {
   "cell_type": "markdown",
   "metadata": {},
   "source": [
    "# Load data"
   ]
  },
  {
   "cell_type": "code",
   "execution_count": 8,
   "metadata": {},
   "outputs": [],
   "source": [
    "movies_metadata = r'E:\\School\\DE_AN\\Movie-Recommendation-System\\src\\data\\movies_metadata.csv'\n",
    "links_small = r'E:\\School\\DE_AN\\Movie-Recommendation-System\\src\\data\\links_small.csv'\n",
    "credits_ = r'E:\\School\\DE_AN\\Movie-Recommendation-System\\src\\data\\credits.csv'\n",
    "keywords = r'E:\\School\\DE_AN\\Movie-Recommendation-System\\src\\data\\keywords.csv'\n",
    "rating_path = r'E:\\School\\DE_AN\\Movie-Recommendation-System\\src\\data\\ratings_small.csv'\n",
    "\n",
    "movie_df = movie_feature(movies_metadata, links_small, credits_, keywords)\n",
    "rating_df = pd.read_csv(rating_path)"
   ]
  },
  {
   "cell_type": "code",
   "execution_count": 10,
   "metadata": {},
   "outputs": [],
   "source": [
    "train_df, test_df = train_test_split(rating_df, test_size=0.25, \\\n",
    "                                     stratify=rating_df['userId'], random_state=42)"
   ]
  },
  {
   "cell_type": "markdown",
   "metadata": {},
   "source": [
    "# Preprocess"
   ]
  },
  {
   "cell_type": "code",
   "execution_count": 54,
   "metadata": {},
   "outputs": [
    {
     "name": "stdout",
     "output_type": "stream",
     "text": [
      "128\n",
      "0\n"
     ]
    }
   ],
   "source": [
    "# drop duplicate\n",
    "\n",
    "print(movie_df.duplicated().sum())\n",
    "movie_df.drop_duplicates(inplace=True)\n",
    "print(movie_df.duplicated().sum())"
   ]
  },
  {
   "cell_type": "code",
   "execution_count": 55,
   "metadata": {},
   "outputs": [
    {
     "data": {
      "text/html": [
       "<div>\n",
       "<style scoped>\n",
       "    .dataframe tbody tr th:only-of-type {\n",
       "        vertical-align: middle;\n",
       "    }\n",
       "\n",
       "    .dataframe tbody tr th {\n",
       "        vertical-align: top;\n",
       "    }\n",
       "\n",
       "    .dataframe thead th {\n",
       "        text-align: right;\n",
       "    }\n",
       "</style>\n",
       "<table border=\"1\" class=\"dataframe\">\n",
       "  <thead>\n",
       "    <tr style=\"text-align: right;\">\n",
       "      <th></th>\n",
       "      <th>title</th>\n",
       "      <th>movieId</th>\n",
       "      <th>popularity</th>\n",
       "      <th>wr</th>\n",
       "      <th>year</th>\n",
       "    </tr>\n",
       "  </thead>\n",
       "  <tbody>\n",
       "    <tr>\n",
       "      <th>0</th>\n",
       "      <td>Toy Story</td>\n",
       "      <td>1</td>\n",
       "      <td>21.946943</td>\n",
       "      <td>6.869770</td>\n",
       "      <td>1995</td>\n",
       "    </tr>\n",
       "    <tr>\n",
       "      <th>1</th>\n",
       "      <td>Jumanji</td>\n",
       "      <td>2</td>\n",
       "      <td>17.015539</td>\n",
       "      <td>5.884891</td>\n",
       "      <td>1995</td>\n",
       "    </tr>\n",
       "  </tbody>\n",
       "</table>\n",
       "</div>"
      ],
      "text/plain": [
       "       title  movieId  popularity        wr  year\n",
       "0  Toy Story        1   21.946943  6.869770  1995\n",
       "1    Jumanji        2   17.015539  5.884891  1995"
      ]
     },
     "execution_count": 55,
     "metadata": {},
     "output_type": "execute_result"
    }
   ],
   "source": [
    "# select relevant columns\n",
    "\n",
    "cols = ['title', 'movieId', 'popularity', 'wr', 'year']\n",
    "movie_df = movie_df[cols]\n",
    "movie_df.head(2)"
   ]
  },
  {
   "cell_type": "markdown",
   "metadata": {},
   "source": [
    "# Baseline model 1\n",
    "**Popularity**: Movies which have higher popularity\n",
    "\n",
    "**Weighted Rate**: Movies which have higher weighted rate\n",
    "\n",
    "**Production Year**: Movies which were released recently"
   ]
  },
  {
   "cell_type": "code",
   "execution_count": 31,
   "metadata": {},
   "outputs": [
    {
     "data": {
      "text/html": [
       "<div>\n",
       "<style scoped>\n",
       "    .dataframe tbody tr th:only-of-type {\n",
       "        vertical-align: middle;\n",
       "    }\n",
       "\n",
       "    .dataframe tbody tr th {\n",
       "        vertical-align: top;\n",
       "    }\n",
       "\n",
       "    .dataframe thead th {\n",
       "        text-align: right;\n",
       "    }\n",
       "</style>\n",
       "<table border=\"1\" class=\"dataframe\">\n",
       "  <thead>\n",
       "    <tr style=\"text-align: right;\">\n",
       "      <th></th>\n",
       "      <th>title</th>\n",
       "      <th>movieId</th>\n",
       "      <th>popularity</th>\n",
       "      <th>wr</th>\n",
       "      <th>year</th>\n",
       "    </tr>\n",
       "  </thead>\n",
       "  <tbody>\n",
       "    <tr>\n",
       "      <th>8871</th>\n",
       "      <td>Deadpool</td>\n",
       "      <td>122904</td>\n",
       "      <td>187.860492</td>\n",
       "      <td>6.935872</td>\n",
       "      <td>2016</td>\n",
       "    </tr>\n",
       "    <tr>\n",
       "      <th>8872</th>\n",
       "      <td>Captain America: Civil War</td>\n",
       "      <td>122920</td>\n",
       "      <td>145.882135</td>\n",
       "      <td>6.903532</td>\n",
       "      <td>2016</td>\n",
       "    </tr>\n",
       "    <tr>\n",
       "      <th>9200</th>\n",
       "      <td>The Legend of Tarzan</td>\n",
       "      <td>160563</td>\n",
       "      <td>45.382980</td>\n",
       "      <td>5.036374</td>\n",
       "      <td>2016</td>\n",
       "    </tr>\n",
       "    <tr>\n",
       "      <th>9004</th>\n",
       "      <td>Suicide Squad</td>\n",
       "      <td>135536</td>\n",
       "      <td>42.965027</td>\n",
       "      <td>5.013040</td>\n",
       "      <td>2016</td>\n",
       "    </tr>\n",
       "    <tr>\n",
       "      <th>9190</th>\n",
       "      <td>Now You See Me 2</td>\n",
       "      <td>159093</td>\n",
       "      <td>39.540653</td>\n",
       "      <td>5.913668</td>\n",
       "      <td>2016</td>\n",
       "    </tr>\n",
       "    <tr>\n",
       "      <th>9154</th>\n",
       "      <td>Me Before You</td>\n",
       "      <td>152017</td>\n",
       "      <td>34.347590</td>\n",
       "      <td>6.754918</td>\n",
       "      <td>2016</td>\n",
       "    </tr>\n",
       "    <tr>\n",
       "      <th>9155</th>\n",
       "      <td>Me Before You</td>\n",
       "      <td>152017</td>\n",
       "      <td>34.347590</td>\n",
       "      <td>6.754918</td>\n",
       "      <td>2016</td>\n",
       "    </tr>\n",
       "    <tr>\n",
       "      <th>9024</th>\n",
       "      <td>Batman v Superman: Dawn of Justice</td>\n",
       "      <td>136864</td>\n",
       "      <td>31.435879</td>\n",
       "      <td>5.013943</td>\n",
       "      <td>2016</td>\n",
       "    </tr>\n",
       "    <tr>\n",
       "      <th>8873</th>\n",
       "      <td>X-Men: Apocalypse</td>\n",
       "      <td>122924</td>\n",
       "      <td>28.712522</td>\n",
       "      <td>5.937756</td>\n",
       "      <td>2016</td>\n",
       "    </tr>\n",
       "    <tr>\n",
       "      <th>9164</th>\n",
       "      <td>Zootopia</td>\n",
       "      <td>152081</td>\n",
       "      <td>26.024868</td>\n",
       "      <td>6.858811</td>\n",
       "      <td>2016</td>\n",
       "    </tr>\n",
       "  </tbody>\n",
       "</table>\n",
       "</div>"
      ],
      "text/plain": [
       "                                   title  movieId  popularity        wr  year\n",
       "8871                            Deadpool   122904  187.860492  6.935872  2016\n",
       "8872          Captain America: Civil War   122920  145.882135  6.903532  2016\n",
       "9200                The Legend of Tarzan   160563   45.382980  5.036374  2016\n",
       "9004                       Suicide Squad   135536   42.965027  5.013040  2016\n",
       "9190                    Now You See Me 2   159093   39.540653  5.913668  2016\n",
       "9154                       Me Before You   152017   34.347590  6.754918  2016\n",
       "9155                       Me Before You   152017   34.347590  6.754918  2016\n",
       "9024  Batman v Superman: Dawn of Justice   136864   31.435879  5.013943  2016\n",
       "8873                   X-Men: Apocalypse   122924   28.712522  5.937756  2016\n",
       "9164                            Zootopia   152081   26.024868  6.858811  2016"
      ]
     },
     "execution_count": 31,
     "metadata": {},
     "output_type": "execute_result"
    }
   ],
   "source": [
    "# sort movies by release_year, popularity and weighted rate\n",
    "\n",
    "movie_df_sorted = movie_df.sort_values(by=['year', 'popularity', 'wr'], ascending=False)\n",
    "movie_df_sorted.head(10)"
   ]
  },
  {
   "cell_type": "code",
   "execution_count": 29,
   "metadata": {},
   "outputs": [],
   "source": [
    "# get top 10 and recommend to all users in the test_df\n",
    "top_10_movie_id_list = movie_df_sorted['movieId'].head(10).tolist()\n",
    "user_list = test_df.userId.unique().tolist()\n"
   ]
  },
  {
   "cell_type": "code",
   "execution_count": 30,
   "metadata": {},
   "outputs": [
    {
     "data": {
      "text/html": [
       "<div>\n",
       "<style scoped>\n",
       "    .dataframe tbody tr th:only-of-type {\n",
       "        vertical-align: middle;\n",
       "    }\n",
       "\n",
       "    .dataframe tbody tr th {\n",
       "        vertical-align: top;\n",
       "    }\n",
       "\n",
       "    .dataframe thead th {\n",
       "        text-align: right;\n",
       "    }\n",
       "</style>\n",
       "<table border=\"1\" class=\"dataframe\">\n",
       "  <thead>\n",
       "    <tr style=\"text-align: right;\">\n",
       "      <th></th>\n",
       "      <th>userId</th>\n",
       "      <th>movieId</th>\n",
       "    </tr>\n",
       "  </thead>\n",
       "  <tbody>\n",
       "    <tr>\n",
       "      <th>0</th>\n",
       "      <td>302</td>\n",
       "      <td>122904</td>\n",
       "    </tr>\n",
       "    <tr>\n",
       "      <th>1</th>\n",
       "      <td>302</td>\n",
       "      <td>122920</td>\n",
       "    </tr>\n",
       "    <tr>\n",
       "      <th>2</th>\n",
       "      <td>302</td>\n",
       "      <td>160563</td>\n",
       "    </tr>\n",
       "    <tr>\n",
       "      <th>3</th>\n",
       "      <td>302</td>\n",
       "      <td>135536</td>\n",
       "    </tr>\n",
       "    <tr>\n",
       "      <th>4</th>\n",
       "      <td>302</td>\n",
       "      <td>159093</td>\n",
       "    </tr>\n",
       "    <tr>\n",
       "      <th>...</th>\n",
       "      <td>...</td>\n",
       "      <td>...</td>\n",
       "    </tr>\n",
       "    <tr>\n",
       "      <th>6705</th>\n",
       "      <td>498</td>\n",
       "      <td>152017</td>\n",
       "    </tr>\n",
       "    <tr>\n",
       "      <th>6706</th>\n",
       "      <td>498</td>\n",
       "      <td>152017</td>\n",
       "    </tr>\n",
       "    <tr>\n",
       "      <th>6707</th>\n",
       "      <td>498</td>\n",
       "      <td>136864</td>\n",
       "    </tr>\n",
       "    <tr>\n",
       "      <th>6708</th>\n",
       "      <td>498</td>\n",
       "      <td>122924</td>\n",
       "    </tr>\n",
       "    <tr>\n",
       "      <th>6709</th>\n",
       "      <td>498</td>\n",
       "      <td>152081</td>\n",
       "    </tr>\n",
       "  </tbody>\n",
       "</table>\n",
       "<p>6710 rows × 2 columns</p>\n",
       "</div>"
      ],
      "text/plain": [
       "      userId  movieId\n",
       "0        302   122904\n",
       "1        302   122920\n",
       "2        302   160563\n",
       "3        302   135536\n",
       "4        302   159093\n",
       "...      ...      ...\n",
       "6705     498   152017\n",
       "6706     498   152017\n",
       "6707     498   136864\n",
       "6708     498   122924\n",
       "6709     498   152081\n",
       "\n",
       "[6710 rows x 2 columns]"
      ]
     },
     "execution_count": 30,
     "metadata": {},
     "output_type": "execute_result"
    }
   ],
   "source": [
    "# combine user_list and predict_movie_list\n",
    "combinations = list(product(user_list, top_10_movie_id_list))\n",
    "pred_df = pd.DataFrame(data=combinations, columns=['userId', 'movieId'])\n",
    "pred_df"
   ]
  },
  {
   "cell_type": "code",
   "execution_count": 32,
   "metadata": {},
   "outputs": [
    {
     "data": {
      "text/plain": [
       "0.0017883755588673624"
      ]
     },
     "execution_count": 32,
     "metadata": {},
     "output_type": "execute_result"
    }
   ],
   "source": [
    "evaluate(pred_df=pred_df, val_df=test_df, top_k=10)\n",
    "# output: 0.0017883755588673624"
   ]
  },
  {
   "cell_type": "markdown",
   "metadata": {},
   "source": [
    "# Baseline model 2\n",
    "**Popularity**: Get movies which have higher popularity\n",
    "\n",
    "**Rating**: Get movie which have higher average rating among user in the train_df"
   ]
  },
  {
   "cell_type": "code",
   "execution_count": 69,
   "metadata": {},
   "outputs": [],
   "source": [
    "# get average rating of each movies \n",
    "\n",
    "movie_avg_rating = train_df.groupby('movieId')['rating'].mean().reset_index()"
   ]
  },
  {
   "cell_type": "code",
   "execution_count": 70,
   "metadata": {},
   "outputs": [],
   "source": [
    "# merge movie_avg_rating and movie_df\n",
    "base_line_2_df = pd.merge(movie_df, movie_avg_rating, on='movieId', how='inner')\n",
    "# get top 10 by popularity and average rating\n",
    "top_10_movie_id_list = base_line_2_df.sort_values(by=['popularity', 'rating'], \\\n",
    "                                                  ascending=False)['movieId']\\\n",
    "                                                    .head(10).tolist()"
   ]
  },
  {
   "cell_type": "code",
   "execution_count": 71,
   "metadata": {},
   "outputs": [
    {
     "data": {
      "text/html": [
       "<div>\n",
       "<style scoped>\n",
       "    .dataframe tbody tr th:only-of-type {\n",
       "        vertical-align: middle;\n",
       "    }\n",
       "\n",
       "    .dataframe tbody tr th {\n",
       "        vertical-align: top;\n",
       "    }\n",
       "\n",
       "    .dataframe thead th {\n",
       "        text-align: right;\n",
       "    }\n",
       "</style>\n",
       "<table border=\"1\" class=\"dataframe\">\n",
       "  <thead>\n",
       "    <tr style=\"text-align: right;\">\n",
       "      <th></th>\n",
       "      <th>userId</th>\n",
       "      <th>movieId</th>\n",
       "    </tr>\n",
       "  </thead>\n",
       "  <tbody>\n",
       "    <tr>\n",
       "      <th>0</th>\n",
       "      <td>302</td>\n",
       "      <td>135887</td>\n",
       "    </tr>\n",
       "    <tr>\n",
       "      <th>1</th>\n",
       "      <td>302</td>\n",
       "      <td>115617</td>\n",
       "    </tr>\n",
       "    <tr>\n",
       "      <th>2</th>\n",
       "      <td>302</td>\n",
       "      <td>122904</td>\n",
       "    </tr>\n",
       "    <tr>\n",
       "      <th>3</th>\n",
       "      <td>302</td>\n",
       "      <td>72998</td>\n",
       "    </tr>\n",
       "    <tr>\n",
       "      <th>4</th>\n",
       "      <td>302</td>\n",
       "      <td>115149</td>\n",
       "    </tr>\n",
       "    <tr>\n",
       "      <th>...</th>\n",
       "      <td>...</td>\n",
       "      <td>...</td>\n",
       "    </tr>\n",
       "    <tr>\n",
       "      <th>6705</th>\n",
       "      <td>498</td>\n",
       "      <td>112556</td>\n",
       "    </tr>\n",
       "    <tr>\n",
       "      <th>6706</th>\n",
       "      <td>498</td>\n",
       "      <td>116823</td>\n",
       "    </tr>\n",
       "    <tr>\n",
       "      <th>6707</th>\n",
       "      <td>498</td>\n",
       "      <td>122920</td>\n",
       "    </tr>\n",
       "    <tr>\n",
       "      <th>6708</th>\n",
       "      <td>498</td>\n",
       "      <td>296</td>\n",
       "    </tr>\n",
       "    <tr>\n",
       "      <th>6709</th>\n",
       "      <td>498</td>\n",
       "      <td>58559</td>\n",
       "    </tr>\n",
       "  </tbody>\n",
       "</table>\n",
       "<p>6710 rows × 2 columns</p>\n",
       "</div>"
      ],
      "text/plain": [
       "      userId  movieId\n",
       "0        302   135887\n",
       "1        302   115617\n",
       "2        302   122904\n",
       "3        302    72998\n",
       "4        302   115149\n",
       "...      ...      ...\n",
       "6705     498   112556\n",
       "6706     498   116823\n",
       "6707     498   122920\n",
       "6708     498      296\n",
       "6709     498    58559\n",
       "\n",
       "[6710 rows x 2 columns]"
      ]
     },
     "execution_count": 71,
     "metadata": {},
     "output_type": "execute_result"
    }
   ],
   "source": [
    "# combine user_list and predict_movie_list\n",
    "combinations = list(product(user_list, top_10_movie_id_list))\n",
    "pred_df = pd.DataFrame(data=combinations, columns=['userId', 'movieId'])\n",
    "pred_df"
   ]
  },
  {
   "cell_type": "code",
   "execution_count": 72,
   "metadata": {},
   "outputs": [
    {
     "data": {
      "text/plain": [
       "0.02280178837555887"
      ]
     },
     "execution_count": 72,
     "metadata": {},
     "output_type": "execute_result"
    }
   ],
   "source": [
    "evaluate(pred_df=pred_df, val_df=test_df, top_k=10)\n",
    "# output: 0.02280178837555887"
   ]
  },
  {
   "cell_type": "markdown",
   "metadata": {},
   "source": [
    "# Conclusion 1\n",
    "- Baseline model (2) which recommend based on popularity and average rating of movie has higher proportion of movies that user actually watched (2.3%) than Baseline model (1) with proportion of 0.18%\n",
    "- Now we try to improve baseline model (2) with release_year of movie. Let's see whether the evaluation metric improve or not"
   ]
  },
  {
   "cell_type": "markdown",
   "metadata": {},
   "source": [
    "# Baseline 3\n",
    "**Popularity**\n",
    "\n",
    "**Rating**\n",
    "\n",
    "**Year**"
   ]
  },
  {
   "cell_type": "code",
   "execution_count": 73,
   "metadata": {},
   "outputs": [
    {
     "data": {
      "text/html": [
       "<div>\n",
       "<style scoped>\n",
       "    .dataframe tbody tr th:only-of-type {\n",
       "        vertical-align: middle;\n",
       "    }\n",
       "\n",
       "    .dataframe tbody tr th {\n",
       "        vertical-align: top;\n",
       "    }\n",
       "\n",
       "    .dataframe thead th {\n",
       "        text-align: right;\n",
       "    }\n",
       "</style>\n",
       "<table border=\"1\" class=\"dataframe\">\n",
       "  <thead>\n",
       "    <tr style=\"text-align: right;\">\n",
       "      <th></th>\n",
       "      <th>title</th>\n",
       "      <th>movieId</th>\n",
       "      <th>popularity</th>\n",
       "      <th>wr</th>\n",
       "      <th>year</th>\n",
       "      <th>rating</th>\n",
       "    </tr>\n",
       "  </thead>\n",
       "  <tbody>\n",
       "    <tr>\n",
       "      <th>0</th>\n",
       "      <td>Toy Story</td>\n",
       "      <td>1</td>\n",
       "      <td>21.946943</td>\n",
       "      <td>6.869770</td>\n",
       "      <td>1995</td>\n",
       "      <td>3.845946</td>\n",
       "    </tr>\n",
       "    <tr>\n",
       "      <th>1</th>\n",
       "      <td>Jumanji</td>\n",
       "      <td>2</td>\n",
       "      <td>17.015539</td>\n",
       "      <td>5.884891</td>\n",
       "      <td>1995</td>\n",
       "      <td>3.423077</td>\n",
       "    </tr>\n",
       "    <tr>\n",
       "      <th>2</th>\n",
       "      <td>Grumpier Old Men</td>\n",
       "      <td>3</td>\n",
       "      <td>11.712900</td>\n",
       "      <td>5.376968</td>\n",
       "      <td>1995</td>\n",
       "      <td>3.097826</td>\n",
       "    </tr>\n",
       "    <tr>\n",
       "      <th>3</th>\n",
       "      <td>Waiting to Exhale</td>\n",
       "      <td>4</td>\n",
       "      <td>3.859495</td>\n",
       "      <td>5.299755</td>\n",
       "      <td>1995</td>\n",
       "      <td>2.555556</td>\n",
       "    </tr>\n",
       "    <tr>\n",
       "      <th>4</th>\n",
       "      <td>Father of the Bride Part II</td>\n",
       "      <td>5</td>\n",
       "      <td>8.387519</td>\n",
       "      <td>5.175099</td>\n",
       "      <td>1995</td>\n",
       "      <td>3.294872</td>\n",
       "    </tr>\n",
       "  </tbody>\n",
       "</table>\n",
       "</div>"
      ],
      "text/plain": [
       "                         title  movieId  popularity        wr  year    rating\n",
       "0                    Toy Story        1   21.946943  6.869770  1995  3.845946\n",
       "1                      Jumanji        2   17.015539  5.884891  1995  3.423077\n",
       "2             Grumpier Old Men        3   11.712900  5.376968  1995  3.097826\n",
       "3            Waiting to Exhale        4    3.859495  5.299755  1995  2.555556\n",
       "4  Father of the Bride Part II        5    8.387519  5.175099  1995  3.294872"
      ]
     },
     "execution_count": 73,
     "metadata": {},
     "output_type": "execute_result"
    }
   ],
   "source": [
    "base_line_2_df.head()"
   ]
  },
  {
   "cell_type": "code",
   "execution_count": 74,
   "metadata": {},
   "outputs": [
    {
     "data": {
      "text/html": [
       "<div>\n",
       "<style scoped>\n",
       "    .dataframe tbody tr th:only-of-type {\n",
       "        vertical-align: middle;\n",
       "    }\n",
       "\n",
       "    .dataframe tbody tr th {\n",
       "        vertical-align: top;\n",
       "    }\n",
       "\n",
       "    .dataframe thead th {\n",
       "        text-align: right;\n",
       "    }\n",
       "</style>\n",
       "<table border=\"1\" class=\"dataframe\">\n",
       "  <thead>\n",
       "    <tr style=\"text-align: right;\">\n",
       "      <th></th>\n",
       "      <th>userId</th>\n",
       "      <th>movieId</th>\n",
       "    </tr>\n",
       "  </thead>\n",
       "  <tbody>\n",
       "    <tr>\n",
       "      <th>0</th>\n",
       "      <td>302</td>\n",
       "      <td>135887</td>\n",
       "    </tr>\n",
       "    <tr>\n",
       "      <th>1</th>\n",
       "      <td>302</td>\n",
       "      <td>115617</td>\n",
       "    </tr>\n",
       "    <tr>\n",
       "      <th>2</th>\n",
       "      <td>302</td>\n",
       "      <td>122904</td>\n",
       "    </tr>\n",
       "    <tr>\n",
       "      <th>3</th>\n",
       "      <td>302</td>\n",
       "      <td>72998</td>\n",
       "    </tr>\n",
       "    <tr>\n",
       "      <th>4</th>\n",
       "      <td>302</td>\n",
       "      <td>115149</td>\n",
       "    </tr>\n",
       "    <tr>\n",
       "      <th>...</th>\n",
       "      <td>...</td>\n",
       "      <td>...</td>\n",
       "    </tr>\n",
       "    <tr>\n",
       "      <th>6705</th>\n",
       "      <td>498</td>\n",
       "      <td>112556</td>\n",
       "    </tr>\n",
       "    <tr>\n",
       "      <th>6706</th>\n",
       "      <td>498</td>\n",
       "      <td>116823</td>\n",
       "    </tr>\n",
       "    <tr>\n",
       "      <th>6707</th>\n",
       "      <td>498</td>\n",
       "      <td>122920</td>\n",
       "    </tr>\n",
       "    <tr>\n",
       "      <th>6708</th>\n",
       "      <td>498</td>\n",
       "      <td>296</td>\n",
       "    </tr>\n",
       "    <tr>\n",
       "      <th>6709</th>\n",
       "      <td>498</td>\n",
       "      <td>58559</td>\n",
       "    </tr>\n",
       "  </tbody>\n",
       "</table>\n",
       "<p>6710 rows × 2 columns</p>\n",
       "</div>"
      ],
      "text/plain": [
       "      userId  movieId\n",
       "0        302   135887\n",
       "1        302   115617\n",
       "2        302   122904\n",
       "3        302    72998\n",
       "4        302   115149\n",
       "...      ...      ...\n",
       "6705     498   112556\n",
       "6706     498   116823\n",
       "6707     498   122920\n",
       "6708     498      296\n",
       "6709     498    58559\n",
       "\n",
       "[6710 rows x 2 columns]"
      ]
     },
     "execution_count": 74,
     "metadata": {},
     "output_type": "execute_result"
    }
   ],
   "source": [
    "# sort by popularity, rating, release_year\n",
    "top_10_movie_id_list = base_line_2_df.sort_values(by=['popularity', 'rating', 'year'], \\\n",
    "                                                  ascending=False)['movieId']\\\n",
    "                                                    .head(10).tolist()\n",
    "# combine user_list and predict_movie_list\n",
    "combinations = list(product(user_list, top_10_movie_id_list))\n",
    "pred_df = pd.DataFrame(data=combinations, columns=['userId', 'movieId'])\n",
    "pred_df"
   ]
  },
  {
   "cell_type": "code",
   "execution_count": 75,
   "metadata": {},
   "outputs": [
    {
     "data": {
      "text/plain": [
       "0.02280178837555887"
      ]
     },
     "execution_count": 75,
     "metadata": {},
     "output_type": "execute_result"
    }
   ],
   "source": [
    "evaluate(pred_df=pred_df, val_df=test_df, top_k=10)"
   ]
  },
  {
   "cell_type": "markdown",
   "metadata": {},
   "source": [
    "# Conclusion 2\n",
    "The result after adding release_year doesn't improve. Hence we keep model (2) as our baseline model"
   ]
  }
 ],
 "metadata": {
  "kernelspec": {
   "display_name": "base",
   "language": "python",
   "name": "python3"
  },
  "language_info": {
   "codemirror_mode": {
    "name": "ipython",
    "version": 3
   },
   "file_extension": ".py",
   "mimetype": "text/x-python",
   "name": "python",
   "nbconvert_exporter": "python",
   "pygments_lexer": "ipython3",
   "version": "3.9.7"
  }
 },
 "nbformat": 4,
 "nbformat_minor": 2
}
