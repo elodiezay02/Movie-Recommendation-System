{
 "cells": [
  {
   "cell_type": "code",
   "execution_count": 1,
   "metadata": {},
   "outputs": [],
   "source": [
    "import pandas as pd\n",
    "import numpy as np\n",
    "\n",
    "import matplotlib.pyplot as plt\n",
    "import seaborn as sns\n",
    "\n",
    "import warnings; warnings.simplefilter('ignore')"
   ]
  },
  {
   "cell_type": "code",
   "execution_count": 2,
   "metadata": {},
   "outputs": [],
   "source": [
    "from get_movie_features import movie_feature"
   ]
  },
  {
   "cell_type": "code",
   "execution_count": 3,
   "metadata": {},
   "outputs": [],
   "source": [
    "movies_metadata = r'E:\\School\\DE_AN\\Movie-Recommendation-System\\src\\data\\movies_metadata.csv'\n",
    "links_small = r'E:\\School\\DE_AN\\Movie-Recommendation-System\\src\\data\\links_small.csv'\n",
    "credits_ = r'E:\\School\\DE_AN\\Movie-Recommendation-System\\src\\data\\credits.csv'\n",
    "keywords = r'E:\\School\\DE_AN\\Movie-Recommendation-System\\src\\data\\keywords.csv'\n",
    "rating = r'E:\\School\\DE_AN\\Movie-Recommendation-System\\src\\data\\ratings_small.csv'"
   ]
  },
  {
   "cell_type": "code",
   "execution_count": 4,
   "metadata": {},
   "outputs": [
    {
     "name": "stderr",
     "output_type": "stream",
     "text": [
      "e:\\School\\DE_AN\\Movie-Recommendation-System\\src\\notebooks\\get_movie_features.py:33: DtypeWarning: Columns (10) have mixed types. Specify dtype option on import or set low_memory=False.\n",
      "  meta = pd.read_csv(metadata_path)\n",
      "e:\\School\\DE_AN\\Movie-Recommendation-System\\src\\notebooks\\get_movie_features.py:85: SettingWithCopyWarning: \n",
      "A value is trying to be set on a copy of a slice from a DataFrame.\n",
      "Try using .loc[row_indexer,col_indexer] = value instead\n",
      "\n",
      "See the caveats in the documentation: https://pandas.pydata.org/pandas-docs/stable/user_guide/indexing.html#returning-a-view-versus-a-copy\n",
      "  smd['tagline'] = smd['tagline'].fillna('')\n",
      "e:\\School\\DE_AN\\Movie-Recommendation-System\\src\\notebooks\\get_movie_features.py:86: SettingWithCopyWarning: \n",
      "A value is trying to be set on a copy of a slice from a DataFrame.\n",
      "Try using .loc[row_indexer,col_indexer] = value instead\n",
      "\n",
      "See the caveats in the documentation: https://pandas.pydata.org/pandas-docs/stable/user_guide/indexing.html#returning-a-view-versus-a-copy\n",
      "  smd['description'] = smd['overview'] + smd['tagline']\n",
      "e:\\School\\DE_AN\\Movie-Recommendation-System\\src\\notebooks\\get_movie_features.py:87: SettingWithCopyWarning: \n",
      "A value is trying to be set on a copy of a slice from a DataFrame.\n",
      "Try using .loc[row_indexer,col_indexer] = value instead\n",
      "\n",
      "See the caveats in the documentation: https://pandas.pydata.org/pandas-docs/stable/user_guide/indexing.html#returning-a-view-versus-a-copy\n",
      "  smd['description'] = smd['description'].fillna('')\n",
      "e:\\School\\DE_AN\\Movie-Recommendation-System\\src\\notebooks\\get_movie_features.py:115: FutureWarning: The default dtype for empty Series will be 'object' instead of 'float64' in a future version. Specify a dtype explicitly to silence this warning.\n",
      "  s = smd.apply(lambda x: pd.Series(x['keywords']),axis=1).stack().reset_index(level=1, drop=True)\n"
     ]
    }
   ],
   "source": [
    "movie_df = movie_feature(movies_metadata, links_small, credits_, keywords)\n",
    "rating_df = pd.read_csv(rating)"
   ]
  },
  {
   "cell_type": "code",
   "execution_count": 5,
   "metadata": {},
   "outputs": [
    {
     "data": {
      "text/html": [
       "<div>\n",
       "<style scoped>\n",
       "    .dataframe tbody tr th:only-of-type {\n",
       "        vertical-align: middle;\n",
       "    }\n",
       "\n",
       "    .dataframe tbody tr th {\n",
       "        vertical-align: top;\n",
       "    }\n",
       "\n",
       "    .dataframe thead th {\n",
       "        text-align: right;\n",
       "    }\n",
       "</style>\n",
       "<table border=\"1\" class=\"dataframe\">\n",
       "  <thead>\n",
       "    <tr style=\"text-align: right;\">\n",
       "      <th></th>\n",
       "      <th>id</th>\n",
       "      <th>movieId</th>\n",
       "      <th>title</th>\n",
       "      <th>genres</th>\n",
       "      <th>description</th>\n",
       "      <th>cast</th>\n",
       "      <th>director</th>\n",
       "      <th>keywords</th>\n",
       "      <th>popularity</th>\n",
       "      <th>vote_average</th>\n",
       "      <th>vote_count</th>\n",
       "      <th>year</th>\n",
       "      <th>wr</th>\n",
       "      <th>spoken_languages</th>\n",
       "    </tr>\n",
       "  </thead>\n",
       "  <tbody>\n",
       "    <tr>\n",
       "      <th>0</th>\n",
       "      <td>862</td>\n",
       "      <td>1</td>\n",
       "      <td>Toy Story</td>\n",
       "      <td>[Animation, Comedy, Family]</td>\n",
       "      <td>Led by Woody, Andy's toys live happily in his ...</td>\n",
       "      <td>[tomhanks, timallen, donrickles]</td>\n",
       "      <td>johnlasseter</td>\n",
       "      <td>[jealousi, toy, boy, friendship, friend, rival...</td>\n",
       "      <td>21.946943</td>\n",
       "      <td>7</td>\n",
       "      <td>5415</td>\n",
       "      <td>1995</td>\n",
       "      <td>6.869770</td>\n",
       "      <td>[English]</td>\n",
       "    </tr>\n",
       "    <tr>\n",
       "      <th>1</th>\n",
       "      <td>8844</td>\n",
       "      <td>2</td>\n",
       "      <td>Jumanji</td>\n",
       "      <td>[Adventure, Fantasy, Family]</td>\n",
       "      <td>When siblings Judy and Peter discover an encha...</td>\n",
       "      <td>[robinwilliams, jonathanhyde, kirstendunst]</td>\n",
       "      <td>joejohnston</td>\n",
       "      <td>[boardgam, disappear, basedonchildren'sbook, n...</td>\n",
       "      <td>17.015539</td>\n",
       "      <td>6</td>\n",
       "      <td>2413</td>\n",
       "      <td>1995</td>\n",
       "      <td>5.884891</td>\n",
       "      <td>[English, Français]</td>\n",
       "    </tr>\n",
       "    <tr>\n",
       "      <th>2</th>\n",
       "      <td>15602</td>\n",
       "      <td>3</td>\n",
       "      <td>Grumpier Old Men</td>\n",
       "      <td>[Romance, Comedy]</td>\n",
       "      <td>A family wedding reignites the ancient feud be...</td>\n",
       "      <td>[waltermatthau, jacklemmon, ann-margret]</td>\n",
       "      <td>howarddeutch</td>\n",
       "      <td>[fish, bestfriend, duringcreditssting]</td>\n",
       "      <td>11.7129</td>\n",
       "      <td>6</td>\n",
       "      <td>92</td>\n",
       "      <td>1995</td>\n",
       "      <td>5.376968</td>\n",
       "      <td>[English]</td>\n",
       "    </tr>\n",
       "    <tr>\n",
       "      <th>3</th>\n",
       "      <td>31357</td>\n",
       "      <td>4</td>\n",
       "      <td>Waiting to Exhale</td>\n",
       "      <td>[Comedy, Drama, Romance]</td>\n",
       "      <td>Cheated on, mistreated and stepped on, the wom...</td>\n",
       "      <td>[whitneyhouston, angelabassett, lorettadevine]</td>\n",
       "      <td>forestwhitaker</td>\n",
       "      <td>[basedonnovel, interracialrelationship, single...</td>\n",
       "      <td>3.859495</td>\n",
       "      <td>6</td>\n",
       "      <td>34</td>\n",
       "      <td>1995</td>\n",
       "      <td>5.299755</td>\n",
       "      <td>[English]</td>\n",
       "    </tr>\n",
       "    <tr>\n",
       "      <th>4</th>\n",
       "      <td>11862</td>\n",
       "      <td>5</td>\n",
       "      <td>Father of the Bride Part II</td>\n",
       "      <td>[Comedy]</td>\n",
       "      <td>Just when George Banks has recovered from his ...</td>\n",
       "      <td>[stevemartin, dianekeaton, martinshort]</td>\n",
       "      <td>charlesshyer</td>\n",
       "      <td>[babi, midlifecrisi, confid, age, daughter, mo...</td>\n",
       "      <td>8.387519</td>\n",
       "      <td>5</td>\n",
       "      <td>173</td>\n",
       "      <td>1995</td>\n",
       "      <td>5.175099</td>\n",
       "      <td>[English]</td>\n",
       "    </tr>\n",
       "  </tbody>\n",
       "</table>\n",
       "</div>"
      ],
      "text/plain": [
       "      id  movieId                        title                        genres  \\\n",
       "0    862        1                    Toy Story   [Animation, Comedy, Family]   \n",
       "1   8844        2                      Jumanji  [Adventure, Fantasy, Family]   \n",
       "2  15602        3             Grumpier Old Men             [Romance, Comedy]   \n",
       "3  31357        4            Waiting to Exhale      [Comedy, Drama, Romance]   \n",
       "4  11862        5  Father of the Bride Part II                      [Comedy]   \n",
       "\n",
       "                                         description  \\\n",
       "0  Led by Woody, Andy's toys live happily in his ...   \n",
       "1  When siblings Judy and Peter discover an encha...   \n",
       "2  A family wedding reignites the ancient feud be...   \n",
       "3  Cheated on, mistreated and stepped on, the wom...   \n",
       "4  Just when George Banks has recovered from his ...   \n",
       "\n",
       "                                             cast        director  \\\n",
       "0                [tomhanks, timallen, donrickles]    johnlasseter   \n",
       "1     [robinwilliams, jonathanhyde, kirstendunst]     joejohnston   \n",
       "2        [waltermatthau, jacklemmon, ann-margret]    howarddeutch   \n",
       "3  [whitneyhouston, angelabassett, lorettadevine]  forestwhitaker   \n",
       "4         [stevemartin, dianekeaton, martinshort]    charlesshyer   \n",
       "\n",
       "                                            keywords popularity  vote_average  \\\n",
       "0  [jealousi, toy, boy, friendship, friend, rival...  21.946943             7   \n",
       "1  [boardgam, disappear, basedonchildren'sbook, n...  17.015539             6   \n",
       "2             [fish, bestfriend, duringcreditssting]    11.7129             6   \n",
       "3  [basedonnovel, interracialrelationship, single...   3.859495             6   \n",
       "4  [babi, midlifecrisi, confid, age, daughter, mo...   8.387519             5   \n",
       "\n",
       "   vote_count  year        wr     spoken_languages  \n",
       "0        5415  1995  6.869770            [English]  \n",
       "1        2413  1995  5.884891  [English, Français]  \n",
       "2          92  1995  5.376968            [English]  \n",
       "3          34  1995  5.299755            [English]  \n",
       "4         173  1995  5.175099            [English]  "
      ]
     },
     "execution_count": 5,
     "metadata": {},
     "output_type": "execute_result"
    }
   ],
   "source": [
    "movie_df.head()"
   ]
  },
  {
   "cell_type": "code",
   "execution_count": 6,
   "metadata": {},
   "outputs": [
    {
     "data": {
      "text/plain": [
       "Index(['id', 'movieId', 'title', 'genres', 'description', 'cast', 'director',\n",
       "       'keywords', 'popularity', 'vote_average', 'vote_count', 'year', 'wr',\n",
       "       'spoken_languages'],\n",
       "      dtype='object')"
      ]
     },
     "execution_count": 6,
     "metadata": {},
     "output_type": "execute_result"
    }
   ],
   "source": [
    "movie_df.columns"
   ]
  },
  {
   "cell_type": "markdown",
   "metadata": {},
   "source": [
    "## Which are the popular Genres among users?"
   ]
  },
  {
   "cell_type": "code",
   "execution_count": 11,
   "metadata": {},
   "outputs": [
    {
     "name": "stdout",
     "output_type": "stream",
     "text": [
      "20\n"
     ]
    },
    {
     "data": {
      "text/plain": [
       "array(['Animation', 'Comedy', 'Family', 'Adventure', 'Fantasy', 'Romance',\n",
       "       'Drama', 'Action', 'Crime', 'Thriller', 'Horror', 'History',\n",
       "       'Science Fiction', 'Mystery', 'War', 'Foreign', 'Music',\n",
       "       'Documentary', nan, 'Western', 'TV Movie'], dtype=object)"
      ]
     },
     "execution_count": 11,
     "metadata": {},
     "output_type": "execute_result"
    }
   ],
   "source": [
    "# Unique genres\n",
    "print(movie_df.genres.explode().nunique())\n",
    "movie_df.genres.explode().unique()"
   ]
  },
  {
   "cell_type": "code",
   "execution_count": 25,
   "metadata": {},
   "outputs": [
    {
     "data": {
      "text/plain": [
       "Drama              4749\n",
       "Comedy             3414\n",
       "Thriller           2043\n",
       "Romance            1879\n",
       "Action             1773\n",
       "Crime              1271\n",
       "Adventure          1227\n",
       "Horror              927\n",
       "Science Fiction     881\n",
       "Family              881\n",
       "Fantasy             765\n",
       "Mystery             652\n",
       "Animation           470\n",
       "Documentary         465\n",
       "Music               460\n",
       "History             346\n",
       "War                 279\n",
       "Western             172\n",
       "Foreign             118\n",
       "TV Movie             43\n",
       "Name: genres, dtype: int64"
      ]
     },
     "execution_count": 25,
     "metadata": {},
     "output_type": "execute_result"
    }
   ],
   "source": [
    "genres_dist = movie_df.genres.explode().value_counts().sort_values(ascending=False)\n",
    "genres_dist"
   ]
  },
  {
   "cell_type": "code",
   "execution_count": 26,
   "metadata": {},
   "outputs": [
    {
     "data": {
      "image/png": "[encoded data removed]",
      "text/plain": [
       "<Figure size 1000x500 with 1 Axes>"
      ]
     },
     "metadata": {},
     "output_type": "display_data"
    }
   ],
   "source": [
    "figure = plt.figure(figsize=(10, 5))\n",
    "plt.barh(genres_dist.index, genres_dist.values)\n",
    "plt.show()"
   ]
  },
  {
   "cell_type": "markdown",
   "metadata": {},
   "source": [
    "## Movies"
   ]
  },
  {
   "cell_type": "code",
   "execution_count": 27,
   "metadata": {},
   "outputs": [
    {
     "data": {
      "text/plain": [
       "9082"
      ]
     },
     "execution_count": 27,
     "metadata": {},
     "output_type": "execute_result"
    }
   ],
   "source": [
    "# number of unique movies\n",
    "movie_df.movieId.nunique()"
   ]
  },
  {
   "cell_type": "markdown",
   "metadata": {},
   "source": [
    "## Number of rating per users"
   ]
  },
  {
   "cell_type": "code",
   "execution_count": 32,
   "metadata": {},
   "outputs": [
    {
     "data": {
      "text/plain": [
       "userId\n",
       "1       20\n",
       "2       76\n",
       "3       51\n",
       "4      204\n",
       "5      100\n",
       "      ... \n",
       "667     68\n",
       "668     20\n",
       "669     37\n",
       "670     31\n",
       "671    115\n",
       "Name: movieId, Length: 671, dtype: int64"
      ]
     },
     "execution_count": 32,
     "metadata": {},
     "output_type": "execute_result"
    }
   ],
   "source": [
    "# number of rating per user\n",
    "n_rating = rating_df.groupby('userId')['movieId'].count()\n",
    "n_rating"
   ]
  },
  {
   "cell_type": "code",
   "execution_count": 43,
   "metadata": {},
   "outputs": [
    {
     "data": {
      "image/png": "[encoded data removed]",
      "text/plain": [
       "<Figure size 1000x500 with 1 Axes>"
      ]
     },
     "metadata": {},
     "output_type": "display_data"
    }
   ],
   "source": [
    "plt.figure(figsize=(10, 5))\n",
    "sns.histplot(data=n_rating, x = n_rating.values, bins=100)\n",
    "plt.ylabel('Number of users')\n",
    "plt.xlabel('Number of ratings')\n",
    "plt.show()"
   ]
  },
  {
   "cell_type": "code",
   "execution_count": 54,
   "metadata": {},
   "outputs": [
    {
     "data": {
      "text/plain": [
       "37"
      ]
     },
     "execution_count": 54,
     "metadata": {},
     "output_type": "execute_result"
    }
   ],
   "source": [
    "len(n_rating[n_rating.values > 500])"
   ]
  },
  {
   "cell_type": "code",
   "execution_count": 47,
   "metadata": {},
   "outputs": [
    {
     "data": {
      "image/png": "[encoded data removed]",
      "text/plain": [
       "<Figure size 1000x500 with 1 Axes>"
      ]
     },
     "metadata": {},
     "output_type": "display_data"
    }
   ],
   "source": [
    "t = n_rating[n_rating.values < 200]\n",
    "plt.figure(figsize=(10, 5))\n",
    "sns.histplot(data=t, x =t.values, bins=10)\n",
    "plt.ylabel('Number of users')\n",
    "plt.xlabel('Number of ratings')\n",
    "plt.show()"
   ]
  },
  {
   "cell_type": "markdown",
   "metadata": {},
   "source": [
    "# Rating distribution"
   ]
  },
  {
   "cell_type": "code",
   "execution_count": 65,
   "metadata": {},
   "outputs": [
    {
     "data": {
      "text/plain": [
       "<Axes: xlabel='rating', ylabel='Count'>"
      ]
     },
     "execution_count": 65,
     "metadata": {},
     "output_type": "execute_result"
    },
    {
     "data": {
      "image/png": "[encoded data removed]",
      "text/plain": [
       "<Figure size 640x480 with 1 Axes>"
      ]
     },
     "metadata": {},
     "output_type": "display_data"
    }
   ],
   "source": [
    "sns.histplot(rating_df.rating, binwidth=0.5)"
   ]
  }
 ],
 "metadata": {
  "kernelspec": {
   "display_name": "base",
   "language": "python",
   "name": "python3"
  },
  "language_info": {
   "codemirror_mode": {
    "name": "ipython",
    "version": 3
   },
   "file_extension": ".py",
   "mimetype": "text/x-python",
   "name": "python",
   "nbconvert_exporter": "python",
   "pygments_lexer": "ipython3",
   "version": "3.9.7"
  }
 },
 "nbformat": 4,
 "nbformat_minor": 2
}
