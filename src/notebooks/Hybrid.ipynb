{
 "cells": [
  {
   "cell_type": "code",
   "execution_count": 1,
   "id": "af08c657",
   "metadata": {},
   "outputs": [],
   "source": [
    "import pandas as pd\n",
    "import numpy as np"
   ]
  },
  {
   "cell_type": "code",
   "execution_count": 2,
   "id": "ade8f7d6",
   "metadata": {},
   "outputs": [],
   "source": [
    "from surprise import SVD, BaselineOnly, SVDpp, NMF, SlopeOne, CoClustering, Reader\n",
    "from surprise import Dataset\n",
    "from surprise.model_selection import cross_validate\n",
    "from surprise.prediction_algorithms import KNNBaseline, KNNBasic, KNNWithMeans, KNNWithZScore\n",
    "from surprise import accuracy\n",
    "from sklearn.model_selection import train_test_split\n",
    "from surprise import dump"
   ]
  },
  {
   "cell_type": "code",
   "execution_count": 3,
   "id": "0f6bd794",
   "metadata": {},
   "outputs": [],
   "source": [
    "from sklearn.feature_extraction.text import TfidfVectorizer, CountVectorizer\n",
    "from sklearn.metrics.pairwise import linear_kernel, cosine_similarity"
   ]
  },
  {
   "cell_type": "markdown",
   "id": "c57147f8",
   "metadata": {},
   "source": [
    "# **Read file, chia train test, convert**"
   ]
  },
  {
   "cell_type": "code",
   "execution_count": 4,
   "id": "76f2768d",
   "metadata": {},
   "outputs": [],
   "source": [
    "movie = pd.read_csv('final_data')\n",
    "movie.drop('Unnamed: 0', axis = 1, inplace = True)\n",
    "movie = movie[['movieId', 'title', 'genres', 'description', 'popularity']]"
   ]
  },
  {
   "cell_type": "code",
   "execution_count": 5,
   "id": "9aca9260",
   "metadata": {},
   "outputs": [
    {
     "data": {
      "text/html": [
       "<div>\n",
       "<style scoped>\n",
       "    .dataframe tbody tr th:only-of-type {\n",
       "        vertical-align: middle;\n",
       "    }\n",
       "\n",
       "    .dataframe tbody tr th {\n",
       "        vertical-align: top;\n",
       "    }\n",
       "\n",
       "    .dataframe thead th {\n",
       "        text-align: right;\n",
       "    }\n",
       "</style>\n",
       "<table border=\"1\" class=\"dataframe\">\n",
       "  <thead>\n",
       "    <tr style=\"text-align: right;\">\n",
       "      <th></th>\n",
       "      <th>movieId</th>\n",
       "      <th>title</th>\n",
       "      <th>genres</th>\n",
       "      <th>description</th>\n",
       "      <th>popularity</th>\n",
       "    </tr>\n",
       "  </thead>\n",
       "  <tbody>\n",
       "    <tr>\n",
       "      <th>0</th>\n",
       "      <td>1</td>\n",
       "      <td>Toy Story</td>\n",
       "      <td>['Animation', 'Comedy', 'Family']</td>\n",
       "      <td>Led by Woody, Andy's toys live happily in his ...</td>\n",
       "      <td>21.946943</td>\n",
       "    </tr>\n",
       "    <tr>\n",
       "      <th>1</th>\n",
       "      <td>2</td>\n",
       "      <td>Jumanji</td>\n",
       "      <td>['Adventure', 'Fantasy', 'Family']</td>\n",
       "      <td>When siblings Judy and Peter discover an encha...</td>\n",
       "      <td>17.015539</td>\n",
       "    </tr>\n",
       "    <tr>\n",
       "      <th>2</th>\n",
       "      <td>3</td>\n",
       "      <td>Grumpier Old Men</td>\n",
       "      <td>['Romance', 'Comedy']</td>\n",
       "      <td>A family wedding reignites the ancient feud be...</td>\n",
       "      <td>11.712900</td>\n",
       "    </tr>\n",
       "    <tr>\n",
       "      <th>3</th>\n",
       "      <td>4</td>\n",
       "      <td>Waiting to Exhale</td>\n",
       "      <td>['Comedy', 'Drama', 'Romance']</td>\n",
       "      <td>Cheated on, mistreated and stepped on, the wom...</td>\n",
       "      <td>3.859495</td>\n",
       "    </tr>\n",
       "    <tr>\n",
       "      <th>4</th>\n",
       "      <td>5</td>\n",
       "      <td>Father of the Bride Part II</td>\n",
       "      <td>['Comedy']</td>\n",
       "      <td>Just when George Banks has recovered from his ...</td>\n",
       "      <td>8.387519</td>\n",
       "    </tr>\n",
       "  </tbody>\n",
       "</table>\n",
       "</div>"
      ],
      "text/plain": [
       "   movieId                        title                              genres  \\\n",
       "0        1                    Toy Story   ['Animation', 'Comedy', 'Family']   \n",
       "1        2                      Jumanji  ['Adventure', 'Fantasy', 'Family']   \n",
       "2        3             Grumpier Old Men               ['Romance', 'Comedy']   \n",
       "3        4            Waiting to Exhale      ['Comedy', 'Drama', 'Romance']   \n",
       "4        5  Father of the Bride Part II                          ['Comedy']   \n",
       "\n",
       "                                         description  popularity  \n",
       "0  Led by Woody, Andy's toys live happily in his ...   21.946943  \n",
       "1  When siblings Judy and Peter discover an encha...   17.015539  \n",
       "2  A family wedding reignites the ancient feud be...   11.712900  \n",
       "3  Cheated on, mistreated and stepped on, the wom...    3.859495  \n",
       "4  Just when George Banks has recovered from his ...    8.387519  "
      ]
     },
     "execution_count": 5,
     "metadata": {},
     "output_type": "execute_result"
    }
   ],
   "source": [
    "movie.head()"
   ]
  },
  {
   "cell_type": "code",
   "execution_count": 6,
   "id": "d46f6ecb",
   "metadata": {},
   "outputs": [
    {
     "data": {
      "text/html": [
       "<div>\n",
       "<style scoped>\n",
       "    .dataframe tbody tr th:only-of-type {\n",
       "        vertical-align: middle;\n",
       "    }\n",
       "\n",
       "    .dataframe tbody tr th {\n",
       "        vertical-align: top;\n",
       "    }\n",
       "\n",
       "    .dataframe thead th {\n",
       "        text-align: right;\n",
       "    }\n",
       "</style>\n",
       "<table border=\"1\" class=\"dataframe\">\n",
       "  <thead>\n",
       "    <tr style=\"text-align: right;\">\n",
       "      <th></th>\n",
       "      <th>userId</th>\n",
       "      <th>movieId</th>\n",
       "      <th>rating</th>\n",
       "      <th>timestamp</th>\n",
       "    </tr>\n",
       "  </thead>\n",
       "  <tbody>\n",
       "    <tr>\n",
       "      <th>0</th>\n",
       "      <td>1</td>\n",
       "      <td>31</td>\n",
       "      <td>2.5</td>\n",
       "      <td>1260759144</td>\n",
       "    </tr>\n",
       "    <tr>\n",
       "      <th>1</th>\n",
       "      <td>1</td>\n",
       "      <td>1029</td>\n",
       "      <td>3.0</td>\n",
       "      <td>1260759179</td>\n",
       "    </tr>\n",
       "    <tr>\n",
       "      <th>2</th>\n",
       "      <td>1</td>\n",
       "      <td>1061</td>\n",
       "      <td>3.0</td>\n",
       "      <td>1260759182</td>\n",
       "    </tr>\n",
       "    <tr>\n",
       "      <th>3</th>\n",
       "      <td>1</td>\n",
       "      <td>1129</td>\n",
       "      <td>2.0</td>\n",
       "      <td>1260759185</td>\n",
       "    </tr>\n",
       "    <tr>\n",
       "      <th>4</th>\n",
       "      <td>1</td>\n",
       "      <td>1172</td>\n",
       "      <td>4.0</td>\n",
       "      <td>1260759205</td>\n",
       "    </tr>\n",
       "  </tbody>\n",
       "</table>\n",
       "</div>"
      ],
      "text/plain": [
       "   userId  movieId  rating   timestamp\n",
       "0       1       31     2.5  1260759144\n",
       "1       1     1029     3.0  1260759179\n",
       "2       1     1061     3.0  1260759182\n",
       "3       1     1129     2.0  1260759185\n",
       "4       1     1172     4.0  1260759205"
      ]
     },
     "execution_count": 6,
     "metadata": {},
     "output_type": "execute_result"
    }
   ],
   "source": [
    "rating = pd.read_csv('ratings_small.csv')\n",
    "rating.head()"
   ]
  },
  {
   "cell_type": "markdown",
   "id": "e1c7580e",
   "metadata": {},
   "source": [
    "# **Merge data để chia train, test**"
   ]
  },
  {
   "cell_type": "code",
   "execution_count": 7,
   "id": "0681716c",
   "metadata": {},
   "outputs": [],
   "source": [
    "data = rating.merge(movie, on = 'movieId')"
   ]
  },
  {
   "cell_type": "code",
   "execution_count": 8,
   "id": "f6228785",
   "metadata": {
    "scrolled": true
   },
   "outputs": [
    {
     "data": {
      "text/html": [
       "<div>\n",
       "<style scoped>\n",
       "    .dataframe tbody tr th:only-of-type {\n",
       "        vertical-align: middle;\n",
       "    }\n",
       "\n",
       "    .dataframe tbody tr th {\n",
       "        vertical-align: top;\n",
       "    }\n",
       "\n",
       "    .dataframe thead th {\n",
       "        text-align: right;\n",
       "    }\n",
       "</style>\n",
       "<table border=\"1\" class=\"dataframe\">\n",
       "  <thead>\n",
       "    <tr style=\"text-align: right;\">\n",
       "      <th></th>\n",
       "      <th>userId</th>\n",
       "      <th>movieId</th>\n",
       "      <th>rating</th>\n",
       "      <th>timestamp</th>\n",
       "      <th>title</th>\n",
       "      <th>genres</th>\n",
       "      <th>description</th>\n",
       "      <th>popularity</th>\n",
       "    </tr>\n",
       "  </thead>\n",
       "  <tbody>\n",
       "    <tr>\n",
       "      <th>0</th>\n",
       "      <td>1</td>\n",
       "      <td>31</td>\n",
       "      <td>2.5</td>\n",
       "      <td>1260759144</td>\n",
       "      <td>Dangerous Minds</td>\n",
       "      <td>['Drama', 'Crime']</td>\n",
       "      <td>Former Marine Louanne Johnson lands a gig teac...</td>\n",
       "      <td>9.481338</td>\n",
       "    </tr>\n",
       "    <tr>\n",
       "      <th>1</th>\n",
       "      <td>7</td>\n",
       "      <td>31</td>\n",
       "      <td>3.0</td>\n",
       "      <td>851868750</td>\n",
       "      <td>Dangerous Minds</td>\n",
       "      <td>['Drama', 'Crime']</td>\n",
       "      <td>Former Marine Louanne Johnson lands a gig teac...</td>\n",
       "      <td>9.481338</td>\n",
       "    </tr>\n",
       "    <tr>\n",
       "      <th>2</th>\n",
       "      <td>31</td>\n",
       "      <td>31</td>\n",
       "      <td>4.0</td>\n",
       "      <td>1273541953</td>\n",
       "      <td>Dangerous Minds</td>\n",
       "      <td>['Drama', 'Crime']</td>\n",
       "      <td>Former Marine Louanne Johnson lands a gig teac...</td>\n",
       "      <td>9.481338</td>\n",
       "    </tr>\n",
       "    <tr>\n",
       "      <th>3</th>\n",
       "      <td>32</td>\n",
       "      <td>31</td>\n",
       "      <td>4.0</td>\n",
       "      <td>834828440</td>\n",
       "      <td>Dangerous Minds</td>\n",
       "      <td>['Drama', 'Crime']</td>\n",
       "      <td>Former Marine Louanne Johnson lands a gig teac...</td>\n",
       "      <td>9.481338</td>\n",
       "    </tr>\n",
       "    <tr>\n",
       "      <th>4</th>\n",
       "      <td>36</td>\n",
       "      <td>31</td>\n",
       "      <td>3.0</td>\n",
       "      <td>847057202</td>\n",
       "      <td>Dangerous Minds</td>\n",
       "      <td>['Drama', 'Crime']</td>\n",
       "      <td>Former Marine Louanne Johnson lands a gig teac...</td>\n",
       "      <td>9.481338</td>\n",
       "    </tr>\n",
       "    <tr>\n",
       "      <th>...</th>\n",
       "      <td>...</td>\n",
       "      <td>...</td>\n",
       "      <td>...</td>\n",
       "      <td>...</td>\n",
       "      <td>...</td>\n",
       "      <td>...</td>\n",
       "      <td>...</td>\n",
       "      <td>...</td>\n",
       "    </tr>\n",
       "    <tr>\n",
       "      <th>100117</th>\n",
       "      <td>664</td>\n",
       "      <td>64997</td>\n",
       "      <td>2.5</td>\n",
       "      <td>1343761859</td>\n",
       "      <td>H.G. Wells' War of the Worlds</td>\n",
       "      <td>['Science Fiction']</td>\n",
       "      <td>In this modern retelling of H.G. Wells' classi...</td>\n",
       "      <td>1.314076</td>\n",
       "    </tr>\n",
       "    <tr>\n",
       "      <th>100118</th>\n",
       "      <td>664</td>\n",
       "      <td>72380</td>\n",
       "      <td>3.5</td>\n",
       "      <td>1344435977</td>\n",
       "      <td>The Box</td>\n",
       "      <td>['Thriller', 'Science Fiction']</td>\n",
       "      <td>Norma and Arthur Lewis, a suburban couple with...</td>\n",
       "      <td>10.424946</td>\n",
       "    </tr>\n",
       "    <tr>\n",
       "      <th>100119</th>\n",
       "      <td>665</td>\n",
       "      <td>129</td>\n",
       "      <td>3.0</td>\n",
       "      <td>995232528</td>\n",
       "      <td>Pie in the Sky</td>\n",
       "      <td>['Comedy', 'Romance']</td>\n",
       "      <td>Pie in the Sky is a 1996 American romantic com...</td>\n",
       "      <td>0.699066</td>\n",
       "    </tr>\n",
       "    <tr>\n",
       "      <th>100120</th>\n",
       "      <td>665</td>\n",
       "      <td>4736</td>\n",
       "      <td>1.0</td>\n",
       "      <td>1010197684</td>\n",
       "      <td>Summer Catch</td>\n",
       "      <td>['Drama', 'Comedy', 'Romance']</td>\n",
       "      <td>A coming-of-age romantic comedy set against th...</td>\n",
       "      <td>5.499867</td>\n",
       "    </tr>\n",
       "    <tr>\n",
       "      <th>100121</th>\n",
       "      <td>668</td>\n",
       "      <td>6425</td>\n",
       "      <td>1.0</td>\n",
       "      <td>993613478</td>\n",
       "      <td>The Sixth Man</td>\n",
       "      <td>['Fantasy', 'Drama', 'Comedy', 'Science Fiction']</td>\n",
       "      <td>Antoine and Kenny Tyler are NCAA college baske...</td>\n",
       "      <td>3.747649</td>\n",
       "    </tr>\n",
       "  </tbody>\n",
       "</table>\n",
       "<p>100122 rows × 8 columns</p>\n",
       "</div>"
      ],
      "text/plain": [
       "        userId  movieId  rating   timestamp                          title  \\\n",
       "0            1       31     2.5  1260759144                Dangerous Minds   \n",
       "1            7       31     3.0   851868750                Dangerous Minds   \n",
       "2           31       31     4.0  1273541953                Dangerous Minds   \n",
       "3           32       31     4.0   834828440                Dangerous Minds   \n",
       "4           36       31     3.0   847057202                Dangerous Minds   \n",
       "...        ...      ...     ...         ...                            ...   \n",
       "100117     664    64997     2.5  1343761859  H.G. Wells' War of the Worlds   \n",
       "100118     664    72380     3.5  1344435977                        The Box   \n",
       "100119     665      129     3.0   995232528                 Pie in the Sky   \n",
       "100120     665     4736     1.0  1010197684                   Summer Catch   \n",
       "100121     668     6425     1.0   993613478                  The Sixth Man   \n",
       "\n",
       "                                                   genres  \\\n",
       "0                                      ['Drama', 'Crime']   \n",
       "1                                      ['Drama', 'Crime']   \n",
       "2                                      ['Drama', 'Crime']   \n",
       "3                                      ['Drama', 'Crime']   \n",
       "4                                      ['Drama', 'Crime']   \n",
       "...                                                   ...   \n",
       "100117                                ['Science Fiction']   \n",
       "100118                    ['Thriller', 'Science Fiction']   \n",
       "100119                              ['Comedy', 'Romance']   \n",
       "100120                     ['Drama', 'Comedy', 'Romance']   \n",
       "100121  ['Fantasy', 'Drama', 'Comedy', 'Science Fiction']   \n",
       "\n",
       "                                              description  popularity  \n",
       "0       Former Marine Louanne Johnson lands a gig teac...    9.481338  \n",
       "1       Former Marine Louanne Johnson lands a gig teac...    9.481338  \n",
       "2       Former Marine Louanne Johnson lands a gig teac...    9.481338  \n",
       "3       Former Marine Louanne Johnson lands a gig teac...    9.481338  \n",
       "4       Former Marine Louanne Johnson lands a gig teac...    9.481338  \n",
       "...                                                   ...         ...  \n",
       "100117  In this modern retelling of H.G. Wells' classi...    1.314076  \n",
       "100118  Norma and Arthur Lewis, a suburban couple with...   10.424946  \n",
       "100119  Pie in the Sky is a 1996 American romantic com...    0.699066  \n",
       "100120  A coming-of-age romantic comedy set against th...    5.499867  \n",
       "100121  Antoine and Kenny Tyler are NCAA college baske...    3.747649  \n",
       "\n",
       "[100122 rows x 8 columns]"
      ]
     },
     "execution_count": 8,
     "metadata": {},
     "output_type": "execute_result"
    }
   ],
   "source": [
    "data"
   ]
  },
  {
   "cell_type": "code",
   "execution_count": 9,
   "id": "2f58ff1d",
   "metadata": {},
   "outputs": [],
   "source": [
    "train_df, test_df = train_test_split(data, test_size = 0.3, random_state = 42, stratify=data['userId'])#chia train, test"
   ]
  },
  {
   "cell_type": "code",
   "execution_count": 10,
   "id": "7f0d02ca",
   "metadata": {},
   "outputs": [],
   "source": [
    "def convert_traintest_dataframe_forsurprise(training_dataframe, testing_dataframe):#convert để dùng cho thư viẹn surprise\n",
    "    reader = Reader(rating_scale=(0, 5))\n",
    "    trainset = Dataset.load_from_df(training_dataframe[['userId', 'movieId', 'rating']], reader)\n",
    "    testset = Dataset.load_from_df(testing_dataframe[['userId', 'movieId', 'rating']], reader)\n",
    "    trainset = trainset.construct_trainset(trainset.raw_ratings)\n",
    "    testset = testset.construct_testset(testset.raw_ratings)\n",
    "    return trainset, testset"
   ]
  },
  {
   "cell_type": "code",
   "execution_count": 11,
   "id": "47033040",
   "metadata": {},
   "outputs": [],
   "source": [
    "train_set, test_set = convert_traintest_dataframe_forsurprise(train_df, test_df)"
   ]
  },
  {
   "cell_type": "markdown",
   "id": "41f933fe",
   "metadata": {},
   "source": [
    "# CF and Laten Factor model "
   ]
  },
  {
   "cell_type": "code",
   "execution_count": 12,
   "id": "92e72364",
   "metadata": {},
   "outputs": [
    {
     "name": "stdout",
     "output_type": "stream",
     "text": [
      "Estimating biases using als...\n",
      "Computing the cosine similarity matrix...\n",
      "Done computing similarity matrix.\n",
      "RMSE: 0.9024\n",
      "MAE:  0.6960\n",
      "Done!\n"
     ]
    }
   ],
   "source": [
    "sim_options = {'name': 'cosine',\n",
    "               'user_based': False  # compute  similarities between items\n",
    "               }\n",
    "knnbaseline_algo = KNNBaseline(sim_options=sim_options)\n",
    "\n",
    "knnbaseline_algo.fit(train_set)\n",
    "knnbaseline_predictions = knnbaseline_algo.test(test_set)\n",
    "\n",
    "file_name = 'KnnBaseline_model'\n",
    "dump.dump(file_name, algo=knnbaseline_predictions)\n",
    "# _, loaded_algo = dump.load(file_name)\n",
    "\n",
    "accuracy.rmse(knnbaseline_predictions)\n",
    "accuracy.mae(knnbaseline_predictions)\n",
    "print(\"Done!\")"
   ]
  },
  {
   "cell_type": "code",
   "execution_count": 13,
   "id": "edc8394c",
   "metadata": {},
   "outputs": [
    {
     "name": "stdout",
     "output_type": "stream",
     "text": [
      "RMSE: 0.8936\n",
      "MAE:  0.6875\n",
      "Done!\n"
     ]
    }
   ],
   "source": [
    "svd_algo = SVD()\n",
    "\n",
    "svd_algo.fit(train_set)\n",
    "svd_predictions = svd_algo.test(test_set)\n",
    "\n",
    "file_name = 'svd_model'\n",
    "dump.dump(file_name, algo=svd_algo)\n",
    "# _, loaded_algo = dump.load(file_name)\n",
    "\n",
    "accuracy.rmse(svd_predictions)\n",
    "accuracy.mae(svd_predictions)\n",
    "print(\"Done!\")"
   ]
  },
  {
   "cell_type": "code",
   "execution_count": 14,
   "id": "7602319d",
   "metadata": {},
   "outputs": [
    {
     "name": "stdout",
     "output_type": "stream",
     "text": [
      "RMSE: 0.8848\n",
      "MAE:  0.6796\n",
      "Done!\n"
     ]
    }
   ],
   "source": [
    "svdpp_algo = SVDpp()\n",
    "\n",
    "svdpp_algo.fit(train_set)\n",
    "svdpp_predictions = svdpp_algo.test(test_set)\n",
    "\n",
    "file_name = 'svdpp_model'\n",
    "dump.dump(file_name, algo=svdpp_algo)\n",
    "# _, loaded_algo = dump.load(file_name)\n",
    "\n",
    "accuracy.rmse(svdpp_predictions)\n",
    "accuracy.mae(svdpp_predictions)\n",
    "print(\"Done!\")"
   ]
  },
  {
   "cell_type": "markdown",
   "id": "3facbb3e",
   "metadata": {},
   "source": [
    "# **Encode Genres**"
   ]
  },
  {
   "cell_type": "code",
   "execution_count": 15,
   "id": "629b3e10",
   "metadata": {},
   "outputs": [],
   "source": [
    "genre_to_idx = {'Animation': 0,\n",
    " 'Comedy': 1,\n",
    " 'Family': 2,\n",
    " 'Adventure': 3,\n",
    " 'Fantasy': 4,\n",
    " 'Romance': 5,\n",
    " 'Drama': 6,\n",
    " 'Action': 7,\n",
    " 'Crime': 8,\n",
    " 'Thriller': 9,\n",
    " 'Horror': 10,\n",
    " 'History': 11,\n",
    " 'Science Fiction': 12,\n",
    " 'Mystery': 13,\n",
    " 'War': 14,\n",
    " 'Foreign': 15,\n",
    " 'Music': 16,\n",
    " 'Documentary': 17,\n",
    " None: 18,\n",
    " 'Western': 19,\n",
    " 'TV Movie': 20}"
   ]
  },
  {
   "cell_type": "code",
   "execution_count": 16,
   "id": "f9f32ec8",
   "metadata": {},
   "outputs": [],
   "source": [
    "idx_to_genre = {0: 'Animation',\n",
    " 1: 'Comedy',\n",
    " 2: 'Family',\n",
    " 3: 'Adventure',\n",
    " 4: 'Fantasy',\n",
    " 5: 'Romance',\n",
    " 6: 'Drama',\n",
    " 7: 'Action',\n",
    " 8: 'Crime',\n",
    " 9: 'Thriller',\n",
    " 10: 'Horror',\n",
    " 11: 'History',\n",
    " 12: 'Science Fiction',\n",
    " 13: 'Mystery',\n",
    " 14: 'War',\n",
    " 15: 'Foreign',\n",
    " 16: 'Music',\n",
    " 17: 'Documentary',\n",
    " 18: None,\n",
    " 19: 'Western',\n",
    " 20: 'TV Movie'}"
   ]
  },
  {
   "cell_type": "markdown",
   "id": "85c8ac6d",
   "metadata": {},
   "source": [
    "# **TFIDF Matrix**"
   ]
  },
  {
   "cell_type": "code",
   "execution_count": 17,
   "id": "29ac34bd",
   "metadata": {},
   "outputs": [],
   "source": [
    "movie['description_genre'] = movie['description']+ 2*movie['genres']\n",
    "movie['description_genre'] = movie['description_genre'].fillna('')"
   ]
  },
  {
   "cell_type": "code",
   "execution_count": 18,
   "id": "ae638de6",
   "metadata": {},
   "outputs": [],
   "source": [
    "tfidf = TfidfVectorizer(analyzer='word', ngram_range=(1, 2), stop_words='english')\n",
    "tfidf_matrix = tfidf.fit_transform(movie['description_genre'])"
   ]
  },
  {
   "cell_type": "code",
   "execution_count": 19,
   "id": "37d616b3",
   "metadata": {},
   "outputs": [],
   "source": [
    "cosine_sim= linear_kernel(tfidf_matrix, tfidf_matrix)"
   ]
  },
  {
   "cell_type": "code",
   "execution_count": 20,
   "id": "c4e32d09",
   "metadata": {},
   "outputs": [
    {
     "data": {
      "text/plain": [
       "title\n",
       "Toy Story                                                0\n",
       "Jumanji                                                  1\n",
       "Grumpier Old Men                                         2\n",
       "Waiting to Exhale                                        3\n",
       "Father of the Bride Part II                              4\n",
       "                                                      ... \n",
       "The Last Brickmaker in America                        9214\n",
       "Rustom                                                9215\n",
       "Mohenjo Daro                                          9216\n",
       "Shin Godzilla                                         9217\n",
       "The Beatles: Eight Days a Week - The Touring Years    9218\n",
       "Length: 9219, dtype: int64"
      ]
     },
     "execution_count": 20,
     "metadata": {},
     "output_type": "execute_result"
    }
   ],
   "source": [
    "# map title với index của table movie, index của title = index của bảng, value = title\n",
    "titles = movie['title']\n",
    "indices = pd.Series(movie.index, index=movie['title'])\n",
    "indices"
   ]
  },
  {
   "cell_type": "markdown",
   "id": "c1a864cf",
   "metadata": {},
   "source": [
    "# **Movie Similarity model**"
   ]
  },
  {
   "cell_type": "code",
   "execution_count": 21,
   "id": "1633c13e",
   "metadata": {},
   "outputs": [],
   "source": [
    "def get_recommendations_new(title):\n",
    "    idx = indices[title] #lấy ra index của title\n",
    "    if type(idx) != np.int64:\n",
    "        if len(idx)>1:\n",
    "            print(\"ALERT: Multiple values\")\n",
    "            idx = idx[0]\n",
    "    sim_scores = list(enumerate(cosine_sim[idx]))\n",
    "    sim_scores = sorted(sim_scores, key=lambda x: x[1], reverse=True)\n",
    "    sim_scores = sim_scores[1:11]\n",
    "    movie_indices = [i[0] for i in sim_scores]\n",
    "    return movie['movieId'].iloc[movie_indices]"
   ]
  },
  {
   "cell_type": "code",
   "execution_count": 22,
   "id": "517c0d83",
   "metadata": {},
   "outputs": [
    {
     "data": {
      "text/plain": [
       "2522      3114\n",
       "7629     78499\n",
       "6267     35836\n",
       "8432    103335\n",
       "2751      3429\n",
       "2567      3174\n",
       "1432      1822\n",
       "6809     54272\n",
       "3833      4886\n",
       "7254     67295\n",
       "Name: movieId, dtype: int64"
      ]
     },
     "execution_count": 22,
     "metadata": {},
     "output_type": "execute_result"
    }
   ],
   "source": [
    "get_recommendations_new(\"Toy Story\")"
   ]
  },
  {
   "cell_type": "markdown",
   "id": "6198c3c6",
   "metadata": {},
   "source": [
    "# **Popularity Model**"
   ]
  },
  {
   "cell_type": "code",
   "execution_count": 23,
   "id": "b9c1e99e",
   "metadata": {},
   "outputs": [],
   "source": [
    "def genre_based_popularity(genre):\n",
    "    mask = movie.genres.apply(lambda x: genre in x) # trả về dạng bool, check xem genre có trong cái list genres đó k\n",
    "    filtered_movie = movie[mask]# trả về dataframe các film match với genre\n",
    "    filtered_movie = filtered_movie.sort_values(by='popularity', ascending=False) #xếp theo độ phổ biến nhất\n",
    "    return filtered_movie['movieId'].head(10).values.tolist() #trả về list top 10 movie similar\n",
    "\n",
    "# genre_based_popularity('Animation')[['title', 'popularity']].head(25)"
   ]
  },
  {
   "cell_type": "code",
   "execution_count": 24,
   "id": "2c723d50",
   "metadata": {},
   "outputs": [],
   "source": [
    "mask = movie.genres.apply(lambda x: \"Animation\" in x)"
   ]
  },
  {
   "cell_type": "code",
   "execution_count": 25,
   "id": "ec998e75",
   "metadata": {},
   "outputs": [
    {
     "data": {
      "text/plain": [
       "0        True\n",
       "1       False\n",
       "2       False\n",
       "3       False\n",
       "4       False\n",
       "        ...  \n",
       "9214    False\n",
       "9215    False\n",
       "9216    False\n",
       "9217    False\n",
       "9218    False\n",
       "Name: genres, Length: 9219, dtype: bool"
      ]
     },
     "execution_count": 25,
     "metadata": {},
     "output_type": "execute_result"
    }
   ],
   "source": [
    "mask"
   ]
  },
  {
   "cell_type": "code",
   "execution_count": 26,
   "id": "e215a1b6",
   "metadata": {},
   "outputs": [],
   "source": [
    "filtered_movie = movie[mask]"
   ]
  },
  {
   "cell_type": "code",
   "execution_count": 27,
   "id": "dfb6bcf3",
   "metadata": {},
   "outputs": [
    {
     "data": {
      "text/html": [
       "<div>\n",
       "<style scoped>\n",
       "    .dataframe tbody tr th:only-of-type {\n",
       "        vertical-align: middle;\n",
       "    }\n",
       "\n",
       "    .dataframe tbody tr th {\n",
       "        vertical-align: top;\n",
       "    }\n",
       "\n",
       "    .dataframe thead th {\n",
       "        text-align: right;\n",
       "    }\n",
       "</style>\n",
       "<table border=\"1\" class=\"dataframe\">\n",
       "  <thead>\n",
       "    <tr style=\"text-align: right;\">\n",
       "      <th></th>\n",
       "      <th>movieId</th>\n",
       "      <th>title</th>\n",
       "      <th>genres</th>\n",
       "      <th>description</th>\n",
       "      <th>popularity</th>\n",
       "      <th>description_genre</th>\n",
       "    </tr>\n",
       "  </thead>\n",
       "  <tbody>\n",
       "    <tr>\n",
       "      <th>0</th>\n",
       "      <td>1</td>\n",
       "      <td>Toy Story</td>\n",
       "      <td>['Animation', 'Comedy', 'Family']</td>\n",
       "      <td>Led by Woody, Andy's toys live happily in his ...</td>\n",
       "      <td>21.946943</td>\n",
       "      <td>Led by Woody, Andy's toys live happily in his ...</td>\n",
       "    </tr>\n",
       "    <tr>\n",
       "      <th>12</th>\n",
       "      <td>13</td>\n",
       "      <td>Balto</td>\n",
       "      <td>['Family', 'Animation', 'Adventure']</td>\n",
       "      <td>An outcast half-wolf risks his life to prevent...</td>\n",
       "      <td>12.140733</td>\n",
       "      <td>An outcast half-wolf risks his life to prevent...</td>\n",
       "    </tr>\n",
       "    <tr>\n",
       "      <th>46</th>\n",
       "      <td>48</td>\n",
       "      <td>Pocahontas</td>\n",
       "      <td>['Adventure', 'Animation', 'Drama', 'Family']</td>\n",
       "      <td>History comes gloriously to life in Disney's e...</td>\n",
       "      <td>13.280069</td>\n",
       "      <td>History comes gloriously to life in Disney's e...</td>\n",
       "    </tr>\n",
       "    <tr>\n",
       "      <th>211</th>\n",
       "      <td>239</td>\n",
       "      <td>A Goofy Movie</td>\n",
       "      <td>['Romance', 'Animation', 'Family', 'Comedy', '...</td>\n",
       "      <td>Though Goofy always means well, his amiable cl...</td>\n",
       "      <td>10.177977</td>\n",
       "      <td>Though Goofy always means well, his amiable cl...</td>\n",
       "    </tr>\n",
       "    <tr>\n",
       "      <th>216</th>\n",
       "      <td>244</td>\n",
       "      <td>Gumby: The Movie</td>\n",
       "      <td>['Fantasy', 'Animation', 'Science Fiction', 'F...</td>\n",
       "      <td>The band is back together! Gumby reunites with...</td>\n",
       "      <td>0.090452</td>\n",
       "      <td>The band is back together! Gumby reunites with...</td>\n",
       "    </tr>\n",
       "    <tr>\n",
       "      <th>...</th>\n",
       "      <td>...</td>\n",
       "      <td>...</td>\n",
       "      <td>...</td>\n",
       "      <td>...</td>\n",
       "      <td>...</td>\n",
       "      <td>...</td>\n",
       "    </tr>\n",
       "    <tr>\n",
       "      <th>9165</th>\n",
       "      <td>152081</td>\n",
       "      <td>Zootopia</td>\n",
       "      <td>['Animation', 'Adventure', 'Family', 'Comedy']</td>\n",
       "      <td>Determined to prove herself, Officer Judy Hopp...</td>\n",
       "      <td>26.024868</td>\n",
       "      <td>Determined to prove herself, Officer Judy Hopp...</td>\n",
       "    </tr>\n",
       "    <tr>\n",
       "      <th>9176</th>\n",
       "      <td>156025</td>\n",
       "      <td>Ice Age: The Great Egg-Scapade</td>\n",
       "      <td>['Adventure', 'Animation', 'Comedy', 'Family',...</td>\n",
       "      <td>A harried prehistoric bird mom Ethel entrusts ...</td>\n",
       "      <td>6.263676</td>\n",
       "      <td>A harried prehistoric bird mom Ethel entrusts ...</td>\n",
       "    </tr>\n",
       "    <tr>\n",
       "      <th>9182</th>\n",
       "      <td>157296</td>\n",
       "      <td>Finding Dory</td>\n",
       "      <td>['Adventure', 'Animation', 'Comedy', 'Family']</td>\n",
       "      <td>Dory is reunited with her friends Nemo and Mar...</td>\n",
       "      <td>14.477677</td>\n",
       "      <td>Dory is reunited with her friends Nemo and Mar...</td>\n",
       "    </tr>\n",
       "    <tr>\n",
       "      <th>9205</th>\n",
       "      <td>160718</td>\n",
       "      <td>Piper</td>\n",
       "      <td>['Family', 'Animation']</td>\n",
       "      <td>A mother bird tries to teach her little one ho...</td>\n",
       "      <td>11.243161</td>\n",
       "      <td>A mother bird tries to teach her little one ho...</td>\n",
       "    </tr>\n",
       "    <tr>\n",
       "      <th>9211</th>\n",
       "      <td>161594</td>\n",
       "      <td>Kingsglaive: Final Fantasy XV</td>\n",
       "      <td>['Action', 'Animation', 'Adventure', 'Drama', ...</td>\n",
       "      <td>The magical kingdom of Lucis is home to the wo...</td>\n",
       "      <td>7.692445</td>\n",
       "      <td>The magical kingdom of Lucis is home to the wo...</td>\n",
       "    </tr>\n",
       "  </tbody>\n",
       "</table>\n",
       "<p>470 rows × 6 columns</p>\n",
       "</div>"
      ],
      "text/plain": [
       "      movieId                           title  \\\n",
       "0           1                       Toy Story   \n",
       "12         13                           Balto   \n",
       "46         48                      Pocahontas   \n",
       "211       239                   A Goofy Movie   \n",
       "216       244                Gumby: The Movie   \n",
       "...       ...                             ...   \n",
       "9165   152081                        Zootopia   \n",
       "9176   156025  Ice Age: The Great Egg-Scapade   \n",
       "9182   157296                    Finding Dory   \n",
       "9205   160718                           Piper   \n",
       "9211   161594   Kingsglaive: Final Fantasy XV   \n",
       "\n",
       "                                                 genres  \\\n",
       "0                     ['Animation', 'Comedy', 'Family']   \n",
       "12                 ['Family', 'Animation', 'Adventure']   \n",
       "46        ['Adventure', 'Animation', 'Drama', 'Family']   \n",
       "211   ['Romance', 'Animation', 'Family', 'Comedy', '...   \n",
       "216   ['Fantasy', 'Animation', 'Science Fiction', 'F...   \n",
       "...                                                 ...   \n",
       "9165     ['Animation', 'Adventure', 'Family', 'Comedy']   \n",
       "9176  ['Adventure', 'Animation', 'Comedy', 'Family',...   \n",
       "9182     ['Adventure', 'Animation', 'Comedy', 'Family']   \n",
       "9205                            ['Family', 'Animation']   \n",
       "9211  ['Action', 'Animation', 'Adventure', 'Drama', ...   \n",
       "\n",
       "                                            description  popularity  \\\n",
       "0     Led by Woody, Andy's toys live happily in his ...   21.946943   \n",
       "12    An outcast half-wolf risks his life to prevent...   12.140733   \n",
       "46    History comes gloriously to life in Disney's e...   13.280069   \n",
       "211   Though Goofy always means well, his amiable cl...   10.177977   \n",
       "216   The band is back together! Gumby reunites with...    0.090452   \n",
       "...                                                 ...         ...   \n",
       "9165  Determined to prove herself, Officer Judy Hopp...   26.024868   \n",
       "9176  A harried prehistoric bird mom Ethel entrusts ...    6.263676   \n",
       "9182  Dory is reunited with her friends Nemo and Mar...   14.477677   \n",
       "9205  A mother bird tries to teach her little one ho...   11.243161   \n",
       "9211  The magical kingdom of Lucis is home to the wo...    7.692445   \n",
       "\n",
       "                                      description_genre  \n",
       "0     Led by Woody, Andy's toys live happily in his ...  \n",
       "12    An outcast half-wolf risks his life to prevent...  \n",
       "46    History comes gloriously to life in Disney's e...  \n",
       "211   Though Goofy always means well, his amiable cl...  \n",
       "216   The band is back together! Gumby reunites with...  \n",
       "...                                                 ...  \n",
       "9165  Determined to prove herself, Officer Judy Hopp...  \n",
       "9176  A harried prehistoric bird mom Ethel entrusts ...  \n",
       "9182  Dory is reunited with her friends Nemo and Mar...  \n",
       "9205  A mother bird tries to teach her little one ho...  \n",
       "9211  The magical kingdom of Lucis is home to the wo...  \n",
       "\n",
       "[470 rows x 6 columns]"
      ]
     },
     "execution_count": 27,
     "metadata": {},
     "output_type": "execute_result"
    }
   ],
   "source": [
    "filtered_movie"
   ]
  },
  {
   "cell_type": "code",
   "execution_count": 28,
   "id": "88256538",
   "metadata": {},
   "outputs": [
    {
     "data": {
      "text/plain": [
       "[1, 13, 48, 239, 244, 313, 364, 392, 551, 558]"
      ]
     },
     "execution_count": 28,
     "metadata": {},
     "output_type": "execute_result"
    }
   ],
   "source": [
    "filtered_movie['movieId'].head(10).values.tolist() "
   ]
  },
  {
   "cell_type": "code",
   "execution_count": 29,
   "id": "2ab687ee",
   "metadata": {},
   "outputs": [
    {
     "data": {
      "text/plain": [
       "[135887, 115617, 5618, 4886, 152081, 152081, 6377, 103335, 106696, 134853]"
      ]
     },
     "execution_count": 29,
     "metadata": {},
     "output_type": "execute_result"
    }
   ],
   "source": [
    "genre_based_popularity('Animation')"
   ]
  },
  {
   "cell_type": "code",
   "execution_count": 30,
   "id": "0d8120f6",
   "metadata": {},
   "outputs": [],
   "source": [
    "user_info = pd.read_csv('user_info.csv')"
   ]
  },
  {
   "cell_type": "code",
   "execution_count": 31,
   "id": "1d85c1b6",
   "metadata": {},
   "outputs": [
    {
     "data": {
      "text/html": [
       "<div>\n",
       "<style scoped>\n",
       "    .dataframe tbody tr th:only-of-type {\n",
       "        vertical-align: middle;\n",
       "    }\n",
       "\n",
       "    .dataframe tbody tr th {\n",
       "        vertical-align: top;\n",
       "    }\n",
       "\n",
       "    .dataframe thead th {\n",
       "        text-align: right;\n",
       "    }\n",
       "</style>\n",
       "<table border=\"1\" class=\"dataframe\">\n",
       "  <thead>\n",
       "    <tr style=\"text-align: right;\">\n",
       "      <th></th>\n",
       "      <th>Unnamed: 0</th>\n",
       "      <th>userId</th>\n",
       "      <th>user_vector</th>\n",
       "      <th>avg_rating</th>\n",
       "      <th>num_movies_rated</th>\n",
       "    </tr>\n",
       "  </thead>\n",
       "  <tbody>\n",
       "    <tr>\n",
       "      <th>0</th>\n",
       "      <td>0</td>\n",
       "      <td>95</td>\n",
       "      <td>[4.         3.93670886 3.77777778 3.96969697 3...</td>\n",
       "      <td>3.865385</td>\n",
       "      <td>208</td>\n",
       "    </tr>\n",
       "    <tr>\n",
       "      <th>1</th>\n",
       "      <td>1</td>\n",
       "      <td>60</td>\n",
       "      <td>[4.16666667 4.         3.875      3.625      3...</td>\n",
       "      <td>4.214286</td>\n",
       "      <td>42</td>\n",
       "    </tr>\n",
       "    <tr>\n",
       "      <th>2</th>\n",
       "      <td>2</td>\n",
       "      <td>616</td>\n",
       "      <td>[4.         3.5        3.33333333 4.         3...</td>\n",
       "      <td>3.681818</td>\n",
       "      <td>22</td>\n",
       "    </tr>\n",
       "    <tr>\n",
       "      <th>3</th>\n",
       "      <td>3</td>\n",
       "      <td>111</td>\n",
       "      <td>[3.         3.43129771 3.5        3.57317073 3...</td>\n",
       "      <td>3.476793</td>\n",
       "      <td>237</td>\n",
       "    </tr>\n",
       "    <tr>\n",
       "      <th>4</th>\n",
       "      <td>4</td>\n",
       "      <td>48</td>\n",
       "      <td>[3.54651163 3.47395833 3.45238095 3.53370787 3...</td>\n",
       "      <td>3.543956</td>\n",
       "      <td>364</td>\n",
       "    </tr>\n",
       "  </tbody>\n",
       "</table>\n",
       "</div>"
      ],
      "text/plain": [
       "   Unnamed: 0  userId                                        user_vector  \\\n",
       "0           0      95  [4.         3.93670886 3.77777778 3.96969697 3...   \n",
       "1           1      60  [4.16666667 4.         3.875      3.625      3...   \n",
       "2           2     616  [4.         3.5        3.33333333 4.         3...   \n",
       "3           3     111  [3.         3.43129771 3.5        3.57317073 3...   \n",
       "4           4      48  [3.54651163 3.47395833 3.45238095 3.53370787 3...   \n",
       "\n",
       "   avg_rating  num_movies_rated  \n",
       "0    3.865385               208  \n",
       "1    4.214286                42  \n",
       "2    3.681818                22  \n",
       "3    3.476793               237  \n",
       "4    3.543956               364  "
      ]
     },
     "execution_count": 31,
     "metadata": {},
     "output_type": "execute_result"
    }
   ],
   "source": [
    "user_info.head()"
   ]
  },
  {
   "cell_type": "code",
   "execution_count": 32,
   "id": "5db44985",
   "metadata": {},
   "outputs": [],
   "source": [
    "user_info['user_vector'] = user_info['user_vector'].apply(lambda x: x.replace('[', ' ').replace(']', ' ').strip().split())\n",
    "user_info['user_vector'] = user_info['user_vector'].apply(lambda x: np.asarray(x).astype(float))"
   ]
  },
  {
   "cell_type": "code",
   "execution_count": 33,
   "id": "71276a28",
   "metadata": {},
   "outputs": [],
   "source": [
    "def user_top_genre(userId):\n",
    "    user_vec = user_info['user_vector'][user_info['userId'] == userId].values[0].copy()\n",
    "    print(\"User Vector: \", user_vec)\n",
    "    top_genre_indices = np.flip(np.argsort(user_vec))\n",
    "    genre_list = []\n",
    "    for i in top_genre_indices[:3]:\n",
    "        genre_list.append(idx_to_genre[i])\n",
    "    return genre_list"
   ]
  },
  {
   "cell_type": "code",
   "execution_count": 34,
   "id": "f78fef08",
   "metadata": {},
   "outputs": [
    {
     "name": "stdout",
     "output_type": "stream",
     "text": [
      "User Vector:  [2.    2.25  1.5   2.25  1.    3.5   2.3   3.    2.875 3.    3.5   2.\n",
      " 2.5   2.5   2.    0.    0.    0.    0.    3.    0.   ]\n"
     ]
    },
    {
     "data": {
      "text/plain": [
       "['Horror', 'Romance', 'Thriller']"
      ]
     },
     "execution_count": 34,
     "metadata": {},
     "output_type": "execute_result"
    }
   ],
   "source": [
    "user_top_genre(1)"
   ]
  },
  {
   "cell_type": "markdown",
   "id": "49e9ef43",
   "metadata": {},
   "source": [
    "# **Hybrid model**"
   ]
  },
  {
   "cell_type": "code",
   "execution_count": 35,
   "id": "09615d90",
   "metadata": {},
   "outputs": [],
   "source": [
    "from surprise.model_selection import train_test_split"
   ]
  },
  {
   "cell_type": "code",
   "execution_count": 36,
   "id": "66d474f6",
   "metadata": {},
   "outputs": [],
   "source": [
    "knn_baseline = dump.load('KnnBaseline_model')\n",
    "svdpp = dump.load('svdpp_model') "
   ]
  },
  {
   "cell_type": "code",
   "execution_count": 37,
   "id": "332e694c",
   "metadata": {},
   "outputs": [],
   "source": [
    "user_list = test_df['userId'].unique()"
   ]
  },
  {
   "cell_type": "code",
   "execution_count": 38,
   "id": "7088405d",
   "metadata": {},
   "outputs": [
    {
     "data": {
      "text/plain": [
       "array([481, 217, 547, 505, 271, 659,  56, 157, 471, 282], dtype=int64)"
      ]
     },
     "execution_count": 38,
     "metadata": {},
     "output_type": "execute_result"
    }
   ],
   "source": [
    "user_list[:10]"
   ]
  },
  {
   "cell_type": "code",
   "execution_count": 39,
   "id": "5611e80e",
   "metadata": {},
   "outputs": [],
   "source": [
    "def hybrid(userId):\n",
    "    user_movies = test_df[test_df['userId'] == userId]\n",
    "    user_movies['est'] = user_movies['movieId'].apply(lambda x: 0.6*knnbaseline_algo.predict(userId,x).est + 0.4*svdpp_algo.predict(userId, x).est)    \n",
    "    user_movies = user_movies.sort_values(by ='est', ascending=False).head(4)\n",
    "    user_movies['Model'] = 'SVD + CF'\n",
    "#     user_movies = user_movies['movieId'].values.tolist()\n",
    "#     print(\"User liked movies list: \", user_movies)\n",
    "    \n",
    "    recommend_list = user_movies[['movieId', 'est', 'Model']]\n",
    "    print(recommend_list.head())\n",
    "\n",
    "#     top_movie = user_movies['movieId'].iloc[0]\n",
    "#     print(\"Top movie id\", top_movie)\n",
    "#     top_movie_title = movies['title'][movies['movieId'] == top_movie].values[0]\n",
    "#     print(\"Top movie title\", top_movie_title)\n",
    "\n",
    "    \n",
    "    movie_list = recommend_list['movieId'].values.tolist()\n",
    "    print(movie_list)\n",
    "    sim_movies_list = []\n",
    "    for movie_id in movie_list:\n",
    "        # Call content based \n",
    "        movie_title = movie['title'][movie['movieId'] == movie_id].values[0]\n",
    "        sim_movies = get_recommendations_new(movie_title)\n",
    "#         print(sim_movies.values.tolist())\n",
    "        sim_movies_list.extend(sim_movies)\n",
    "    \n",
    "    \n",
    "    # Compute ratings for the popular movies\n",
    "    for movie_id in sim_movies_list:\n",
    "        pred_rating = 0.6*knnbaseline_algo.predict(userId, movie_id).est + 0.4*svdpp_algo.predict(userId, movie_id).est\n",
    "        row_df = pd.DataFrame([[movie_id, pred_rating, 'Movie similarity']], columns=['movieId', 'est','Model'])\n",
    "        recommend_list = pd.concat([recommend_list, row_df], ignore_index=True)\n",
    "    \n",
    "    # Popular based movies\n",
    "    top_genre_list = user_top_genre(userId)\n",
    "    print(\"User top genre list: \", top_genre_list)\n",
    "    \n",
    "    popular_movies = []\n",
    "    for top_genre in top_genre_list:\n",
    "        popular_movies.extend(genre_based_popularity(top_genre))\n",
    "    print(\"Final list: \", popular_movies)\n",
    "    \n",
    "    # Compute ratings for the popular movies\n",
    "    for movie_id in popular_movies:\n",
    "        pred_rating = 0.6*knnbaseline_algo.predict(userId, movie_id).est + 0.4*svdpp_algo.predict(userId, movie_id).est\n",
    "        row_df = pd.DataFrame([[movie_id, pred_rating, 'Popularity']], columns=['movieId', 'est','Model'])\n",
    "        recommend_list = pd.concat([recommend_list, row_df], ignore_index=True)\n",
    "    recommend_list = recommend_list.drop_duplicates(subset=['movieId'])\n",
    "    train_movie_list = train_df[train_df['userId']==userId]['movieId'].values.tolist()\n",
    "    \n",
    "    # Remove movies in training for this user\n",
    "    mask = recommend_list.movieId.apply(lambda x: x not in train_movie_list)\n",
    "    recommend_list = recommend_list[mask]\n",
    "    \n",
    "    return recommend_list"
   ]
  },
  {
   "cell_type": "markdown",
   "id": "1d37f529",
   "metadata": {},
   "source": [
    "# **Ví dụ**"
   ]
  },
  {
   "cell_type": "code",
   "execution_count": 40,
   "id": "fe2123b2",
   "metadata": {},
   "outputs": [
    {
     "name": "stderr",
     "output_type": "stream",
     "text": [
      "C:\\Users\\Admin\\AppData\\Local\\Temp\\ipykernel_7264\\3377034261.py:2: SettingWithCopyWarning: \n",
      "A value is trying to be set on a copy of a slice from a DataFrame.\n",
      "Try using .loc[row_indexer,col_indexer] = value instead\n",
      "\n",
      "See the caveats in the documentation: https://pandas.pydata.org/pandas-docs/stable/user_guide/indexing.html#returning-a-view-versus-a-copy\n",
      "  user_movies['est'] = user_movies['movieId'].apply(lambda x: 0.6*knnbaseline_algo.predict(60,x).est + 0.4*svdpp_algo.predict(60, x).est)\n"
     ]
    }
   ],
   "source": [
    "user_movies = test_df[test_df['userId'] == 60]\n",
    "user_movies['est'] = user_movies['movieId'].apply(lambda x: 0.6*knnbaseline_algo.predict(60,x).est + 0.4*svdpp_algo.predict(60, x).est)"
   ]
  },
  {
   "cell_type": "code",
   "execution_count": 41,
   "id": "931fca2b",
   "metadata": {},
   "outputs": [
    {
     "data": {
      "text/html": [
       "<div>\n",
       "<style scoped>\n",
       "    .dataframe tbody tr th:only-of-type {\n",
       "        vertical-align: middle;\n",
       "    }\n",
       "\n",
       "    .dataframe tbody tr th {\n",
       "        vertical-align: top;\n",
       "    }\n",
       "\n",
       "    .dataframe thead th {\n",
       "        text-align: right;\n",
       "    }\n",
       "</style>\n",
       "<table border=\"1\" class=\"dataframe\">\n",
       "  <thead>\n",
       "    <tr style=\"text-align: right;\">\n",
       "      <th></th>\n",
       "      <th>userId</th>\n",
       "      <th>movieId</th>\n",
       "      <th>rating</th>\n",
       "      <th>timestamp</th>\n",
       "      <th>title</th>\n",
       "      <th>genres</th>\n",
       "      <th>description</th>\n",
       "      <th>popularity</th>\n",
       "      <th>est</th>\n",
       "    </tr>\n",
       "  </thead>\n",
       "  <tbody>\n",
       "    <tr>\n",
       "      <th>46539</th>\n",
       "      <td>60</td>\n",
       "      <td>1209</td>\n",
       "      <td>4.0</td>\n",
       "      <td>1125829215</td>\n",
       "      <td>Once Upon a Time in the West</td>\n",
       "      <td>['Western']</td>\n",
       "      <td>This classic western masterpiece is an epic fi...</td>\n",
       "      <td>15.589351</td>\n",
       "      <td>4.451390</td>\n",
       "    </tr>\n",
       "    <tr>\n",
       "      <th>62250</th>\n",
       "      <td>60</td>\n",
       "      <td>27773</td>\n",
       "      <td>4.5</td>\n",
       "      <td>1125829180</td>\n",
       "      <td>Oldboy</td>\n",
       "      <td>['Drama', 'Thriller', 'Mystery', 'Action']</td>\n",
       "      <td>With no clue how he came to be imprisoned, dru...</td>\n",
       "      <td>10.616859</td>\n",
       "      <td>4.553091</td>\n",
       "    </tr>\n",
       "    <tr>\n",
       "      <th>21812</th>\n",
       "      <td>60</td>\n",
       "      <td>2174</td>\n",
       "      <td>4.0</td>\n",
       "      <td>1125828802</td>\n",
       "      <td>Beetlejuice</td>\n",
       "      <td>['Fantasy', 'Comedy']</td>\n",
       "      <td>Thanks to an untimely demise via drowning, a y...</td>\n",
       "      <td>10.627364</td>\n",
       "      <td>4.004879</td>\n",
       "    </tr>\n",
       "    <tr>\n",
       "      <th>28655</th>\n",
       "      <td>60</td>\n",
       "      <td>30749</td>\n",
       "      <td>5.0</td>\n",
       "      <td>1125829142</td>\n",
       "      <td>Hotel Rwanda</td>\n",
       "      <td>['Drama', 'History', 'War']</td>\n",
       "      <td>Inspired by true events, this film takes place...</td>\n",
       "      <td>10.262332</td>\n",
       "      <td>4.424902</td>\n",
       "    </tr>\n",
       "    <tr>\n",
       "      <th>25376</th>\n",
       "      <td>60</td>\n",
       "      <td>1485</td>\n",
       "      <td>2.5</td>\n",
       "      <td>1125828872</td>\n",
       "      <td>Liar Liar</td>\n",
       "      <td>['Comedy']</td>\n",
       "      <td>Fletcher Reede is a fast-talking attorney and ...</td>\n",
       "      <td>10.102471</td>\n",
       "      <td>3.686758</td>\n",
       "    </tr>\n",
       "  </tbody>\n",
       "</table>\n",
       "</div>"
      ],
      "text/plain": [
       "       userId  movieId  rating   timestamp                         title  \\\n",
       "46539      60     1209     4.0  1125829215  Once Upon a Time in the West   \n",
       "62250      60    27773     4.5  1125829180                        Oldboy   \n",
       "21812      60     2174     4.0  1125828802                   Beetlejuice   \n",
       "28655      60    30749     5.0  1125829142                  Hotel Rwanda   \n",
       "25376      60     1485     2.5  1125828872                     Liar Liar   \n",
       "\n",
       "                                           genres  \\\n",
       "46539                                 ['Western']   \n",
       "62250  ['Drama', 'Thriller', 'Mystery', 'Action']   \n",
       "21812                       ['Fantasy', 'Comedy']   \n",
       "28655                 ['Drama', 'History', 'War']   \n",
       "25376                                  ['Comedy']   \n",
       "\n",
       "                                             description  popularity       est  \n",
       "46539  This classic western masterpiece is an epic fi...   15.589351  4.451390  \n",
       "62250  With no clue how he came to be imprisoned, dru...   10.616859  4.553091  \n",
       "21812  Thanks to an untimely demise via drowning, a y...   10.627364  4.004879  \n",
       "28655  Inspired by true events, this film takes place...   10.262332  4.424902  \n",
       "25376  Fletcher Reede is a fast-talking attorney and ...   10.102471  3.686758  "
      ]
     },
     "execution_count": 41,
     "metadata": {},
     "output_type": "execute_result"
    }
   ],
   "source": [
    "user_movies.head()"
   ]
  },
  {
   "cell_type": "code",
   "execution_count": 42,
   "id": "3273899c",
   "metadata": {},
   "outputs": [
    {
     "data": {
      "text/html": [
       "<div>\n",
       "<style scoped>\n",
       "    .dataframe tbody tr th:only-of-type {\n",
       "        vertical-align: middle;\n",
       "    }\n",
       "\n",
       "    .dataframe tbody tr th {\n",
       "        vertical-align: top;\n",
       "    }\n",
       "\n",
       "    .dataframe thead th {\n",
       "        text-align: right;\n",
       "    }\n",
       "</style>\n",
       "<table border=\"1\" class=\"dataframe\">\n",
       "  <thead>\n",
       "    <tr style=\"text-align: right;\">\n",
       "      <th></th>\n",
       "      <th>userId</th>\n",
       "      <th>movieId</th>\n",
       "      <th>rating</th>\n",
       "      <th>timestamp</th>\n",
       "      <th>title</th>\n",
       "      <th>genres</th>\n",
       "      <th>description</th>\n",
       "      <th>popularity</th>\n",
       "      <th>est</th>\n",
       "      <th>Model</th>\n",
       "    </tr>\n",
       "  </thead>\n",
       "  <tbody>\n",
       "    <tr>\n",
       "      <th>14591</th>\n",
       "      <td>60</td>\n",
       "      <td>858</td>\n",
       "      <td>5.0</td>\n",
       "      <td>1125829174</td>\n",
       "      <td>The Godfather</td>\n",
       "      <td>['Drama', 'Crime']</td>\n",
       "      <td>Spanning the years 1945 to 1955, a chronicle o...</td>\n",
       "      <td>41.109264</td>\n",
       "      <td>4.935545</td>\n",
       "      <td>SVD + CF</td>\n",
       "    </tr>\n",
       "    <tr>\n",
       "      <th>59079</th>\n",
       "      <td>60</td>\n",
       "      <td>5618</td>\n",
       "      <td>4.0</td>\n",
       "      <td>1125829190</td>\n",
       "      <td>Spirited Away</td>\n",
       "      <td>['Fantasy', 'Adventure', 'Animation', 'Family']</td>\n",
       "      <td>A ten year old girl who wanders away from her ...</td>\n",
       "      <td>41.048867</td>\n",
       "      <td>4.680176</td>\n",
       "      <td>SVD + CF</td>\n",
       "    </tr>\n",
       "    <tr>\n",
       "      <th>17000</th>\n",
       "      <td>60</td>\n",
       "      <td>1208</td>\n",
       "      <td>4.5</td>\n",
       "      <td>1125829194</td>\n",
       "      <td>Apocalypse Now</td>\n",
       "      <td>['Drama', 'War']</td>\n",
       "      <td>At the height of the Vietnam war, Captain Benj...</td>\n",
       "      <td>13.596300</td>\n",
       "      <td>4.584982</td>\n",
       "      <td>SVD + CF</td>\n",
       "    </tr>\n",
       "    <tr>\n",
       "      <th>62250</th>\n",
       "      <td>60</td>\n",
       "      <td>27773</td>\n",
       "      <td>4.5</td>\n",
       "      <td>1125829180</td>\n",
       "      <td>Oldboy</td>\n",
       "      <td>['Drama', 'Thriller', 'Mystery', 'Action']</td>\n",
       "      <td>With no clue how he came to be imprisoned, dru...</td>\n",
       "      <td>10.616859</td>\n",
       "      <td>4.553091</td>\n",
       "      <td>SVD + CF</td>\n",
       "    </tr>\n",
       "  </tbody>\n",
       "</table>\n",
       "</div>"
      ],
      "text/plain": [
       "       userId  movieId  rating   timestamp           title  \\\n",
       "14591      60      858     5.0  1125829174   The Godfather   \n",
       "59079      60     5618     4.0  1125829190   Spirited Away   \n",
       "17000      60     1208     4.5  1125829194  Apocalypse Now   \n",
       "62250      60    27773     4.5  1125829180          Oldboy   \n",
       "\n",
       "                                                genres  \\\n",
       "14591                               ['Drama', 'Crime']   \n",
       "59079  ['Fantasy', 'Adventure', 'Animation', 'Family']   \n",
       "17000                                 ['Drama', 'War']   \n",
       "62250       ['Drama', 'Thriller', 'Mystery', 'Action']   \n",
       "\n",
       "                                             description  popularity  \\\n",
       "14591  Spanning the years 1945 to 1955, a chronicle o...   41.109264   \n",
       "59079  A ten year old girl who wanders away from her ...   41.048867   \n",
       "17000  At the height of the Vietnam war, Captain Benj...   13.596300   \n",
       "62250  With no clue how he came to be imprisoned, dru...   10.616859   \n",
       "\n",
       "            est     Model  \n",
       "14591  4.935545  SVD + CF  \n",
       "59079  4.680176  SVD + CF  \n",
       "17000  4.584982  SVD + CF  \n",
       "62250  4.553091  SVD + CF  "
      ]
     },
     "execution_count": 42,
     "metadata": {},
     "output_type": "execute_result"
    }
   ],
   "source": [
    "user_movies = user_movies.sort_values(by ='est', ascending=False).head(4)\n",
    "user_movies['Model'] = 'SVD + CF'\n",
    "user_movies"
   ]
  },
  {
   "cell_type": "code",
   "execution_count": 43,
   "id": "0d8b7af0",
   "metadata": {},
   "outputs": [
    {
     "data": {
      "text/plain": [
       "pandas.core.frame.DataFrame"
      ]
     },
     "execution_count": 43,
     "metadata": {},
     "output_type": "execute_result"
    }
   ],
   "source": [
    "recommend_list = user_movies[['movieId', 'est', 'Model']]\n",
    "type(recommend_list)"
   ]
  },
  {
   "cell_type": "code",
   "execution_count": 44,
   "id": "595d5bcb",
   "metadata": {},
   "outputs": [],
   "source": [
    "\n",
    "\n",
    "#     top_movie = user_movies['movieId'].iloc[0]\n",
    "#     print(\"Top movie id\", top_movie)\n",
    "#     top_movie_title = movies['title'][movies['movieId'] == top_movie].values[0]\n",
    "#     print(\"Top movie title\", top_movie_title)\n",
    "\n",
    "    \n",
    "movie_list = recommend_list['movieId'].values.tolist()"
   ]
  },
  {
   "cell_type": "code",
   "execution_count": 45,
   "id": "da5379ac",
   "metadata": {},
   "outputs": [
    {
     "data": {
      "text/plain": [
       "[858, 5618, 1208, 27773]"
      ]
     },
     "execution_count": 45,
     "metadata": {},
     "output_type": "execute_result"
    }
   ],
   "source": [
    "movie_list"
   ]
  },
  {
   "cell_type": "markdown",
   "id": "f1a32214",
   "metadata": {},
   "source": [
    "# Test model hybrid"
   ]
  },
  {
   "cell_type": "code",
   "execution_count": 46,
   "id": "3c952389",
   "metadata": {},
   "outputs": [
    {
     "name": "stderr",
     "output_type": "stream",
     "text": [
      "C:\\Users\\Admin\\AppData\\Local\\Temp\\ipykernel_7264\\1582007001.py:3: SettingWithCopyWarning: \n",
      "A value is trying to be set on a copy of a slice from a DataFrame.\n",
      "Try using .loc[row_indexer,col_indexer] = value instead\n",
      "\n",
      "See the caveats in the documentation: https://pandas.pydata.org/pandas-docs/stable/user_guide/indexing.html#returning-a-view-versus-a-copy\n",
      "  user_movies['est'] = user_movies['movieId'].apply(lambda x: 0.6*knnbaseline_algo.predict(userId,x).est + 0.4*svdpp_algo.predict(userId, x).est)\n"
     ]
    },
    {
     "name": "stdout",
     "output_type": "stream",
     "text": [
      "     movieId       est     Model\n",
      "211     1263  3.158445  SVD + CF\n",
      "259     1287  3.108734  SVD + CF\n",
      "42      1029  2.926555  SVD + CF\n",
      "117     1129  2.634374  SVD + CF\n",
      "[1263, 1287, 1029, 1129]\n",
      "ALERT: Multiple values\n",
      "User Vector:  [2.    2.25  1.5   2.25  1.    3.5   2.3   3.    2.875 3.    3.5   2.\n",
      " 2.5   2.5   2.    0.    0.    0.    0.    3.    0.   ]\n",
      "User top genre list:  ['Horror', 'Romance', 'Thriller']\n",
      "Final list:  [1219, 112818, 103249, 1993, 8957, 1214, 1200, 121231, 1991, 1387, 356, 152017, 152017, 78772, 125916, 63992, 72407, 1721, 91104, 595, 115149, 112556, 116823, 296, 58559, 541, 114180, 112623, 88744, 159093]\n"
     ]
    }
   ],
   "source": [
    "movie_ids = hybrid(1)"
   ]
  },
  {
   "cell_type": "markdown",
   "id": "facd17c6",
   "metadata": {},
   "source": [
    "# **Trả về dataframe**"
   ]
  },
  {
   "cell_type": "code",
   "execution_count": 47,
   "id": "2eee6710",
   "metadata": {},
   "outputs": [],
   "source": [
    "#lấy title theo movieId\n",
    "def get_title(x):\n",
    "    mid = x['movieId']\n",
    "    return movie['title'][movie['movieId'] == mid].values"
   ]
  },
  {
   "cell_type": "code",
   "execution_count": 48,
   "id": "50581adc",
   "metadata": {},
   "outputs": [],
   "source": [
    "def get_genre(x):\n",
    "    mid = x['movieId']\n",
    "    return movie['genres'][movie['movieId'] == mid].values"
   ]
  },
  {
   "cell_type": "code",
   "execution_count": 49,
   "id": "7c8c3e8c",
   "metadata": {},
   "outputs": [],
   "source": [
    "movie_ids['title'] = movie_ids.apply(get_title, axis=1)\n",
    "movie_ids['genre'] = movie_ids.apply(get_genre, axis=1)"
   ]
  },
  {
   "cell_type": "code",
   "execution_count": 50,
   "id": "57811cea",
   "metadata": {},
   "outputs": [
    {
     "data": {
      "text/html": [
       "<div>\n",
       "<style scoped>\n",
       "    .dataframe tbody tr th:only-of-type {\n",
       "        vertical-align: middle;\n",
       "    }\n",
       "\n",
       "    .dataframe tbody tr th {\n",
       "        vertical-align: top;\n",
       "    }\n",
       "\n",
       "    .dataframe thead th {\n",
       "        text-align: right;\n",
       "    }\n",
       "</style>\n",
       "<table border=\"1\" class=\"dataframe\">\n",
       "  <thead>\n",
       "    <tr style=\"text-align: right;\">\n",
       "      <th></th>\n",
       "      <th>movieId</th>\n",
       "      <th>est</th>\n",
       "      <th>Model</th>\n",
       "      <th>title</th>\n",
       "      <th>genre</th>\n",
       "    </tr>\n",
       "  </thead>\n",
       "  <tbody>\n",
       "    <tr>\n",
       "      <th>55</th>\n",
       "      <td>152017</td>\n",
       "      <td>3.509355</td>\n",
       "      <td>Popularity</td>\n",
       "      <td>[Me Before You, Me Before You]</td>\n",
       "      <td>[['Drama', 'Romance'], ['Drama', 'Romance']]</td>\n",
       "    </tr>\n",
       "    <tr>\n",
       "      <th>67</th>\n",
       "      <td>296</td>\n",
       "      <td>3.372708</td>\n",
       "      <td>Popularity</td>\n",
       "      <td>[Pulp Fiction]</td>\n",
       "      <td>[['Thriller', 'Crime']]</td>\n",
       "    </tr>\n",
       "    <tr>\n",
       "      <th>23</th>\n",
       "      <td>1224</td>\n",
       "      <td>3.337956</td>\n",
       "      <td>Movie similarity</td>\n",
       "      <td>[Henry V]</td>\n",
       "      <td>[['War', 'Drama', 'History', 'Action', 'Romanc...</td>\n",
       "    </tr>\n",
       "    <tr>\n",
       "      <th>44</th>\n",
       "      <td>1219</td>\n",
       "      <td>3.272678</td>\n",
       "      <td>Popularity</td>\n",
       "      <td>[Psycho]</td>\n",
       "      <td>[['Drama', 'Horror', 'Thriller']]</td>\n",
       "    </tr>\n",
       "    <tr>\n",
       "      <th>68</th>\n",
       "      <td>58559</td>\n",
       "      <td>3.224507</td>\n",
       "      <td>Popularity</td>\n",
       "      <td>[The Dark Knight]</td>\n",
       "      <td>[['Drama', 'Action', 'Crime', 'Thriller']]</td>\n",
       "    </tr>\n",
       "    <tr>\n",
       "      <th>69</th>\n",
       "      <td>541</td>\n",
       "      <td>3.217233</td>\n",
       "      <td>Popularity</td>\n",
       "      <td>[Blade Runner]</td>\n",
       "      <td>[['Science Fiction', 'Drama', 'Thriller']]</td>\n",
       "    </tr>\n",
       "    <tr>\n",
       "      <th>9</th>\n",
       "      <td>2202</td>\n",
       "      <td>3.182618</td>\n",
       "      <td>Movie similarity</td>\n",
       "      <td>[Lifeboat]</td>\n",
       "      <td>[['Drama', 'War']]</td>\n",
       "    </tr>\n",
       "    <tr>\n",
       "      <th>51</th>\n",
       "      <td>121231</td>\n",
       "      <td>3.172046</td>\n",
       "      <td>Popularity</td>\n",
       "      <td>[It Follows]</td>\n",
       "      <td>[['Horror', 'Thriller']]</td>\n",
       "    </tr>\n",
       "    <tr>\n",
       "      <th>54</th>\n",
       "      <td>356</td>\n",
       "      <td>3.171890</td>\n",
       "      <td>Popularity</td>\n",
       "      <td>[Forrest Gump]</td>\n",
       "      <td>[['Comedy', 'Drama', 'Romance']]</td>\n",
       "    </tr>\n",
       "    <tr>\n",
       "      <th>0</th>\n",
       "      <td>1263</td>\n",
       "      <td>3.158445</td>\n",
       "      <td>SVD + CF</td>\n",
       "      <td>[The Deer Hunter]</td>\n",
       "      <td>[['Drama', 'War']]</td>\n",
       "    </tr>\n",
       "  </tbody>\n",
       "</table>\n",
       "</div>"
      ],
      "text/plain": [
       "    movieId       est             Model                           title  \\\n",
       "55   152017  3.509355        Popularity  [Me Before You, Me Before You]   \n",
       "67      296  3.372708        Popularity                  [Pulp Fiction]   \n",
       "23     1224  3.337956  Movie similarity                       [Henry V]   \n",
       "44     1219  3.272678        Popularity                        [Psycho]   \n",
       "68    58559  3.224507        Popularity               [The Dark Knight]   \n",
       "69      541  3.217233        Popularity                  [Blade Runner]   \n",
       "9      2202  3.182618  Movie similarity                      [Lifeboat]   \n",
       "51   121231  3.172046        Popularity                    [It Follows]   \n",
       "54      356  3.171890        Popularity                  [Forrest Gump]   \n",
       "0      1263  3.158445          SVD + CF               [The Deer Hunter]   \n",
       "\n",
       "                                                genre  \n",
       "55       [['Drama', 'Romance'], ['Drama', 'Romance']]  \n",
       "67                            [['Thriller', 'Crime']]  \n",
       "23  [['War', 'Drama', 'History', 'Action', 'Romanc...  \n",
       "44                  [['Drama', 'Horror', 'Thriller']]  \n",
       "68         [['Drama', 'Action', 'Crime', 'Thriller']]  \n",
       "69         [['Science Fiction', 'Drama', 'Thriller']]  \n",
       "9                                  [['Drama', 'War']]  \n",
       "51                           [['Horror', 'Thriller']]  \n",
       "54                   [['Comedy', 'Drama', 'Romance']]  \n",
       "0                                  [['Drama', 'War']]  "
      ]
     },
     "execution_count": 50,
     "metadata": {},
     "output_type": "execute_result"
    }
   ],
   "source": [
    "movie_ids.sort_values(by='est', ascending = False).head(10)"
   ]
  },
  {
   "cell_type": "code",
   "execution_count": null,
   "id": "0b7a0a7a",
   "metadata": {},
   "outputs": [],
   "source": []
  }
 ],
 "metadata": {
  "kernelspec": {
   "display_name": "Python 3 (ipykernel)",
   "language": "python",
   "name": "python3"
  },
  "language_info": {
   "codemirror_mode": {
    "name": "ipython",
    "version": 3
   },
   "file_extension": ".py",
   "mimetype": "text/x-python",
   "name": "python",
   "nbconvert_exporter": "python",
   "pygments_lexer": "ipython3",
   "version": "3.11.5"
  }
 },
 "nbformat": 4,
 "nbformat_minor": 5
}
