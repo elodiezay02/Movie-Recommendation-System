{
 "cells": [
  {
   "cell_type": "code",
   "execution_count": 1,
   "id": "94b2a68e",
   "metadata": {},
   "outputs": [],
   "source": [
    "import pandas as pd\n",
    "import numpy as np"
   ]
  },
  {
   "cell_type": "code",
   "execution_count": 2,
   "id": "cbbd0754",
   "metadata": {},
   "outputs": [],
   "source": [
    "from surprise import SVD, BaselineOnly, SVDpp, NMF, SlopeOne, CoClustering, Reader\n",
    "from surprise import Dataset\n",
    "from surprise.model_selection import cross_validate\n",
    "from surprise.prediction_algorithms import KNNBaseline, KNNBasic, KNNWithMeans, KNNWithZScore\n",
    "from surprise import accuracy\n",
    "from sklearn.model_selection import train_test_split\n",
    "from ast import literal_eval\n",
    "from surprise import dump"
   ]
  },
  {
   "cell_type": "code",
   "execution_count": 3,
   "id": "49cb14d3",
   "metadata": {},
   "outputs": [],
   "source": [
    "from sklearn.feature_extraction.text import TfidfVectorizer, CountVectorizer\n",
    "from sklearn.metrics.pairwise import linear_kernel, cosine_similarity"
   ]
  },
  {
   "cell_type": "code",
   "execution_count": 4,
   "metadata": {},
   "outputs": [],
   "source": [
    "import collaborative_filtering as CF \n",
    "from evaluate_model import precision_recall_at_k, evaluate\n"
   ]
  },
  {
   "cell_type": "code",
   "execution_count": 60,
   "id": "ebce4e7b",
   "metadata": {},
   "outputs": [],
   "source": [
    "from get_movie_features import movie_feature\n",
    "import warnings; warnings.simplefilter('ignore')\n",
    "\n",
    "movies_metadata = r'E:\\School\\DE_AN\\Movie-Recommendation-System\\src\\data\\movies_metadata.csv'\n",
    "links_small = r'E:\\School\\DE_AN\\Movie-Recommendation-System\\src\\data\\links_small.csv'\n",
    "credits_ = r'E:\\School\\DE_AN\\Movie-Recommendation-System\\src\\data\\credits.csv'\n",
    "keywords = r'E:\\School\\DE_AN\\Movie-Recommendation-System\\src\\data\\keywords.csv'\n",
    "rating = r'E:\\School\\DE_AN\\Movie-Recommendation-System\\src\\data\\ratings_small.csv'\n",
    "full_data = movie_feature(movies_metadata, links_small, credits_, keywords)\n",
    "rating_df = pd.read_csv(rating)"
   ]
  },
  {
   "cell_type": "code",
   "execution_count": 6,
   "id": "2fbb0869",
   "metadata": {},
   "outputs": [],
   "source": [
    "def cosine_similarity(full_data): \n",
    "    '''tính cosine similarity dựa trên overview + tagline + 2*genres\n",
    "    Embedding: CountVectorize'''\n",
    "    \n",
    "    full_data['description'] = full_data['description'].astype('str')\n",
    "    full_data['genres'] = full_data['genres'].astype('str')\n",
    "    \n",
    "    full_data['description_genre'] = full_data['description']+ full_data['genres']*2\n",
    "    full_data['description_genre'] = full_data['description_genre'].fillna('')\n",
    "\n",
    "    tfidf = CountVectorizer(analyzer='word', ngram_range=(1, 2), stop_words='english')\n",
    "    tfidf_matrix = tfidf.fit_transform(full_data['description_genre'])\n",
    "    cosine_sim= linear_kernel(tfidf_matrix, tfidf_matrix)\n",
    "    return cosine_sim"
   ]
  },
  {
   "cell_type": "code",
   "execution_count": 7,
   "id": "fc115f45",
   "metadata": {},
   "outputs": [],
   "source": [
    "def mapping_title_toIndex(full_data): \n",
    "    '''map title với index của table movie, index của title = index của bảng, value = title'''\n",
    "    \n",
    "    titles = full_data['title']\n",
    "    indices = pd.Series(full_data.index, index=full_data['title'])\n",
    "    return indices"
   ]
  },
  {
   "cell_type": "code",
   "execution_count": 8,
   "id": "33e26f4c",
   "metadata": {},
   "outputs": [],
   "source": [
    "\n",
    "def get_recommendation_new(title, full_data, indices, cosine_sim):\n",
    "    '''Model recommendation dựa trên movie similarity'''\n",
    "    #idx = mapping_title_toIndex(full_data)[title] #lấy ra index của title\n",
    "    idx = indices[title]\n",
    "\n",
    "    if type(idx) != np.int64:\n",
    "        if len(idx)>1:\n",
    "            '''print(\"ALERT: Multiple values\")'''\n",
    "            idx = idx[0]\n",
    "    sim_scores = list(enumerate(cosine_sim[idx]))\n",
    "    sim_scores = sorted(sim_scores, key=lambda x: x[1], reverse=True)[1:6]\n",
    "\n",
    "    movie_indices = [i[0] for i in sim_scores]\n",
    "    movie_id = full_data['movieId'].iloc[movie_indices]\n",
    "    score = [i[1] for i in sim_scores]\n",
    "\n",
    "    return pd.DataFrame({'movieId': movie_id, 'sim_score': score})"
   ]
  },
  {
   "cell_type": "code",
   "execution_count": 9,
   "id": "ede6cd6c",
   "metadata": {},
   "outputs": [],
   "source": [
    "def genre_based_popularity(genre, full_data):\n",
    "\n",
    "    '''Model recommendation dựa trên popularity'''\n",
    "    \n",
    "    mask = full_data.genres.apply(lambda x: genre in x) # trả về dạng bool, check xem genre có trong cái list genres đó k\n",
    "    filtered_movie = full_data[mask]# trả về dataframe các film match với genre\n",
    "    filtered_movie = filtered_movie.sort_values(by='popularity', ascending=False) #xếp theo độ phổ biến nhất\n",
    "    return filtered_movie['movieId'].head(3).values.tolist() "
   ]
  },
  {
   "cell_type": "code",
   "execution_count": 10,
   "id": "e0e99aa8",
   "metadata": {},
   "outputs": [],
   "source": [
    "def make_useinfo_df(full_data, train_df): \n",
    "\n",
    "    \"\"\"User information\n",
    "\n",
    "    Returns\n",
    "    \n",
    "    user_vector: A list with length of number of genres. User's frequency of watching \n",
    "    a specific genre.\n",
    "    avg_rating: user's average rating of all movies\n",
    "    num_movies_rated: number of movies user have rated\n",
    "    \"\"\"\n",
    "\n",
    "    full_data['genres'] = full_data.genres.apply(lambda x: literal_eval(str(x)))\n",
    "    train_df['genres'] = train_df.genres.apply(lambda x: literal_eval(str(x)))\n",
    "    \n",
    "    unique_genre = full_data['genres'].explode().unique() #unique genres của full_data\n",
    "    genre_distribution = train_df['genres'].explode().value_counts() #unique genres của train_df\n",
    "    \n",
    "    # Make a dict assigning an index to a genre\n",
    "    genre_dict = {k: v for v, k in enumerate(unique_genre)} #key-value: genre - encode\n",
    "\n",
    "    user_ids = train_df['userId'].unique()\n",
    "    user_df = pd.DataFrame(columns=['userId', 'user_vector', 'avg_rating', 'num_movies_rated'])\n",
    "    for user_id in user_ids:\n",
    "        user_rating_df = train_df[(train_df['userId'] == user_id)]\n",
    "        user_vector = np.zeros(len(genre_dict))\n",
    "        count_vector = np.zeros(len(genre_dict))\n",
    "\n",
    "        user_avg_rating = 0\n",
    "        movies_rated_count = 0\n",
    "        for _, row in user_rating_df.iterrows():\n",
    "            user_avg_rating += row.rating \n",
    "            movies_rated_count += 1\n",
    "            genres = row.genres\n",
    "\n",
    "            user_movie_vector = np.zeros(len(genre_dict))\n",
    "\n",
    "            for g in genres:\n",
    "                user_movie_vector[genre_dict[g]] = 1\n",
    "                count_vector[genre_dict[g]] += 1\n",
    "            \n",
    "            user_vector += user_movie_vector*row.rating\n",
    "        count_vector = np.where(count_vector==0, 1, count_vector)\n",
    "        user_vector = np.divide(user_vector, count_vector)\n",
    "        user_avg_rating /= movies_rated_count\n",
    "        row_df = pd.DataFrame([[user_id, user_vector, user_avg_rating, movies_rated_count]], \n",
    "                          columns=['userId', 'user_vector', 'avg_rating', 'num_movies_rated'])\n",
    "        user_df = pd.concat([user_df, row_df], ignore_index=True)\n",
    "        \n",
    "    return user_df\n"
   ]
  },
  {
   "cell_type": "code",
   "execution_count": 11,
   "id": "ab2137f2",
   "metadata": {},
   "outputs": [],
   "source": [
    "def user_top_genre(userId, user_info, idx_to_genre): \n",
    "\n",
    "    \"\"\"Get user's favorite genre\n",
    "    \"\"\"\n",
    "\n",
    "    user_vec = user_info['user_vector'][user_info['userId'] == userId].values[0].copy()\n",
    "    # print(\"User Vector: \", user_vec)\n",
    "    top_genre_indices = np.flip(np.argsort(user_vec))\n",
    "    genre_list = []\n",
    "    for i in top_genre_indices[:3]:\n",
    "        genre_list.append(idx_to_genre[i])\n",
    "    return genre_list \n",
    "\n",
    "    "
   ]
  },
  {
   "cell_type": "code",
   "execution_count": 12,
   "id": "07ad4e21",
   "metadata": {},
   "outputs": [],
   "source": [
    "def get_title(x):\n",
    "    '''lấy ra title của hàm hybrid'''\n",
    "    mid = x['movieId']\n",
    "    return full_data['title'][full_data['movieId'] == mid].values\n",
    "\n",
    "def get_genre(x):\n",
    "    '''get genre của hybrid'''\n",
    "    mid = x['movieId']\n",
    "    return full_data['genres'][full_data['movieId'] == mid].values"
   ]
  },
  {
   "cell_type": "code",
   "execution_count": 45,
   "metadata": {},
   "outputs": [],
   "source": [
    "def hybrid(userId, full_data, train_df, train_full, models, \\\n",
    "           idx_to_genre, cosine_sim, indices): \n",
    "    \n",
    "    \"\"\" Hybrid Approach: \n",
    "    - Predict rating of user to similar movies (train_df) to the movies they actually\n",
    "    have watched\n",
    "    - Predict rating of user to popular movies based on their favourite genres\n",
    "    - Choose the higher estimated rating \n",
    "    \"\"\"\n",
    "    \n",
    "    user_movies = train_df[train_df['userId'] == userId]['movieId'].values.tolist()\n",
    "    \n",
    "    # get 10 most similar movies\n",
    "\n",
    "    sim_movies_list = pd.DataFrame(columns=['movieId', 'sim_score'])\n",
    "    \n",
    "    np.random.seed(42)\n",
    "    if len(user_movies) > 30:\n",
    "        user_movies = np.random.choice(user_movies, size=30, replace=False).tolist()\n",
    "\n",
    "    for movie_id in user_movies:\n",
    "        movie_title = full_data['title'][full_data['movieId'] == movie_id].values[0]\n",
    "        sim_movie = get_recommendation_new(movie_title, full_data, indices, cosine_sim)\n",
    "        sim_movies_list = pd.concat([sim_movies_list, sim_movie], ignore_index=True)\n",
    "    sim_movies_list = sim_movies_list.sort_values(by='sim_score', ascending=False)\n",
    "    sim_movies_list = sim_movies_list['movieId'].head(10).values.tolist()\n",
    "\n",
    "    recommend_list = pd.DataFrame(columns=['userId', 'movieId', 'est', \"Model\"])\n",
    "    recommend_list.userId = userId\n",
    "    recommend_list.movieId = user_movies\n",
    "\n",
    "    # Compute ratings for the similar movies\n",
    "    for movie_id in sim_movies_list:\n",
    "        pred_rating = 0\n",
    "        for model, w in models.items():\n",
    "            pred_rating += model.algorithm.predict(userId, movie_id)[3] * w\n",
    "        row_df = pd.DataFrame([[userId, movie_id, pred_rating, \"Similarity\"]], columns=['userId', 'movieId', 'est', \"Model\"])\n",
    "        recommend_list = pd.concat([recommend_list, row_df], ignore_index=True)\n",
    "    recommend_list = recommend_list[recommend_list['est'].notnull()].head(10).sort_values(by = 'est',ascending = False)\n",
    "\n",
    "    # Predict popular movies based on user's favourite genres\n",
    "    top_genre_list = user_top_genre(userId, make_useinfo_df(full_data, train_full), \\\n",
    "                                    idx_to_genre) #data frame user_info\n",
    "\n",
    "    popular_movies = []\n",
    "    for top_genre in top_genre_list:\n",
    "        popular_movies.extend(genre_based_popularity(top_genre, full_data))\n",
    "\n",
    "    # Compute ratings for the popular movies\n",
    "    for movie_id in popular_movies:\n",
    "        pred_rating = 0\n",
    "        for model, w in models.items():\n",
    "            pred_rating += model.algorithm.predict(userId, movie_id)[3] * w        \n",
    "        row_df = pd.DataFrame([[userId, movie_id, pred_rating, 'Popularity']], columns=['userId', 'movieId', 'est','Model'])\n",
    "        recommend_list = pd.concat([recommend_list, row_df], ignore_index=True)\n",
    "\n",
    "    recommend_list = recommend_list.drop_duplicates(subset=['movieId'])\n",
    "\n",
    "    # Remove movies in training for this user\n",
    "    train_movie_list = train_df[train_df['userId']==userId]['movieId'].values.tolist()\n",
    "    mask = recommend_list.movieId.apply(lambda x: x not in train_movie_list)\n",
    "    recommend_list = recommend_list[mask]\n",
    "\n",
    "    # add title and genre column\n",
    "    recommend_list.userId = recommend_list.userId.astype(int)\n",
    "    recommend_list['title'] = recommend_list.apply(get_title, axis=1)\n",
    "    recommend_list['genre'] = recommend_list.apply(get_genre, axis=1)\n",
    "\n",
    "    return recommend_list.sort_values(by='est', ascending=False).head(10)\n"
   ]
  },
  {
   "cell_type": "code",
   "execution_count": 15,
   "metadata": {},
   "outputs": [],
   "source": [
    "def hybrid_predict(full_data, train_df, test_df, models, idx_to_genre):\n",
    "    \n",
    "    \"\"\" Hybrid recommend for all users in thr dataset\n",
    "    \"\"\"\n",
    "\n",
    "    indices = mapping_title_toIndex(full_data)\n",
    "    cosine_sim = cosine_similarity(full_data)\n",
    "    train_full = pd.merge(full_data,train_df, on='movieId')\n",
    "\n",
    "    cols = ['userId', 'movieId', 'est', 'Model']\n",
    "    pred_df = pd.DataFrame(columns=cols)\n",
    "\n",
    "    for user in test_df.userId.unique():\n",
    "        hybrid_result = hybrid(user,full_data, train_df, train_full, models, idx_to_genre, \\\n",
    "               cosine_sim, indices)\n",
    "        pred_df = pd.concat([pred_df, hybrid_result[cols]], ignore_index=True)     \n",
    "           \n",
    "    return pred_df\n",
    "\n",
    "    "
   ]
  },
  {
   "cell_type": "markdown",
   "id": "db0fd6ff",
   "metadata": {},
   "source": [
    "# DataFrame"
   ]
  },
  {
   "cell_type": "markdown",
   "id": "e7fceaf5",
   "metadata": {},
   "source": [
    "**Full Dataset**"
   ]
  },
  {
   "cell_type": "code",
   "execution_count": 16,
   "id": "6ff1b7b6",
   "metadata": {},
   "outputs": [
    {
     "data": {
      "text/html": [
       "<div>\n",
       "<style scoped>\n",
       "    .dataframe tbody tr th:only-of-type {\n",
       "        vertical-align: middle;\n",
       "    }\n",
       "\n",
       "    .dataframe tbody tr th {\n",
       "        vertical-align: top;\n",
       "    }\n",
       "\n",
       "    .dataframe thead th {\n",
       "        text-align: right;\n",
       "    }\n",
       "</style>\n",
       "<table border=\"1\" class=\"dataframe\">\n",
       "  <thead>\n",
       "    <tr style=\"text-align: right;\">\n",
       "      <th></th>\n",
       "      <th>id</th>\n",
       "      <th>movieId</th>\n",
       "      <th>title</th>\n",
       "      <th>genres</th>\n",
       "      <th>description</th>\n",
       "      <th>cast</th>\n",
       "      <th>director</th>\n",
       "      <th>keywords</th>\n",
       "      <th>popularity</th>\n",
       "      <th>vote_average</th>\n",
       "      <th>vote_count</th>\n",
       "      <th>year</th>\n",
       "      <th>wr</th>\n",
       "      <th>spoken_languages</th>\n",
       "      <th>description_genre</th>\n",
       "    </tr>\n",
       "  </thead>\n",
       "  <tbody>\n",
       "    <tr>\n",
       "      <th>0</th>\n",
       "      <td>862</td>\n",
       "      <td>1</td>\n",
       "      <td>Toy Story</td>\n",
       "      <td>['Animation', 'Comedy', 'Family']</td>\n",
       "      <td>Led by Woody, Andy's toys live happily in his ...</td>\n",
       "      <td>[tomhanks, timallen, donrickles]</td>\n",
       "      <td>johnlasseter</td>\n",
       "      <td>[jealousi, toy, boy, friendship, friend, rival...</td>\n",
       "      <td>21.946943</td>\n",
       "      <td>7</td>\n",
       "      <td>5415</td>\n",
       "      <td>1995</td>\n",
       "      <td>6.869770</td>\n",
       "      <td>[English]</td>\n",
       "      <td>Led by Woody, Andy's toys live happily in his ...</td>\n",
       "    </tr>\n",
       "    <tr>\n",
       "      <th>1</th>\n",
       "      <td>8844</td>\n",
       "      <td>2</td>\n",
       "      <td>Jumanji</td>\n",
       "      <td>['Adventure', 'Fantasy', 'Family']</td>\n",
       "      <td>When siblings Judy and Peter discover an encha...</td>\n",
       "      <td>[robinwilliams, jonathanhyde, kirstendunst]</td>\n",
       "      <td>joejohnston</td>\n",
       "      <td>[boardgam, disappear, basedonchildren'sbook, n...</td>\n",
       "      <td>17.015539</td>\n",
       "      <td>6</td>\n",
       "      <td>2413</td>\n",
       "      <td>1995</td>\n",
       "      <td>5.884891</td>\n",
       "      <td>[English, Français]</td>\n",
       "      <td>When siblings Judy and Peter discover an encha...</td>\n",
       "    </tr>\n",
       "  </tbody>\n",
       "</table>\n",
       "</div>"
      ],
      "text/plain": [
       "     id  movieId      title                              genres  \\\n",
       "0   862        1  Toy Story   ['Animation', 'Comedy', 'Family']   \n",
       "1  8844        2    Jumanji  ['Adventure', 'Fantasy', 'Family']   \n",
       "\n",
       "                                         description  \\\n",
       "0  Led by Woody, Andy's toys live happily in his ...   \n",
       "1  When siblings Judy and Peter discover an encha...   \n",
       "\n",
       "                                          cast      director  \\\n",
       "0             [tomhanks, timallen, donrickles]  johnlasseter   \n",
       "1  [robinwilliams, jonathanhyde, kirstendunst]   joejohnston   \n",
       "\n",
       "                                            keywords  popularity  \\\n",
       "0  [jealousi, toy, boy, friendship, friend, rival...   21.946943   \n",
       "1  [boardgam, disappear, basedonchildren'sbook, n...   17.015539   \n",
       "\n",
       "   vote_average  vote_count  year        wr     spoken_languages  \\\n",
       "0             7        5415  1995  6.869770            [English]   \n",
       "1             6        2413  1995  5.884891  [English, Français]   \n",
       "\n",
       "                                   description_genre  \n",
       "0  Led by Woody, Andy's toys live happily in his ...  \n",
       "1  When siblings Judy and Peter discover an encha...  "
      ]
     },
     "execution_count": 16,
     "metadata": {},
     "output_type": "execute_result"
    }
   ],
   "source": [
    "full_data.head(2)"
   ]
  },
  {
   "cell_type": "code",
   "execution_count": 17,
   "id": "b72a47f0",
   "metadata": {},
   "outputs": [],
   "source": [
    "# full_data = full_data[['movieId', 'title', 'genres', 'description', 'popularity']]"
   ]
  },
  {
   "cell_type": "markdown",
   "id": "305e948c",
   "metadata": {},
   "source": [
    "**Train_df, Test_df**"
   ]
  },
  {
   "cell_type": "code",
   "execution_count": 18,
   "id": "413e3d15",
   "metadata": {},
   "outputs": [
    {
     "name": "stdout",
     "output_type": "stream",
     "text": [
      "(75003, 4)\n",
      "(74866, 4)\n"
     ]
    }
   ],
   "source": [
    "# train, test_df\n",
    "train_df, test_df = train_test_split(rating_df, random_state=42, \\\n",
    "                                     stratify=rating_df['userId'], test_size=0.25)\n",
    "train_full = pd.merge(full_data,train_df, on='movieId')\n",
    "\n",
    "print(train_df.shape)\n",
    "train_df = train_df[train_df.movieId.isin(full_data.movieId)]\n",
    "print(train_df.shape)"
   ]
  },
  {
   "cell_type": "code",
   "execution_count": 19,
   "id": "2c9ace95",
   "metadata": {},
   "outputs": [
    {
     "data": {
      "text/html": [
       "<div>\n",
       "<style scoped>\n",
       "    .dataframe tbody tr th:only-of-type {\n",
       "        vertical-align: middle;\n",
       "    }\n",
       "\n",
       "    .dataframe tbody tr th {\n",
       "        vertical-align: top;\n",
       "    }\n",
       "\n",
       "    .dataframe thead th {\n",
       "        text-align: right;\n",
       "    }\n",
       "</style>\n",
       "<table border=\"1\" class=\"dataframe\">\n",
       "  <thead>\n",
       "    <tr style=\"text-align: right;\">\n",
       "      <th></th>\n",
       "      <th>userId</th>\n",
       "      <th>movieId</th>\n",
       "      <th>rating</th>\n",
       "      <th>timestamp</th>\n",
       "    </tr>\n",
       "  </thead>\n",
       "  <tbody>\n",
       "    <tr>\n",
       "      <th>59679</th>\n",
       "      <td>431</td>\n",
       "      <td>2863</td>\n",
       "      <td>4.0</td>\n",
       "      <td>1165548515</td>\n",
       "    </tr>\n",
       "    <tr>\n",
       "      <th>85061</th>\n",
       "      <td>571</td>\n",
       "      <td>7173</td>\n",
       "      <td>2.0</td>\n",
       "      <td>1334343358</td>\n",
       "    </tr>\n",
       "  </tbody>\n",
       "</table>\n",
       "</div>"
      ],
      "text/plain": [
       "       userId  movieId  rating   timestamp\n",
       "59679     431     2863     4.0  1165548515\n",
       "85061     571     7173     2.0  1334343358"
      ]
     },
     "execution_count": 19,
     "metadata": {},
     "output_type": "execute_result"
    }
   ],
   "source": [
    "train_df.head(2)"
   ]
  },
  {
   "cell_type": "code",
   "execution_count": null,
   "id": "43f30ba3",
   "metadata": {},
   "outputs": [
    {
     "data": {
      "text/html": [
       "<div>\n",
       "<style scoped>\n",
       "    .dataframe tbody tr th:only-of-type {\n",
       "        vertical-align: middle;\n",
       "    }\n",
       "\n",
       "    .dataframe tbody tr th {\n",
       "        vertical-align: top;\n",
       "    }\n",
       "\n",
       "    .dataframe thead th {\n",
       "        text-align: right;\n",
       "    }\n",
       "</style>\n",
       "<table border=\"1\" class=\"dataframe\">\n",
       "  <thead>\n",
       "    <tr style=\"text-align: right;\">\n",
       "      <th></th>\n",
       "      <th>userId</th>\n",
       "      <th>movieId</th>\n",
       "      <th>rating</th>\n",
       "      <th>timestamp</th>\n",
       "    </tr>\n",
       "  </thead>\n",
       "  <tbody>\n",
       "    <tr>\n",
       "      <th>42031</th>\n",
       "      <td>302</td>\n",
       "      <td>593</td>\n",
       "      <td>5.0</td>\n",
       "      <td>843720636</td>\n",
       "    </tr>\n",
       "    <tr>\n",
       "      <th>26084</th>\n",
       "      <td>191</td>\n",
       "      <td>110</td>\n",
       "      <td>3.0</td>\n",
       "      <td>839925631</td>\n",
       "    </tr>\n",
       "  </tbody>\n",
       "</table>\n",
       "</div>"
      ],
      "text/plain": [
       "       userId  movieId  rating  timestamp\n",
       "42031     302      593     5.0  843720636\n",
       "26084     191      110     3.0  839925631"
      ]
     },
     "execution_count": 19,
     "metadata": {},
     "output_type": "execute_result"
    }
   ],
   "source": [
    "test_df.head(2)"
   ]
  },
  {
   "cell_type": "code",
   "execution_count": null,
   "metadata": {},
   "outputs": [
    {
     "data": {
      "text/html": [
       "<div>\n",
       "<style scoped>\n",
       "    .dataframe tbody tr th:only-of-type {\n",
       "        vertical-align: middle;\n",
       "    }\n",
       "\n",
       "    .dataframe tbody tr th {\n",
       "        vertical-align: top;\n",
       "    }\n",
       "\n",
       "    .dataframe thead th {\n",
       "        text-align: right;\n",
       "    }\n",
       "</style>\n",
       "<table border=\"1\" class=\"dataframe\">\n",
       "  <thead>\n",
       "    <tr style=\"text-align: right;\">\n",
       "      <th></th>\n",
       "      <th>movieId</th>\n",
       "      <th>title</th>\n",
       "      <th>genres</th>\n",
       "      <th>description</th>\n",
       "      <th>popularity</th>\n",
       "      <th>userId</th>\n",
       "      <th>rating</th>\n",
       "      <th>timestamp</th>\n",
       "    </tr>\n",
       "  </thead>\n",
       "  <tbody>\n",
       "    <tr>\n",
       "      <th>0</th>\n",
       "      <td>1</td>\n",
       "      <td>Toy Story</td>\n",
       "      <td>['Animation', 'Comedy', 'Family']</td>\n",
       "      <td>Led by Woody, Andy's toys live happily in his ...</td>\n",
       "      <td>21.946943</td>\n",
       "      <td>534</td>\n",
       "      <td>5.0</td>\n",
       "      <td>973376852</td>\n",
       "    </tr>\n",
       "    <tr>\n",
       "      <th>1</th>\n",
       "      <td>1</td>\n",
       "      <td>Toy Story</td>\n",
       "      <td>['Animation', 'Comedy', 'Family']</td>\n",
       "      <td>Led by Woody, Andy's toys live happily in his ...</td>\n",
       "      <td>21.946943</td>\n",
       "      <td>219</td>\n",
       "      <td>5.0</td>\n",
       "      <td>974475264</td>\n",
       "    </tr>\n",
       "  </tbody>\n",
       "</table>\n",
       "</div>"
      ],
      "text/plain": [
       "   movieId      title                             genres  \\\n",
       "0        1  Toy Story  ['Animation', 'Comedy', 'Family']   \n",
       "1        1  Toy Story  ['Animation', 'Comedy', 'Family']   \n",
       "\n",
       "                                         description  popularity  userId  \\\n",
       "0  Led by Woody, Andy's toys live happily in his ...   21.946943     534   \n",
       "1  Led by Woody, Andy's toys live happily in his ...   21.946943     219   \n",
       "\n",
       "   rating  timestamp  \n",
       "0     5.0  973376852  \n",
       "1     5.0  974475264  "
      ]
     },
     "execution_count": 20,
     "metadata": {},
     "output_type": "execute_result"
    }
   ],
   "source": [
    "train_full.head(2)"
   ]
  },
  {
   "cell_type": "markdown",
   "id": "b3a098ed",
   "metadata": {},
   "source": [
    "**User_info**"
   ]
  },
  {
   "cell_type": "code",
   "execution_count": 20,
   "id": "e409a208",
   "metadata": {},
   "outputs": [],
   "source": [
    "user_info = make_useinfo_df(full_data, train_full)"
   ]
  },
  {
   "cell_type": "code",
   "execution_count": 21,
   "id": "4b699eee",
   "metadata": {},
   "outputs": [
    {
     "data": {
      "text/html": [
       "<div>\n",
       "<style scoped>\n",
       "    .dataframe tbody tr th:only-of-type {\n",
       "        vertical-align: middle;\n",
       "    }\n",
       "\n",
       "    .dataframe tbody tr th {\n",
       "        vertical-align: top;\n",
       "    }\n",
       "\n",
       "    .dataframe thead th {\n",
       "        text-align: right;\n",
       "    }\n",
       "</style>\n",
       "<table border=\"1\" class=\"dataframe\">\n",
       "  <thead>\n",
       "    <tr style=\"text-align: right;\">\n",
       "      <th></th>\n",
       "      <th>userId</th>\n",
       "      <th>user_vector</th>\n",
       "      <th>avg_rating</th>\n",
       "      <th>num_movies_rated</th>\n",
       "    </tr>\n",
       "  </thead>\n",
       "  <tbody>\n",
       "    <tr>\n",
       "      <th>0</th>\n",
       "      <td>534</td>\n",
       "      <td>[4.545454545454546, 3.140625, 3.8, 3.960784313...</td>\n",
       "      <td>3.651982</td>\n",
       "      <td>227</td>\n",
       "    </tr>\n",
       "    <tr>\n",
       "      <th>1</th>\n",
       "      <td>219</td>\n",
       "      <td>[3.5, 3.8095238095238093, 3.5789473684210527, ...</td>\n",
       "      <td>3.682692</td>\n",
       "      <td>104</td>\n",
       "    </tr>\n",
       "    <tr>\n",
       "      <th>2</th>\n",
       "      <td>63</td>\n",
       "      <td>[4.333333333333333, 3.5, 3.9375, 4.02083333333...</td>\n",
       "      <td>3.787671</td>\n",
       "      <td>73</td>\n",
       "    </tr>\n",
       "  </tbody>\n",
       "</table>\n",
       "</div>"
      ],
      "text/plain": [
       "  userId                                        user_vector  avg_rating  \\\n",
       "0    534  [4.545454545454546, 3.140625, 3.8, 3.960784313...    3.651982   \n",
       "1    219  [3.5, 3.8095238095238093, 3.5789473684210527, ...    3.682692   \n",
       "2     63  [4.333333333333333, 3.5, 3.9375, 4.02083333333...    3.787671   \n",
       "\n",
       "  num_movies_rated  \n",
       "0              227  \n",
       "1              104  \n",
       "2               73  "
      ]
     },
     "execution_count": 21,
     "metadata": {},
     "output_type": "execute_result"
    }
   ],
   "source": [
    "user_info.head(3)"
   ]
  },
  {
   "cell_type": "markdown",
   "id": "d22e18cf",
   "metadata": {},
   "source": [
    "# Algorithms"
   ]
  },
  {
   "cell_type": "markdown",
   "id": "318100e2",
   "metadata": {},
   "source": [
    "**knnbaseline_algo, svdpp_algo, BaselineOnly**"
   ]
  },
  {
   "cell_type": "code",
   "execution_count": null,
   "metadata": {},
   "outputs": [],
   "source": [
    "# train_set, test_set = train_test_split(train_df, test_size=0.25,\\\n",
    "                                    # stratify=train_df['userId'], random_state=42)"
   ]
  },
  {
   "cell_type": "code",
   "execution_count": 22,
   "id": "51451f00",
   "metadata": {},
   "outputs": [
    {
     "name": "stdout",
     "output_type": "stream",
     "text": [
      "Estimating biases using als...\n",
      "Computing the msd similarity matrix...\n",
      "Done computing similarity matrix.\n",
      "RMSE: 0.9038\n",
      "MAE:  0.6921\n"
     ]
    },
    {
     "data": {
      "text/plain": [
       "(0.751916774772597, 0.6784242547818156, 0.713282450887898)"
      ]
     },
     "execution_count": 22,
     "metadata": {},
     "output_type": "execute_result"
    }
   ],
   "source": [
    "# Tuple: precision, recall, F1 score\n",
    "\n",
    "knn_base_line = CF.CollaborativeFiltering(KNNBaseline())\n",
    "knn_base_line.load_data(train_df, test_df)\n",
    "knn_base_line.fit()\n",
    "knn_base_line.predict()"
   ]
  },
  {
   "cell_type": "code",
   "execution_count": 23,
   "id": "45f11bfb",
   "metadata": {},
   "outputs": [
    {
     "name": "stdout",
     "output_type": "stream",
     "text": [
      "RMSE: 0.8938\n",
      "MAE:  0.6855\n"
     ]
    },
    {
     "data": {
      "text/plain": [
       "(0.7294975305201087, 0.691616359979118, 0.7100520655594108)"
      ]
     },
     "execution_count": 23,
     "metadata": {},
     "output_type": "execute_result"
    }
   ],
   "source": [
    "# svd_algo = svd(train_convert, val_convert)\n",
    "svdpp = CF.CollaborativeFiltering(SVDpp())\n",
    "svdpp.load_data(train_df, test_df)\n",
    "svdpp.fit()\n",
    "svdpp.predict()"
   ]
  },
  {
   "cell_type": "code",
   "execution_count": 24,
   "id": "efd0497c",
   "metadata": {},
   "outputs": [
    {
     "name": "stdout",
     "output_type": "stream",
     "text": [
      "Estimating biases using als...\n",
      "RMSE: 0.8997\n",
      "MAE:  0.6954\n"
     ]
    },
    {
     "data": {
      "text/plain": [
       "(0.738041092366959, 0.6947553609459112, 0.7157443813246984)"
      ]
     },
     "execution_count": 24,
     "metadata": {},
     "output_type": "execute_result"
    }
   ],
   "source": [
    "base_line_only = CF.CollaborativeFiltering(BaselineOnly())\n",
    "base_line_only.load_data(train_df, test_df)\n",
    "base_line_only.fit()\n",
    "base_line_only.predict()"
   ]
  },
  {
   "cell_type": "markdown",
   "id": "e503f4c0",
   "metadata": {},
   "source": [
    "**cosine_similarity, indices**"
   ]
  },
  {
   "cell_type": "code",
   "execution_count": 25,
   "id": "35d8d99d",
   "metadata": {},
   "outputs": [],
   "source": [
    "cosine_sim = cosine_similarity(full_data)"
   ]
  },
  {
   "cell_type": "code",
   "execution_count": 26,
   "id": "5253b95a",
   "metadata": {},
   "outputs": [],
   "source": [
    "indices = mapping_title_toIndex(full_data)"
   ]
  },
  {
   "cell_type": "code",
   "execution_count": 27,
   "id": "36844ce9",
   "metadata": {},
   "outputs": [],
   "source": [
    "genre_to_idx = {'Animation': 0,\n",
    " 'Comedy': 1,\n",
    " 'Family': 2,\n",
    " 'Adventure': 3,\n",
    " 'Fantasy': 4,\n",
    " 'Romance': 5,\n",
    " 'Drama': 6,\n",
    " 'Action': 7,\n",
    " 'Crime': 8,\n",
    " 'Thriller': 9,\n",
    " 'Horror': 10,\n",
    " 'History': 11,\n",
    " 'Science Fiction': 12,\n",
    " 'Mystery': 13,\n",
    " 'War': 14,\n",
    " 'Foreign': 15,\n",
    " 'Music': 16,\n",
    " 'Documentary': 17,\n",
    " None: 18,\n",
    " 'Western': 19,\n",
    " 'TV Movie': 20}"
   ]
  },
  {
   "cell_type": "code",
   "execution_count": 28,
   "id": "55a7e76f",
   "metadata": {},
   "outputs": [],
   "source": [
    "idx_to_genre = {0: 'Animation',\n",
    " 1: 'Comedy',\n",
    " 2: 'Family',\n",
    " 3: 'Adventure',\n",
    " 4: 'Fantasy',\n",
    " 5: 'Romance',\n",
    " 6: 'Drama',\n",
    " 7: 'Action',\n",
    " 8: 'Crime',\n",
    " 9: 'Thriller',\n",
    " 10: 'Horror',\n",
    " 11: 'History',\n",
    " 12: 'Science Fiction',\n",
    " 13: 'Mystery',\n",
    " 14: 'War',\n",
    " 15: 'Foreign',\n",
    " 16: 'Music',\n",
    " 17: 'Documentary',\n",
    " 18: None,\n",
    " 19: 'Western',\n",
    " 20: 'TV Movie'}"
   ]
  },
  {
   "cell_type": "markdown",
   "id": "01849525",
   "metadata": {},
   "source": [
    "# Modeling "
   ]
  },
  {
   "cell_type": "markdown",
   "id": "ce51d389",
   "metadata": {},
   "source": [
    "**Movie Similarity model**"
   ]
  },
  {
   "cell_type": "code",
   "execution_count": 29,
   "metadata": {},
   "outputs": [
    {
     "data": {
      "text/html": [
       "<div>\n",
       "<style scoped>\n",
       "    .dataframe tbody tr th:only-of-type {\n",
       "        vertical-align: middle;\n",
       "    }\n",
       "\n",
       "    .dataframe tbody tr th {\n",
       "        vertical-align: top;\n",
       "    }\n",
       "\n",
       "    .dataframe thead th {\n",
       "        text-align: right;\n",
       "    }\n",
       "</style>\n",
       "<table border=\"1\" class=\"dataframe\">\n",
       "  <thead>\n",
       "    <tr style=\"text-align: right;\">\n",
       "      <th></th>\n",
       "      <th>movieId</th>\n",
       "      <th>sim_score</th>\n",
       "    </tr>\n",
       "  </thead>\n",
       "  <tbody>\n",
       "    <tr>\n",
       "      <th>2522</th>\n",
       "      <td>3114</td>\n",
       "      <td>45.0</td>\n",
       "    </tr>\n",
       "    <tr>\n",
       "      <th>7629</th>\n",
       "      <td>78499</td>\n",
       "      <td>30.0</td>\n",
       "    </tr>\n",
       "    <tr>\n",
       "      <th>8371</th>\n",
       "      <td>101142</td>\n",
       "      <td>26.0</td>\n",
       "    </tr>\n",
       "    <tr>\n",
       "      <th>6736</th>\n",
       "      <td>52287</td>\n",
       "      <td>24.0</td>\n",
       "    </tr>\n",
       "    <tr>\n",
       "      <th>6784</th>\n",
       "      <td>53460</td>\n",
       "      <td>24.0</td>\n",
       "    </tr>\n",
       "  </tbody>\n",
       "</table>\n",
       "</div>"
      ],
      "text/plain": [
       "      movieId  sim_score\n",
       "2522     3114       45.0\n",
       "7629    78499       30.0\n",
       "8371   101142       26.0\n",
       "6736    52287       24.0\n",
       "6784    53460       24.0"
      ]
     },
     "execution_count": 29,
     "metadata": {},
     "output_type": "execute_result"
    }
   ],
   "source": [
    "get_recommendation_new('Toy Story', full_data,indices, cosine_sim)"
   ]
  },
  {
   "cell_type": "markdown",
   "id": "10d8d47e",
   "metadata": {},
   "source": [
    "**Popularity Model**"
   ]
  },
  {
   "cell_type": "code",
   "execution_count": 30,
   "id": "980f74de",
   "metadata": {},
   "outputs": [
    {
     "data": {
      "text/plain": [
       "['Romance', 'Horror', 'Western']"
      ]
     },
     "execution_count": 30,
     "metadata": {},
     "output_type": "execute_result"
    }
   ],
   "source": [
    "# get user's favourite genres\n",
    "user_top_gen = user_top_genre(1, user_info, idx_to_genre)\n",
    "user_top_gen"
   ]
  },
  {
   "cell_type": "code",
   "execution_count": 31,
   "id": "0907c47f",
   "metadata": {},
   "outputs": [
    {
     "data": {
      "text/plain": [
       "[1219, 112818, 103249]"
      ]
     },
     "execution_count": 31,
     "metadata": {},
     "output_type": "execute_result"
    }
   ],
   "source": [
    "# popular movie id based on genres\n",
    "popularity = genre_based_popularity('Horror', full_data)\n",
    "popularity"
   ]
  },
  {
   "cell_type": "markdown",
   "id": "430b7334",
   "metadata": {},
   "source": [
    "**Hybrid Model**"
   ]
  },
  {
   "cell_type": "code",
   "execution_count": 32,
   "id": "84116466",
   "metadata": {},
   "outputs": [
    {
     "data": {
      "text/html": [
       "<div>\n",
       "<style scoped>\n",
       "    .dataframe tbody tr th:only-of-type {\n",
       "        vertical-align: middle;\n",
       "    }\n",
       "\n",
       "    .dataframe tbody tr th {\n",
       "        vertical-align: top;\n",
       "    }\n",
       "\n",
       "    .dataframe thead th {\n",
       "        text-align: right;\n",
       "    }\n",
       "</style>\n",
       "<table border=\"1\" class=\"dataframe\">\n",
       "  <thead>\n",
       "    <tr style=\"text-align: right;\">\n",
       "      <th></th>\n",
       "      <th>userId</th>\n",
       "      <th>movieId</th>\n",
       "      <th>est</th>\n",
       "      <th>Model</th>\n",
       "      <th>title</th>\n",
       "      <th>genre</th>\n",
       "    </tr>\n",
       "  </thead>\n",
       "  <tbody>\n",
       "    <tr>\n",
       "      <th>13</th>\n",
       "      <td>1</td>\n",
       "      <td>1219</td>\n",
       "      <td>3.443602</td>\n",
       "      <td>Popularity</td>\n",
       "      <td>[Psycho]</td>\n",
       "      <td>[[Drama, Horror, Thriller]]</td>\n",
       "    </tr>\n",
       "    <tr>\n",
       "      <th>0</th>\n",
       "      <td>1</td>\n",
       "      <td>2366</td>\n",
       "      <td>3.324171</td>\n",
       "      <td>Similarity</td>\n",
       "      <td>[King Kong]</td>\n",
       "      <td>[[Action, Adventure, Drama, Horror]]</td>\n",
       "    </tr>\n",
       "    <tr>\n",
       "      <th>10</th>\n",
       "      <td>1</td>\n",
       "      <td>356</td>\n",
       "      <td>3.217589</td>\n",
       "      <td>Popularity</td>\n",
       "      <td>[Forrest Gump]</td>\n",
       "      <td>[[Comedy, Drama, Romance]]</td>\n",
       "    </tr>\n",
       "    <tr>\n",
       "      <th>1</th>\n",
       "      <td>1</td>\n",
       "      <td>2728</td>\n",
       "      <td>3.196041</td>\n",
       "      <td>Similarity</td>\n",
       "      <td>[Spartacus]</td>\n",
       "      <td>[[Action, Drama, History]]</td>\n",
       "    </tr>\n",
       "    <tr>\n",
       "      <th>18</th>\n",
       "      <td>1</td>\n",
       "      <td>99114</td>\n",
       "      <td>3.193718</td>\n",
       "      <td>Popularity</td>\n",
       "      <td>[Django Unchained]</td>\n",
       "      <td>[[Drama, Western]]</td>\n",
       "    </tr>\n",
       "    <tr>\n",
       "      <th>17</th>\n",
       "      <td>1</td>\n",
       "      <td>128360</td>\n",
       "      <td>3.184852</td>\n",
       "      <td>Popularity</td>\n",
       "      <td>[The Hateful Eight]</td>\n",
       "      <td>[[Crime, Drama, Mystery, Western]]</td>\n",
       "    </tr>\n",
       "    <tr>\n",
       "      <th>2</th>\n",
       "      <td>1</td>\n",
       "      <td>70282</td>\n",
       "      <td>3.088732</td>\n",
       "      <td>Similarity</td>\n",
       "      <td>[Aliens in the Attic]</td>\n",
       "      <td>[[Adventure, Comedy, Family, Fantasy, Science ...</td>\n",
       "    </tr>\n",
       "    <tr>\n",
       "      <th>16</th>\n",
       "      <td>1</td>\n",
       "      <td>139385</td>\n",
       "      <td>3.080393</td>\n",
       "      <td>Popularity</td>\n",
       "      <td>[The Revenant]</td>\n",
       "      <td>[[Western, Drama, Adventure, Thriller]]</td>\n",
       "    </tr>\n",
       "    <tr>\n",
       "      <th>3</th>\n",
       "      <td>1</td>\n",
       "      <td>7065</td>\n",
       "      <td>3.041818</td>\n",
       "      <td>Similarity</td>\n",
       "      <td>[The Birth of a Nation]</td>\n",
       "      <td>[[Drama, History, War]]</td>\n",
       "    </tr>\n",
       "    <tr>\n",
       "      <th>4</th>\n",
       "      <td>1</td>\n",
       "      <td>3513</td>\n",
       "      <td>3.035216</td>\n",
       "      <td>Similarity</td>\n",
       "      <td>[Rules of Engagement]</td>\n",
       "      <td>[[Action, Adventure, Drama, History, War]]</td>\n",
       "    </tr>\n",
       "  </tbody>\n",
       "</table>\n",
       "</div>"
      ],
      "text/plain": [
       "    userId  movieId       est       Model                    title  \\\n",
       "13       1     1219  3.443602  Popularity                 [Psycho]   \n",
       "0        1     2366  3.324171  Similarity              [King Kong]   \n",
       "10       1      356  3.217589  Popularity           [Forrest Gump]   \n",
       "1        1     2728  3.196041  Similarity              [Spartacus]   \n",
       "18       1    99114  3.193718  Popularity       [Django Unchained]   \n",
       "17       1   128360  3.184852  Popularity      [The Hateful Eight]   \n",
       "2        1    70282  3.088732  Similarity    [Aliens in the Attic]   \n",
       "16       1   139385  3.080393  Popularity           [The Revenant]   \n",
       "3        1     7065  3.041818  Similarity  [The Birth of a Nation]   \n",
       "4        1     3513  3.035216  Similarity    [Rules of Engagement]   \n",
       "\n",
       "                                                genre  \n",
       "13                        [[Drama, Horror, Thriller]]  \n",
       "0                [[Action, Adventure, Drama, Horror]]  \n",
       "10                         [[Comedy, Drama, Romance]]  \n",
       "1                          [[Action, Drama, History]]  \n",
       "18                                 [[Drama, Western]]  \n",
       "17                 [[Crime, Drama, Mystery, Western]]  \n",
       "2   [[Adventure, Comedy, Family, Fantasy, Science ...  \n",
       "16            [[Western, Drama, Adventure, Thriller]]  \n",
       "3                             [[Drama, History, War]]  \n",
       "4          [[Action, Adventure, Drama, History, War]]  "
      ]
     },
     "execution_count": 32,
     "metadata": {},
     "output_type": "execute_result"
    }
   ],
   "source": [
    "# combine best algorithms by weight\n",
    "models = {svdpp: 0.4, base_line_only: 0.4, knn_base_line: 0.2}\n",
    "\n",
    "hybrid_result = hybrid(1, full_data, train_df, train_full, models, \\\n",
    "                       idx_to_genre, cosine_sim, indices)\n",
    "hybrid_result\n"
   ]
  },
  {
   "cell_type": "markdown",
   "id": "0d74b951",
   "metadata": {},
   "source": [
    "# Evaluate model "
   ]
  },
  {
   "cell_type": "code",
   "execution_count": 33,
   "id": "1ada6e09",
   "metadata": {},
   "outputs": [],
   "source": [
    "pred_df = hybrid_predict(full_data, train_df, test_df, models, idx_to_genre)"
   ]
  },
  {
   "cell_type": "code",
   "execution_count": 35,
   "metadata": {},
   "outputs": [
    {
     "data": {
      "text/html": [
       "<div>\n",
       "<style scoped>\n",
       "    .dataframe tbody tr th:only-of-type {\n",
       "        vertical-align: middle;\n",
       "    }\n",
       "\n",
       "    .dataframe tbody tr th {\n",
       "        vertical-align: top;\n",
       "    }\n",
       "\n",
       "    .dataframe thead th {\n",
       "        text-align: right;\n",
       "    }\n",
       "</style>\n",
       "<table border=\"1\" class=\"dataframe\">\n",
       "  <thead>\n",
       "    <tr style=\"text-align: right;\">\n",
       "      <th></th>\n",
       "      <th>userId</th>\n",
       "      <th>movieId</th>\n",
       "      <th>est</th>\n",
       "      <th>Model</th>\n",
       "    </tr>\n",
       "  </thead>\n",
       "  <tbody>\n",
       "    <tr>\n",
       "      <th>0</th>\n",
       "      <td>302</td>\n",
       "      <td>356</td>\n",
       "      <td>3.864471</td>\n",
       "      <td>Popularity</td>\n",
       "    </tr>\n",
       "    <tr>\n",
       "      <th>1</th>\n",
       "      <td>302</td>\n",
       "      <td>115617</td>\n",
       "      <td>3.793131</td>\n",
       "      <td>Popularity</td>\n",
       "    </tr>\n",
       "    <tr>\n",
       "      <th>2</th>\n",
       "      <td>302</td>\n",
       "      <td>99114</td>\n",
       "      <td>3.763914</td>\n",
       "      <td>Popularity</td>\n",
       "    </tr>\n",
       "    <tr>\n",
       "      <th>3</th>\n",
       "      <td>302</td>\n",
       "      <td>4679</td>\n",
       "      <td>3.690132</td>\n",
       "      <td>Similarity</td>\n",
       "    </tr>\n",
       "    <tr>\n",
       "      <th>4</th>\n",
       "      <td>302</td>\n",
       "      <td>128360</td>\n",
       "      <td>3.687116</td>\n",
       "      <td>Popularity</td>\n",
       "    </tr>\n",
       "    <tr>\n",
       "      <th>...</th>\n",
       "      <td>...</td>\n",
       "      <td>...</td>\n",
       "      <td>...</td>\n",
       "      <td>...</td>\n",
       "    </tr>\n",
       "    <tr>\n",
       "      <th>6700</th>\n",
       "      <td>498</td>\n",
       "      <td>33493</td>\n",
       "      <td>3.339706</td>\n",
       "      <td>Similarity</td>\n",
       "    </tr>\n",
       "    <tr>\n",
       "      <th>6701</th>\n",
       "      <td>498</td>\n",
       "      <td>122904</td>\n",
       "      <td>3.277914</td>\n",
       "      <td>Popularity</td>\n",
       "    </tr>\n",
       "    <tr>\n",
       "      <th>6702</th>\n",
       "      <td>498</td>\n",
       "      <td>115210</td>\n",
       "      <td>3.237430</td>\n",
       "      <td>Popularity</td>\n",
       "    </tr>\n",
       "    <tr>\n",
       "      <th>6703</th>\n",
       "      <td>498</td>\n",
       "      <td>1127</td>\n",
       "      <td>3.209312</td>\n",
       "      <td>Similarity</td>\n",
       "    </tr>\n",
       "    <tr>\n",
       "      <th>6704</th>\n",
       "      <td>498</td>\n",
       "      <td>72998</td>\n",
       "      <td>3.176716</td>\n",
       "      <td>Popularity</td>\n",
       "    </tr>\n",
       "  </tbody>\n",
       "</table>\n",
       "<p>6705 rows × 4 columns</p>\n",
       "</div>"
      ],
      "text/plain": [
       "     userId movieId       est       Model\n",
       "0       302     356  3.864471  Popularity\n",
       "1       302  115617  3.793131  Popularity\n",
       "2       302   99114  3.763914  Popularity\n",
       "3       302    4679  3.690132  Similarity\n",
       "4       302  128360  3.687116  Popularity\n",
       "...     ...     ...       ...         ...\n",
       "6700    498   33493  3.339706  Similarity\n",
       "6701    498  122904  3.277914  Popularity\n",
       "6702    498  115210  3.237430  Popularity\n",
       "6703    498    1127  3.209312  Similarity\n",
       "6704    498   72998  3.176716  Popularity\n",
       "\n",
       "[6705 rows x 4 columns]"
      ]
     },
     "execution_count": 35,
     "metadata": {},
     "output_type": "execute_result"
    }
   ],
   "source": [
    "pred_df"
   ]
  },
  {
   "cell_type": "code",
   "execution_count": 34,
   "metadata": {},
   "outputs": [
    {
     "data": {
      "text/plain": [
       "0.03621460506706409"
      ]
     },
     "execution_count": 34,
     "metadata": {},
     "output_type": "execute_result"
    }
   ],
   "source": [
    "evaluate(pred_df[['userId', 'movieId']], test_df[['userId', 'movieId']])\n",
    "# output: 0.03621460506706409"
   ]
  },
  {
   "cell_type": "markdown",
   "metadata": {},
   "source": [
    "# Try embedding with other features"
   ]
  },
  {
   "cell_type": "code",
   "execution_count": 61,
   "metadata": {},
   "outputs": [],
   "source": [
    "def cosine_similarity(full_data): \n",
    "    '''tính cosine similarity dựa trên keywords, cast, director, genres'''\n",
    "  \n",
    "    full_data['director'] = full_data['director'].apply(lambda x: [x,x, x])\n",
    "    full_data['soup'] = full_data['keywords'] + full_data['cast'] + \\\n",
    "                        full_data['director'] + full_data['genres']\n",
    "    \n",
    "    full_data['soup'] = full_data['soup'].apply(lambda x: ' '.join(x))\n",
    "    tfidf = CountVectorizer(analyzer='word', ngram_range=(1, 2), stop_words='english')\n",
    "    tfidf_matrix = tfidf.fit_transform(full_data['soup'])\n",
    "    cosine_sim= linear_kernel(tfidf_matrix, tfidf_matrix)\n",
    "    return cosine_sim"
   ]
  },
  {
   "cell_type": "code",
   "execution_count": 63,
   "metadata": {},
   "outputs": [
    {
     "data": {
      "text/html": [
       "<div>\n",
       "<style scoped>\n",
       "    .dataframe tbody tr th:only-of-type {\n",
       "        vertical-align: middle;\n",
       "    }\n",
       "\n",
       "    .dataframe tbody tr th {\n",
       "        vertical-align: top;\n",
       "    }\n",
       "\n",
       "    .dataframe thead th {\n",
       "        text-align: right;\n",
       "    }\n",
       "</style>\n",
       "<table border=\"1\" class=\"dataframe\">\n",
       "  <thead>\n",
       "    <tr style=\"text-align: right;\">\n",
       "      <th></th>\n",
       "      <th>movieId</th>\n",
       "      <th>sim_score</th>\n",
       "    </tr>\n",
       "  </thead>\n",
       "  <tbody>\n",
       "    <tr>\n",
       "      <th>2522</th>\n",
       "      <td>3114</td>\n",
       "      <td>24.0</td>\n",
       "    </tr>\n",
       "    <tr>\n",
       "      <th>6496</th>\n",
       "      <td>45517</td>\n",
       "      <td>19.0</td>\n",
       "    </tr>\n",
       "    <tr>\n",
       "      <th>1883</th>\n",
       "      <td>2355</td>\n",
       "      <td>18.0</td>\n",
       "    </tr>\n",
       "    <tr>\n",
       "      <th>7914</th>\n",
       "      <td>87876</td>\n",
       "      <td>17.0</td>\n",
       "    </tr>\n",
       "    <tr>\n",
       "      <th>6386</th>\n",
       "      <td>42191</td>\n",
       "      <td>15.0</td>\n",
       "    </tr>\n",
       "  </tbody>\n",
       "</table>\n",
       "</div>"
      ],
      "text/plain": [
       "      movieId  sim_score\n",
       "2522     3114       24.0\n",
       "6496    45517       19.0\n",
       "1883     2355       18.0\n",
       "7914    87876       17.0\n",
       "6386    42191       15.0"
      ]
     },
     "execution_count": 63,
     "metadata": {},
     "output_type": "execute_result"
    }
   ],
   "source": [
    "cosine_sim = cosine_similarity(full_data)\n",
    "get_recommendation_new('Toy Story', full_data,indices, cosine_sim)\n",
    "# by embedding other features, the system recommend other movies. Let's evaluate"
   ]
  },
  {
   "cell_type": "code",
   "execution_count": 65,
   "metadata": {},
   "outputs": [
    {
     "data": {
      "text/html": [
       "<div>\n",
       "<style scoped>\n",
       "    .dataframe tbody tr th:only-of-type {\n",
       "        vertical-align: middle;\n",
       "    }\n",
       "\n",
       "    .dataframe tbody tr th {\n",
       "        vertical-align: top;\n",
       "    }\n",
       "\n",
       "    .dataframe thead th {\n",
       "        text-align: right;\n",
       "    }\n",
       "</style>\n",
       "<table border=\"1\" class=\"dataframe\">\n",
       "  <thead>\n",
       "    <tr style=\"text-align: right;\">\n",
       "      <th></th>\n",
       "      <th>userId</th>\n",
       "      <th>movieId</th>\n",
       "      <th>est</th>\n",
       "      <th>Model</th>\n",
       "      <th>title</th>\n",
       "      <th>genre</th>\n",
       "    </tr>\n",
       "  </thead>\n",
       "  <tbody>\n",
       "    <tr>\n",
       "      <th>13</th>\n",
       "      <td>1</td>\n",
       "      <td>1219</td>\n",
       "      <td>3.443602</td>\n",
       "      <td>Popularity</td>\n",
       "      <td>[Psycho]</td>\n",
       "      <td>[[Drama, Horror, Thriller]]</td>\n",
       "    </tr>\n",
       "    <tr>\n",
       "      <th>0</th>\n",
       "      <td>1</td>\n",
       "      <td>1136</td>\n",
       "      <td>3.364418</td>\n",
       "      <td>Similarity</td>\n",
       "      <td>[Monty Python and the Holy Grail]</td>\n",
       "      <td>[[Adventure, Comedy, Fantasy]]</td>\n",
       "    </tr>\n",
       "    <tr>\n",
       "      <th>10</th>\n",
       "      <td>1</td>\n",
       "      <td>356</td>\n",
       "      <td>3.217589</td>\n",
       "      <td>Popularity</td>\n",
       "      <td>[Forrest Gump]</td>\n",
       "      <td>[[Comedy, Drama, Romance]]</td>\n",
       "    </tr>\n",
       "    <tr>\n",
       "      <th>18</th>\n",
       "      <td>1</td>\n",
       "      <td>99114</td>\n",
       "      <td>3.193718</td>\n",
       "      <td>Popularity</td>\n",
       "      <td>[Django Unchained]</td>\n",
       "      <td>[[Drama, Western]]</td>\n",
       "    </tr>\n",
       "    <tr>\n",
       "      <th>17</th>\n",
       "      <td>1</td>\n",
       "      <td>128360</td>\n",
       "      <td>3.184852</td>\n",
       "      <td>Popularity</td>\n",
       "      <td>[The Hateful Eight]</td>\n",
       "      <td>[[Crime, Drama, Mystery, Western]]</td>\n",
       "    </tr>\n",
       "    <tr>\n",
       "      <th>16</th>\n",
       "      <td>1</td>\n",
       "      <td>139385</td>\n",
       "      <td>3.080393</td>\n",
       "      <td>Popularity</td>\n",
       "      <td>[The Revenant]</td>\n",
       "      <td>[[Western, Drama, Adventure, Thriller]]</td>\n",
       "    </tr>\n",
       "    <tr>\n",
       "      <th>1</th>\n",
       "      <td>1</td>\n",
       "      <td>3033</td>\n",
       "      <td>3.051247</td>\n",
       "      <td>Similarity</td>\n",
       "      <td>[Spaceballs]</td>\n",
       "      <td>[[Comedy, Science Fiction]]</td>\n",
       "    </tr>\n",
       "    <tr>\n",
       "      <th>2</th>\n",
       "      <td>1</td>\n",
       "      <td>121</td>\n",
       "      <td>2.987033</td>\n",
       "      <td>Similarity</td>\n",
       "      <td>[The Boys of St. Vincent]</td>\n",
       "      <td>[[Drama]]</td>\n",
       "    </tr>\n",
       "    <tr>\n",
       "      <th>11</th>\n",
       "      <td>1</td>\n",
       "      <td>152017</td>\n",
       "      <td>2.909662</td>\n",
       "      <td>Popularity</td>\n",
       "      <td>[Me Before You, Me Before You]</td>\n",
       "      <td>[[Drama, Romance], [Drama, Romance]]</td>\n",
       "    </tr>\n",
       "    <tr>\n",
       "      <th>3</th>\n",
       "      <td>1</td>\n",
       "      <td>1376</td>\n",
       "      <td>2.893693</td>\n",
       "      <td>Similarity</td>\n",
       "      <td>[Star Trek IV: The Voyage Home]</td>\n",
       "      <td>[[Science Fiction, Adventure]]</td>\n",
       "    </tr>\n",
       "  </tbody>\n",
       "</table>\n",
       "</div>"
      ],
      "text/plain": [
       "    userId  movieId       est       Model                              title  \\\n",
       "13       1     1219  3.443602  Popularity                           [Psycho]   \n",
       "0        1     1136  3.364418  Similarity  [Monty Python and the Holy Grail]   \n",
       "10       1      356  3.217589  Popularity                     [Forrest Gump]   \n",
       "18       1    99114  3.193718  Popularity                 [Django Unchained]   \n",
       "17       1   128360  3.184852  Popularity                [The Hateful Eight]   \n",
       "16       1   139385  3.080393  Popularity                     [The Revenant]   \n",
       "1        1     3033  3.051247  Similarity                       [Spaceballs]   \n",
       "2        1      121  2.987033  Similarity          [The Boys of St. Vincent]   \n",
       "11       1   152017  2.909662  Popularity     [Me Before You, Me Before You]   \n",
       "3        1     1376  2.893693  Similarity    [Star Trek IV: The Voyage Home]   \n",
       "\n",
       "                                      genre  \n",
       "13              [[Drama, Horror, Thriller]]  \n",
       "0            [[Adventure, Comedy, Fantasy]]  \n",
       "10               [[Comedy, Drama, Romance]]  \n",
       "18                       [[Drama, Western]]  \n",
       "17       [[Crime, Drama, Mystery, Western]]  \n",
       "16  [[Western, Drama, Adventure, Thriller]]  \n",
       "1               [[Comedy, Science Fiction]]  \n",
       "2                                 [[Drama]]  \n",
       "11     [[Drama, Romance], [Drama, Romance]]  \n",
       "3            [[Science Fiction, Adventure]]  "
      ]
     },
     "execution_count": 65,
     "metadata": {},
     "output_type": "execute_result"
    }
   ],
   "source": [
    "models = {svdpp: 0.4, base_line_only: 0.4, knn_base_line: 0.2}\n",
    "\n",
    "hybrid_result = hybrid(1, full_data, train_df, train_full, models, \\\n",
    "                       idx_to_genre, cosine_sim, indices)\n",
    "hybrid_result"
   ]
  },
  {
   "cell_type": "code",
   "execution_count": 69,
   "metadata": {},
   "outputs": [],
   "source": [
    "# gọi lại movie feature \n",
    "full_data = movie_feature(movies_metadata, links_small, credits_, keywords)\n",
    "\n",
    "pred_df = hybrid_predict(full_data, train_df, test_df, models, idx_to_genre)"
   ]
  },
  {
   "cell_type": "code",
   "execution_count": 70,
   "metadata": {},
   "outputs": [
    {
     "data": {
      "text/html": [
       "<div>\n",
       "<style scoped>\n",
       "    .dataframe tbody tr th:only-of-type {\n",
       "        vertical-align: middle;\n",
       "    }\n",
       "\n",
       "    .dataframe tbody tr th {\n",
       "        vertical-align: top;\n",
       "    }\n",
       "\n",
       "    .dataframe thead th {\n",
       "        text-align: right;\n",
       "    }\n",
       "</style>\n",
       "<table border=\"1\" class=\"dataframe\">\n",
       "  <thead>\n",
       "    <tr style=\"text-align: right;\">\n",
       "      <th></th>\n",
       "      <th>userId</th>\n",
       "      <th>movieId</th>\n",
       "      <th>est</th>\n",
       "      <th>Model</th>\n",
       "    </tr>\n",
       "  </thead>\n",
       "  <tbody>\n",
       "    <tr>\n",
       "      <th>0</th>\n",
       "      <td>302</td>\n",
       "      <td>356</td>\n",
       "      <td>3.864471</td>\n",
       "      <td>Popularity</td>\n",
       "    </tr>\n",
       "    <tr>\n",
       "      <th>1</th>\n",
       "      <td>302</td>\n",
       "      <td>115617</td>\n",
       "      <td>3.793131</td>\n",
       "      <td>Popularity</td>\n",
       "    </tr>\n",
       "    <tr>\n",
       "      <th>2</th>\n",
       "      <td>302</td>\n",
       "      <td>99114</td>\n",
       "      <td>3.763914</td>\n",
       "      <td>Popularity</td>\n",
       "    </tr>\n",
       "    <tr>\n",
       "      <th>3</th>\n",
       "      <td>302</td>\n",
       "      <td>128360</td>\n",
       "      <td>3.687116</td>\n",
       "      <td>Popularity</td>\n",
       "    </tr>\n",
       "    <tr>\n",
       "      <th>4</th>\n",
       "      <td>302</td>\n",
       "      <td>1240</td>\n",
       "      <td>3.677498</td>\n",
       "      <td>Similarity</td>\n",
       "    </tr>\n",
       "    <tr>\n",
       "      <th>...</th>\n",
       "      <td>...</td>\n",
       "      <td>...</td>\n",
       "      <td>...</td>\n",
       "      <td>...</td>\n",
       "    </tr>\n",
       "    <tr>\n",
       "      <th>6686</th>\n",
       "      <td>498</td>\n",
       "      <td>115617</td>\n",
       "      <td>3.520340</td>\n",
       "      <td>Popularity</td>\n",
       "    </tr>\n",
       "    <tr>\n",
       "      <th>6687</th>\n",
       "      <td>498</td>\n",
       "      <td>6539</td>\n",
       "      <td>3.491149</td>\n",
       "      <td>Popularity</td>\n",
       "    </tr>\n",
       "    <tr>\n",
       "      <th>6688</th>\n",
       "      <td>498</td>\n",
       "      <td>33493</td>\n",
       "      <td>3.339706</td>\n",
       "      <td>Similarity</td>\n",
       "    </tr>\n",
       "    <tr>\n",
       "      <th>6689</th>\n",
       "      <td>498</td>\n",
       "      <td>122904</td>\n",
       "      <td>3.277914</td>\n",
       "      <td>Popularity</td>\n",
       "    </tr>\n",
       "    <tr>\n",
       "      <th>6690</th>\n",
       "      <td>498</td>\n",
       "      <td>115210</td>\n",
       "      <td>3.237430</td>\n",
       "      <td>Popularity</td>\n",
       "    </tr>\n",
       "  </tbody>\n",
       "</table>\n",
       "<p>6691 rows × 4 columns</p>\n",
       "</div>"
      ],
      "text/plain": [
       "     userId movieId       est       Model\n",
       "0       302     356  3.864471  Popularity\n",
       "1       302  115617  3.793131  Popularity\n",
       "2       302   99114  3.763914  Popularity\n",
       "3       302  128360  3.687116  Popularity\n",
       "4       302    1240  3.677498  Similarity\n",
       "...     ...     ...       ...         ...\n",
       "6686    498  115617  3.520340  Popularity\n",
       "6687    498    6539  3.491149  Popularity\n",
       "6688    498   33493  3.339706  Similarity\n",
       "6689    498  122904  3.277914  Popularity\n",
       "6690    498  115210  3.237430  Popularity\n",
       "\n",
       "[6691 rows x 4 columns]"
      ]
     },
     "execution_count": 70,
     "metadata": {},
     "output_type": "execute_result"
    }
   ],
   "source": [
    "pred_df"
   ]
  },
  {
   "cell_type": "code",
   "execution_count": 71,
   "metadata": {},
   "outputs": [
    {
     "data": {
      "text/plain": [
       "0.052396920019870834"
      ]
     },
     "execution_count": 71,
     "metadata": {},
     "output_type": "execute_result"
    }
   ],
   "source": [
    "evaluate(pred_df[['userId', 'movieId']], test_df[['userId', 'movieId']])\n",
    "# output: 0.052396920019870834"
   ]
  }
 ],
 "metadata": {
  "kernelspec": {
   "display_name": "base",
   "language": "python",
   "name": "python3"
  },
  "language_info": {
   "codemirror_mode": {
    "name": "ipython",
    "version": 3
   },
   "file_extension": ".py",
   "mimetype": "text/x-python",
   "name": "python",
   "nbconvert_exporter": "python",
   "pygments_lexer": "ipython3",
   "version": "3.9.7"
  }
 },
 "nbformat": 4,
 "nbformat_minor": 5
}
